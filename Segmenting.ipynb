{
 "cells": [
  {
   "cell_type": "code",
   "execution_count": 1,
   "id": "4a1f9de4",
   "metadata": {},
   "outputs": [],
   "source": [
    "import pandas as pd\n",
    "import plotly.express as px\n",
    "import numpy as np\n",
    "import scipy\n",
    "import matplotlib.pyplot as mlt\n",
    "import plotly.express as px"
   ]
  },
  {
   "cell_type": "markdown",
   "id": "c100a3ee",
   "metadata": {},
   "source": [
    "# Define Color Pallette"
   ]
  },
  {
   "cell_type": "code",
   "execution_count": 2,
   "id": "23a3a3ae",
   "metadata": {},
   "outputs": [],
   "source": [
    "color1 = '#00704A'\n",
    "color2 = '#FF9FE5'\n",
    "color3 = '#45062E'\n",
    "backgroundColor = '#B8A085'\n",
    "ccs = ['#ACDDA9', '#00704A', '#002F20']\n",
    "dcs = ['#002619','#008256', '#00de92', '#a1ffdf', '#fdfffe']"
   ]
  },
  {
   "cell_type": "markdown",
   "id": "77f1a0c3",
   "metadata": {},
   "source": [
    "# Import Data"
   ]
  },
  {
   "cell_type": "code",
   "execution_count": 3,
   "id": "4de58ff9",
   "metadata": {},
   "outputs": [
    {
     "data": {
      "text/html": [
       "<div>\n",
       "<style scoped>\n",
       "    .dataframe tbody tr th:only-of-type {\n",
       "        vertical-align: middle;\n",
       "    }\n",
       "\n",
       "    .dataframe tbody tr th {\n",
       "        vertical-align: top;\n",
       "    }\n",
       "\n",
       "    .dataframe thead th {\n",
       "        text-align: right;\n",
       "    }\n",
       "</style>\n",
       "<table border=\"1\" class=\"dataframe\">\n",
       "  <thead>\n",
       "    <tr style=\"text-align: right;\">\n",
       "      <th></th>\n",
       "      <th>person</th>\n",
       "      <th>event</th>\n",
       "      <th>time</th>\n",
       "      <th>offer_id</th>\n",
       "      <th>reward</th>\n",
       "      <th>difficulty</th>\n",
       "      <th>duration</th>\n",
       "      <th>offer_type</th>\n",
       "      <th>web</th>\n",
       "      <th>email</th>\n",
       "      <th>mobile</th>\n",
       "      <th>social</th>\n",
       "      <th>gender</th>\n",
       "      <th>age</th>\n",
       "      <th>became_member_on</th>\n",
       "      <th>income</th>\n",
       "      <th>anonymous</th>\n",
       "      <th>income_cluster</th>\n",
       "    </tr>\n",
       "  </thead>\n",
       "  <tbody>\n",
       "    <tr>\n",
       "      <th>0</th>\n",
       "      <td>78afa995795e4d85b5d9ceeca43f5fef</td>\n",
       "      <td>offer received</td>\n",
       "      <td>0</td>\n",
       "      <td>9b98b8c7a33c4b65b9aebfe6a799e6d9</td>\n",
       "      <td>5</td>\n",
       "      <td>5</td>\n",
       "      <td>7</td>\n",
       "      <td>bogo</td>\n",
       "      <td>1</td>\n",
       "      <td>1</td>\n",
       "      <td>1</td>\n",
       "      <td>0</td>\n",
       "      <td>F</td>\n",
       "      <td>75</td>\n",
       "      <td>2017-05-09</td>\n",
       "      <td>100000.0</td>\n",
       "      <td>0</td>\n",
       "      <td>0</td>\n",
       "    </tr>\n",
       "    <tr>\n",
       "      <th>2</th>\n",
       "      <td>e2127556f4f64592b11af22de27a7932</td>\n",
       "      <td>offer received</td>\n",
       "      <td>0</td>\n",
       "      <td>2906b810c7d4411798c6938adc9daaa5</td>\n",
       "      <td>2</td>\n",
       "      <td>10</td>\n",
       "      <td>7</td>\n",
       "      <td>discount</td>\n",
       "      <td>1</td>\n",
       "      <td>1</td>\n",
       "      <td>1</td>\n",
       "      <td>0</td>\n",
       "      <td>M</td>\n",
       "      <td>68</td>\n",
       "      <td>2018-04-26</td>\n",
       "      <td>70000.0</td>\n",
       "      <td>0</td>\n",
       "      <td>1</td>\n",
       "    </tr>\n",
       "    <tr>\n",
       "      <th>5</th>\n",
       "      <td>389bc3fa690240e798340f5a15918d5c</td>\n",
       "      <td>offer received</td>\n",
       "      <td>0</td>\n",
       "      <td>f19421c1d4aa40978ebb69ca19b0e20d</td>\n",
       "      <td>5</td>\n",
       "      <td>5</td>\n",
       "      <td>5</td>\n",
       "      <td>bogo</td>\n",
       "      <td>1</td>\n",
       "      <td>1</td>\n",
       "      <td>1</td>\n",
       "      <td>1</td>\n",
       "      <td>M</td>\n",
       "      <td>65</td>\n",
       "      <td>2018-02-09</td>\n",
       "      <td>53000.0</td>\n",
       "      <td>0</td>\n",
       "      <td>1</td>\n",
       "    </tr>\n",
       "    <tr>\n",
       "      <th>7</th>\n",
       "      <td>2eeac8d8feae4a8cad5a6af0499a211d</td>\n",
       "      <td>offer received</td>\n",
       "      <td>0</td>\n",
       "      <td>3f207df678b143eea3cee63160fa8bed</td>\n",
       "      <td>0</td>\n",
       "      <td>0</td>\n",
       "      <td>4</td>\n",
       "      <td>informational</td>\n",
       "      <td>1</td>\n",
       "      <td>1</td>\n",
       "      <td>1</td>\n",
       "      <td>0</td>\n",
       "      <td>M</td>\n",
       "      <td>58</td>\n",
       "      <td>2017-11-11</td>\n",
       "      <td>51000.0</td>\n",
       "      <td>0</td>\n",
       "      <td>1</td>\n",
       "    </tr>\n",
       "    <tr>\n",
       "      <th>8</th>\n",
       "      <td>aa4862eba776480b8bb9c68455b8c2e1</td>\n",
       "      <td>offer received</td>\n",
       "      <td>0</td>\n",
       "      <td>0b1e1539f2cc45b7b9fa7c272da2e1d7</td>\n",
       "      <td>5</td>\n",
       "      <td>20</td>\n",
       "      <td>10</td>\n",
       "      <td>discount</td>\n",
       "      <td>1</td>\n",
       "      <td>1</td>\n",
       "      <td>0</td>\n",
       "      <td>0</td>\n",
       "      <td>F</td>\n",
       "      <td>61</td>\n",
       "      <td>2017-09-11</td>\n",
       "      <td>57000.0</td>\n",
       "      <td>0</td>\n",
       "      <td>1</td>\n",
       "    </tr>\n",
       "  </tbody>\n",
       "</table>\n",
       "</div>"
      ],
      "text/plain": [
       "                             person           event  time  \\\n",
       "0  78afa995795e4d85b5d9ceeca43f5fef  offer received     0   \n",
       "2  e2127556f4f64592b11af22de27a7932  offer received     0   \n",
       "5  389bc3fa690240e798340f5a15918d5c  offer received     0   \n",
       "7  2eeac8d8feae4a8cad5a6af0499a211d  offer received     0   \n",
       "8  aa4862eba776480b8bb9c68455b8c2e1  offer received     0   \n",
       "\n",
       "                           offer_id  reward  difficulty  duration  \\\n",
       "0  9b98b8c7a33c4b65b9aebfe6a799e6d9       5           5         7   \n",
       "2  2906b810c7d4411798c6938adc9daaa5       2          10         7   \n",
       "5  f19421c1d4aa40978ebb69ca19b0e20d       5           5         5   \n",
       "7  3f207df678b143eea3cee63160fa8bed       0           0         4   \n",
       "8  0b1e1539f2cc45b7b9fa7c272da2e1d7       5          20        10   \n",
       "\n",
       "      offer_type  web  email  mobile  social gender  age became_member_on  \\\n",
       "0           bogo    1      1       1       0      F   75       2017-05-09   \n",
       "2       discount    1      1       1       0      M   68       2018-04-26   \n",
       "5           bogo    1      1       1       1      M   65       2018-02-09   \n",
       "7  informational    1      1       1       0      M   58       2017-11-11   \n",
       "8       discount    1      1       0       0      F   61       2017-09-11   \n",
       "\n",
       "     income  anonymous  income_cluster  \n",
       "0  100000.0          0               0  \n",
       "2   70000.0          0               1  \n",
       "5   53000.0          0               1  \n",
       "7   51000.0          0               1  \n",
       "8   57000.0          0               1  "
      ]
     },
     "execution_count": 3,
     "metadata": {},
     "output_type": "execute_result"
    }
   ],
   "source": [
    "df = pd.read_csv('transactions.csv')\n",
    "df.drop(['Unnamed: 0.1','Unnamed: 0' ], axis =1, inplace=True)\n",
    "df = df.loc[df['anonymous'] == 0]\n",
    "df.head()"
   ]
  },
  {
   "cell_type": "markdown",
   "id": "337799a7",
   "metadata": {},
   "source": [
    "# Feature Engineering\n",
    "## We want an indivdual observation for each customer with relevant data"
   ]
  },
  {
   "cell_type": "markdown",
   "id": "b8704fa3",
   "metadata": {},
   "source": [
    "## Offer Count for each Customer   \n",
    "#### Number of BOGO, Discount, and Information Offers\n",
    "#### 'offerNumDF'"
   ]
  },
  {
   "cell_type": "code",
   "execution_count": 4,
   "id": "977dbe98",
   "metadata": {},
   "outputs": [
    {
     "data": {
      "text/html": [
       "<div>\n",
       "<style scoped>\n",
       "    .dataframe tbody tr th:only-of-type {\n",
       "        vertical-align: middle;\n",
       "    }\n",
       "\n",
       "    .dataframe tbody tr th {\n",
       "        vertical-align: top;\n",
       "    }\n",
       "\n",
       "    .dataframe thead th {\n",
       "        text-align: right;\n",
       "    }\n",
       "</style>\n",
       "<table border=\"1\" class=\"dataframe\">\n",
       "  <thead>\n",
       "    <tr style=\"text-align: right;\">\n",
       "      <th></th>\n",
       "      <th>person</th>\n",
       "      <th>BOGO_Number</th>\n",
       "      <th>Discount_Number</th>\n",
       "      <th>Informational_Number</th>\n",
       "    </tr>\n",
       "  </thead>\n",
       "  <tbody>\n",
       "    <tr>\n",
       "      <th>0</th>\n",
       "      <td>0009655768c64bdeb2e877511632db8f</td>\n",
       "      <td>3.0</td>\n",
       "      <td>5.0</td>\n",
       "      <td>4.0</td>\n",
       "    </tr>\n",
       "    <tr>\n",
       "      <th>1</th>\n",
       "      <td>0011e0d4e6b944f998e987f904e8c1e5</td>\n",
       "      <td>3.0</td>\n",
       "      <td>6.0</td>\n",
       "      <td>4.0</td>\n",
       "    </tr>\n",
       "    <tr>\n",
       "      <th>2</th>\n",
       "      <td>0020c2b971eb4e9188eac86d93036a77</td>\n",
       "      <td>4.0</td>\n",
       "      <td>5.0</td>\n",
       "      <td>2.0</td>\n",
       "    </tr>\n",
       "    <tr>\n",
       "      <th>3</th>\n",
       "      <td>0020ccbbb6d84e358d3414a3ff76cffd</td>\n",
       "      <td>6.0</td>\n",
       "      <td>3.0</td>\n",
       "      <td>2.0</td>\n",
       "    </tr>\n",
       "    <tr>\n",
       "      <th>4</th>\n",
       "      <td>003d66b6608740288d6cc97a6903f4f0</td>\n",
       "      <td>0.0</td>\n",
       "      <td>8.0</td>\n",
       "      <td>4.0</td>\n",
       "    </tr>\n",
       "    <tr>\n",
       "      <th>...</th>\n",
       "      <td>...</td>\n",
       "      <td>...</td>\n",
       "      <td>...</td>\n",
       "      <td>...</td>\n",
       "    </tr>\n",
       "    <tr>\n",
       "      <th>14815</th>\n",
       "      <td>fff3ba4757bd42088c044ca26d73817a</td>\n",
       "      <td>3.0</td>\n",
       "      <td>6.0</td>\n",
       "      <td>3.0</td>\n",
       "    </tr>\n",
       "    <tr>\n",
       "      <th>14816</th>\n",
       "      <td>fff7576017104bcc8677a8d63322b5e1</td>\n",
       "      <td>6.0</td>\n",
       "      <td>6.0</td>\n",
       "      <td>0.0</td>\n",
       "    </tr>\n",
       "    <tr>\n",
       "      <th>14817</th>\n",
       "      <td>fff8957ea8b240a6b5e634b6ee8eafcf</td>\n",
       "      <td>2.0</td>\n",
       "      <td>2.0</td>\n",
       "      <td>1.0</td>\n",
       "    </tr>\n",
       "    <tr>\n",
       "      <th>14818</th>\n",
       "      <td>fffad4f4828548d1b5583907f2e9906b</td>\n",
       "      <td>9.0</td>\n",
       "      <td>0.0</td>\n",
       "      <td>2.0</td>\n",
       "    </tr>\n",
       "    <tr>\n",
       "      <th>14819</th>\n",
       "      <td>ffff82501cea40309d5fdd7edcca4a07</td>\n",
       "      <td>3.0</td>\n",
       "      <td>15.0</td>\n",
       "      <td>0.0</td>\n",
       "    </tr>\n",
       "  </tbody>\n",
       "</table>\n",
       "<p>14820 rows × 4 columns</p>\n",
       "</div>"
      ],
      "text/plain": [
       "                                 person  BOGO_Number  Discount_Number  \\\n",
       "0      0009655768c64bdeb2e877511632db8f          3.0              5.0   \n",
       "1      0011e0d4e6b944f998e987f904e8c1e5          3.0              6.0   \n",
       "2      0020c2b971eb4e9188eac86d93036a77          4.0              5.0   \n",
       "3      0020ccbbb6d84e358d3414a3ff76cffd          6.0              3.0   \n",
       "4      003d66b6608740288d6cc97a6903f4f0          0.0              8.0   \n",
       "...                                 ...          ...              ...   \n",
       "14815  fff3ba4757bd42088c044ca26d73817a          3.0              6.0   \n",
       "14816  fff7576017104bcc8677a8d63322b5e1          6.0              6.0   \n",
       "14817  fff8957ea8b240a6b5e634b6ee8eafcf          2.0              2.0   \n",
       "14818  fffad4f4828548d1b5583907f2e9906b          9.0              0.0   \n",
       "14819  ffff82501cea40309d5fdd7edcca4a07          3.0             15.0   \n",
       "\n",
       "       Informational_Number  \n",
       "0                       4.0  \n",
       "1                       4.0  \n",
       "2                       2.0  \n",
       "3                       2.0  \n",
       "4                       4.0  \n",
       "...                     ...  \n",
       "14815                   3.0  \n",
       "14816                   0.0  \n",
       "14817                   1.0  \n",
       "14818                   2.0  \n",
       "14819                   0.0  \n",
       "\n",
       "[14820 rows x 4 columns]"
      ]
     },
     "execution_count": 4,
     "metadata": {},
     "output_type": "execute_result"
    }
   ],
   "source": [
    "# Start with getting a offer count for each customer\n",
    "A = df.groupby(['person', 'offer_type']).count().event.reset_index()\n",
    "A.columns = ['person', 'offer_type', 'Number of Offers']\n",
    "A\n",
    "# Pivot longer\n",
    "A = A.pivot(columns = 'offer_type', values = 'Number of Offers',index = 'person').reset_index()\n",
    "A.columns = ['person', 'BOGO_Number', 'Discount_Number', 'Informational_Number']\n",
    "A.fillna(0, inplace = True)\n",
    "offerNumDF = A\n",
    "offerNumDF"
   ]
  },
  {
   "cell_type": "markdown",
   "id": "0ed51b18",
   "metadata": {},
   "source": [
    "## Aggregate offers channels (web, mobile, social, email) and Reward, difficulty and offer duration\n",
    "#### 'aggDF'"
   ]
  },
  {
   "cell_type": "code",
   "execution_count": 5,
   "id": "4859f355",
   "metadata": {},
   "outputs": [
    {
     "data": {
      "text/html": [
       "<div>\n",
       "<style scoped>\n",
       "    .dataframe tbody tr th:only-of-type {\n",
       "        vertical-align: middle;\n",
       "    }\n",
       "\n",
       "    .dataframe tbody tr th {\n",
       "        vertical-align: top;\n",
       "    }\n",
       "\n",
       "    .dataframe thead th {\n",
       "        text-align: right;\n",
       "    }\n",
       "</style>\n",
       "<table border=\"1\" class=\"dataframe\">\n",
       "  <thead>\n",
       "    <tr style=\"text-align: right;\">\n",
       "      <th></th>\n",
       "      <th>person</th>\n",
       "      <th>reward_avg</th>\n",
       "      <th>difficulty_avg</th>\n",
       "      <th>duration_avg</th>\n",
       "      <th>web</th>\n",
       "      <th>email</th>\n",
       "      <th>social</th>\n",
       "      <th>mobile</th>\n",
       "    </tr>\n",
       "  </thead>\n",
       "  <tbody>\n",
       "    <tr>\n",
       "      <th>0</th>\n",
       "      <td>0009655768c64bdeb2e877511632db8f</td>\n",
       "      <td>2.083333</td>\n",
       "      <td>5.416667</td>\n",
       "      <td>6.083333</td>\n",
       "      <td>10</td>\n",
       "      <td>12</td>\n",
       "      <td>8</td>\n",
       "      <td>12</td>\n",
       "    </tr>\n",
       "    <tr>\n",
       "      <th>1</th>\n",
       "      <td>0011e0d4e6b944f998e987f904e8c1e5</td>\n",
       "      <td>3.000000</td>\n",
       "      <td>7.384615</td>\n",
       "      <td>6.615385</td>\n",
       "      <td>11</td>\n",
       "      <td>13</td>\n",
       "      <td>5</td>\n",
       "      <td>10</td>\n",
       "    </tr>\n",
       "    <tr>\n",
       "      <th>2</th>\n",
       "      <td>0020c2b971eb4e9188eac86d93036a77</td>\n",
       "      <td>4.545455</td>\n",
       "      <td>8.181818</td>\n",
       "      <td>7.090909</td>\n",
       "      <td>8</td>\n",
       "      <td>11</td>\n",
       "      <td>11</td>\n",
       "      <td>11</td>\n",
       "    </tr>\n",
       "    <tr>\n",
       "      <th>3</th>\n",
       "      <td>0020ccbbb6d84e358d3414a3ff76cffd</td>\n",
       "      <td>3.545455</td>\n",
       "      <td>4.636364</td>\n",
       "      <td>5.727273</td>\n",
       "      <td>9</td>\n",
       "      <td>11</td>\n",
       "      <td>8</td>\n",
       "      <td>11</td>\n",
       "    </tr>\n",
       "    <tr>\n",
       "      <th>4</th>\n",
       "      <td>003d66b6608740288d6cc97a6903f4f0</td>\n",
       "      <td>1.833333</td>\n",
       "      <td>8.333333</td>\n",
       "      <td>7.833333</td>\n",
       "      <td>10</td>\n",
       "      <td>12</td>\n",
       "      <td>8</td>\n",
       "      <td>10</td>\n",
       "    </tr>\n",
       "    <tr>\n",
       "      <th>...</th>\n",
       "      <td>...</td>\n",
       "      <td>...</td>\n",
       "      <td>...</td>\n",
       "      <td>...</td>\n",
       "      <td>...</td>\n",
       "      <td>...</td>\n",
       "      <td>...</td>\n",
       "      <td>...</td>\n",
       "    </tr>\n",
       "    <tr>\n",
       "      <th>14815</th>\n",
       "      <td>fff3ba4757bd42088c044ca26d73817a</td>\n",
       "      <td>2.250000</td>\n",
       "      <td>6.250000</td>\n",
       "      <td>6.750000</td>\n",
       "      <td>9</td>\n",
       "      <td>12</td>\n",
       "      <td>6</td>\n",
       "      <td>12</td>\n",
       "    </tr>\n",
       "    <tr>\n",
       "      <th>14816</th>\n",
       "      <td>fff7576017104bcc8677a8d63322b5e1</td>\n",
       "      <td>5.166667</td>\n",
       "      <td>9.166667</td>\n",
       "      <td>8.166667</td>\n",
       "      <td>10</td>\n",
       "      <td>12</td>\n",
       "      <td>10</td>\n",
       "      <td>12</td>\n",
       "    </tr>\n",
       "    <tr>\n",
       "      <th>14817</th>\n",
       "      <td>fff8957ea8b240a6b5e634b6ee8eafcf</td>\n",
       "      <td>4.800000</td>\n",
       "      <td>8.000000</td>\n",
       "      <td>6.800000</td>\n",
       "      <td>5</td>\n",
       "      <td>5</td>\n",
       "      <td>4</td>\n",
       "      <td>5</td>\n",
       "    </tr>\n",
       "    <tr>\n",
       "      <th>14818</th>\n",
       "      <td>fffad4f4828548d1b5583907f2e9906b</td>\n",
       "      <td>4.090909</td>\n",
       "      <td>4.090909</td>\n",
       "      <td>5.181818</td>\n",
       "      <td>9</td>\n",
       "      <td>11</td>\n",
       "      <td>8</td>\n",
       "      <td>11</td>\n",
       "    </tr>\n",
       "    <tr>\n",
       "      <th>14819</th>\n",
       "      <td>ffff82501cea40309d5fdd7edcca4a07</td>\n",
       "      <td>3.000000</td>\n",
       "      <td>10.833333</td>\n",
       "      <td>8.000000</td>\n",
       "      <td>18</td>\n",
       "      <td>18</td>\n",
       "      <td>3</td>\n",
       "      <td>15</td>\n",
       "    </tr>\n",
       "  </tbody>\n",
       "</table>\n",
       "<p>14820 rows × 8 columns</p>\n",
       "</div>"
      ],
      "text/plain": [
       "                                 person  reward_avg  difficulty_avg  \\\n",
       "0      0009655768c64bdeb2e877511632db8f    2.083333        5.416667   \n",
       "1      0011e0d4e6b944f998e987f904e8c1e5    3.000000        7.384615   \n",
       "2      0020c2b971eb4e9188eac86d93036a77    4.545455        8.181818   \n",
       "3      0020ccbbb6d84e358d3414a3ff76cffd    3.545455        4.636364   \n",
       "4      003d66b6608740288d6cc97a6903f4f0    1.833333        8.333333   \n",
       "...                                 ...         ...             ...   \n",
       "14815  fff3ba4757bd42088c044ca26d73817a    2.250000        6.250000   \n",
       "14816  fff7576017104bcc8677a8d63322b5e1    5.166667        9.166667   \n",
       "14817  fff8957ea8b240a6b5e634b6ee8eafcf    4.800000        8.000000   \n",
       "14818  fffad4f4828548d1b5583907f2e9906b    4.090909        4.090909   \n",
       "14819  ffff82501cea40309d5fdd7edcca4a07    3.000000       10.833333   \n",
       "\n",
       "       duration_avg  web  email  social  mobile  \n",
       "0          6.083333   10     12       8      12  \n",
       "1          6.615385   11     13       5      10  \n",
       "2          7.090909    8     11      11      11  \n",
       "3          5.727273    9     11       8      11  \n",
       "4          7.833333   10     12       8      10  \n",
       "...             ...  ...    ...     ...     ...  \n",
       "14815      6.750000    9     12       6      12  \n",
       "14816      8.166667   10     12      10      12  \n",
       "14817      6.800000    5      5       4       5  \n",
       "14818      5.181818    9     11       8      11  \n",
       "14819      8.000000   18     18       3      15  \n",
       "\n",
       "[14820 rows x 8 columns]"
      ]
     },
     "execution_count": 5,
     "metadata": {},
     "output_type": "execute_result"
    }
   ],
   "source": [
    "A = df.loc[:, ['person', 'reward', 'difficulty', 'duration', 'web', 'email', 'social', 'mobile']]\n",
    "aggDF = A.groupby('person').agg(\n",
    "    reward_avg = ('reward', 'mean'),\n",
    "    difficulty_avg = ('difficulty', 'mean'),\n",
    "    duration_avg = ('duration', 'mean'),\n",
    "    web = ('web', 'sum'), \n",
    "    email = ('email', 'sum'),\n",
    "    social = ('social', 'sum'),\n",
    "    mobile = ('mobile', 'sum')\n",
    ").reset_index()\n",
    "aggDF"
   ]
  },
  {
   "cell_type": "markdown",
   "id": "5c46a605",
   "metadata": {},
   "source": [
    "## Event aggregation (How many offers received, viewed and completed)\n",
    "#### 'eventDF'"
   ]
  },
  {
   "cell_type": "code",
   "execution_count": 6,
   "id": "a25f59ef",
   "metadata": {},
   "outputs": [
    {
     "data": {
      "text/html": [
       "<div>\n",
       "<style scoped>\n",
       "    .dataframe tbody tr th:only-of-type {\n",
       "        vertical-align: middle;\n",
       "    }\n",
       "\n",
       "    .dataframe tbody tr th {\n",
       "        vertical-align: top;\n",
       "    }\n",
       "\n",
       "    .dataframe thead th {\n",
       "        text-align: right;\n",
       "    }\n",
       "</style>\n",
       "<table border=\"1\" class=\"dataframe\">\n",
       "  <thead>\n",
       "    <tr style=\"text-align: right;\">\n",
       "      <th>event</th>\n",
       "      <th>person</th>\n",
       "      <th>offer completed</th>\n",
       "      <th>offer received</th>\n",
       "      <th>offer viewed</th>\n",
       "      <th>ratio_completed</th>\n",
       "      <th>ratio_viewed</th>\n",
       "    </tr>\n",
       "  </thead>\n",
       "  <tbody>\n",
       "    <tr>\n",
       "      <th>0</th>\n",
       "      <td>0009655768c64bdeb2e877511632db8f</td>\n",
       "      <td>3.0</td>\n",
       "      <td>5.0</td>\n",
       "      <td>4.0</td>\n",
       "      <td>0.60</td>\n",
       "      <td>0.80</td>\n",
       "    </tr>\n",
       "    <tr>\n",
       "      <th>1</th>\n",
       "      <td>0011e0d4e6b944f998e987f904e8c1e5</td>\n",
       "      <td>3.0</td>\n",
       "      <td>5.0</td>\n",
       "      <td>5.0</td>\n",
       "      <td>0.60</td>\n",
       "      <td>1.00</td>\n",
       "    </tr>\n",
       "    <tr>\n",
       "      <th>2</th>\n",
       "      <td>0020c2b971eb4e9188eac86d93036a77</td>\n",
       "      <td>3.0</td>\n",
       "      <td>5.0</td>\n",
       "      <td>3.0</td>\n",
       "      <td>0.60</td>\n",
       "      <td>0.60</td>\n",
       "    </tr>\n",
       "    <tr>\n",
       "      <th>3</th>\n",
       "      <td>0020ccbbb6d84e358d3414a3ff76cffd</td>\n",
       "      <td>3.0</td>\n",
       "      <td>4.0</td>\n",
       "      <td>4.0</td>\n",
       "      <td>0.75</td>\n",
       "      <td>1.00</td>\n",
       "    </tr>\n",
       "    <tr>\n",
       "      <th>4</th>\n",
       "      <td>003d66b6608740288d6cc97a6903f4f0</td>\n",
       "      <td>3.0</td>\n",
       "      <td>5.0</td>\n",
       "      <td>4.0</td>\n",
       "      <td>0.60</td>\n",
       "      <td>0.80</td>\n",
       "    </tr>\n",
       "    <tr>\n",
       "      <th>...</th>\n",
       "      <td>...</td>\n",
       "      <td>...</td>\n",
       "      <td>...</td>\n",
       "      <td>...</td>\n",
       "      <td>...</td>\n",
       "      <td>...</td>\n",
       "    </tr>\n",
       "    <tr>\n",
       "      <th>14815</th>\n",
       "      <td>fff3ba4757bd42088c044ca26d73817a</td>\n",
       "      <td>3.0</td>\n",
       "      <td>6.0</td>\n",
       "      <td>3.0</td>\n",
       "      <td>0.50</td>\n",
       "      <td>0.50</td>\n",
       "    </tr>\n",
       "    <tr>\n",
       "      <th>14816</th>\n",
       "      <td>fff7576017104bcc8677a8d63322b5e1</td>\n",
       "      <td>3.0</td>\n",
       "      <td>5.0</td>\n",
       "      <td>4.0</td>\n",
       "      <td>0.60</td>\n",
       "      <td>0.80</td>\n",
       "    </tr>\n",
       "    <tr>\n",
       "      <th>14817</th>\n",
       "      <td>fff8957ea8b240a6b5e634b6ee8eafcf</td>\n",
       "      <td>0.0</td>\n",
       "      <td>3.0</td>\n",
       "      <td>2.0</td>\n",
       "      <td>0.00</td>\n",
       "      <td>0.67</td>\n",
       "    </tr>\n",
       "    <tr>\n",
       "      <th>14818</th>\n",
       "      <td>fffad4f4828548d1b5583907f2e9906b</td>\n",
       "      <td>3.0</td>\n",
       "      <td>4.0</td>\n",
       "      <td>4.0</td>\n",
       "      <td>0.75</td>\n",
       "      <td>1.00</td>\n",
       "    </tr>\n",
       "    <tr>\n",
       "      <th>14819</th>\n",
       "      <td>ffff82501cea40309d5fdd7edcca4a07</td>\n",
       "      <td>6.0</td>\n",
       "      <td>6.0</td>\n",
       "      <td>6.0</td>\n",
       "      <td>1.00</td>\n",
       "      <td>1.00</td>\n",
       "    </tr>\n",
       "  </tbody>\n",
       "</table>\n",
       "<p>14820 rows × 6 columns</p>\n",
       "</div>"
      ],
      "text/plain": [
       "event                            person  offer completed  offer received  \\\n",
       "0      0009655768c64bdeb2e877511632db8f              3.0             5.0   \n",
       "1      0011e0d4e6b944f998e987f904e8c1e5              3.0             5.0   \n",
       "2      0020c2b971eb4e9188eac86d93036a77              3.0             5.0   \n",
       "3      0020ccbbb6d84e358d3414a3ff76cffd              3.0             4.0   \n",
       "4      003d66b6608740288d6cc97a6903f4f0              3.0             5.0   \n",
       "...                                 ...              ...             ...   \n",
       "14815  fff3ba4757bd42088c044ca26d73817a              3.0             6.0   \n",
       "14816  fff7576017104bcc8677a8d63322b5e1              3.0             5.0   \n",
       "14817  fff8957ea8b240a6b5e634b6ee8eafcf              0.0             3.0   \n",
       "14818  fffad4f4828548d1b5583907f2e9906b              3.0             4.0   \n",
       "14819  ffff82501cea40309d5fdd7edcca4a07              6.0             6.0   \n",
       "\n",
       "event  offer viewed  ratio_completed  ratio_viewed  \n",
       "0               4.0             0.60          0.80  \n",
       "1               5.0             0.60          1.00  \n",
       "2               3.0             0.60          0.60  \n",
       "3               4.0             0.75          1.00  \n",
       "4               4.0             0.60          0.80  \n",
       "...             ...              ...           ...  \n",
       "14815           3.0             0.50          0.50  \n",
       "14816           4.0             0.60          0.80  \n",
       "14817           2.0             0.00          0.67  \n",
       "14818           4.0             0.75          1.00  \n",
       "14819           6.0             1.00          1.00  \n",
       "\n",
       "[14820 rows x 6 columns]"
      ]
     },
     "execution_count": 6,
     "metadata": {},
     "output_type": "execute_result"
    }
   ],
   "source": [
    "A = df.loc[:, ['person', 'event', 'web']]\n",
    "A = A.groupby(['person', 'event']).count().reset_index()\n",
    "eventDF = A.pivot(index = 'person', columns = 'event', values = 'web').reset_index()\n",
    "eventDF.fillna(0, inplace = True)\n",
    "eventDF['ratio_completed'] = round(eventDF['offer completed']/eventDF['offer received'] ,2)\n",
    "eventDF['ratio_viewed'] = round(eventDF['offer viewed']/ eventDF['offer received'],2)\n",
    "eventDF"
   ]
  },
  {
   "cell_type": "markdown",
   "id": "c87f7652",
   "metadata": {},
   "source": [
    "## Create Demographics DF (age, income, year been a  member, gender)\n",
    "#### 'demoDF'"
   ]
  },
  {
   "cell_type": "code",
   "execution_count": 7,
   "id": "99fe2081",
   "metadata": {},
   "outputs": [
    {
     "data": {
      "text/html": [
       "<div>\n",
       "<style scoped>\n",
       "    .dataframe tbody tr th:only-of-type {\n",
       "        vertical-align: middle;\n",
       "    }\n",
       "\n",
       "    .dataframe tbody tr th {\n",
       "        vertical-align: top;\n",
       "    }\n",
       "\n",
       "    .dataframe thead th {\n",
       "        text-align: right;\n",
       "    }\n",
       "</style>\n",
       "<table border=\"1\" class=\"dataframe\">\n",
       "  <thead>\n",
       "    <tr style=\"text-align: right;\">\n",
       "      <th></th>\n",
       "      <th>person</th>\n",
       "      <th>gender</th>\n",
       "      <th>age</th>\n",
       "      <th>income</th>\n",
       "      <th>year_became_member</th>\n",
       "    </tr>\n",
       "  </thead>\n",
       "  <tbody>\n",
       "    <tr>\n",
       "      <th>0</th>\n",
       "      <td>0009655768c64bdeb2e877511632db8f</td>\n",
       "      <td>M</td>\n",
       "      <td>33</td>\n",
       "      <td>72000.0</td>\n",
       "      <td>2017</td>\n",
       "    </tr>\n",
       "    <tr>\n",
       "      <th>1</th>\n",
       "      <td>0011e0d4e6b944f998e987f904e8c1e5</td>\n",
       "      <td>O</td>\n",
       "      <td>40</td>\n",
       "      <td>57000.0</td>\n",
       "      <td>2018</td>\n",
       "    </tr>\n",
       "    <tr>\n",
       "      <th>2</th>\n",
       "      <td>0020c2b971eb4e9188eac86d93036a77</td>\n",
       "      <td>F</td>\n",
       "      <td>59</td>\n",
       "      <td>90000.0</td>\n",
       "      <td>2016</td>\n",
       "    </tr>\n",
       "    <tr>\n",
       "      <th>3</th>\n",
       "      <td>0020ccbbb6d84e358d3414a3ff76cffd</td>\n",
       "      <td>F</td>\n",
       "      <td>24</td>\n",
       "      <td>60000.0</td>\n",
       "      <td>2016</td>\n",
       "    </tr>\n",
       "    <tr>\n",
       "      <th>4</th>\n",
       "      <td>003d66b6608740288d6cc97a6903f4f0</td>\n",
       "      <td>F</td>\n",
       "      <td>26</td>\n",
       "      <td>73000.0</td>\n",
       "      <td>2017</td>\n",
       "    </tr>\n",
       "    <tr>\n",
       "      <th>...</th>\n",
       "      <td>...</td>\n",
       "      <td>...</td>\n",
       "      <td>...</td>\n",
       "      <td>...</td>\n",
       "      <td>...</td>\n",
       "    </tr>\n",
       "    <tr>\n",
       "      <th>14815</th>\n",
       "      <td>fff3ba4757bd42088c044ca26d73817a</td>\n",
       "      <td>F</td>\n",
       "      <td>69</td>\n",
       "      <td>83000.0</td>\n",
       "      <td>2015</td>\n",
       "    </tr>\n",
       "    <tr>\n",
       "      <th>14816</th>\n",
       "      <td>fff7576017104bcc8677a8d63322b5e1</td>\n",
       "      <td>M</td>\n",
       "      <td>71</td>\n",
       "      <td>73000.0</td>\n",
       "      <td>2017</td>\n",
       "    </tr>\n",
       "    <tr>\n",
       "      <th>14817</th>\n",
       "      <td>fff8957ea8b240a6b5e634b6ee8eafcf</td>\n",
       "      <td>M</td>\n",
       "      <td>71</td>\n",
       "      <td>56000.0</td>\n",
       "      <td>2018</td>\n",
       "    </tr>\n",
       "    <tr>\n",
       "      <th>14818</th>\n",
       "      <td>fffad4f4828548d1b5583907f2e9906b</td>\n",
       "      <td>M</td>\n",
       "      <td>34</td>\n",
       "      <td>34000.0</td>\n",
       "      <td>2017</td>\n",
       "    </tr>\n",
       "    <tr>\n",
       "      <th>14819</th>\n",
       "      <td>ffff82501cea40309d5fdd7edcca4a07</td>\n",
       "      <td>F</td>\n",
       "      <td>45</td>\n",
       "      <td>62000.0</td>\n",
       "      <td>2016</td>\n",
       "    </tr>\n",
       "  </tbody>\n",
       "</table>\n",
       "<p>14820 rows × 5 columns</p>\n",
       "</div>"
      ],
      "text/plain": [
       "                                 person gender  age   income  \\\n",
       "0      0009655768c64bdeb2e877511632db8f      M   33  72000.0   \n",
       "1      0011e0d4e6b944f998e987f904e8c1e5      O   40  57000.0   \n",
       "2      0020c2b971eb4e9188eac86d93036a77      F   59  90000.0   \n",
       "3      0020ccbbb6d84e358d3414a3ff76cffd      F   24  60000.0   \n",
       "4      003d66b6608740288d6cc97a6903f4f0      F   26  73000.0   \n",
       "...                                 ...    ...  ...      ...   \n",
       "14815  fff3ba4757bd42088c044ca26d73817a      F   69  83000.0   \n",
       "14816  fff7576017104bcc8677a8d63322b5e1      M   71  73000.0   \n",
       "14817  fff8957ea8b240a6b5e634b6ee8eafcf      M   71  56000.0   \n",
       "14818  fffad4f4828548d1b5583907f2e9906b      M   34  34000.0   \n",
       "14819  ffff82501cea40309d5fdd7edcca4a07      F   45  62000.0   \n",
       "\n",
       "       year_became_member  \n",
       "0                    2017  \n",
       "1                    2018  \n",
       "2                    2016  \n",
       "3                    2016  \n",
       "4                    2017  \n",
       "...                   ...  \n",
       "14815                2015  \n",
       "14816                2017  \n",
       "14817                2018  \n",
       "14818                2017  \n",
       "14819                2016  \n",
       "\n",
       "[14820 rows x 5 columns]"
      ]
     },
     "execution_count": 7,
     "metadata": {},
     "output_type": "execute_result"
    }
   ],
   "source": [
    "demoDF = df.loc[:,['person', 'gender', 'age', 'became_member_on', 'income']]\n",
    "demoDF = demoDF.groupby('person').agg(\n",
    "    gender = ('gender', 'first'),\n",
    "    age = ('age', 'first'),\n",
    "    income = ('income', 'first'),\n",
    "    became_member_on = ('became_member_on', 'first')\n",
    ").reset_index()\n",
    "# convert became a member on to date\n",
    "demoDF['became_member_on'] = pd.to_datetime(demoDF['became_member_on'])\n",
    "demoDF['year_became_member'] = demoDF['became_member_on'].dt.year\n",
    "demoDF.drop(['became_member_on'], axis = 1, inplace = True)\n",
    "demoDF"
   ]
  },
  {
   "cell_type": "markdown",
   "id": "dcb2de9f",
   "metadata": {},
   "source": [
    "## Attach how much money they spent and most recent transaction date"
   ]
  },
  {
   "cell_type": "code",
   "execution_count": 8,
   "id": "630b51b3",
   "metadata": {},
   "outputs": [
    {
     "data": {
      "text/html": [
       "<div>\n",
       "<style scoped>\n",
       "    .dataframe tbody tr th:only-of-type {\n",
       "        vertical-align: middle;\n",
       "    }\n",
       "\n",
       "    .dataframe tbody tr th {\n",
       "        vertical-align: top;\n",
       "    }\n",
       "\n",
       "    .dataframe thead th {\n",
       "        text-align: right;\n",
       "    }\n",
       "</style>\n",
       "<table border=\"1\" class=\"dataframe\">\n",
       "  <thead>\n",
       "    <tr style=\"text-align: right;\">\n",
       "      <th></th>\n",
       "      <th>person</th>\n",
       "      <th>most_recent</th>\n",
       "      <th>total_spent</th>\n",
       "      <th>transactions_number</th>\n",
       "    </tr>\n",
       "  </thead>\n",
       "  <tbody>\n",
       "    <tr>\n",
       "      <th>0</th>\n",
       "      <td>0009655768c64bdeb2e877511632db8f</td>\n",
       "      <td>696</td>\n",
       "      <td>127.60</td>\n",
       "      <td>8</td>\n",
       "    </tr>\n",
       "    <tr>\n",
       "      <th>1</th>\n",
       "      <td>00116118485d4dfda04fdbaba9a87b5c</td>\n",
       "      <td>474</td>\n",
       "      <td>4.09</td>\n",
       "      <td>3</td>\n",
       "    </tr>\n",
       "    <tr>\n",
       "      <th>2</th>\n",
       "      <td>0011e0d4e6b944f998e987f904e8c1e5</td>\n",
       "      <td>654</td>\n",
       "      <td>79.46</td>\n",
       "      <td>5</td>\n",
       "    </tr>\n",
       "    <tr>\n",
       "      <th>3</th>\n",
       "      <td>0020c2b971eb4e9188eac86d93036a77</td>\n",
       "      <td>708</td>\n",
       "      <td>196.86</td>\n",
       "      <td>8</td>\n",
       "    </tr>\n",
       "    <tr>\n",
       "      <th>4</th>\n",
       "      <td>0020ccbbb6d84e358d3414a3ff76cffd</td>\n",
       "      <td>672</td>\n",
       "      <td>154.05</td>\n",
       "      <td>12</td>\n",
       "    </tr>\n",
       "    <tr>\n",
       "      <th>...</th>\n",
       "      <td>...</td>\n",
       "      <td>...</td>\n",
       "      <td>...</td>\n",
       "      <td>...</td>\n",
       "    </tr>\n",
       "    <tr>\n",
       "      <th>16573</th>\n",
       "      <td>fff3ba4757bd42088c044ca26d73817a</td>\n",
       "      <td>552</td>\n",
       "      <td>580.98</td>\n",
       "      <td>11</td>\n",
       "    </tr>\n",
       "    <tr>\n",
       "      <th>16574</th>\n",
       "      <td>fff7576017104bcc8677a8d63322b5e1</td>\n",
       "      <td>696</td>\n",
       "      <td>29.94</td>\n",
       "      <td>6</td>\n",
       "    </tr>\n",
       "    <tr>\n",
       "      <th>16575</th>\n",
       "      <td>fff8957ea8b240a6b5e634b6ee8eafcf</td>\n",
       "      <td>576</td>\n",
       "      <td>12.15</td>\n",
       "      <td>5</td>\n",
       "    </tr>\n",
       "    <tr>\n",
       "      <th>16576</th>\n",
       "      <td>fffad4f4828548d1b5583907f2e9906b</td>\n",
       "      <td>678</td>\n",
       "      <td>88.83</td>\n",
       "      <td>12</td>\n",
       "    </tr>\n",
       "    <tr>\n",
       "      <th>16577</th>\n",
       "      <td>ffff82501cea40309d5fdd7edcca4a07</td>\n",
       "      <td>648</td>\n",
       "      <td>226.07</td>\n",
       "      <td>15</td>\n",
       "    </tr>\n",
       "  </tbody>\n",
       "</table>\n",
       "<p>16578 rows × 4 columns</p>\n",
       "</div>"
      ],
      "text/plain": [
       "                                 person  most_recent  total_spent  \\\n",
       "0      0009655768c64bdeb2e877511632db8f          696       127.60   \n",
       "1      00116118485d4dfda04fdbaba9a87b5c          474         4.09   \n",
       "2      0011e0d4e6b944f998e987f904e8c1e5          654        79.46   \n",
       "3      0020c2b971eb4e9188eac86d93036a77          708       196.86   \n",
       "4      0020ccbbb6d84e358d3414a3ff76cffd          672       154.05   \n",
       "...                                 ...          ...          ...   \n",
       "16573  fff3ba4757bd42088c044ca26d73817a          552       580.98   \n",
       "16574  fff7576017104bcc8677a8d63322b5e1          696        29.94   \n",
       "16575  fff8957ea8b240a6b5e634b6ee8eafcf          576        12.15   \n",
       "16576  fffad4f4828548d1b5583907f2e9906b          678        88.83   \n",
       "16577  ffff82501cea40309d5fdd7edcca4a07          648       226.07   \n",
       "\n",
       "       transactions_number  \n",
       "0                        8  \n",
       "1                        3  \n",
       "2                        5  \n",
       "3                        8  \n",
       "4                       12  \n",
       "...                    ...  \n",
       "16573                   11  \n",
       "16574                    6  \n",
       "16575                    5  \n",
       "16576                   12  \n",
       "16577                   15  \n",
       "\n",
       "[16578 rows x 4 columns]"
      ]
     },
     "execution_count": 8,
     "metadata": {},
     "output_type": "execute_result"
    }
   ],
   "source": [
    "money = pd.read_csv('transcriptT.csv')\n",
    "money.drop(['Unnamed: 0', 'value'], axis = 1, inplace = True)\n",
    "money = money.groupby('person').agg(\n",
    "    most_recent = ('time', 'last'),\n",
    "    total_spent = ('spent', 'sum'),\n",
    "    transactions_number = ('event', 'count')\n",
    ").reset_index()\n",
    "money"
   ]
  },
  {
   "cell_type": "markdown",
   "id": "81a033da",
   "metadata": {},
   "source": [
    "## Merge"
   ]
  },
  {
   "cell_type": "code",
   "execution_count": 9,
   "id": "a4915c95",
   "metadata": {},
   "outputs": [
    {
     "data": {
      "text/html": [
       "<div>\n",
       "<style scoped>\n",
       "    .dataframe tbody tr th:only-of-type {\n",
       "        vertical-align: middle;\n",
       "    }\n",
       "\n",
       "    .dataframe tbody tr th {\n",
       "        vertical-align: top;\n",
       "    }\n",
       "\n",
       "    .dataframe thead th {\n",
       "        text-align: right;\n",
       "    }\n",
       "</style>\n",
       "<table border=\"1\" class=\"dataframe\">\n",
       "  <thead>\n",
       "    <tr style=\"text-align: right;\">\n",
       "      <th></th>\n",
       "      <th>person</th>\n",
       "      <th>gender</th>\n",
       "      <th>age</th>\n",
       "      <th>income</th>\n",
       "      <th>year_became_member</th>\n",
       "      <th>BOGO_Number</th>\n",
       "      <th>Discount_Number</th>\n",
       "      <th>Informational_Number</th>\n",
       "      <th>reward_avg</th>\n",
       "      <th>difficulty_avg</th>\n",
       "      <th>...</th>\n",
       "      <th>social</th>\n",
       "      <th>mobile</th>\n",
       "      <th>offer completed</th>\n",
       "      <th>offer received</th>\n",
       "      <th>offer viewed</th>\n",
       "      <th>ratio_completed</th>\n",
       "      <th>ratio_viewed</th>\n",
       "      <th>most_recent</th>\n",
       "      <th>total_spent</th>\n",
       "      <th>transactions_number</th>\n",
       "    </tr>\n",
       "  </thead>\n",
       "  <tbody>\n",
       "    <tr>\n",
       "      <th>0</th>\n",
       "      <td>0009655768c64bdeb2e877511632db8f</td>\n",
       "      <td>M</td>\n",
       "      <td>33</td>\n",
       "      <td>72000.0</td>\n",
       "      <td>2017</td>\n",
       "      <td>3.0</td>\n",
       "      <td>5.0</td>\n",
       "      <td>4.0</td>\n",
       "      <td>2.083333</td>\n",
       "      <td>5.416667</td>\n",
       "      <td>...</td>\n",
       "      <td>8</td>\n",
       "      <td>12</td>\n",
       "      <td>3.0</td>\n",
       "      <td>5.0</td>\n",
       "      <td>4.0</td>\n",
       "      <td>0.60</td>\n",
       "      <td>0.80</td>\n",
       "      <td>696.0</td>\n",
       "      <td>127.60</td>\n",
       "      <td>8.0</td>\n",
       "    </tr>\n",
       "    <tr>\n",
       "      <th>1</th>\n",
       "      <td>0011e0d4e6b944f998e987f904e8c1e5</td>\n",
       "      <td>O</td>\n",
       "      <td>40</td>\n",
       "      <td>57000.0</td>\n",
       "      <td>2018</td>\n",
       "      <td>3.0</td>\n",
       "      <td>6.0</td>\n",
       "      <td>4.0</td>\n",
       "      <td>3.000000</td>\n",
       "      <td>7.384615</td>\n",
       "      <td>...</td>\n",
       "      <td>5</td>\n",
       "      <td>10</td>\n",
       "      <td>3.0</td>\n",
       "      <td>5.0</td>\n",
       "      <td>5.0</td>\n",
       "      <td>0.60</td>\n",
       "      <td>1.00</td>\n",
       "      <td>654.0</td>\n",
       "      <td>79.46</td>\n",
       "      <td>5.0</td>\n",
       "    </tr>\n",
       "    <tr>\n",
       "      <th>2</th>\n",
       "      <td>0020c2b971eb4e9188eac86d93036a77</td>\n",
       "      <td>F</td>\n",
       "      <td>59</td>\n",
       "      <td>90000.0</td>\n",
       "      <td>2016</td>\n",
       "      <td>4.0</td>\n",
       "      <td>5.0</td>\n",
       "      <td>2.0</td>\n",
       "      <td>4.545455</td>\n",
       "      <td>8.181818</td>\n",
       "      <td>...</td>\n",
       "      <td>11</td>\n",
       "      <td>11</td>\n",
       "      <td>3.0</td>\n",
       "      <td>5.0</td>\n",
       "      <td>3.0</td>\n",
       "      <td>0.60</td>\n",
       "      <td>0.60</td>\n",
       "      <td>708.0</td>\n",
       "      <td>196.86</td>\n",
       "      <td>8.0</td>\n",
       "    </tr>\n",
       "    <tr>\n",
       "      <th>3</th>\n",
       "      <td>0020ccbbb6d84e358d3414a3ff76cffd</td>\n",
       "      <td>F</td>\n",
       "      <td>24</td>\n",
       "      <td>60000.0</td>\n",
       "      <td>2016</td>\n",
       "      <td>6.0</td>\n",
       "      <td>3.0</td>\n",
       "      <td>2.0</td>\n",
       "      <td>3.545455</td>\n",
       "      <td>4.636364</td>\n",
       "      <td>...</td>\n",
       "      <td>8</td>\n",
       "      <td>11</td>\n",
       "      <td>3.0</td>\n",
       "      <td>4.0</td>\n",
       "      <td>4.0</td>\n",
       "      <td>0.75</td>\n",
       "      <td>1.00</td>\n",
       "      <td>672.0</td>\n",
       "      <td>154.05</td>\n",
       "      <td>12.0</td>\n",
       "    </tr>\n",
       "    <tr>\n",
       "      <th>4</th>\n",
       "      <td>003d66b6608740288d6cc97a6903f4f0</td>\n",
       "      <td>F</td>\n",
       "      <td>26</td>\n",
       "      <td>73000.0</td>\n",
       "      <td>2017</td>\n",
       "      <td>0.0</td>\n",
       "      <td>8.0</td>\n",
       "      <td>4.0</td>\n",
       "      <td>1.833333</td>\n",
       "      <td>8.333333</td>\n",
       "      <td>...</td>\n",
       "      <td>8</td>\n",
       "      <td>10</td>\n",
       "      <td>3.0</td>\n",
       "      <td>5.0</td>\n",
       "      <td>4.0</td>\n",
       "      <td>0.60</td>\n",
       "      <td>0.80</td>\n",
       "      <td>696.0</td>\n",
       "      <td>48.34</td>\n",
       "      <td>18.0</td>\n",
       "    </tr>\n",
       "    <tr>\n",
       "      <th>...</th>\n",
       "      <td>...</td>\n",
       "      <td>...</td>\n",
       "      <td>...</td>\n",
       "      <td>...</td>\n",
       "      <td>...</td>\n",
       "      <td>...</td>\n",
       "      <td>...</td>\n",
       "      <td>...</td>\n",
       "      <td>...</td>\n",
       "      <td>...</td>\n",
       "      <td>...</td>\n",
       "      <td>...</td>\n",
       "      <td>...</td>\n",
       "      <td>...</td>\n",
       "      <td>...</td>\n",
       "      <td>...</td>\n",
       "      <td>...</td>\n",
       "      <td>...</td>\n",
       "      <td>...</td>\n",
       "      <td>...</td>\n",
       "      <td>...</td>\n",
       "    </tr>\n",
       "    <tr>\n",
       "      <th>14815</th>\n",
       "      <td>fff3ba4757bd42088c044ca26d73817a</td>\n",
       "      <td>F</td>\n",
       "      <td>69</td>\n",
       "      <td>83000.0</td>\n",
       "      <td>2015</td>\n",
       "      <td>3.0</td>\n",
       "      <td>6.0</td>\n",
       "      <td>3.0</td>\n",
       "      <td>2.250000</td>\n",
       "      <td>6.250000</td>\n",
       "      <td>...</td>\n",
       "      <td>6</td>\n",
       "      <td>12</td>\n",
       "      <td>3.0</td>\n",
       "      <td>6.0</td>\n",
       "      <td>3.0</td>\n",
       "      <td>0.50</td>\n",
       "      <td>0.50</td>\n",
       "      <td>552.0</td>\n",
       "      <td>580.98</td>\n",
       "      <td>11.0</td>\n",
       "    </tr>\n",
       "    <tr>\n",
       "      <th>14816</th>\n",
       "      <td>fff7576017104bcc8677a8d63322b5e1</td>\n",
       "      <td>M</td>\n",
       "      <td>71</td>\n",
       "      <td>73000.0</td>\n",
       "      <td>2017</td>\n",
       "      <td>6.0</td>\n",
       "      <td>6.0</td>\n",
       "      <td>0.0</td>\n",
       "      <td>5.166667</td>\n",
       "      <td>9.166667</td>\n",
       "      <td>...</td>\n",
       "      <td>10</td>\n",
       "      <td>12</td>\n",
       "      <td>3.0</td>\n",
       "      <td>5.0</td>\n",
       "      <td>4.0</td>\n",
       "      <td>0.60</td>\n",
       "      <td>0.80</td>\n",
       "      <td>696.0</td>\n",
       "      <td>29.94</td>\n",
       "      <td>6.0</td>\n",
       "    </tr>\n",
       "    <tr>\n",
       "      <th>14817</th>\n",
       "      <td>fff8957ea8b240a6b5e634b6ee8eafcf</td>\n",
       "      <td>M</td>\n",
       "      <td>71</td>\n",
       "      <td>56000.0</td>\n",
       "      <td>2018</td>\n",
       "      <td>2.0</td>\n",
       "      <td>2.0</td>\n",
       "      <td>1.0</td>\n",
       "      <td>4.800000</td>\n",
       "      <td>8.000000</td>\n",
       "      <td>...</td>\n",
       "      <td>4</td>\n",
       "      <td>5</td>\n",
       "      <td>0.0</td>\n",
       "      <td>3.0</td>\n",
       "      <td>2.0</td>\n",
       "      <td>0.00</td>\n",
       "      <td>0.67</td>\n",
       "      <td>576.0</td>\n",
       "      <td>12.15</td>\n",
       "      <td>5.0</td>\n",
       "    </tr>\n",
       "    <tr>\n",
       "      <th>14818</th>\n",
       "      <td>fffad4f4828548d1b5583907f2e9906b</td>\n",
       "      <td>M</td>\n",
       "      <td>34</td>\n",
       "      <td>34000.0</td>\n",
       "      <td>2017</td>\n",
       "      <td>9.0</td>\n",
       "      <td>0.0</td>\n",
       "      <td>2.0</td>\n",
       "      <td>4.090909</td>\n",
       "      <td>4.090909</td>\n",
       "      <td>...</td>\n",
       "      <td>8</td>\n",
       "      <td>11</td>\n",
       "      <td>3.0</td>\n",
       "      <td>4.0</td>\n",
       "      <td>4.0</td>\n",
       "      <td>0.75</td>\n",
       "      <td>1.00</td>\n",
       "      <td>678.0</td>\n",
       "      <td>88.83</td>\n",
       "      <td>12.0</td>\n",
       "    </tr>\n",
       "    <tr>\n",
       "      <th>14819</th>\n",
       "      <td>ffff82501cea40309d5fdd7edcca4a07</td>\n",
       "      <td>F</td>\n",
       "      <td>45</td>\n",
       "      <td>62000.0</td>\n",
       "      <td>2016</td>\n",
       "      <td>3.0</td>\n",
       "      <td>15.0</td>\n",
       "      <td>0.0</td>\n",
       "      <td>3.000000</td>\n",
       "      <td>10.833333</td>\n",
       "      <td>...</td>\n",
       "      <td>3</td>\n",
       "      <td>15</td>\n",
       "      <td>6.0</td>\n",
       "      <td>6.0</td>\n",
       "      <td>6.0</td>\n",
       "      <td>1.00</td>\n",
       "      <td>1.00</td>\n",
       "      <td>648.0</td>\n",
       "      <td>226.07</td>\n",
       "      <td>15.0</td>\n",
       "    </tr>\n",
       "  </tbody>\n",
       "</table>\n",
       "<p>14820 rows × 23 columns</p>\n",
       "</div>"
      ],
      "text/plain": [
       "                                 person gender  age   income  \\\n",
       "0      0009655768c64bdeb2e877511632db8f      M   33  72000.0   \n",
       "1      0011e0d4e6b944f998e987f904e8c1e5      O   40  57000.0   \n",
       "2      0020c2b971eb4e9188eac86d93036a77      F   59  90000.0   \n",
       "3      0020ccbbb6d84e358d3414a3ff76cffd      F   24  60000.0   \n",
       "4      003d66b6608740288d6cc97a6903f4f0      F   26  73000.0   \n",
       "...                                 ...    ...  ...      ...   \n",
       "14815  fff3ba4757bd42088c044ca26d73817a      F   69  83000.0   \n",
       "14816  fff7576017104bcc8677a8d63322b5e1      M   71  73000.0   \n",
       "14817  fff8957ea8b240a6b5e634b6ee8eafcf      M   71  56000.0   \n",
       "14818  fffad4f4828548d1b5583907f2e9906b      M   34  34000.0   \n",
       "14819  ffff82501cea40309d5fdd7edcca4a07      F   45  62000.0   \n",
       "\n",
       "       year_became_member  BOGO_Number  Discount_Number  Informational_Number  \\\n",
       "0                    2017          3.0              5.0                   4.0   \n",
       "1                    2018          3.0              6.0                   4.0   \n",
       "2                    2016          4.0              5.0                   2.0   \n",
       "3                    2016          6.0              3.0                   2.0   \n",
       "4                    2017          0.0              8.0                   4.0   \n",
       "...                   ...          ...              ...                   ...   \n",
       "14815                2015          3.0              6.0                   3.0   \n",
       "14816                2017          6.0              6.0                   0.0   \n",
       "14817                2018          2.0              2.0                   1.0   \n",
       "14818                2017          9.0              0.0                   2.0   \n",
       "14819                2016          3.0             15.0                   0.0   \n",
       "\n",
       "       reward_avg  difficulty_avg  ...  social  mobile  offer completed  \\\n",
       "0        2.083333        5.416667  ...       8      12              3.0   \n",
       "1        3.000000        7.384615  ...       5      10              3.0   \n",
       "2        4.545455        8.181818  ...      11      11              3.0   \n",
       "3        3.545455        4.636364  ...       8      11              3.0   \n",
       "4        1.833333        8.333333  ...       8      10              3.0   \n",
       "...           ...             ...  ...     ...     ...              ...   \n",
       "14815    2.250000        6.250000  ...       6      12              3.0   \n",
       "14816    5.166667        9.166667  ...      10      12              3.0   \n",
       "14817    4.800000        8.000000  ...       4       5              0.0   \n",
       "14818    4.090909        4.090909  ...       8      11              3.0   \n",
       "14819    3.000000       10.833333  ...       3      15              6.0   \n",
       "\n",
       "       offer received  offer viewed  ratio_completed  ratio_viewed  \\\n",
       "0                 5.0           4.0             0.60          0.80   \n",
       "1                 5.0           5.0             0.60          1.00   \n",
       "2                 5.0           3.0             0.60          0.60   \n",
       "3                 4.0           4.0             0.75          1.00   \n",
       "4                 5.0           4.0             0.60          0.80   \n",
       "...               ...           ...              ...           ...   \n",
       "14815             6.0           3.0             0.50          0.50   \n",
       "14816             5.0           4.0             0.60          0.80   \n",
       "14817             3.0           2.0             0.00          0.67   \n",
       "14818             4.0           4.0             0.75          1.00   \n",
       "14819             6.0           6.0             1.00          1.00   \n",
       "\n",
       "       most_recent  total_spent  transactions_number  \n",
       "0            696.0       127.60                  8.0  \n",
       "1            654.0        79.46                  5.0  \n",
       "2            708.0       196.86                  8.0  \n",
       "3            672.0       154.05                 12.0  \n",
       "4            696.0        48.34                 18.0  \n",
       "...            ...          ...                  ...  \n",
       "14815        552.0       580.98                 11.0  \n",
       "14816        696.0        29.94                  6.0  \n",
       "14817        576.0        12.15                  5.0  \n",
       "14818        678.0        88.83                 12.0  \n",
       "14819        648.0       226.07                 15.0  \n",
       "\n",
       "[14820 rows x 23 columns]"
      ]
     },
     "execution_count": 9,
     "metadata": {},
     "output_type": "execute_result"
    }
   ],
   "source": [
    "mergeDF = offerNumDF.merge(aggDF, how = 'left', on = 'person')\n",
    "mergeDF = mergeDF.merge(eventDF, how = 'left', on = 'person')\n",
    "\n",
    "mergeDF = demoDF.merge(mergeDF, how = 'left', on = 'person')\n",
    "mergeDF = mergeDF.merge(money, how = 'left', on = 'person')\n",
    "mergeDF"
   ]
  },
  {
   "cell_type": "markdown",
   "id": "a1a27fd7",
   "metadata": {},
   "source": [
    "### Look for NAs"
   ]
  },
  {
   "cell_type": "code",
   "execution_count": 10,
   "id": "dd86a5f1",
   "metadata": {},
   "outputs": [
    {
     "data": {
      "text/plain": [
       "person                  False\n",
       "gender                  False\n",
       "age                     False\n",
       "income                  False\n",
       "year_became_member      False\n",
       "BOGO_Number             False\n",
       "Discount_Number         False\n",
       "Informational_Number    False\n",
       "reward_avg              False\n",
       "difficulty_avg          False\n",
       "duration_avg            False\n",
       "web                     False\n",
       "email                   False\n",
       "social                  False\n",
       "mobile                  False\n",
       "offer completed         False\n",
       "offer received          False\n",
       "offer viewed            False\n",
       "ratio_completed         False\n",
       "ratio_viewed            False\n",
       "most_recent              True\n",
       "total_spent              True\n",
       "transactions_number      True\n",
       "dtype: bool"
      ]
     },
     "execution_count": 10,
     "metadata": {},
     "output_type": "execute_result"
    }
   ],
   "source": [
    "mergeDF.isna().any()"
   ]
  },
  {
   "cell_type": "markdown",
   "id": "b3b82123",
   "metadata": {},
   "source": [
    "### Only NA values are in actual transactions, meaning they never bought anything, fill nas with 0"
   ]
  },
  {
   "cell_type": "code",
   "execution_count": 11,
   "id": "1b350c15",
   "metadata": {},
   "outputs": [
    {
     "data": {
      "text/plain": [
       "person                  False\n",
       "gender                  False\n",
       "age                     False\n",
       "income                  False\n",
       "year_became_member      False\n",
       "BOGO_Number             False\n",
       "Discount_Number         False\n",
       "Informational_Number    False\n",
       "reward_avg              False\n",
       "difficulty_avg          False\n",
       "duration_avg            False\n",
       "web                     False\n",
       "email                   False\n",
       "social                  False\n",
       "mobile                  False\n",
       "offer completed         False\n",
       "offer received          False\n",
       "offer viewed            False\n",
       "ratio_completed         False\n",
       "ratio_viewed            False\n",
       "most_recent             False\n",
       "total_spent             False\n",
       "transactions_number     False\n",
       "dtype: bool"
      ]
     },
     "execution_count": 11,
     "metadata": {},
     "output_type": "execute_result"
    }
   ],
   "source": [
    "mergeDF.fillna(0, inplace=True)\n",
    "mergeDF.isna().any()"
   ]
  },
  {
   "cell_type": "code",
   "execution_count": null,
   "id": "8cd4de99",
   "metadata": {},
   "outputs": [],
   "source": []
  },
  {
   "cell_type": "markdown",
   "id": "3e150449",
   "metadata": {},
   "source": [
    "## Calculate RFM score (recency, frequency, monetary)"
   ]
  },
  {
   "cell_type": "code",
   "execution_count": 12,
   "id": "8ee76173",
   "metadata": {},
   "outputs": [],
   "source": [
    "mergeDF['M_score'] = pd.cut(mergeDF['total_spent'], bins=[-1,\n",
    "       np.percentile(mergeDF['total_spent'], 20),\n",
    "       np.percentile(mergeDF['total_spent'], 40),\n",
    "       np.percentile(mergeDF['total_spent'], 60),\n",
    "       np.percentile(mergeDF['total_spent'], 80),\n",
    "       mergeDF['total_spent'].max()],\n",
    "                           labels = [1,2,3,4,5]).astype('int')"
   ]
  },
  {
   "cell_type": "code",
   "execution_count": 13,
   "id": "f8ee6b1a",
   "metadata": {},
   "outputs": [
    {
     "data": {
      "text/html": [
       "<div>\n",
       "<style scoped>\n",
       "    .dataframe tbody tr th:only-of-type {\n",
       "        vertical-align: middle;\n",
       "    }\n",
       "\n",
       "    .dataframe tbody tr th {\n",
       "        vertical-align: top;\n",
       "    }\n",
       "\n",
       "    .dataframe thead th {\n",
       "        text-align: right;\n",
       "    }\n",
       "</style>\n",
       "<table border=\"1\" class=\"dataframe\">\n",
       "  <thead>\n",
       "    <tr style=\"text-align: right;\">\n",
       "      <th></th>\n",
       "      <th>M_score</th>\n",
       "      <th>total_spent</th>\n",
       "    </tr>\n",
       "  </thead>\n",
       "  <tbody>\n",
       "    <tr>\n",
       "      <th>0</th>\n",
       "      <td>4</td>\n",
       "      <td>127.60</td>\n",
       "    </tr>\n",
       "    <tr>\n",
       "      <th>1</th>\n",
       "      <td>3</td>\n",
       "      <td>79.46</td>\n",
       "    </tr>\n",
       "    <tr>\n",
       "      <th>2</th>\n",
       "      <td>5</td>\n",
       "      <td>196.86</td>\n",
       "    </tr>\n",
       "    <tr>\n",
       "      <th>3</th>\n",
       "      <td>4</td>\n",
       "      <td>154.05</td>\n",
       "    </tr>\n",
       "    <tr>\n",
       "      <th>4</th>\n",
       "      <td>2</td>\n",
       "      <td>48.34</td>\n",
       "    </tr>\n",
       "    <tr>\n",
       "      <th>...</th>\n",
       "      <td>...</td>\n",
       "      <td>...</td>\n",
       "    </tr>\n",
       "    <tr>\n",
       "      <th>14815</th>\n",
       "      <td>5</td>\n",
       "      <td>580.98</td>\n",
       "    </tr>\n",
       "    <tr>\n",
       "      <th>14816</th>\n",
       "      <td>2</td>\n",
       "      <td>29.94</td>\n",
       "    </tr>\n",
       "    <tr>\n",
       "      <th>14817</th>\n",
       "      <td>1</td>\n",
       "      <td>12.15</td>\n",
       "    </tr>\n",
       "    <tr>\n",
       "      <th>14818</th>\n",
       "      <td>3</td>\n",
       "      <td>88.83</td>\n",
       "    </tr>\n",
       "    <tr>\n",
       "      <th>14819</th>\n",
       "      <td>5</td>\n",
       "      <td>226.07</td>\n",
       "    </tr>\n",
       "  </tbody>\n",
       "</table>\n",
       "<p>14820 rows × 2 columns</p>\n",
       "</div>"
      ],
      "text/plain": [
       "       M_score  total_spent\n",
       "0            4       127.60\n",
       "1            3        79.46\n",
       "2            5       196.86\n",
       "3            4       154.05\n",
       "4            2        48.34\n",
       "...        ...          ...\n",
       "14815        5       580.98\n",
       "14816        2        29.94\n",
       "14817        1        12.15\n",
       "14818        3        88.83\n",
       "14819        5       226.07\n",
       "\n",
       "[14820 rows x 2 columns]"
      ]
     },
     "execution_count": 13,
     "metadata": {},
     "output_type": "execute_result"
    }
   ],
   "source": [
    "mergeDF[['M_score', 'total_spent']]"
   ]
  },
  {
   "cell_type": "code",
   "execution_count": 14,
   "id": "82f8bbad",
   "metadata": {},
   "outputs": [],
   "source": [
    "mergeDF['R_score'] = pd.cut(mergeDF['most_recent'], bins=[-1,\n",
    "       np.percentile(mergeDF['most_recent'], 20),\n",
    "       np.percentile(mergeDF['most_recent'], 40),\n",
    "       np.percentile(mergeDF['most_recent'], 60),\n",
    "       np.percentile(mergeDF['most_recent'], 80),\n",
    "       mergeDF['most_recent'].max()],\n",
    "                           labels = [1,2,3,4,5]).astype('int')"
   ]
  },
  {
   "cell_type": "code",
   "execution_count": 15,
   "id": "61b832ae",
   "metadata": {},
   "outputs": [
    {
     "data": {
      "text/html": [
       "<div>\n",
       "<style scoped>\n",
       "    .dataframe tbody tr th:only-of-type {\n",
       "        vertical-align: middle;\n",
       "    }\n",
       "\n",
       "    .dataframe tbody tr th {\n",
       "        vertical-align: top;\n",
       "    }\n",
       "\n",
       "    .dataframe thead th {\n",
       "        text-align: right;\n",
       "    }\n",
       "</style>\n",
       "<table border=\"1\" class=\"dataframe\">\n",
       "  <thead>\n",
       "    <tr style=\"text-align: right;\">\n",
       "      <th></th>\n",
       "      <th>R_score</th>\n",
       "      <th>most_recent</th>\n",
       "    </tr>\n",
       "  </thead>\n",
       "  <tbody>\n",
       "    <tr>\n",
       "      <th>0</th>\n",
       "      <td>4</td>\n",
       "      <td>696.0</td>\n",
       "    </tr>\n",
       "    <tr>\n",
       "      <th>1</th>\n",
       "      <td>3</td>\n",
       "      <td>654.0</td>\n",
       "    </tr>\n",
       "    <tr>\n",
       "      <th>2</th>\n",
       "      <td>5</td>\n",
       "      <td>708.0</td>\n",
       "    </tr>\n",
       "    <tr>\n",
       "      <th>3</th>\n",
       "      <td>4</td>\n",
       "      <td>672.0</td>\n",
       "    </tr>\n",
       "    <tr>\n",
       "      <th>4</th>\n",
       "      <td>4</td>\n",
       "      <td>696.0</td>\n",
       "    </tr>\n",
       "    <tr>\n",
       "      <th>...</th>\n",
       "      <td>...</td>\n",
       "      <td>...</td>\n",
       "    </tr>\n",
       "    <tr>\n",
       "      <th>14815</th>\n",
       "      <td>1</td>\n",
       "      <td>552.0</td>\n",
       "    </tr>\n",
       "    <tr>\n",
       "      <th>14816</th>\n",
       "      <td>4</td>\n",
       "      <td>696.0</td>\n",
       "    </tr>\n",
       "    <tr>\n",
       "      <th>14817</th>\n",
       "      <td>2</td>\n",
       "      <td>576.0</td>\n",
       "    </tr>\n",
       "    <tr>\n",
       "      <th>14818</th>\n",
       "      <td>4</td>\n",
       "      <td>678.0</td>\n",
       "    </tr>\n",
       "    <tr>\n",
       "      <th>14819</th>\n",
       "      <td>3</td>\n",
       "      <td>648.0</td>\n",
       "    </tr>\n",
       "  </tbody>\n",
       "</table>\n",
       "<p>14820 rows × 2 columns</p>\n",
       "</div>"
      ],
      "text/plain": [
       "       R_score  most_recent\n",
       "0            4        696.0\n",
       "1            3        654.0\n",
       "2            5        708.0\n",
       "3            4        672.0\n",
       "4            4        696.0\n",
       "...        ...          ...\n",
       "14815        1        552.0\n",
       "14816        4        696.0\n",
       "14817        2        576.0\n",
       "14818        4        678.0\n",
       "14819        3        648.0\n",
       "\n",
       "[14820 rows x 2 columns]"
      ]
     },
     "execution_count": 15,
     "metadata": {},
     "output_type": "execute_result"
    }
   ],
   "source": [
    "mergeDF[['R_score', 'most_recent']]"
   ]
  },
  {
   "cell_type": "code",
   "execution_count": 16,
   "id": "e1df7b6f",
   "metadata": {},
   "outputs": [],
   "source": [
    "mergeDF['F_score'] = pd.cut(mergeDF['transactions_number'], bins=[-1,\n",
    "       np.percentile(mergeDF['transactions_number'], 20),\n",
    "       np.percentile(mergeDF['transactions_number'], 40),\n",
    "       np.percentile(mergeDF['transactions_number'], 60),\n",
    "       np.percentile(mergeDF['transactions_number'], 80),\n",
    "       mergeDF['transactions_number'].max()],\n",
    "                           labels = [1,2,3,4,5]).astype('int')"
   ]
  },
  {
   "cell_type": "code",
   "execution_count": 17,
   "id": "f53636c0",
   "metadata": {},
   "outputs": [
    {
     "data": {
      "text/html": [
       "<div>\n",
       "<style scoped>\n",
       "    .dataframe tbody tr th:only-of-type {\n",
       "        vertical-align: middle;\n",
       "    }\n",
       "\n",
       "    .dataframe tbody tr th {\n",
       "        vertical-align: top;\n",
       "    }\n",
       "\n",
       "    .dataframe thead th {\n",
       "        text-align: right;\n",
       "    }\n",
       "</style>\n",
       "<table border=\"1\" class=\"dataframe\">\n",
       "  <thead>\n",
       "    <tr style=\"text-align: right;\">\n",
       "      <th></th>\n",
       "      <th>F_score</th>\n",
       "      <th>transactions_number</th>\n",
       "    </tr>\n",
       "  </thead>\n",
       "  <tbody>\n",
       "    <tr>\n",
       "      <th>0</th>\n",
       "      <td>3</td>\n",
       "      <td>8.0</td>\n",
       "    </tr>\n",
       "    <tr>\n",
       "      <th>1</th>\n",
       "      <td>2</td>\n",
       "      <td>5.0</td>\n",
       "    </tr>\n",
       "    <tr>\n",
       "      <th>2</th>\n",
       "      <td>3</td>\n",
       "      <td>8.0</td>\n",
       "    </tr>\n",
       "    <tr>\n",
       "      <th>3</th>\n",
       "      <td>4</td>\n",
       "      <td>12.0</td>\n",
       "    </tr>\n",
       "    <tr>\n",
       "      <th>4</th>\n",
       "      <td>5</td>\n",
       "      <td>18.0</td>\n",
       "    </tr>\n",
       "    <tr>\n",
       "      <th>...</th>\n",
       "      <td>...</td>\n",
       "      <td>...</td>\n",
       "    </tr>\n",
       "    <tr>\n",
       "      <th>14815</th>\n",
       "      <td>4</td>\n",
       "      <td>11.0</td>\n",
       "    </tr>\n",
       "    <tr>\n",
       "      <th>14816</th>\n",
       "      <td>2</td>\n",
       "      <td>6.0</td>\n",
       "    </tr>\n",
       "    <tr>\n",
       "      <th>14817</th>\n",
       "      <td>2</td>\n",
       "      <td>5.0</td>\n",
       "    </tr>\n",
       "    <tr>\n",
       "      <th>14818</th>\n",
       "      <td>4</td>\n",
       "      <td>12.0</td>\n",
       "    </tr>\n",
       "    <tr>\n",
       "      <th>14819</th>\n",
       "      <td>5</td>\n",
       "      <td>15.0</td>\n",
       "    </tr>\n",
       "  </tbody>\n",
       "</table>\n",
       "<p>14820 rows × 2 columns</p>\n",
       "</div>"
      ],
      "text/plain": [
       "       F_score  transactions_number\n",
       "0            3                  8.0\n",
       "1            2                  5.0\n",
       "2            3                  8.0\n",
       "3            4                 12.0\n",
       "4            5                 18.0\n",
       "...        ...                  ...\n",
       "14815        4                 11.0\n",
       "14816        2                  6.0\n",
       "14817        2                  5.0\n",
       "14818        4                 12.0\n",
       "14819        5                 15.0\n",
       "\n",
       "[14820 rows x 2 columns]"
      ]
     },
     "execution_count": 17,
     "metadata": {},
     "output_type": "execute_result"
    }
   ],
   "source": [
    "mergeDF[['F_score', 'transactions_number']]"
   ]
  },
  {
   "cell_type": "code",
   "execution_count": 18,
   "id": "3a35a43b",
   "metadata": {},
   "outputs": [
    {
     "data": {
      "text/html": [
       "<div>\n",
       "<style scoped>\n",
       "    .dataframe tbody tr th:only-of-type {\n",
       "        vertical-align: middle;\n",
       "    }\n",
       "\n",
       "    .dataframe tbody tr th {\n",
       "        vertical-align: top;\n",
       "    }\n",
       "\n",
       "    .dataframe thead th {\n",
       "        text-align: right;\n",
       "    }\n",
       "</style>\n",
       "<table border=\"1\" class=\"dataframe\">\n",
       "  <thead>\n",
       "    <tr style=\"text-align: right;\">\n",
       "      <th></th>\n",
       "      <th>person</th>\n",
       "      <th>gender</th>\n",
       "      <th>age</th>\n",
       "      <th>income</th>\n",
       "      <th>year_became_member</th>\n",
       "      <th>BOGO_Number</th>\n",
       "      <th>Discount_Number</th>\n",
       "      <th>Informational_Number</th>\n",
       "      <th>reward_avg</th>\n",
       "      <th>difficulty_avg</th>\n",
       "      <th>...</th>\n",
       "      <th>offer received</th>\n",
       "      <th>offer viewed</th>\n",
       "      <th>ratio_completed</th>\n",
       "      <th>ratio_viewed</th>\n",
       "      <th>most_recent</th>\n",
       "      <th>total_spent</th>\n",
       "      <th>transactions_number</th>\n",
       "      <th>M_score</th>\n",
       "      <th>R_score</th>\n",
       "      <th>F_score</th>\n",
       "    </tr>\n",
       "  </thead>\n",
       "  <tbody>\n",
       "    <tr>\n",
       "      <th>0</th>\n",
       "      <td>0009655768c64bdeb2e877511632db8f</td>\n",
       "      <td>M</td>\n",
       "      <td>33</td>\n",
       "      <td>72000.0</td>\n",
       "      <td>2017</td>\n",
       "      <td>3.0</td>\n",
       "      <td>5.0</td>\n",
       "      <td>4.0</td>\n",
       "      <td>2.083333</td>\n",
       "      <td>5.416667</td>\n",
       "      <td>...</td>\n",
       "      <td>5.0</td>\n",
       "      <td>4.0</td>\n",
       "      <td>0.60</td>\n",
       "      <td>0.80</td>\n",
       "      <td>696.0</td>\n",
       "      <td>127.60</td>\n",
       "      <td>8.0</td>\n",
       "      <td>4</td>\n",
       "      <td>4</td>\n",
       "      <td>3</td>\n",
       "    </tr>\n",
       "    <tr>\n",
       "      <th>1</th>\n",
       "      <td>0011e0d4e6b944f998e987f904e8c1e5</td>\n",
       "      <td>O</td>\n",
       "      <td>40</td>\n",
       "      <td>57000.0</td>\n",
       "      <td>2018</td>\n",
       "      <td>3.0</td>\n",
       "      <td>6.0</td>\n",
       "      <td>4.0</td>\n",
       "      <td>3.000000</td>\n",
       "      <td>7.384615</td>\n",
       "      <td>...</td>\n",
       "      <td>5.0</td>\n",
       "      <td>5.0</td>\n",
       "      <td>0.60</td>\n",
       "      <td>1.00</td>\n",
       "      <td>654.0</td>\n",
       "      <td>79.46</td>\n",
       "      <td>5.0</td>\n",
       "      <td>3</td>\n",
       "      <td>3</td>\n",
       "      <td>2</td>\n",
       "    </tr>\n",
       "    <tr>\n",
       "      <th>2</th>\n",
       "      <td>0020c2b971eb4e9188eac86d93036a77</td>\n",
       "      <td>F</td>\n",
       "      <td>59</td>\n",
       "      <td>90000.0</td>\n",
       "      <td>2016</td>\n",
       "      <td>4.0</td>\n",
       "      <td>5.0</td>\n",
       "      <td>2.0</td>\n",
       "      <td>4.545455</td>\n",
       "      <td>8.181818</td>\n",
       "      <td>...</td>\n",
       "      <td>5.0</td>\n",
       "      <td>3.0</td>\n",
       "      <td>0.60</td>\n",
       "      <td>0.60</td>\n",
       "      <td>708.0</td>\n",
       "      <td>196.86</td>\n",
       "      <td>8.0</td>\n",
       "      <td>5</td>\n",
       "      <td>5</td>\n",
       "      <td>3</td>\n",
       "    </tr>\n",
       "    <tr>\n",
       "      <th>3</th>\n",
       "      <td>0020ccbbb6d84e358d3414a3ff76cffd</td>\n",
       "      <td>F</td>\n",
       "      <td>24</td>\n",
       "      <td>60000.0</td>\n",
       "      <td>2016</td>\n",
       "      <td>6.0</td>\n",
       "      <td>3.0</td>\n",
       "      <td>2.0</td>\n",
       "      <td>3.545455</td>\n",
       "      <td>4.636364</td>\n",
       "      <td>...</td>\n",
       "      <td>4.0</td>\n",
       "      <td>4.0</td>\n",
       "      <td>0.75</td>\n",
       "      <td>1.00</td>\n",
       "      <td>672.0</td>\n",
       "      <td>154.05</td>\n",
       "      <td>12.0</td>\n",
       "      <td>4</td>\n",
       "      <td>4</td>\n",
       "      <td>4</td>\n",
       "    </tr>\n",
       "    <tr>\n",
       "      <th>4</th>\n",
       "      <td>003d66b6608740288d6cc97a6903f4f0</td>\n",
       "      <td>F</td>\n",
       "      <td>26</td>\n",
       "      <td>73000.0</td>\n",
       "      <td>2017</td>\n",
       "      <td>0.0</td>\n",
       "      <td>8.0</td>\n",
       "      <td>4.0</td>\n",
       "      <td>1.833333</td>\n",
       "      <td>8.333333</td>\n",
       "      <td>...</td>\n",
       "      <td>5.0</td>\n",
       "      <td>4.0</td>\n",
       "      <td>0.60</td>\n",
       "      <td>0.80</td>\n",
       "      <td>696.0</td>\n",
       "      <td>48.34</td>\n",
       "      <td>18.0</td>\n",
       "      <td>2</td>\n",
       "      <td>4</td>\n",
       "      <td>5</td>\n",
       "    </tr>\n",
       "    <tr>\n",
       "      <th>...</th>\n",
       "      <td>...</td>\n",
       "      <td>...</td>\n",
       "      <td>...</td>\n",
       "      <td>...</td>\n",
       "      <td>...</td>\n",
       "      <td>...</td>\n",
       "      <td>...</td>\n",
       "      <td>...</td>\n",
       "      <td>...</td>\n",
       "      <td>...</td>\n",
       "      <td>...</td>\n",
       "      <td>...</td>\n",
       "      <td>...</td>\n",
       "      <td>...</td>\n",
       "      <td>...</td>\n",
       "      <td>...</td>\n",
       "      <td>...</td>\n",
       "      <td>...</td>\n",
       "      <td>...</td>\n",
       "      <td>...</td>\n",
       "      <td>...</td>\n",
       "    </tr>\n",
       "    <tr>\n",
       "      <th>14815</th>\n",
       "      <td>fff3ba4757bd42088c044ca26d73817a</td>\n",
       "      <td>F</td>\n",
       "      <td>69</td>\n",
       "      <td>83000.0</td>\n",
       "      <td>2015</td>\n",
       "      <td>3.0</td>\n",
       "      <td>6.0</td>\n",
       "      <td>3.0</td>\n",
       "      <td>2.250000</td>\n",
       "      <td>6.250000</td>\n",
       "      <td>...</td>\n",
       "      <td>6.0</td>\n",
       "      <td>3.0</td>\n",
       "      <td>0.50</td>\n",
       "      <td>0.50</td>\n",
       "      <td>552.0</td>\n",
       "      <td>580.98</td>\n",
       "      <td>11.0</td>\n",
       "      <td>5</td>\n",
       "      <td>1</td>\n",
       "      <td>4</td>\n",
       "    </tr>\n",
       "    <tr>\n",
       "      <th>14816</th>\n",
       "      <td>fff7576017104bcc8677a8d63322b5e1</td>\n",
       "      <td>M</td>\n",
       "      <td>71</td>\n",
       "      <td>73000.0</td>\n",
       "      <td>2017</td>\n",
       "      <td>6.0</td>\n",
       "      <td>6.0</td>\n",
       "      <td>0.0</td>\n",
       "      <td>5.166667</td>\n",
       "      <td>9.166667</td>\n",
       "      <td>...</td>\n",
       "      <td>5.0</td>\n",
       "      <td>4.0</td>\n",
       "      <td>0.60</td>\n",
       "      <td>0.80</td>\n",
       "      <td>696.0</td>\n",
       "      <td>29.94</td>\n",
       "      <td>6.0</td>\n",
       "      <td>2</td>\n",
       "      <td>4</td>\n",
       "      <td>2</td>\n",
       "    </tr>\n",
       "    <tr>\n",
       "      <th>14817</th>\n",
       "      <td>fff8957ea8b240a6b5e634b6ee8eafcf</td>\n",
       "      <td>M</td>\n",
       "      <td>71</td>\n",
       "      <td>56000.0</td>\n",
       "      <td>2018</td>\n",
       "      <td>2.0</td>\n",
       "      <td>2.0</td>\n",
       "      <td>1.0</td>\n",
       "      <td>4.800000</td>\n",
       "      <td>8.000000</td>\n",
       "      <td>...</td>\n",
       "      <td>3.0</td>\n",
       "      <td>2.0</td>\n",
       "      <td>0.00</td>\n",
       "      <td>0.67</td>\n",
       "      <td>576.0</td>\n",
       "      <td>12.15</td>\n",
       "      <td>5.0</td>\n",
       "      <td>1</td>\n",
       "      <td>2</td>\n",
       "      <td>2</td>\n",
       "    </tr>\n",
       "    <tr>\n",
       "      <th>14818</th>\n",
       "      <td>fffad4f4828548d1b5583907f2e9906b</td>\n",
       "      <td>M</td>\n",
       "      <td>34</td>\n",
       "      <td>34000.0</td>\n",
       "      <td>2017</td>\n",
       "      <td>9.0</td>\n",
       "      <td>0.0</td>\n",
       "      <td>2.0</td>\n",
       "      <td>4.090909</td>\n",
       "      <td>4.090909</td>\n",
       "      <td>...</td>\n",
       "      <td>4.0</td>\n",
       "      <td>4.0</td>\n",
       "      <td>0.75</td>\n",
       "      <td>1.00</td>\n",
       "      <td>678.0</td>\n",
       "      <td>88.83</td>\n",
       "      <td>12.0</td>\n",
       "      <td>3</td>\n",
       "      <td>4</td>\n",
       "      <td>4</td>\n",
       "    </tr>\n",
       "    <tr>\n",
       "      <th>14819</th>\n",
       "      <td>ffff82501cea40309d5fdd7edcca4a07</td>\n",
       "      <td>F</td>\n",
       "      <td>45</td>\n",
       "      <td>62000.0</td>\n",
       "      <td>2016</td>\n",
       "      <td>3.0</td>\n",
       "      <td>15.0</td>\n",
       "      <td>0.0</td>\n",
       "      <td>3.000000</td>\n",
       "      <td>10.833333</td>\n",
       "      <td>...</td>\n",
       "      <td>6.0</td>\n",
       "      <td>6.0</td>\n",
       "      <td>1.00</td>\n",
       "      <td>1.00</td>\n",
       "      <td>648.0</td>\n",
       "      <td>226.07</td>\n",
       "      <td>15.0</td>\n",
       "      <td>5</td>\n",
       "      <td>3</td>\n",
       "      <td>5</td>\n",
       "    </tr>\n",
       "  </tbody>\n",
       "</table>\n",
       "<p>14820 rows × 26 columns</p>\n",
       "</div>"
      ],
      "text/plain": [
       "                                 person gender  age   income  \\\n",
       "0      0009655768c64bdeb2e877511632db8f      M   33  72000.0   \n",
       "1      0011e0d4e6b944f998e987f904e8c1e5      O   40  57000.0   \n",
       "2      0020c2b971eb4e9188eac86d93036a77      F   59  90000.0   \n",
       "3      0020ccbbb6d84e358d3414a3ff76cffd      F   24  60000.0   \n",
       "4      003d66b6608740288d6cc97a6903f4f0      F   26  73000.0   \n",
       "...                                 ...    ...  ...      ...   \n",
       "14815  fff3ba4757bd42088c044ca26d73817a      F   69  83000.0   \n",
       "14816  fff7576017104bcc8677a8d63322b5e1      M   71  73000.0   \n",
       "14817  fff8957ea8b240a6b5e634b6ee8eafcf      M   71  56000.0   \n",
       "14818  fffad4f4828548d1b5583907f2e9906b      M   34  34000.0   \n",
       "14819  ffff82501cea40309d5fdd7edcca4a07      F   45  62000.0   \n",
       "\n",
       "       year_became_member  BOGO_Number  Discount_Number  Informational_Number  \\\n",
       "0                    2017          3.0              5.0                   4.0   \n",
       "1                    2018          3.0              6.0                   4.0   \n",
       "2                    2016          4.0              5.0                   2.0   \n",
       "3                    2016          6.0              3.0                   2.0   \n",
       "4                    2017          0.0              8.0                   4.0   \n",
       "...                   ...          ...              ...                   ...   \n",
       "14815                2015          3.0              6.0                   3.0   \n",
       "14816                2017          6.0              6.0                   0.0   \n",
       "14817                2018          2.0              2.0                   1.0   \n",
       "14818                2017          9.0              0.0                   2.0   \n",
       "14819                2016          3.0             15.0                   0.0   \n",
       "\n",
       "       reward_avg  difficulty_avg  ...  offer received  offer viewed  \\\n",
       "0        2.083333        5.416667  ...             5.0           4.0   \n",
       "1        3.000000        7.384615  ...             5.0           5.0   \n",
       "2        4.545455        8.181818  ...             5.0           3.0   \n",
       "3        3.545455        4.636364  ...             4.0           4.0   \n",
       "4        1.833333        8.333333  ...             5.0           4.0   \n",
       "...           ...             ...  ...             ...           ...   \n",
       "14815    2.250000        6.250000  ...             6.0           3.0   \n",
       "14816    5.166667        9.166667  ...             5.0           4.0   \n",
       "14817    4.800000        8.000000  ...             3.0           2.0   \n",
       "14818    4.090909        4.090909  ...             4.0           4.0   \n",
       "14819    3.000000       10.833333  ...             6.0           6.0   \n",
       "\n",
       "       ratio_completed  ratio_viewed  most_recent  total_spent  \\\n",
       "0                 0.60          0.80        696.0       127.60   \n",
       "1                 0.60          1.00        654.0        79.46   \n",
       "2                 0.60          0.60        708.0       196.86   \n",
       "3                 0.75          1.00        672.0       154.05   \n",
       "4                 0.60          0.80        696.0        48.34   \n",
       "...                ...           ...          ...          ...   \n",
       "14815             0.50          0.50        552.0       580.98   \n",
       "14816             0.60          0.80        696.0        29.94   \n",
       "14817             0.00          0.67        576.0        12.15   \n",
       "14818             0.75          1.00        678.0        88.83   \n",
       "14819             1.00          1.00        648.0       226.07   \n",
       "\n",
       "       transactions_number  M_score  R_score  F_score  \n",
       "0                      8.0        4        4        3  \n",
       "1                      5.0        3        3        2  \n",
       "2                      8.0        5        5        3  \n",
       "3                     12.0        4        4        4  \n",
       "4                     18.0        2        4        5  \n",
       "...                    ...      ...      ...      ...  \n",
       "14815                 11.0        5        1        4  \n",
       "14816                  6.0        2        4        2  \n",
       "14817                  5.0        1        2        2  \n",
       "14818                 12.0        3        4        4  \n",
       "14819                 15.0        5        3        5  \n",
       "\n",
       "[14820 rows x 26 columns]"
      ]
     },
     "execution_count": 18,
     "metadata": {},
     "output_type": "execute_result"
    }
   ],
   "source": [
    "mergeDF"
   ]
  },
  {
   "cell_type": "markdown",
   "id": "8eff9a7b",
   "metadata": {},
   "source": [
    "# Dimentionality Reduction with PCA\n",
    "### ordinal encode gender field\n",
    "### Scale data"
   ]
  },
  {
   "cell_type": "code",
   "execution_count": 21,
   "id": "d458fd97",
   "metadata": {},
   "outputs": [
    {
     "data": {
      "text/html": [
       "<div>\n",
       "<style scoped>\n",
       "    .dataframe tbody tr th:only-of-type {\n",
       "        vertical-align: middle;\n",
       "    }\n",
       "\n",
       "    .dataframe tbody tr th {\n",
       "        vertical-align: top;\n",
       "    }\n",
       "\n",
       "    .dataframe thead th {\n",
       "        text-align: right;\n",
       "    }\n",
       "</style>\n",
       "<table border=\"1\" class=\"dataframe\">\n",
       "  <thead>\n",
       "    <tr style=\"text-align: right;\">\n",
       "      <th></th>\n",
       "      <th>person</th>\n",
       "      <th>gender</th>\n",
       "      <th>age</th>\n",
       "      <th>income</th>\n",
       "      <th>year_became_member</th>\n",
       "      <th>BOGO_Number</th>\n",
       "      <th>Discount_Number</th>\n",
       "      <th>Informational_Number</th>\n",
       "      <th>reward_avg</th>\n",
       "      <th>difficulty_avg</th>\n",
       "      <th>...</th>\n",
       "      <th>offer viewed</th>\n",
       "      <th>ratio_completed</th>\n",
       "      <th>ratio_viewed</th>\n",
       "      <th>most_recent</th>\n",
       "      <th>total_spent</th>\n",
       "      <th>transactions_number</th>\n",
       "      <th>M_score</th>\n",
       "      <th>R_score</th>\n",
       "      <th>F_score</th>\n",
       "      <th>gender_encode</th>\n",
       "    </tr>\n",
       "  </thead>\n",
       "  <tbody>\n",
       "    <tr>\n",
       "      <th>0</th>\n",
       "      <td>0009655768c64bdeb2e877511632db8f</td>\n",
       "      <td>M</td>\n",
       "      <td>33</td>\n",
       "      <td>72000.0</td>\n",
       "      <td>2017</td>\n",
       "      <td>3.0</td>\n",
       "      <td>5.0</td>\n",
       "      <td>4.0</td>\n",
       "      <td>2.083333</td>\n",
       "      <td>5.416667</td>\n",
       "      <td>...</td>\n",
       "      <td>4.0</td>\n",
       "      <td>0.60</td>\n",
       "      <td>0.80</td>\n",
       "      <td>696.0</td>\n",
       "      <td>127.60</td>\n",
       "      <td>8.0</td>\n",
       "      <td>4</td>\n",
       "      <td>4</td>\n",
       "      <td>3</td>\n",
       "      <td>0</td>\n",
       "    </tr>\n",
       "    <tr>\n",
       "      <th>1</th>\n",
       "      <td>0011e0d4e6b944f998e987f904e8c1e5</td>\n",
       "      <td>O</td>\n",
       "      <td>40</td>\n",
       "      <td>57000.0</td>\n",
       "      <td>2018</td>\n",
       "      <td>3.0</td>\n",
       "      <td>6.0</td>\n",
       "      <td>4.0</td>\n",
       "      <td>3.000000</td>\n",
       "      <td>7.384615</td>\n",
       "      <td>...</td>\n",
       "      <td>5.0</td>\n",
       "      <td>0.60</td>\n",
       "      <td>1.00</td>\n",
       "      <td>654.0</td>\n",
       "      <td>79.46</td>\n",
       "      <td>5.0</td>\n",
       "      <td>3</td>\n",
       "      <td>3</td>\n",
       "      <td>2</td>\n",
       "      <td>2</td>\n",
       "    </tr>\n",
       "    <tr>\n",
       "      <th>2</th>\n",
       "      <td>0020c2b971eb4e9188eac86d93036a77</td>\n",
       "      <td>F</td>\n",
       "      <td>59</td>\n",
       "      <td>90000.0</td>\n",
       "      <td>2016</td>\n",
       "      <td>4.0</td>\n",
       "      <td>5.0</td>\n",
       "      <td>2.0</td>\n",
       "      <td>4.545455</td>\n",
       "      <td>8.181818</td>\n",
       "      <td>...</td>\n",
       "      <td>3.0</td>\n",
       "      <td>0.60</td>\n",
       "      <td>0.60</td>\n",
       "      <td>708.0</td>\n",
       "      <td>196.86</td>\n",
       "      <td>8.0</td>\n",
       "      <td>5</td>\n",
       "      <td>5</td>\n",
       "      <td>3</td>\n",
       "      <td>1</td>\n",
       "    </tr>\n",
       "    <tr>\n",
       "      <th>3</th>\n",
       "      <td>0020ccbbb6d84e358d3414a3ff76cffd</td>\n",
       "      <td>F</td>\n",
       "      <td>24</td>\n",
       "      <td>60000.0</td>\n",
       "      <td>2016</td>\n",
       "      <td>6.0</td>\n",
       "      <td>3.0</td>\n",
       "      <td>2.0</td>\n",
       "      <td>3.545455</td>\n",
       "      <td>4.636364</td>\n",
       "      <td>...</td>\n",
       "      <td>4.0</td>\n",
       "      <td>0.75</td>\n",
       "      <td>1.00</td>\n",
       "      <td>672.0</td>\n",
       "      <td>154.05</td>\n",
       "      <td>12.0</td>\n",
       "      <td>4</td>\n",
       "      <td>4</td>\n",
       "      <td>4</td>\n",
       "      <td>1</td>\n",
       "    </tr>\n",
       "    <tr>\n",
       "      <th>4</th>\n",
       "      <td>003d66b6608740288d6cc97a6903f4f0</td>\n",
       "      <td>F</td>\n",
       "      <td>26</td>\n",
       "      <td>73000.0</td>\n",
       "      <td>2017</td>\n",
       "      <td>0.0</td>\n",
       "      <td>8.0</td>\n",
       "      <td>4.0</td>\n",
       "      <td>1.833333</td>\n",
       "      <td>8.333333</td>\n",
       "      <td>...</td>\n",
       "      <td>4.0</td>\n",
       "      <td>0.60</td>\n",
       "      <td>0.80</td>\n",
       "      <td>696.0</td>\n",
       "      <td>48.34</td>\n",
       "      <td>18.0</td>\n",
       "      <td>2</td>\n",
       "      <td>4</td>\n",
       "      <td>5</td>\n",
       "      <td>1</td>\n",
       "    </tr>\n",
       "    <tr>\n",
       "      <th>...</th>\n",
       "      <td>...</td>\n",
       "      <td>...</td>\n",
       "      <td>...</td>\n",
       "      <td>...</td>\n",
       "      <td>...</td>\n",
       "      <td>...</td>\n",
       "      <td>...</td>\n",
       "      <td>...</td>\n",
       "      <td>...</td>\n",
       "      <td>...</td>\n",
       "      <td>...</td>\n",
       "      <td>...</td>\n",
       "      <td>...</td>\n",
       "      <td>...</td>\n",
       "      <td>...</td>\n",
       "      <td>...</td>\n",
       "      <td>...</td>\n",
       "      <td>...</td>\n",
       "      <td>...</td>\n",
       "      <td>...</td>\n",
       "      <td>...</td>\n",
       "    </tr>\n",
       "    <tr>\n",
       "      <th>14815</th>\n",
       "      <td>fff3ba4757bd42088c044ca26d73817a</td>\n",
       "      <td>F</td>\n",
       "      <td>69</td>\n",
       "      <td>83000.0</td>\n",
       "      <td>2015</td>\n",
       "      <td>3.0</td>\n",
       "      <td>6.0</td>\n",
       "      <td>3.0</td>\n",
       "      <td>2.250000</td>\n",
       "      <td>6.250000</td>\n",
       "      <td>...</td>\n",
       "      <td>3.0</td>\n",
       "      <td>0.50</td>\n",
       "      <td>0.50</td>\n",
       "      <td>552.0</td>\n",
       "      <td>580.98</td>\n",
       "      <td>11.0</td>\n",
       "      <td>5</td>\n",
       "      <td>1</td>\n",
       "      <td>4</td>\n",
       "      <td>1</td>\n",
       "    </tr>\n",
       "    <tr>\n",
       "      <th>14816</th>\n",
       "      <td>fff7576017104bcc8677a8d63322b5e1</td>\n",
       "      <td>M</td>\n",
       "      <td>71</td>\n",
       "      <td>73000.0</td>\n",
       "      <td>2017</td>\n",
       "      <td>6.0</td>\n",
       "      <td>6.0</td>\n",
       "      <td>0.0</td>\n",
       "      <td>5.166667</td>\n",
       "      <td>9.166667</td>\n",
       "      <td>...</td>\n",
       "      <td>4.0</td>\n",
       "      <td>0.60</td>\n",
       "      <td>0.80</td>\n",
       "      <td>696.0</td>\n",
       "      <td>29.94</td>\n",
       "      <td>6.0</td>\n",
       "      <td>2</td>\n",
       "      <td>4</td>\n",
       "      <td>2</td>\n",
       "      <td>0</td>\n",
       "    </tr>\n",
       "    <tr>\n",
       "      <th>14817</th>\n",
       "      <td>fff8957ea8b240a6b5e634b6ee8eafcf</td>\n",
       "      <td>M</td>\n",
       "      <td>71</td>\n",
       "      <td>56000.0</td>\n",
       "      <td>2018</td>\n",
       "      <td>2.0</td>\n",
       "      <td>2.0</td>\n",
       "      <td>1.0</td>\n",
       "      <td>4.800000</td>\n",
       "      <td>8.000000</td>\n",
       "      <td>...</td>\n",
       "      <td>2.0</td>\n",
       "      <td>0.00</td>\n",
       "      <td>0.67</td>\n",
       "      <td>576.0</td>\n",
       "      <td>12.15</td>\n",
       "      <td>5.0</td>\n",
       "      <td>1</td>\n",
       "      <td>2</td>\n",
       "      <td>2</td>\n",
       "      <td>0</td>\n",
       "    </tr>\n",
       "    <tr>\n",
       "      <th>14818</th>\n",
       "      <td>fffad4f4828548d1b5583907f2e9906b</td>\n",
       "      <td>M</td>\n",
       "      <td>34</td>\n",
       "      <td>34000.0</td>\n",
       "      <td>2017</td>\n",
       "      <td>9.0</td>\n",
       "      <td>0.0</td>\n",
       "      <td>2.0</td>\n",
       "      <td>4.090909</td>\n",
       "      <td>4.090909</td>\n",
       "      <td>...</td>\n",
       "      <td>4.0</td>\n",
       "      <td>0.75</td>\n",
       "      <td>1.00</td>\n",
       "      <td>678.0</td>\n",
       "      <td>88.83</td>\n",
       "      <td>12.0</td>\n",
       "      <td>3</td>\n",
       "      <td>4</td>\n",
       "      <td>4</td>\n",
       "      <td>0</td>\n",
       "    </tr>\n",
       "    <tr>\n",
       "      <th>14819</th>\n",
       "      <td>ffff82501cea40309d5fdd7edcca4a07</td>\n",
       "      <td>F</td>\n",
       "      <td>45</td>\n",
       "      <td>62000.0</td>\n",
       "      <td>2016</td>\n",
       "      <td>3.0</td>\n",
       "      <td>15.0</td>\n",
       "      <td>0.0</td>\n",
       "      <td>3.000000</td>\n",
       "      <td>10.833333</td>\n",
       "      <td>...</td>\n",
       "      <td>6.0</td>\n",
       "      <td>1.00</td>\n",
       "      <td>1.00</td>\n",
       "      <td>648.0</td>\n",
       "      <td>226.07</td>\n",
       "      <td>15.0</td>\n",
       "      <td>5</td>\n",
       "      <td>3</td>\n",
       "      <td>5</td>\n",
       "      <td>1</td>\n",
       "    </tr>\n",
       "  </tbody>\n",
       "</table>\n",
       "<p>14820 rows × 27 columns</p>\n",
       "</div>"
      ],
      "text/plain": [
       "                                 person gender  age   income  \\\n",
       "0      0009655768c64bdeb2e877511632db8f      M   33  72000.0   \n",
       "1      0011e0d4e6b944f998e987f904e8c1e5      O   40  57000.0   \n",
       "2      0020c2b971eb4e9188eac86d93036a77      F   59  90000.0   \n",
       "3      0020ccbbb6d84e358d3414a3ff76cffd      F   24  60000.0   \n",
       "4      003d66b6608740288d6cc97a6903f4f0      F   26  73000.0   \n",
       "...                                 ...    ...  ...      ...   \n",
       "14815  fff3ba4757bd42088c044ca26d73817a      F   69  83000.0   \n",
       "14816  fff7576017104bcc8677a8d63322b5e1      M   71  73000.0   \n",
       "14817  fff8957ea8b240a6b5e634b6ee8eafcf      M   71  56000.0   \n",
       "14818  fffad4f4828548d1b5583907f2e9906b      M   34  34000.0   \n",
       "14819  ffff82501cea40309d5fdd7edcca4a07      F   45  62000.0   \n",
       "\n",
       "       year_became_member  BOGO_Number  Discount_Number  Informational_Number  \\\n",
       "0                    2017          3.0              5.0                   4.0   \n",
       "1                    2018          3.0              6.0                   4.0   \n",
       "2                    2016          4.0              5.0                   2.0   \n",
       "3                    2016          6.0              3.0                   2.0   \n",
       "4                    2017          0.0              8.0                   4.0   \n",
       "...                   ...          ...              ...                   ...   \n",
       "14815                2015          3.0              6.0                   3.0   \n",
       "14816                2017          6.0              6.0                   0.0   \n",
       "14817                2018          2.0              2.0                   1.0   \n",
       "14818                2017          9.0              0.0                   2.0   \n",
       "14819                2016          3.0             15.0                   0.0   \n",
       "\n",
       "       reward_avg  difficulty_avg  ...  offer viewed  ratio_completed  \\\n",
       "0        2.083333        5.416667  ...           4.0             0.60   \n",
       "1        3.000000        7.384615  ...           5.0             0.60   \n",
       "2        4.545455        8.181818  ...           3.0             0.60   \n",
       "3        3.545455        4.636364  ...           4.0             0.75   \n",
       "4        1.833333        8.333333  ...           4.0             0.60   \n",
       "...           ...             ...  ...           ...              ...   \n",
       "14815    2.250000        6.250000  ...           3.0             0.50   \n",
       "14816    5.166667        9.166667  ...           4.0             0.60   \n",
       "14817    4.800000        8.000000  ...           2.0             0.00   \n",
       "14818    4.090909        4.090909  ...           4.0             0.75   \n",
       "14819    3.000000       10.833333  ...           6.0             1.00   \n",
       "\n",
       "       ratio_viewed  most_recent  total_spent  transactions_number  M_score  \\\n",
       "0              0.80        696.0       127.60                  8.0        4   \n",
       "1              1.00        654.0        79.46                  5.0        3   \n",
       "2              0.60        708.0       196.86                  8.0        5   \n",
       "3              1.00        672.0       154.05                 12.0        4   \n",
       "4              0.80        696.0        48.34                 18.0        2   \n",
       "...             ...          ...          ...                  ...      ...   \n",
       "14815          0.50        552.0       580.98                 11.0        5   \n",
       "14816          0.80        696.0        29.94                  6.0        2   \n",
       "14817          0.67        576.0        12.15                  5.0        1   \n",
       "14818          1.00        678.0        88.83                 12.0        3   \n",
       "14819          1.00        648.0       226.07                 15.0        5   \n",
       "\n",
       "       R_score  F_score  gender_encode  \n",
       "0            4        3              0  \n",
       "1            3        2              2  \n",
       "2            5        3              1  \n",
       "3            4        4              1  \n",
       "4            4        5              1  \n",
       "...        ...      ...            ...  \n",
       "14815        1        4              1  \n",
       "14816        4        2              0  \n",
       "14817        2        2              0  \n",
       "14818        4        4              0  \n",
       "14819        3        5              1  \n",
       "\n",
       "[14820 rows x 27 columns]"
      ]
     },
     "execution_count": 21,
     "metadata": {},
     "output_type": "execute_result"
    }
   ],
   "source": [
    "mergeDF['gender_encode'] = np.where(mergeDF['gender']=='M', 0, np.where(mergeDF['gender'] == 'F', 1,2))\n",
    "mergeDF"
   ]
  },
  {
   "cell_type": "code",
   "execution_count": 22,
   "id": "330fc91b",
   "metadata": {},
   "outputs": [],
   "source": [
    "from sklearn.preprocessing import StandardScaler\n",
    "ss = StandardScaler()"
   ]
  },
  {
   "cell_type": "code",
   "execution_count": 30,
   "id": "5aa4beab",
   "metadata": {},
   "outputs": [
    {
     "data": {
      "text/html": [
       "<div>\n",
       "<style scoped>\n",
       "    .dataframe tbody tr th:only-of-type {\n",
       "        vertical-align: middle;\n",
       "    }\n",
       "\n",
       "    .dataframe tbody tr th {\n",
       "        vertical-align: top;\n",
       "    }\n",
       "\n",
       "    .dataframe thead th {\n",
       "        text-align: right;\n",
       "    }\n",
       "</style>\n",
       "<table border=\"1\" class=\"dataframe\">\n",
       "  <thead>\n",
       "    <tr style=\"text-align: right;\">\n",
       "      <th></th>\n",
       "      <th>0</th>\n",
       "      <th>1</th>\n",
       "      <th>2</th>\n",
       "      <th>3</th>\n",
       "      <th>4</th>\n",
       "      <th>5</th>\n",
       "      <th>6</th>\n",
       "      <th>7</th>\n",
       "      <th>8</th>\n",
       "      <th>9</th>\n",
       "      <th>...</th>\n",
       "      <th>15</th>\n",
       "      <th>16</th>\n",
       "      <th>17</th>\n",
       "      <th>18</th>\n",
       "      <th>19</th>\n",
       "      <th>20</th>\n",
       "      <th>21</th>\n",
       "      <th>22</th>\n",
       "      <th>23</th>\n",
       "      <th>24</th>\n",
       "    </tr>\n",
       "  </thead>\n",
       "  <tbody>\n",
       "    <tr>\n",
       "      <th>0</th>\n",
       "      <td>-1.230488</td>\n",
       "      <td>0.305275</td>\n",
       "      <td>0.316911</td>\n",
       "      <td>-0.453489</td>\n",
       "      <td>0.274803</td>\n",
       "      <td>1.585800</td>\n",
       "      <td>-1.352218</td>\n",
       "      <td>-0.976632</td>\n",
       "      <td>-0.468545</td>\n",
       "      <td>0.578338</td>\n",
       "      <td>...</td>\n",
       "      <td>0.492730</td>\n",
       "      <td>0.339644</td>\n",
       "      <td>0.196280</td>\n",
       "      <td>0.650670</td>\n",
       "      <td>0.081163</td>\n",
       "      <td>-0.070019</td>\n",
       "      <td>0.707190</td>\n",
       "      <td>0.776362</td>\n",
       "      <td>0.117739</td>\n",
       "      <td>-0.842316</td>\n",
       "    </tr>\n",
       "    <tr>\n",
       "      <th>1</th>\n",
       "      <td>-0.827786</td>\n",
       "      <td>-0.389256</td>\n",
       "      <td>1.151419</td>\n",
       "      <td>-0.453489</td>\n",
       "      <td>0.620259</td>\n",
       "      <td>1.585800</td>\n",
       "      <td>-0.816084</td>\n",
       "      <td>-0.178736</td>\n",
       "      <td>0.025330</td>\n",
       "      <td>0.882792</td>\n",
       "      <td>...</td>\n",
       "      <td>1.267917</td>\n",
       "      <td>0.339644</td>\n",
       "      <td>1.042102</td>\n",
       "      <td>0.310075</td>\n",
       "      <td>-0.289214</td>\n",
       "      <td>-0.648872</td>\n",
       "      <td>0.000143</td>\n",
       "      <td>0.046908</td>\n",
       "      <td>-0.590416</td>\n",
       "      <td>2.969908</td>\n",
       "    </tr>\n",
       "    <tr>\n",
       "      <th>2</th>\n",
       "      <td>0.265262</td>\n",
       "      <td>1.138711</td>\n",
       "      <td>-0.517598</td>\n",
       "      <td>-0.106596</td>\n",
       "      <td>0.274803</td>\n",
       "      <td>0.302263</td>\n",
       "      <td>0.087812</td>\n",
       "      <td>0.144486</td>\n",
       "      <td>0.466734</td>\n",
       "      <td>-0.030569</td>\n",
       "      <td>...</td>\n",
       "      <td>-0.282457</td>\n",
       "      <td>0.339644</td>\n",
       "      <td>-0.649542</td>\n",
       "      <td>0.747983</td>\n",
       "      <td>0.614032</td>\n",
       "      <td>-0.070019</td>\n",
       "      <td>1.414237</td>\n",
       "      <td>1.505816</td>\n",
       "      <td>0.117739</td>\n",
       "      <td>1.063796</td>\n",
       "    </tr>\n",
       "    <tr>\n",
       "      <th>3</th>\n",
       "      <td>-1.748248</td>\n",
       "      <td>-0.250350</td>\n",
       "      <td>-0.517598</td>\n",
       "      <td>0.587190</td>\n",
       "      <td>-0.416109</td>\n",
       "      <td>0.302263</td>\n",
       "      <td>-0.497062</td>\n",
       "      <td>-1.293002</td>\n",
       "      <td>-0.799057</td>\n",
       "      <td>0.273885</td>\n",
       "      <td>...</td>\n",
       "      <td>0.492730</td>\n",
       "      <td>0.792722</td>\n",
       "      <td>1.042102</td>\n",
       "      <td>0.456044</td>\n",
       "      <td>0.284663</td>\n",
       "      <td>0.701783</td>\n",
       "      <td>0.707190</td>\n",
       "      <td>0.776362</td>\n",
       "      <td>0.825894</td>\n",
       "      <td>1.063796</td>\n",
       "    </tr>\n",
       "    <tr>\n",
       "      <th>4</th>\n",
       "      <td>-1.633190</td>\n",
       "      <td>0.351577</td>\n",
       "      <td>0.316911</td>\n",
       "      <td>-1.494167</td>\n",
       "      <td>1.311171</td>\n",
       "      <td>1.585800</td>\n",
       "      <td>-1.498436</td>\n",
       "      <td>0.205917</td>\n",
       "      <td>1.155888</td>\n",
       "      <td>0.578338</td>\n",
       "      <td>...</td>\n",
       "      <td>0.492730</td>\n",
       "      <td>0.339644</td>\n",
       "      <td>0.196280</td>\n",
       "      <td>0.650670</td>\n",
       "      <td>-0.528643</td>\n",
       "      <td>1.859487</td>\n",
       "      <td>-0.706904</td>\n",
       "      <td>0.776362</td>\n",
       "      <td>1.534049</td>\n",
       "      <td>1.063796</td>\n",
       "    </tr>\n",
       "    <tr>\n",
       "      <th>...</th>\n",
       "      <td>...</td>\n",
       "      <td>...</td>\n",
       "      <td>...</td>\n",
       "      <td>...</td>\n",
       "      <td>...</td>\n",
       "      <td>...</td>\n",
       "      <td>...</td>\n",
       "      <td>...</td>\n",
       "      <td>...</td>\n",
       "      <td>...</td>\n",
       "      <td>...</td>\n",
       "      <td>...</td>\n",
       "      <td>...</td>\n",
       "      <td>...</td>\n",
       "      <td>...</td>\n",
       "      <td>...</td>\n",
       "      <td>...</td>\n",
       "      <td>...</td>\n",
       "      <td>...</td>\n",
       "      <td>...</td>\n",
       "      <td>...</td>\n",
       "    </tr>\n",
       "    <tr>\n",
       "      <th>14815</th>\n",
       "      <td>0.840550</td>\n",
       "      <td>0.814597</td>\n",
       "      <td>-1.352107</td>\n",
       "      <td>-0.453489</td>\n",
       "      <td>0.620259</td>\n",
       "      <td>0.944032</td>\n",
       "      <td>-1.254739</td>\n",
       "      <td>-0.638761</td>\n",
       "      <td>0.150287</td>\n",
       "      <td>0.273885</td>\n",
       "      <td>...</td>\n",
       "      <td>-0.282457</td>\n",
       "      <td>0.037591</td>\n",
       "      <td>-1.072453</td>\n",
       "      <td>-0.517085</td>\n",
       "      <td>3.569356</td>\n",
       "      <td>0.508833</td>\n",
       "      <td>1.414237</td>\n",
       "      <td>-1.412001</td>\n",
       "      <td>0.825894</td>\n",
       "      <td>1.063796</td>\n",
       "    </tr>\n",
       "    <tr>\n",
       "      <th>14816</th>\n",
       "      <td>0.955608</td>\n",
       "      <td>0.351577</td>\n",
       "      <td>0.316911</td>\n",
       "      <td>0.587190</td>\n",
       "      <td>0.620259</td>\n",
       "      <td>-0.981273</td>\n",
       "      <td>0.451142</td>\n",
       "      <td>0.543789</td>\n",
       "      <td>1.465303</td>\n",
       "      <td>0.578338</td>\n",
       "      <td>...</td>\n",
       "      <td>0.492730</td>\n",
       "      <td>0.339644</td>\n",
       "      <td>0.196280</td>\n",
       "      <td>0.650670</td>\n",
       "      <td>-0.670208</td>\n",
       "      <td>-0.455921</td>\n",
       "      <td>-0.706904</td>\n",
       "      <td>0.776362</td>\n",
       "      <td>-0.590416</td>\n",
       "      <td>-0.842316</td>\n",
       "    </tr>\n",
       "    <tr>\n",
       "      <th>14817</th>\n",
       "      <td>0.955608</td>\n",
       "      <td>-0.435558</td>\n",
       "      <td>1.151419</td>\n",
       "      <td>-0.800381</td>\n",
       "      <td>-0.761565</td>\n",
       "      <td>-0.339505</td>\n",
       "      <td>0.236689</td>\n",
       "      <td>0.070769</td>\n",
       "      <td>0.196699</td>\n",
       "      <td>-0.943929</td>\n",
       "      <td>...</td>\n",
       "      <td>-1.057644</td>\n",
       "      <td>-1.472669</td>\n",
       "      <td>-0.353504</td>\n",
       "      <td>-0.322459</td>\n",
       "      <td>-0.807080</td>\n",
       "      <td>-0.648872</td>\n",
       "      <td>-1.413951</td>\n",
       "      <td>-0.682547</td>\n",
       "      <td>-0.590416</td>\n",
       "      <td>-0.842316</td>\n",
       "    </tr>\n",
       "    <tr>\n",
       "      <th>14818</th>\n",
       "      <td>-1.172959</td>\n",
       "      <td>-1.454202</td>\n",
       "      <td>0.316911</td>\n",
       "      <td>1.627868</td>\n",
       "      <td>-1.452477</td>\n",
       "      <td>0.302263</td>\n",
       "      <td>-0.178040</td>\n",
       "      <td>-1.514155</td>\n",
       "      <td>-1.305374</td>\n",
       "      <td>0.273885</td>\n",
       "      <td>...</td>\n",
       "      <td>0.492730</td>\n",
       "      <td>0.792722</td>\n",
       "      <td>1.042102</td>\n",
       "      <td>0.504701</td>\n",
       "      <td>-0.217123</td>\n",
       "      <td>0.701783</td>\n",
       "      <td>0.000143</td>\n",
       "      <td>0.776362</td>\n",
       "      <td>0.825894</td>\n",
       "      <td>-0.842316</td>\n",
       "    </tr>\n",
       "    <tr>\n",
       "      <th>14819</th>\n",
       "      <td>-0.540142</td>\n",
       "      <td>-0.157746</td>\n",
       "      <td>-0.517598</td>\n",
       "      <td>-0.453489</td>\n",
       "      <td>3.729364</td>\n",
       "      <td>-0.981273</td>\n",
       "      <td>-0.816084</td>\n",
       "      <td>1.219531</td>\n",
       "      <td>1.310595</td>\n",
       "      <td>3.013965</td>\n",
       "      <td>...</td>\n",
       "      <td>2.043104</td>\n",
       "      <td>1.547852</td>\n",
       "      <td>1.042102</td>\n",
       "      <td>0.261418</td>\n",
       "      <td>0.838767</td>\n",
       "      <td>1.280635</td>\n",
       "      <td>1.414237</td>\n",
       "      <td>0.046908</td>\n",
       "      <td>1.534049</td>\n",
       "      <td>1.063796</td>\n",
       "    </tr>\n",
       "  </tbody>\n",
       "</table>\n",
       "<p>14820 rows × 25 columns</p>\n",
       "</div>"
      ],
      "text/plain": [
       "             0         1         2         3         4         5         6   \\\n",
       "0     -1.230488  0.305275  0.316911 -0.453489  0.274803  1.585800 -1.352218   \n",
       "1     -0.827786 -0.389256  1.151419 -0.453489  0.620259  1.585800 -0.816084   \n",
       "2      0.265262  1.138711 -0.517598 -0.106596  0.274803  0.302263  0.087812   \n",
       "3     -1.748248 -0.250350 -0.517598  0.587190 -0.416109  0.302263 -0.497062   \n",
       "4     -1.633190  0.351577  0.316911 -1.494167  1.311171  1.585800 -1.498436   \n",
       "...         ...       ...       ...       ...       ...       ...       ...   \n",
       "14815  0.840550  0.814597 -1.352107 -0.453489  0.620259  0.944032 -1.254739   \n",
       "14816  0.955608  0.351577  0.316911  0.587190  0.620259 -0.981273  0.451142   \n",
       "14817  0.955608 -0.435558  1.151419 -0.800381 -0.761565 -0.339505  0.236689   \n",
       "14818 -1.172959 -1.454202  0.316911  1.627868 -1.452477  0.302263 -0.178040   \n",
       "14819 -0.540142 -0.157746 -0.517598 -0.453489  3.729364 -0.981273 -0.816084   \n",
       "\n",
       "             7         8         9   ...        15        16        17  \\\n",
       "0     -0.976632 -0.468545  0.578338  ...  0.492730  0.339644  0.196280   \n",
       "1     -0.178736  0.025330  0.882792  ...  1.267917  0.339644  1.042102   \n",
       "2      0.144486  0.466734 -0.030569  ... -0.282457  0.339644 -0.649542   \n",
       "3     -1.293002 -0.799057  0.273885  ...  0.492730  0.792722  1.042102   \n",
       "4      0.205917  1.155888  0.578338  ...  0.492730  0.339644  0.196280   \n",
       "...         ...       ...       ...  ...       ...       ...       ...   \n",
       "14815 -0.638761  0.150287  0.273885  ... -0.282457  0.037591 -1.072453   \n",
       "14816  0.543789  1.465303  0.578338  ...  0.492730  0.339644  0.196280   \n",
       "14817  0.070769  0.196699 -0.943929  ... -1.057644 -1.472669 -0.353504   \n",
       "14818 -1.514155 -1.305374  0.273885  ...  0.492730  0.792722  1.042102   \n",
       "14819  1.219531  1.310595  3.013965  ...  2.043104  1.547852  1.042102   \n",
       "\n",
       "             18        19        20        21        22        23        24  \n",
       "0      0.650670  0.081163 -0.070019  0.707190  0.776362  0.117739 -0.842316  \n",
       "1      0.310075 -0.289214 -0.648872  0.000143  0.046908 -0.590416  2.969908  \n",
       "2      0.747983  0.614032 -0.070019  1.414237  1.505816  0.117739  1.063796  \n",
       "3      0.456044  0.284663  0.701783  0.707190  0.776362  0.825894  1.063796  \n",
       "4      0.650670 -0.528643  1.859487 -0.706904  0.776362  1.534049  1.063796  \n",
       "...         ...       ...       ...       ...       ...       ...       ...  \n",
       "14815 -0.517085  3.569356  0.508833  1.414237 -1.412001  0.825894  1.063796  \n",
       "14816  0.650670 -0.670208 -0.455921 -0.706904  0.776362 -0.590416 -0.842316  \n",
       "14817 -0.322459 -0.807080 -0.648872 -1.413951 -0.682547 -0.590416 -0.842316  \n",
       "14818  0.504701 -0.217123  0.701783  0.000143  0.776362  0.825894 -0.842316  \n",
       "14819  0.261418  0.838767  1.280635  1.414237  0.046908  1.534049  1.063796  \n",
       "\n",
       "[14820 rows x 25 columns]"
      ]
     },
     "execution_count": 30,
     "metadata": {},
     "output_type": "execute_result"
    }
   ],
   "source": [
    "scaledDF = pd.DataFrame(ss.fit_transform(mergeDF.iloc[:,2:]))\n",
    "scaledDF"
   ]
  },
  {
   "cell_type": "code",
   "execution_count": 31,
   "id": "d3405d7e",
   "metadata": {},
   "outputs": [],
   "source": [
    "from sklearn.decomposition import PCA\n",
    "pca = PCA()"
   ]
  },
  {
   "cell_type": "code",
   "execution_count": 32,
   "id": "f64a1b45",
   "metadata": {},
   "outputs": [
    {
     "data": {
      "text/plain": [
       "PCA()"
      ]
     },
     "execution_count": 32,
     "metadata": {},
     "output_type": "execute_result"
    }
   ],
   "source": [
    "pca.set_params(n_components = None)\n",
    "pca.fit(scaledDF)"
   ]
  },
  {
   "cell_type": "code",
   "execution_count": 33,
   "id": "1063491f",
   "metadata": {},
   "outputs": [
    {
     "data": {
      "text/plain": [
       "array([2.97048785e-01, 1.25851418e-01, 1.02472991e-01, 8.61348898e-02,\n",
       "       8.12626492e-02, 4.71114165e-02, 4.46920181e-02, 3.58557617e-02,\n",
       "       3.41681723e-02, 2.82355801e-02, 2.68438825e-02, 1.97084254e-02,\n",
       "       1.59533917e-02, 1.49934666e-02, 1.07067717e-02, 9.77178461e-03,\n",
       "       5.36986268e-03, 4.96523329e-03, 3.00844780e-03, 2.52966933e-03,\n",
       "       1.39911457e-03, 1.17918505e-03, 7.37082333e-04, 4.31235893e-33,\n",
       "       9.94794712e-34])"
      ]
     },
     "execution_count": 33,
     "metadata": {},
     "output_type": "execute_result"
    }
   ],
   "source": [
    "pca.explained_variance_ratio_"
   ]
  },
  {
   "cell_type": "code",
   "execution_count": 79,
   "id": "c94fc4ad",
   "metadata": {},
   "outputs": [],
   "source": [
    "import plotly.express as px\n",
    "import plotly.graph_objects as go\n",
    "from plotly.subplots import make_subplots"
   ]
  },
  {
   "cell_type": "code",
   "execution_count": 73,
   "id": "c83e2b79",
   "metadata": {},
   "outputs": [
    {
     "data": {
      "application/vnd.plotly.v1+json": {
       "config": {
        "plotlyServerURL": "https://plot.ly"
       },
       "data": [
        {
         "marker": {
          "line": {
           "color": "black",
           "width": 1
          }
         },
         "type": "bar",
         "x": [
          0,
          1,
          2,
          3,
          4,
          5,
          6,
          7,
          8,
          9,
          10,
          11,
          12,
          13,
          14,
          15,
          16,
          17,
          18,
          19,
          20,
          21,
          22,
          23,
          24
         ],
         "y": [
          0.2970487853781211,
          0.12585141806769712,
          0.10247299140329447,
          0.08613488978673707,
          0.08126264920766381,
          0.04711141654141263,
          0.04469201806310644,
          0.03585576167447913,
          0.034168172254681675,
          0.028235580093503788,
          0.02684388250591828
         ]
        },
        {
         "marker": {
          "line": {
           "color": "black",
           "width": 1
          }
         },
         "type": "scatter",
         "x": [
          0,
          1,
          2,
          3,
          4,
          5,
          6,
          7,
          8,
          9,
          10,
          11,
          12,
          13,
          14,
          15,
          16,
          17,
          18,
          19,
          20,
          21,
          22,
          23,
          24
         ],
         "y": [
          0.2970487853781211,
          0.42290020344581825,
          0.5253731948491127,
          0.6115080846358498,
          0.6927707338435136,
          0.7398821503849262,
          0.7845741684480326,
          0.8204299301225118,
          0.8545981023771935,
          0.8828336824706973,
          0.9096775649766156
         ]
        }
       ],
       "layout": {
        "bargap": 0.2,
        "colorway": [
         "#00704A",
         "#00704A"
        ],
        "legend": {
         "bgcolor": "#DFBA8F",
         "bordercolor": "black",
         "borderwidth": 2,
         "font": {
          "color": "black"
         }
        },
        "plot_bgcolor": "#B8A085",
        "showlegend": false,
        "template": {
         "data": {
          "bar": [
           {
            "error_x": {
             "color": "#2a3f5f"
            },
            "error_y": {
             "color": "#2a3f5f"
            },
            "marker": {
             "line": {
              "color": "#E5ECF6",
              "width": 0.5
             },
             "pattern": {
              "fillmode": "overlay",
              "size": 10,
              "solidity": 0.2
             }
            },
            "type": "bar"
           }
          ],
          "barpolar": [
           {
            "marker": {
             "line": {
              "color": "#E5ECF6",
              "width": 0.5
             },
             "pattern": {
              "fillmode": "overlay",
              "size": 10,
              "solidity": 0.2
             }
            },
            "type": "barpolar"
           }
          ],
          "carpet": [
           {
            "aaxis": {
             "endlinecolor": "#2a3f5f",
             "gridcolor": "white",
             "linecolor": "white",
             "minorgridcolor": "white",
             "startlinecolor": "#2a3f5f"
            },
            "baxis": {
             "endlinecolor": "#2a3f5f",
             "gridcolor": "white",
             "linecolor": "white",
             "minorgridcolor": "white",
             "startlinecolor": "#2a3f5f"
            },
            "type": "carpet"
           }
          ],
          "choropleth": [
           {
            "colorbar": {
             "outlinewidth": 0,
             "ticks": ""
            },
            "type": "choropleth"
           }
          ],
          "contour": [
           {
            "colorbar": {
             "outlinewidth": 0,
             "ticks": ""
            },
            "colorscale": [
             [
              0,
              "#0d0887"
             ],
             [
              0.1111111111111111,
              "#46039f"
             ],
             [
              0.2222222222222222,
              "#7201a8"
             ],
             [
              0.3333333333333333,
              "#9c179e"
             ],
             [
              0.4444444444444444,
              "#bd3786"
             ],
             [
              0.5555555555555556,
              "#d8576b"
             ],
             [
              0.6666666666666666,
              "#ed7953"
             ],
             [
              0.7777777777777778,
              "#fb9f3a"
             ],
             [
              0.8888888888888888,
              "#fdca26"
             ],
             [
              1,
              "#f0f921"
             ]
            ],
            "type": "contour"
           }
          ],
          "contourcarpet": [
           {
            "colorbar": {
             "outlinewidth": 0,
             "ticks": ""
            },
            "type": "contourcarpet"
           }
          ],
          "heatmap": [
           {
            "colorbar": {
             "outlinewidth": 0,
             "ticks": ""
            },
            "colorscale": [
             [
              0,
              "#0d0887"
             ],
             [
              0.1111111111111111,
              "#46039f"
             ],
             [
              0.2222222222222222,
              "#7201a8"
             ],
             [
              0.3333333333333333,
              "#9c179e"
             ],
             [
              0.4444444444444444,
              "#bd3786"
             ],
             [
              0.5555555555555556,
              "#d8576b"
             ],
             [
              0.6666666666666666,
              "#ed7953"
             ],
             [
              0.7777777777777778,
              "#fb9f3a"
             ],
             [
              0.8888888888888888,
              "#fdca26"
             ],
             [
              1,
              "#f0f921"
             ]
            ],
            "type": "heatmap"
           }
          ],
          "heatmapgl": [
           {
            "colorbar": {
             "outlinewidth": 0,
             "ticks": ""
            },
            "colorscale": [
             [
              0,
              "#0d0887"
             ],
             [
              0.1111111111111111,
              "#46039f"
             ],
             [
              0.2222222222222222,
              "#7201a8"
             ],
             [
              0.3333333333333333,
              "#9c179e"
             ],
             [
              0.4444444444444444,
              "#bd3786"
             ],
             [
              0.5555555555555556,
              "#d8576b"
             ],
             [
              0.6666666666666666,
              "#ed7953"
             ],
             [
              0.7777777777777778,
              "#fb9f3a"
             ],
             [
              0.8888888888888888,
              "#fdca26"
             ],
             [
              1,
              "#f0f921"
             ]
            ],
            "type": "heatmapgl"
           }
          ],
          "histogram": [
           {
            "marker": {
             "pattern": {
              "fillmode": "overlay",
              "size": 10,
              "solidity": 0.2
             }
            },
            "type": "histogram"
           }
          ],
          "histogram2d": [
           {
            "colorbar": {
             "outlinewidth": 0,
             "ticks": ""
            },
            "colorscale": [
             [
              0,
              "#0d0887"
             ],
             [
              0.1111111111111111,
              "#46039f"
             ],
             [
              0.2222222222222222,
              "#7201a8"
             ],
             [
              0.3333333333333333,
              "#9c179e"
             ],
             [
              0.4444444444444444,
              "#bd3786"
             ],
             [
              0.5555555555555556,
              "#d8576b"
             ],
             [
              0.6666666666666666,
              "#ed7953"
             ],
             [
              0.7777777777777778,
              "#fb9f3a"
             ],
             [
              0.8888888888888888,
              "#fdca26"
             ],
             [
              1,
              "#f0f921"
             ]
            ],
            "type": "histogram2d"
           }
          ],
          "histogram2dcontour": [
           {
            "colorbar": {
             "outlinewidth": 0,
             "ticks": ""
            },
            "colorscale": [
             [
              0,
              "#0d0887"
             ],
             [
              0.1111111111111111,
              "#46039f"
             ],
             [
              0.2222222222222222,
              "#7201a8"
             ],
             [
              0.3333333333333333,
              "#9c179e"
             ],
             [
              0.4444444444444444,
              "#bd3786"
             ],
             [
              0.5555555555555556,
              "#d8576b"
             ],
             [
              0.6666666666666666,
              "#ed7953"
             ],
             [
              0.7777777777777778,
              "#fb9f3a"
             ],
             [
              0.8888888888888888,
              "#fdca26"
             ],
             [
              1,
              "#f0f921"
             ]
            ],
            "type": "histogram2dcontour"
           }
          ],
          "mesh3d": [
           {
            "colorbar": {
             "outlinewidth": 0,
             "ticks": ""
            },
            "type": "mesh3d"
           }
          ],
          "parcoords": [
           {
            "line": {
             "colorbar": {
              "outlinewidth": 0,
              "ticks": ""
             }
            },
            "type": "parcoords"
           }
          ],
          "pie": [
           {
            "automargin": true,
            "type": "pie"
           }
          ],
          "scatter": [
           {
            "fillpattern": {
             "fillmode": "overlay",
             "size": 10,
             "solidity": 0.2
            },
            "type": "scatter"
           }
          ],
          "scatter3d": [
           {
            "line": {
             "colorbar": {
              "outlinewidth": 0,
              "ticks": ""
             }
            },
            "marker": {
             "colorbar": {
              "outlinewidth": 0,
              "ticks": ""
             }
            },
            "type": "scatter3d"
           }
          ],
          "scattercarpet": [
           {
            "marker": {
             "colorbar": {
              "outlinewidth": 0,
              "ticks": ""
             }
            },
            "type": "scattercarpet"
           }
          ],
          "scattergeo": [
           {
            "marker": {
             "colorbar": {
              "outlinewidth": 0,
              "ticks": ""
             }
            },
            "type": "scattergeo"
           }
          ],
          "scattergl": [
           {
            "marker": {
             "colorbar": {
              "outlinewidth": 0,
              "ticks": ""
             }
            },
            "type": "scattergl"
           }
          ],
          "scattermapbox": [
           {
            "marker": {
             "colorbar": {
              "outlinewidth": 0,
              "ticks": ""
             }
            },
            "type": "scattermapbox"
           }
          ],
          "scatterpolar": [
           {
            "marker": {
             "colorbar": {
              "outlinewidth": 0,
              "ticks": ""
             }
            },
            "type": "scatterpolar"
           }
          ],
          "scatterpolargl": [
           {
            "marker": {
             "colorbar": {
              "outlinewidth": 0,
              "ticks": ""
             }
            },
            "type": "scatterpolargl"
           }
          ],
          "scatterternary": [
           {
            "marker": {
             "colorbar": {
              "outlinewidth": 0,
              "ticks": ""
             }
            },
            "type": "scatterternary"
           }
          ],
          "surface": [
           {
            "colorbar": {
             "outlinewidth": 0,
             "ticks": ""
            },
            "colorscale": [
             [
              0,
              "#0d0887"
             ],
             [
              0.1111111111111111,
              "#46039f"
             ],
             [
              0.2222222222222222,
              "#7201a8"
             ],
             [
              0.3333333333333333,
              "#9c179e"
             ],
             [
              0.4444444444444444,
              "#bd3786"
             ],
             [
              0.5555555555555556,
              "#d8576b"
             ],
             [
              0.6666666666666666,
              "#ed7953"
             ],
             [
              0.7777777777777778,
              "#fb9f3a"
             ],
             [
              0.8888888888888888,
              "#fdca26"
             ],
             [
              1,
              "#f0f921"
             ]
            ],
            "type": "surface"
           }
          ],
          "table": [
           {
            "cells": {
             "fill": {
              "color": "#EBF0F8"
             },
             "line": {
              "color": "white"
             }
            },
            "header": {
             "fill": {
              "color": "#C8D4E3"
             },
             "line": {
              "color": "white"
             }
            },
            "type": "table"
           }
          ]
         },
         "layout": {
          "annotationdefaults": {
           "arrowcolor": "#2a3f5f",
           "arrowhead": 0,
           "arrowwidth": 1
          },
          "autotypenumbers": "strict",
          "coloraxis": {
           "colorbar": {
            "outlinewidth": 0,
            "ticks": ""
           }
          },
          "colorscale": {
           "diverging": [
            [
             0,
             "#8e0152"
            ],
            [
             0.1,
             "#c51b7d"
            ],
            [
             0.2,
             "#de77ae"
            ],
            [
             0.3,
             "#f1b6da"
            ],
            [
             0.4,
             "#fde0ef"
            ],
            [
             0.5,
             "#f7f7f7"
            ],
            [
             0.6,
             "#e6f5d0"
            ],
            [
             0.7,
             "#b8e186"
            ],
            [
             0.8,
             "#7fbc41"
            ],
            [
             0.9,
             "#4d9221"
            ],
            [
             1,
             "#276419"
            ]
           ],
           "sequential": [
            [
             0,
             "#0d0887"
            ],
            [
             0.1111111111111111,
             "#46039f"
            ],
            [
             0.2222222222222222,
             "#7201a8"
            ],
            [
             0.3333333333333333,
             "#9c179e"
            ],
            [
             0.4444444444444444,
             "#bd3786"
            ],
            [
             0.5555555555555556,
             "#d8576b"
            ],
            [
             0.6666666666666666,
             "#ed7953"
            ],
            [
             0.7777777777777778,
             "#fb9f3a"
            ],
            [
             0.8888888888888888,
             "#fdca26"
            ],
            [
             1,
             "#f0f921"
            ]
           ],
           "sequentialminus": [
            [
             0,
             "#0d0887"
            ],
            [
             0.1111111111111111,
             "#46039f"
            ],
            [
             0.2222222222222222,
             "#7201a8"
            ],
            [
             0.3333333333333333,
             "#9c179e"
            ],
            [
             0.4444444444444444,
             "#bd3786"
            ],
            [
             0.5555555555555556,
             "#d8576b"
            ],
            [
             0.6666666666666666,
             "#ed7953"
            ],
            [
             0.7777777777777778,
             "#fb9f3a"
            ],
            [
             0.8888888888888888,
             "#fdca26"
            ],
            [
             1,
             "#f0f921"
            ]
           ]
          },
          "colorway": [
           "#636efa",
           "#EF553B",
           "#00cc96",
           "#ab63fa",
           "#FFA15A",
           "#19d3f3",
           "#FF6692",
           "#B6E880",
           "#FF97FF",
           "#FECB52"
          ],
          "font": {
           "color": "#2a3f5f"
          },
          "geo": {
           "bgcolor": "white",
           "lakecolor": "white",
           "landcolor": "#E5ECF6",
           "showlakes": true,
           "showland": true,
           "subunitcolor": "white"
          },
          "hoverlabel": {
           "align": "left"
          },
          "hovermode": "closest",
          "mapbox": {
           "style": "light"
          },
          "paper_bgcolor": "white",
          "plot_bgcolor": "#E5ECF6",
          "polar": {
           "angularaxis": {
            "gridcolor": "white",
            "linecolor": "white",
            "ticks": ""
           },
           "bgcolor": "#E5ECF6",
           "radialaxis": {
            "gridcolor": "white",
            "linecolor": "white",
            "ticks": ""
           }
          },
          "scene": {
           "xaxis": {
            "backgroundcolor": "#E5ECF6",
            "gridcolor": "white",
            "gridwidth": 2,
            "linecolor": "white",
            "showbackground": true,
            "ticks": "",
            "zerolinecolor": "white"
           },
           "yaxis": {
            "backgroundcolor": "#E5ECF6",
            "gridcolor": "white",
            "gridwidth": 2,
            "linecolor": "white",
            "showbackground": true,
            "ticks": "",
            "zerolinecolor": "white"
           },
           "zaxis": {
            "backgroundcolor": "#E5ECF6",
            "gridcolor": "white",
            "gridwidth": 2,
            "linecolor": "white",
            "showbackground": true,
            "ticks": "",
            "zerolinecolor": "white"
           }
          },
          "shapedefaults": {
           "line": {
            "color": "#2a3f5f"
           }
          },
          "ternary": {
           "aaxis": {
            "gridcolor": "white",
            "linecolor": "white",
            "ticks": ""
           },
           "baxis": {
            "gridcolor": "white",
            "linecolor": "white",
            "ticks": ""
           },
           "bgcolor": "#E5ECF6",
           "caxis": {
            "gridcolor": "white",
            "linecolor": "white",
            "ticks": ""
           }
          },
          "title": {
           "x": 0.05
          },
          "xaxis": {
           "automargin": true,
           "gridcolor": "white",
           "linecolor": "white",
           "ticks": "",
           "title": {
            "standoff": 15
           },
           "zerolinecolor": "white",
           "zerolinewidth": 2
          },
          "yaxis": {
           "automargin": true,
           "gridcolor": "white",
           "linecolor": "white",
           "ticks": "",
           "title": {
            "standoff": 15
           },
           "zerolinecolor": "white",
           "zerolinewidth": 2
          }
         }
        },
        "title": {
         "font": {
          "size": 25
         },
         "text": "Principal Component Analysis <br> Explained Variance",
         "x": 0.5
        },
        "xaxis": {
         "linecolor": "black",
         "tickfont": {
          "size": 16
         },
         "title": {
          "font": {
           "size": 25
          },
          "text": "Principal Components"
         }
        },
        "yaxis": {
         "linecolor": "black",
         "tickfont": {
          "size": 16
         },
         "title": {
          "font": {
           "size": 25
          },
          "text": "Explained Variance"
         }
        }
       }
      },
      "text/html": [
       "<div>                            <div id=\"8949cc05-cd49-4d5f-96a2-d97ec0b17bd0\" class=\"plotly-graph-div\" style=\"height:525px; width:100%;\"></div>            <script type=\"text/javascript\">                require([\"plotly\"], function(Plotly) {                    window.PLOTLYENV=window.PLOTLYENV || {};                                    if (document.getElementById(\"8949cc05-cd49-4d5f-96a2-d97ec0b17bd0\")) {                    Plotly.newPlot(                        \"8949cc05-cd49-4d5f-96a2-d97ec0b17bd0\",                        [{\"x\":[0,1,2,3,4,5,6,7,8,9,10,11,12,13,14,15,16,17,18,19,20,21,22,23,24],\"y\":[0.2970487853781211,0.12585141806769712,0.10247299140329447,0.08613488978673707,0.08126264920766381,0.04711141654141263,0.04469201806310644,0.03585576167447913,0.034168172254681675,0.028235580093503788,0.02684388250591828],\"type\":\"bar\",\"marker\":{\"line\":{\"color\":\"black\",\"width\":1}}},{\"x\":[0,1,2,3,4,5,6,7,8,9,10,11,12,13,14,15,16,17,18,19,20,21,22,23,24],\"y\":[0.2970487853781211,0.42290020344581825,0.5253731948491127,0.6115080846358498,0.6927707338435136,0.7398821503849262,0.7845741684480326,0.8204299301225118,0.8545981023771935,0.8828336824706973,0.9096775649766156],\"type\":\"scatter\",\"marker\":{\"line\":{\"color\":\"black\",\"width\":1}}}],                        {\"template\":{\"data\":{\"histogram2dcontour\":[{\"type\":\"histogram2dcontour\",\"colorbar\":{\"outlinewidth\":0,\"ticks\":\"\"},\"colorscale\":[[0.0,\"#0d0887\"],[0.1111111111111111,\"#46039f\"],[0.2222222222222222,\"#7201a8\"],[0.3333333333333333,\"#9c179e\"],[0.4444444444444444,\"#bd3786\"],[0.5555555555555556,\"#d8576b\"],[0.6666666666666666,\"#ed7953\"],[0.7777777777777778,\"#fb9f3a\"],[0.8888888888888888,\"#fdca26\"],[1.0,\"#f0f921\"]]}],\"choropleth\":[{\"type\":\"choropleth\",\"colorbar\":{\"outlinewidth\":0,\"ticks\":\"\"}}],\"histogram2d\":[{\"type\":\"histogram2d\",\"colorbar\":{\"outlinewidth\":0,\"ticks\":\"\"},\"colorscale\":[[0.0,\"#0d0887\"],[0.1111111111111111,\"#46039f\"],[0.2222222222222222,\"#7201a8\"],[0.3333333333333333,\"#9c179e\"],[0.4444444444444444,\"#bd3786\"],[0.5555555555555556,\"#d8576b\"],[0.6666666666666666,\"#ed7953\"],[0.7777777777777778,\"#fb9f3a\"],[0.8888888888888888,\"#fdca26\"],[1.0,\"#f0f921\"]]}],\"heatmap\":[{\"type\":\"heatmap\",\"colorbar\":{\"outlinewidth\":0,\"ticks\":\"\"},\"colorscale\":[[0.0,\"#0d0887\"],[0.1111111111111111,\"#46039f\"],[0.2222222222222222,\"#7201a8\"],[0.3333333333333333,\"#9c179e\"],[0.4444444444444444,\"#bd3786\"],[0.5555555555555556,\"#d8576b\"],[0.6666666666666666,\"#ed7953\"],[0.7777777777777778,\"#fb9f3a\"],[0.8888888888888888,\"#fdca26\"],[1.0,\"#f0f921\"]]}],\"heatmapgl\":[{\"type\":\"heatmapgl\",\"colorbar\":{\"outlinewidth\":0,\"ticks\":\"\"},\"colorscale\":[[0.0,\"#0d0887\"],[0.1111111111111111,\"#46039f\"],[0.2222222222222222,\"#7201a8\"],[0.3333333333333333,\"#9c179e\"],[0.4444444444444444,\"#bd3786\"],[0.5555555555555556,\"#d8576b\"],[0.6666666666666666,\"#ed7953\"],[0.7777777777777778,\"#fb9f3a\"],[0.8888888888888888,\"#fdca26\"],[1.0,\"#f0f921\"]]}],\"contourcarpet\":[{\"type\":\"contourcarpet\",\"colorbar\":{\"outlinewidth\":0,\"ticks\":\"\"}}],\"contour\":[{\"type\":\"contour\",\"colorbar\":{\"outlinewidth\":0,\"ticks\":\"\"},\"colorscale\":[[0.0,\"#0d0887\"],[0.1111111111111111,\"#46039f\"],[0.2222222222222222,\"#7201a8\"],[0.3333333333333333,\"#9c179e\"],[0.4444444444444444,\"#bd3786\"],[0.5555555555555556,\"#d8576b\"],[0.6666666666666666,\"#ed7953\"],[0.7777777777777778,\"#fb9f3a\"],[0.8888888888888888,\"#fdca26\"],[1.0,\"#f0f921\"]]}],\"surface\":[{\"type\":\"surface\",\"colorbar\":{\"outlinewidth\":0,\"ticks\":\"\"},\"colorscale\":[[0.0,\"#0d0887\"],[0.1111111111111111,\"#46039f\"],[0.2222222222222222,\"#7201a8\"],[0.3333333333333333,\"#9c179e\"],[0.4444444444444444,\"#bd3786\"],[0.5555555555555556,\"#d8576b\"],[0.6666666666666666,\"#ed7953\"],[0.7777777777777778,\"#fb9f3a\"],[0.8888888888888888,\"#fdca26\"],[1.0,\"#f0f921\"]]}],\"mesh3d\":[{\"type\":\"mesh3d\",\"colorbar\":{\"outlinewidth\":0,\"ticks\":\"\"}}],\"scatter\":[{\"fillpattern\":{\"fillmode\":\"overlay\",\"size\":10,\"solidity\":0.2},\"type\":\"scatter\"}],\"parcoords\":[{\"type\":\"parcoords\",\"line\":{\"colorbar\":{\"outlinewidth\":0,\"ticks\":\"\"}}}],\"scatterpolargl\":[{\"type\":\"scatterpolargl\",\"marker\":{\"colorbar\":{\"outlinewidth\":0,\"ticks\":\"\"}}}],\"bar\":[{\"error_x\":{\"color\":\"#2a3f5f\"},\"error_y\":{\"color\":\"#2a3f5f\"},\"marker\":{\"line\":{\"color\":\"#E5ECF6\",\"width\":0.5},\"pattern\":{\"fillmode\":\"overlay\",\"size\":10,\"solidity\":0.2}},\"type\":\"bar\"}],\"scattergeo\":[{\"type\":\"scattergeo\",\"marker\":{\"colorbar\":{\"outlinewidth\":0,\"ticks\":\"\"}}}],\"scatterpolar\":[{\"type\":\"scatterpolar\",\"marker\":{\"colorbar\":{\"outlinewidth\":0,\"ticks\":\"\"}}}],\"histogram\":[{\"marker\":{\"pattern\":{\"fillmode\":\"overlay\",\"size\":10,\"solidity\":0.2}},\"type\":\"histogram\"}],\"scattergl\":[{\"type\":\"scattergl\",\"marker\":{\"colorbar\":{\"outlinewidth\":0,\"ticks\":\"\"}}}],\"scatter3d\":[{\"type\":\"scatter3d\",\"line\":{\"colorbar\":{\"outlinewidth\":0,\"ticks\":\"\"}},\"marker\":{\"colorbar\":{\"outlinewidth\":0,\"ticks\":\"\"}}}],\"scattermapbox\":[{\"type\":\"scattermapbox\",\"marker\":{\"colorbar\":{\"outlinewidth\":0,\"ticks\":\"\"}}}],\"scatterternary\":[{\"type\":\"scatterternary\",\"marker\":{\"colorbar\":{\"outlinewidth\":0,\"ticks\":\"\"}}}],\"scattercarpet\":[{\"type\":\"scattercarpet\",\"marker\":{\"colorbar\":{\"outlinewidth\":0,\"ticks\":\"\"}}}],\"carpet\":[{\"aaxis\":{\"endlinecolor\":\"#2a3f5f\",\"gridcolor\":\"white\",\"linecolor\":\"white\",\"minorgridcolor\":\"white\",\"startlinecolor\":\"#2a3f5f\"},\"baxis\":{\"endlinecolor\":\"#2a3f5f\",\"gridcolor\":\"white\",\"linecolor\":\"white\",\"minorgridcolor\":\"white\",\"startlinecolor\":\"#2a3f5f\"},\"type\":\"carpet\"}],\"table\":[{\"cells\":{\"fill\":{\"color\":\"#EBF0F8\"},\"line\":{\"color\":\"white\"}},\"header\":{\"fill\":{\"color\":\"#C8D4E3\"},\"line\":{\"color\":\"white\"}},\"type\":\"table\"}],\"barpolar\":[{\"marker\":{\"line\":{\"color\":\"#E5ECF6\",\"width\":0.5},\"pattern\":{\"fillmode\":\"overlay\",\"size\":10,\"solidity\":0.2}},\"type\":\"barpolar\"}],\"pie\":[{\"automargin\":true,\"type\":\"pie\"}]},\"layout\":{\"autotypenumbers\":\"strict\",\"colorway\":[\"#636efa\",\"#EF553B\",\"#00cc96\",\"#ab63fa\",\"#FFA15A\",\"#19d3f3\",\"#FF6692\",\"#B6E880\",\"#FF97FF\",\"#FECB52\"],\"font\":{\"color\":\"#2a3f5f\"},\"hovermode\":\"closest\",\"hoverlabel\":{\"align\":\"left\"},\"paper_bgcolor\":\"white\",\"plot_bgcolor\":\"#E5ECF6\",\"polar\":{\"bgcolor\":\"#E5ECF6\",\"angularaxis\":{\"gridcolor\":\"white\",\"linecolor\":\"white\",\"ticks\":\"\"},\"radialaxis\":{\"gridcolor\":\"white\",\"linecolor\":\"white\",\"ticks\":\"\"}},\"ternary\":{\"bgcolor\":\"#E5ECF6\",\"aaxis\":{\"gridcolor\":\"white\",\"linecolor\":\"white\",\"ticks\":\"\"},\"baxis\":{\"gridcolor\":\"white\",\"linecolor\":\"white\",\"ticks\":\"\"},\"caxis\":{\"gridcolor\":\"white\",\"linecolor\":\"white\",\"ticks\":\"\"}},\"coloraxis\":{\"colorbar\":{\"outlinewidth\":0,\"ticks\":\"\"}},\"colorscale\":{\"sequential\":[[0.0,\"#0d0887\"],[0.1111111111111111,\"#46039f\"],[0.2222222222222222,\"#7201a8\"],[0.3333333333333333,\"#9c179e\"],[0.4444444444444444,\"#bd3786\"],[0.5555555555555556,\"#d8576b\"],[0.6666666666666666,\"#ed7953\"],[0.7777777777777778,\"#fb9f3a\"],[0.8888888888888888,\"#fdca26\"],[1.0,\"#f0f921\"]],\"sequentialminus\":[[0.0,\"#0d0887\"],[0.1111111111111111,\"#46039f\"],[0.2222222222222222,\"#7201a8\"],[0.3333333333333333,\"#9c179e\"],[0.4444444444444444,\"#bd3786\"],[0.5555555555555556,\"#d8576b\"],[0.6666666666666666,\"#ed7953\"],[0.7777777777777778,\"#fb9f3a\"],[0.8888888888888888,\"#fdca26\"],[1.0,\"#f0f921\"]],\"diverging\":[[0,\"#8e0152\"],[0.1,\"#c51b7d\"],[0.2,\"#de77ae\"],[0.3,\"#f1b6da\"],[0.4,\"#fde0ef\"],[0.5,\"#f7f7f7\"],[0.6,\"#e6f5d0\"],[0.7,\"#b8e186\"],[0.8,\"#7fbc41\"],[0.9,\"#4d9221\"],[1,\"#276419\"]]},\"xaxis\":{\"gridcolor\":\"white\",\"linecolor\":\"white\",\"ticks\":\"\",\"title\":{\"standoff\":15},\"zerolinecolor\":\"white\",\"automargin\":true,\"zerolinewidth\":2},\"yaxis\":{\"gridcolor\":\"white\",\"linecolor\":\"white\",\"ticks\":\"\",\"title\":{\"standoff\":15},\"zerolinecolor\":\"white\",\"automargin\":true,\"zerolinewidth\":2},\"scene\":{\"xaxis\":{\"backgroundcolor\":\"#E5ECF6\",\"gridcolor\":\"white\",\"linecolor\":\"white\",\"showbackground\":true,\"ticks\":\"\",\"zerolinecolor\":\"white\",\"gridwidth\":2},\"yaxis\":{\"backgroundcolor\":\"#E5ECF6\",\"gridcolor\":\"white\",\"linecolor\":\"white\",\"showbackground\":true,\"ticks\":\"\",\"zerolinecolor\":\"white\",\"gridwidth\":2},\"zaxis\":{\"backgroundcolor\":\"#E5ECF6\",\"gridcolor\":\"white\",\"linecolor\":\"white\",\"showbackground\":true,\"ticks\":\"\",\"zerolinecolor\":\"white\",\"gridwidth\":2}},\"shapedefaults\":{\"line\":{\"color\":\"#2a3f5f\"}},\"annotationdefaults\":{\"arrowcolor\":\"#2a3f5f\",\"arrowhead\":0,\"arrowwidth\":1},\"geo\":{\"bgcolor\":\"white\",\"landcolor\":\"#E5ECF6\",\"subunitcolor\":\"white\",\"showland\":true,\"showlakes\":true,\"lakecolor\":\"white\"},\"title\":{\"x\":0.05},\"mapbox\":{\"style\":\"light\"}}},\"title\":{\"text\":\"Principal Component Analysis <br> Explained Variance\",\"x\":0.5,\"font\":{\"size\":25}},\"yaxis\":{\"tickfont\":{\"size\":16},\"title\":{\"text\":\"Explained Variance\",\"font\":{\"size\":25}},\"linecolor\":\"black\"},\"xaxis\":{\"tickfont\":{\"size\":16},\"title\":{\"text\":\"Principal Components\",\"font\":{\"size\":25}},\"linecolor\":\"black\"},\"legend\":{\"font\":{\"color\":\"black\"},\"bgcolor\":\"#DFBA8F\",\"bordercolor\":\"black\",\"borderwidth\":2},\"colorway\":[\"#00704A\",\"#00704A\"],\"showlegend\":false,\"plot_bgcolor\":\"#B8A085\",\"bargap\":0.2},                        {\"responsive\": true}                    ).then(function(){\n",
       "                            \n",
       "var gd = document.getElementById('8949cc05-cd49-4d5f-96a2-d97ec0b17bd0');\n",
       "var x = new MutationObserver(function (mutations, observer) {{\n",
       "        var display = window.getComputedStyle(gd).display;\n",
       "        if (!display || display === 'none') {{\n",
       "            console.log([gd, 'removed!']);\n",
       "            Plotly.purge(gd);\n",
       "            observer.disconnect();\n",
       "        }}\n",
       "}});\n",
       "\n",
       "// Listen for the removal of the full notebook cells\n",
       "var notebookContainer = gd.closest('#notebook-container');\n",
       "if (notebookContainer) {{\n",
       "    x.observe(notebookContainer, {childList: true});\n",
       "}}\n",
       "\n",
       "// Listen for the clearing of the current output cell\n",
       "var outputEl = gd.closest('.output');\n",
       "if (outputEl) {{\n",
       "    x.observe(outputEl, {childList: true});\n",
       "}}\n",
       "\n",
       "                        })                };                });            </script>        </div>"
      ]
     },
     "metadata": {},
     "output_type": "display_data"
    }
   ],
   "source": [
    "fig = go.Figure()\n",
    "fig.add_trace(go.Bar(x = list(range(25)), y = pca.explained_variance_ratio_))\n",
    "fig.add_trace(go.Scatter(x= list(range(25)), y=np.cumsum(pca.explained_variance_ratio_)))\n",
    "fig.update_layout(\n",
    "    colorway = [color1, color1],\n",
    "    showlegend= False,\n",
    "    title = 'Principal Component Analysis <br> Explained Variance',\n",
    "    xaxis_title = 'Principal Components',\n",
    "    yaxis_title = 'Explained Variance',\n",
    "    title_x=0.5,\n",
    "    plot_bgcolor = backgroundColor,\n",
    "    title_font = dict(size = 25),\n",
    "    bargap = 0.2,\n",
    "    yaxis = dict(\n",
    "        tickfont = dict(size=16),\n",
    "        titlefont = dict(size = 25),\n",
    "        linecolor = 'black'     \n",
    "    ),\n",
    "    xaxis = dict(\n",
    "        tickfont = dict(size=16),\n",
    "        titlefont = dict(size =25),\n",
    "        linecolor = 'black',\n",
    "        #showticklabels = False\n",
    "          \n",
    "    ),\n",
    "    legend=dict(\n",
    "        #yanchor='top',\n",
    "        #y = .98,\n",
    "        #xanchor='right',\n",
    "        #x = 0.98,\n",
    "        bgcolor = '#DFBA8F',\n",
    "        bordercolor = 'black',\n",
    "        borderwidth = 2,\n",
    "        font = dict(\n",
    "            color = 'black'\n",
    "        )\n",
    "        \n",
    "    )   \n",
    ")\n",
    "fig.update_traces(\n",
    "    marker_line_width=1,\n",
    "    marker_line_color=\"black\"\n",
    ")\n",
    "#newnames = {'Percent Anonymous Completed':'Anonymous', 'Percent of Known Completed':'Known'}\n",
    "#fig.for_each_trace(lambda t: t.update(name = newnames[t.name],\n",
    "#                                         legendgroup = newnames[t.name],\n",
    "#                                        hovertemplate = t.hovertemplate.replace(t.name, newnames[t.name])\n",
    "#                                        )\n",
    "#                  )"
   ]
  },
  {
   "cell_type": "markdown",
   "id": "efd48517",
   "metadata": {},
   "source": [
    "## 90% of variance can be explained by the first 11 components"
   ]
  },
  {
   "cell_type": "code",
   "execution_count": 61,
   "id": "b7cf3220",
   "metadata": {},
   "outputs": [],
   "source": [
    "pca.set_params(n_components = 11)\n",
    "pcaDF = pd.DataFrame(pca.fit_transform(scaledDF))"
   ]
  },
  {
   "cell_type": "markdown",
   "id": "82a5d6c3",
   "metadata": {},
   "source": [
    "# Clustering"
   ]
  },
  {
   "cell_type": "code",
   "execution_count": 69,
   "id": "272c724b",
   "metadata": {},
   "outputs": [],
   "source": [
    "from sklearn.cluster import KMeans\n",
    "from PlottingFunctions import plot_inertia, plot_silhouette\n",
    "from sklearn.metrics import silhouette_score, silhouette_samples"
   ]
  },
  {
   "cell_type": "code",
   "execution_count": 66,
   "id": "66c4a90b",
   "metadata": {},
   "outputs": [],
   "source": [
    "kmeans = KMeans()\n",
    "distortions = []\n",
    "for k in range(1,15):\n",
    "    kmeanModel = KMeans(n_clusters = k)\n",
    "    kmeanModel.fit(pcaDF)\n",
    "    distortions.append(kmeanModel.inertia_)"
   ]
  },
  {
   "cell_type": "code",
   "execution_count": 67,
   "id": "434d9e40",
   "metadata": {},
   "outputs": [
    {
     "data": {
      "text/plain": [
       "[337035.5378238354,\n",
       " 262136.7289420032,\n",
       " 242195.31193214588,\n",
       " 225920.13488698588,\n",
       " 214152.85355983494,\n",
       " 204024.43683052494,\n",
       " 195933.81532991957,\n",
       " 189290.52172483326,\n",
       " 183296.5603622581,\n",
       " 178220.5200032758,\n",
       " 173898.4763411912,\n",
       " 170302.5462425968,\n",
       " 167253.60497675062,\n",
       " 164799.89055233268]"
      ]
     },
     "execution_count": 67,
     "metadata": {},
     "output_type": "execute_result"
    }
   ],
   "source": [
    "distortions"
   ]
  },
  {
   "cell_type": "code",
   "execution_count": 83,
   "id": "bb69a015",
   "metadata": {},
   "outputs": [
    {
     "data": {
      "text/plain": [
       "[0.1924348738858318,\n",
       " 0.13018680561835458,\n",
       " 0.11783195590299685,\n",
       " 0.11700631302313469,\n",
       " 0.11634007327980221,\n",
       " 0.10921469380997997,\n",
       " 0.1079052687445897,\n",
       " 0.10612453255085759,\n",
       " 0.10517880727841374,\n",
       " 0.10448923442817783,\n",
       " 0.1024054817310237,\n",
       " 0.10111423256623354,\n",
       " 0.1008660301914601]"
      ]
     },
     "execution_count": 83,
     "metadata": {},
     "output_type": "execute_result"
    }
   ],
   "source": [
    "silhos = []\n",
    "for k in range(2,15):\n",
    "    kmeanModel = KMeans(n_clusters = k)\n",
    "    kmeanModel.fit(pcaDF)\n",
    "    silhos.append(silhouette_score(pcaDF, kmeanModel.labels_, metric = 'euclidean'))\n",
    "silhos"
   ]
  },
  {
   "cell_type": "code",
   "execution_count": 106,
   "id": "d81911df",
   "metadata": {},
   "outputs": [
    {
     "data": {
      "application/vnd.plotly.v1+json": {
       "config": {
        "plotlyServerURL": "https://plot.ly"
       },
       "data": [
        {
         "marker": {
          "line": {
           "color": "black",
           "width": 1
          }
         },
         "name": "Distortion",
         "type": "scatter",
         "x": [
          1,
          2,
          3,
          4,
          5,
          6,
          7,
          8,
          9,
          10,
          11,
          12,
          13,
          14
         ],
         "xaxis": "x",
         "y": [
          337035.5378238354,
          262136.7289420032,
          242195.31193214588,
          225920.13488698588,
          214152.85355983494,
          204024.43683052494,
          195933.81532991957,
          189290.52172483326,
          183296.5603622581,
          178220.5200032758,
          173898.4763411912,
          170302.5462425968,
          167253.60497675062,
          164799.89055233268
         ],
         "yaxis": "y"
        },
        {
         "marker": {
          "line": {
           "color": "black",
           "width": 1
          }
         },
         "name": "Silhouette Score",
         "type": "scatter",
         "x": [
          2,
          3,
          4,
          5,
          6,
          7,
          8,
          9,
          10,
          11,
          12,
          13,
          14
         ],
         "xaxis": "x",
         "y": [
          0.1924348738858318,
          0.13018680561835458,
          0.11783195590299685,
          0.11700631302313469,
          0.11634007327980221,
          0.10921469380997997,
          0.1079052687445897,
          0.10612453255085759,
          0.10517880727841374,
          0.10448923442817783,
          0.1024054817310237,
          0.10111423256623354,
          0.1008660301914601
         ],
         "yaxis": "y2"
        },
        {
         "line": {
          "dash": "dash"
         },
         "marker": {
          "line": {
           "color": "black",
           "width": 1
          }
         },
         "name": "Clusters = 4",
         "type": "scatter",
         "x": [
          4,
          4
         ],
         "xaxis": "x",
         "y": [
          0,
          338000
         ],
         "yaxis": "y"
        }
       ],
       "layout": {
        "bargap": 0.2,
        "colorway": [
         "#00704A",
         "#45062E",
         "black"
        ],
        "legend": {
         "bgcolor": "#DFBA8F",
         "bordercolor": "black",
         "borderwidth": 2,
         "font": {
          "color": "black"
         },
         "x": 0.9,
         "xanchor": "right",
         "y": 0.98,
         "yanchor": "top"
        },
        "plot_bgcolor": "#B8A085",
        "template": {
         "data": {
          "bar": [
           {
            "error_x": {
             "color": "#2a3f5f"
            },
            "error_y": {
             "color": "#2a3f5f"
            },
            "marker": {
             "line": {
              "color": "#E5ECF6",
              "width": 0.5
             },
             "pattern": {
              "fillmode": "overlay",
              "size": 10,
              "solidity": 0.2
             }
            },
            "type": "bar"
           }
          ],
          "barpolar": [
           {
            "marker": {
             "line": {
              "color": "#E5ECF6",
              "width": 0.5
             },
             "pattern": {
              "fillmode": "overlay",
              "size": 10,
              "solidity": 0.2
             }
            },
            "type": "barpolar"
           }
          ],
          "carpet": [
           {
            "aaxis": {
             "endlinecolor": "#2a3f5f",
             "gridcolor": "white",
             "linecolor": "white",
             "minorgridcolor": "white",
             "startlinecolor": "#2a3f5f"
            },
            "baxis": {
             "endlinecolor": "#2a3f5f",
             "gridcolor": "white",
             "linecolor": "white",
             "minorgridcolor": "white",
             "startlinecolor": "#2a3f5f"
            },
            "type": "carpet"
           }
          ],
          "choropleth": [
           {
            "colorbar": {
             "outlinewidth": 0,
             "ticks": ""
            },
            "type": "choropleth"
           }
          ],
          "contour": [
           {
            "colorbar": {
             "outlinewidth": 0,
             "ticks": ""
            },
            "colorscale": [
             [
              0,
              "#0d0887"
             ],
             [
              0.1111111111111111,
              "#46039f"
             ],
             [
              0.2222222222222222,
              "#7201a8"
             ],
             [
              0.3333333333333333,
              "#9c179e"
             ],
             [
              0.4444444444444444,
              "#bd3786"
             ],
             [
              0.5555555555555556,
              "#d8576b"
             ],
             [
              0.6666666666666666,
              "#ed7953"
             ],
             [
              0.7777777777777778,
              "#fb9f3a"
             ],
             [
              0.8888888888888888,
              "#fdca26"
             ],
             [
              1,
              "#f0f921"
             ]
            ],
            "type": "contour"
           }
          ],
          "contourcarpet": [
           {
            "colorbar": {
             "outlinewidth": 0,
             "ticks": ""
            },
            "type": "contourcarpet"
           }
          ],
          "heatmap": [
           {
            "colorbar": {
             "outlinewidth": 0,
             "ticks": ""
            },
            "colorscale": [
             [
              0,
              "#0d0887"
             ],
             [
              0.1111111111111111,
              "#46039f"
             ],
             [
              0.2222222222222222,
              "#7201a8"
             ],
             [
              0.3333333333333333,
              "#9c179e"
             ],
             [
              0.4444444444444444,
              "#bd3786"
             ],
             [
              0.5555555555555556,
              "#d8576b"
             ],
             [
              0.6666666666666666,
              "#ed7953"
             ],
             [
              0.7777777777777778,
              "#fb9f3a"
             ],
             [
              0.8888888888888888,
              "#fdca26"
             ],
             [
              1,
              "#f0f921"
             ]
            ],
            "type": "heatmap"
           }
          ],
          "heatmapgl": [
           {
            "colorbar": {
             "outlinewidth": 0,
             "ticks": ""
            },
            "colorscale": [
             [
              0,
              "#0d0887"
             ],
             [
              0.1111111111111111,
              "#46039f"
             ],
             [
              0.2222222222222222,
              "#7201a8"
             ],
             [
              0.3333333333333333,
              "#9c179e"
             ],
             [
              0.4444444444444444,
              "#bd3786"
             ],
             [
              0.5555555555555556,
              "#d8576b"
             ],
             [
              0.6666666666666666,
              "#ed7953"
             ],
             [
              0.7777777777777778,
              "#fb9f3a"
             ],
             [
              0.8888888888888888,
              "#fdca26"
             ],
             [
              1,
              "#f0f921"
             ]
            ],
            "type": "heatmapgl"
           }
          ],
          "histogram": [
           {
            "marker": {
             "pattern": {
              "fillmode": "overlay",
              "size": 10,
              "solidity": 0.2
             }
            },
            "type": "histogram"
           }
          ],
          "histogram2d": [
           {
            "colorbar": {
             "outlinewidth": 0,
             "ticks": ""
            },
            "colorscale": [
             [
              0,
              "#0d0887"
             ],
             [
              0.1111111111111111,
              "#46039f"
             ],
             [
              0.2222222222222222,
              "#7201a8"
             ],
             [
              0.3333333333333333,
              "#9c179e"
             ],
             [
              0.4444444444444444,
              "#bd3786"
             ],
             [
              0.5555555555555556,
              "#d8576b"
             ],
             [
              0.6666666666666666,
              "#ed7953"
             ],
             [
              0.7777777777777778,
              "#fb9f3a"
             ],
             [
              0.8888888888888888,
              "#fdca26"
             ],
             [
              1,
              "#f0f921"
             ]
            ],
            "type": "histogram2d"
           }
          ],
          "histogram2dcontour": [
           {
            "colorbar": {
             "outlinewidth": 0,
             "ticks": ""
            },
            "colorscale": [
             [
              0,
              "#0d0887"
             ],
             [
              0.1111111111111111,
              "#46039f"
             ],
             [
              0.2222222222222222,
              "#7201a8"
             ],
             [
              0.3333333333333333,
              "#9c179e"
             ],
             [
              0.4444444444444444,
              "#bd3786"
             ],
             [
              0.5555555555555556,
              "#d8576b"
             ],
             [
              0.6666666666666666,
              "#ed7953"
             ],
             [
              0.7777777777777778,
              "#fb9f3a"
             ],
             [
              0.8888888888888888,
              "#fdca26"
             ],
             [
              1,
              "#f0f921"
             ]
            ],
            "type": "histogram2dcontour"
           }
          ],
          "mesh3d": [
           {
            "colorbar": {
             "outlinewidth": 0,
             "ticks": ""
            },
            "type": "mesh3d"
           }
          ],
          "parcoords": [
           {
            "line": {
             "colorbar": {
              "outlinewidth": 0,
              "ticks": ""
             }
            },
            "type": "parcoords"
           }
          ],
          "pie": [
           {
            "automargin": true,
            "type": "pie"
           }
          ],
          "scatter": [
           {
            "fillpattern": {
             "fillmode": "overlay",
             "size": 10,
             "solidity": 0.2
            },
            "type": "scatter"
           }
          ],
          "scatter3d": [
           {
            "line": {
             "colorbar": {
              "outlinewidth": 0,
              "ticks": ""
             }
            },
            "marker": {
             "colorbar": {
              "outlinewidth": 0,
              "ticks": ""
             }
            },
            "type": "scatter3d"
           }
          ],
          "scattercarpet": [
           {
            "marker": {
             "colorbar": {
              "outlinewidth": 0,
              "ticks": ""
             }
            },
            "type": "scattercarpet"
           }
          ],
          "scattergeo": [
           {
            "marker": {
             "colorbar": {
              "outlinewidth": 0,
              "ticks": ""
             }
            },
            "type": "scattergeo"
           }
          ],
          "scattergl": [
           {
            "marker": {
             "colorbar": {
              "outlinewidth": 0,
              "ticks": ""
             }
            },
            "type": "scattergl"
           }
          ],
          "scattermapbox": [
           {
            "marker": {
             "colorbar": {
              "outlinewidth": 0,
              "ticks": ""
             }
            },
            "type": "scattermapbox"
           }
          ],
          "scatterpolar": [
           {
            "marker": {
             "colorbar": {
              "outlinewidth": 0,
              "ticks": ""
             }
            },
            "type": "scatterpolar"
           }
          ],
          "scatterpolargl": [
           {
            "marker": {
             "colorbar": {
              "outlinewidth": 0,
              "ticks": ""
             }
            },
            "type": "scatterpolargl"
           }
          ],
          "scatterternary": [
           {
            "marker": {
             "colorbar": {
              "outlinewidth": 0,
              "ticks": ""
             }
            },
            "type": "scatterternary"
           }
          ],
          "surface": [
           {
            "colorbar": {
             "outlinewidth": 0,
             "ticks": ""
            },
            "colorscale": [
             [
              0,
              "#0d0887"
             ],
             [
              0.1111111111111111,
              "#46039f"
             ],
             [
              0.2222222222222222,
              "#7201a8"
             ],
             [
              0.3333333333333333,
              "#9c179e"
             ],
             [
              0.4444444444444444,
              "#bd3786"
             ],
             [
              0.5555555555555556,
              "#d8576b"
             ],
             [
              0.6666666666666666,
              "#ed7953"
             ],
             [
              0.7777777777777778,
              "#fb9f3a"
             ],
             [
              0.8888888888888888,
              "#fdca26"
             ],
             [
              1,
              "#f0f921"
             ]
            ],
            "type": "surface"
           }
          ],
          "table": [
           {
            "cells": {
             "fill": {
              "color": "#EBF0F8"
             },
             "line": {
              "color": "white"
             }
            },
            "header": {
             "fill": {
              "color": "#C8D4E3"
             },
             "line": {
              "color": "white"
             }
            },
            "type": "table"
           }
          ]
         },
         "layout": {
          "annotationdefaults": {
           "arrowcolor": "#2a3f5f",
           "arrowhead": 0,
           "arrowwidth": 1
          },
          "autotypenumbers": "strict",
          "coloraxis": {
           "colorbar": {
            "outlinewidth": 0,
            "ticks": ""
           }
          },
          "colorscale": {
           "diverging": [
            [
             0,
             "#8e0152"
            ],
            [
             0.1,
             "#c51b7d"
            ],
            [
             0.2,
             "#de77ae"
            ],
            [
             0.3,
             "#f1b6da"
            ],
            [
             0.4,
             "#fde0ef"
            ],
            [
             0.5,
             "#f7f7f7"
            ],
            [
             0.6,
             "#e6f5d0"
            ],
            [
             0.7,
             "#b8e186"
            ],
            [
             0.8,
             "#7fbc41"
            ],
            [
             0.9,
             "#4d9221"
            ],
            [
             1,
             "#276419"
            ]
           ],
           "sequential": [
            [
             0,
             "#0d0887"
            ],
            [
             0.1111111111111111,
             "#46039f"
            ],
            [
             0.2222222222222222,
             "#7201a8"
            ],
            [
             0.3333333333333333,
             "#9c179e"
            ],
            [
             0.4444444444444444,
             "#bd3786"
            ],
            [
             0.5555555555555556,
             "#d8576b"
            ],
            [
             0.6666666666666666,
             "#ed7953"
            ],
            [
             0.7777777777777778,
             "#fb9f3a"
            ],
            [
             0.8888888888888888,
             "#fdca26"
            ],
            [
             1,
             "#f0f921"
            ]
           ],
           "sequentialminus": [
            [
             0,
             "#0d0887"
            ],
            [
             0.1111111111111111,
             "#46039f"
            ],
            [
             0.2222222222222222,
             "#7201a8"
            ],
            [
             0.3333333333333333,
             "#9c179e"
            ],
            [
             0.4444444444444444,
             "#bd3786"
            ],
            [
             0.5555555555555556,
             "#d8576b"
            ],
            [
             0.6666666666666666,
             "#ed7953"
            ],
            [
             0.7777777777777778,
             "#fb9f3a"
            ],
            [
             0.8888888888888888,
             "#fdca26"
            ],
            [
             1,
             "#f0f921"
            ]
           ]
          },
          "colorway": [
           "#636efa",
           "#EF553B",
           "#00cc96",
           "#ab63fa",
           "#FFA15A",
           "#19d3f3",
           "#FF6692",
           "#B6E880",
           "#FF97FF",
           "#FECB52"
          ],
          "font": {
           "color": "#2a3f5f"
          },
          "geo": {
           "bgcolor": "white",
           "lakecolor": "white",
           "landcolor": "#E5ECF6",
           "showlakes": true,
           "showland": true,
           "subunitcolor": "white"
          },
          "hoverlabel": {
           "align": "left"
          },
          "hovermode": "closest",
          "mapbox": {
           "style": "light"
          },
          "paper_bgcolor": "white",
          "plot_bgcolor": "#E5ECF6",
          "polar": {
           "angularaxis": {
            "gridcolor": "white",
            "linecolor": "white",
            "ticks": ""
           },
           "bgcolor": "#E5ECF6",
           "radialaxis": {
            "gridcolor": "white",
            "linecolor": "white",
            "ticks": ""
           }
          },
          "scene": {
           "xaxis": {
            "backgroundcolor": "#E5ECF6",
            "gridcolor": "white",
            "gridwidth": 2,
            "linecolor": "white",
            "showbackground": true,
            "ticks": "",
            "zerolinecolor": "white"
           },
           "yaxis": {
            "backgroundcolor": "#E5ECF6",
            "gridcolor": "white",
            "gridwidth": 2,
            "linecolor": "white",
            "showbackground": true,
            "ticks": "",
            "zerolinecolor": "white"
           },
           "zaxis": {
            "backgroundcolor": "#E5ECF6",
            "gridcolor": "white",
            "gridwidth": 2,
            "linecolor": "white",
            "showbackground": true,
            "ticks": "",
            "zerolinecolor": "white"
           }
          },
          "shapedefaults": {
           "line": {
            "color": "#2a3f5f"
           }
          },
          "ternary": {
           "aaxis": {
            "gridcolor": "white",
            "linecolor": "white",
            "ticks": ""
           },
           "baxis": {
            "gridcolor": "white",
            "linecolor": "white",
            "ticks": ""
           },
           "bgcolor": "#E5ECF6",
           "caxis": {
            "gridcolor": "white",
            "linecolor": "white",
            "ticks": ""
           }
          },
          "title": {
           "x": 0.05
          },
          "xaxis": {
           "automargin": true,
           "gridcolor": "white",
           "linecolor": "white",
           "ticks": "",
           "title": {
            "standoff": 15
           },
           "zerolinecolor": "white",
           "zerolinewidth": 2
          },
          "yaxis": {
           "automargin": true,
           "gridcolor": "white",
           "linecolor": "white",
           "ticks": "",
           "title": {
            "standoff": 15
           },
           "zerolinecolor": "white",
           "zerolinewidth": 2
          }
         }
        },
        "title": {
         "font": {
          "size": 25
         },
         "text": "Inertia and Silhouette Scores K-Means Fit <br> on Transformed PCA Data",
         "x": 0.5
        },
        "xaxis": {
         "anchor": "y",
         "domain": [
          0,
          0.94
         ],
         "linecolor": "black",
         "tickfont": {
          "size": 16
         },
         "title": {
          "font": {
           "size": 25
          },
          "text": "Number of Clusters"
         }
        },
        "yaxis": {
         "anchor": "x",
         "domain": [
          0,
          1
         ],
         "linecolor": "black",
         "nticks": 10,
         "showgrid": false,
         "tickfont": {
          "size": 12
         },
         "title": {
          "font": {
           "size": 25
          },
          "text": "Distortion"
         }
        },
        "yaxis2": {
         "anchor": "x",
         "nticks": 12,
         "overlaying": "y",
         "showgrid": false,
         "side": "right",
         "title": {
          "font": {
           "size": 20
          },
          "text": "Silhouette Score"
         }
        }
       }
      },
      "text/html": [
       "<div>                            <div id=\"f17af393-da0f-48fa-8417-de0864c35177\" class=\"plotly-graph-div\" style=\"height:525px; width:100%;\"></div>            <script type=\"text/javascript\">                require([\"plotly\"], function(Plotly) {                    window.PLOTLYENV=window.PLOTLYENV || {};                                    if (document.getElementById(\"f17af393-da0f-48fa-8417-de0864c35177\")) {                    Plotly.newPlot(                        \"f17af393-da0f-48fa-8417-de0864c35177\",                        [{\"name\":\"Distortion\",\"x\":[1,2,3,4,5,6,7,8,9,10,11,12,13,14],\"y\":[337035.5378238354,262136.7289420032,242195.31193214588,225920.13488698588,214152.85355983494,204024.43683052494,195933.81532991957,189290.52172483326,183296.5603622581,178220.5200032758,173898.4763411912,170302.5462425968,167253.60497675062,164799.89055233268],\"type\":\"scatter\",\"xaxis\":\"x\",\"yaxis\":\"y\",\"marker\":{\"line\":{\"color\":\"black\",\"width\":1}}},{\"name\":\"Silhouette Score\",\"x\":[2,3,4,5,6,7,8,9,10,11,12,13,14],\"y\":[0.1924348738858318,0.13018680561835458,0.11783195590299685,0.11700631302313469,0.11634007327980221,0.10921469380997997,0.1079052687445897,0.10612453255085759,0.10517880727841374,0.10448923442817783,0.1024054817310237,0.10111423256623354,0.1008660301914601],\"type\":\"scatter\",\"xaxis\":\"x\",\"yaxis\":\"y2\",\"marker\":{\"line\":{\"color\":\"black\",\"width\":1}}},{\"line\":{\"dash\":\"dash\"},\"name\":\"Clusters = 4\",\"x\":[4,4],\"y\":[0,338000],\"type\":\"scatter\",\"xaxis\":\"x\",\"yaxis\":\"y\",\"marker\":{\"line\":{\"color\":\"black\",\"width\":1}}}],                        {\"template\":{\"data\":{\"histogram2dcontour\":[{\"type\":\"histogram2dcontour\",\"colorbar\":{\"outlinewidth\":0,\"ticks\":\"\"},\"colorscale\":[[0.0,\"#0d0887\"],[0.1111111111111111,\"#46039f\"],[0.2222222222222222,\"#7201a8\"],[0.3333333333333333,\"#9c179e\"],[0.4444444444444444,\"#bd3786\"],[0.5555555555555556,\"#d8576b\"],[0.6666666666666666,\"#ed7953\"],[0.7777777777777778,\"#fb9f3a\"],[0.8888888888888888,\"#fdca26\"],[1.0,\"#f0f921\"]]}],\"choropleth\":[{\"type\":\"choropleth\",\"colorbar\":{\"outlinewidth\":0,\"ticks\":\"\"}}],\"histogram2d\":[{\"type\":\"histogram2d\",\"colorbar\":{\"outlinewidth\":0,\"ticks\":\"\"},\"colorscale\":[[0.0,\"#0d0887\"],[0.1111111111111111,\"#46039f\"],[0.2222222222222222,\"#7201a8\"],[0.3333333333333333,\"#9c179e\"],[0.4444444444444444,\"#bd3786\"],[0.5555555555555556,\"#d8576b\"],[0.6666666666666666,\"#ed7953\"],[0.7777777777777778,\"#fb9f3a\"],[0.8888888888888888,\"#fdca26\"],[1.0,\"#f0f921\"]]}],\"heatmap\":[{\"type\":\"heatmap\",\"colorbar\":{\"outlinewidth\":0,\"ticks\":\"\"},\"colorscale\":[[0.0,\"#0d0887\"],[0.1111111111111111,\"#46039f\"],[0.2222222222222222,\"#7201a8\"],[0.3333333333333333,\"#9c179e\"],[0.4444444444444444,\"#bd3786\"],[0.5555555555555556,\"#d8576b\"],[0.6666666666666666,\"#ed7953\"],[0.7777777777777778,\"#fb9f3a\"],[0.8888888888888888,\"#fdca26\"],[1.0,\"#f0f921\"]]}],\"heatmapgl\":[{\"type\":\"heatmapgl\",\"colorbar\":{\"outlinewidth\":0,\"ticks\":\"\"},\"colorscale\":[[0.0,\"#0d0887\"],[0.1111111111111111,\"#46039f\"],[0.2222222222222222,\"#7201a8\"],[0.3333333333333333,\"#9c179e\"],[0.4444444444444444,\"#bd3786\"],[0.5555555555555556,\"#d8576b\"],[0.6666666666666666,\"#ed7953\"],[0.7777777777777778,\"#fb9f3a\"],[0.8888888888888888,\"#fdca26\"],[1.0,\"#f0f921\"]]}],\"contourcarpet\":[{\"type\":\"contourcarpet\",\"colorbar\":{\"outlinewidth\":0,\"ticks\":\"\"}}],\"contour\":[{\"type\":\"contour\",\"colorbar\":{\"outlinewidth\":0,\"ticks\":\"\"},\"colorscale\":[[0.0,\"#0d0887\"],[0.1111111111111111,\"#46039f\"],[0.2222222222222222,\"#7201a8\"],[0.3333333333333333,\"#9c179e\"],[0.4444444444444444,\"#bd3786\"],[0.5555555555555556,\"#d8576b\"],[0.6666666666666666,\"#ed7953\"],[0.7777777777777778,\"#fb9f3a\"],[0.8888888888888888,\"#fdca26\"],[1.0,\"#f0f921\"]]}],\"surface\":[{\"type\":\"surface\",\"colorbar\":{\"outlinewidth\":0,\"ticks\":\"\"},\"colorscale\":[[0.0,\"#0d0887\"],[0.1111111111111111,\"#46039f\"],[0.2222222222222222,\"#7201a8\"],[0.3333333333333333,\"#9c179e\"],[0.4444444444444444,\"#bd3786\"],[0.5555555555555556,\"#d8576b\"],[0.6666666666666666,\"#ed7953\"],[0.7777777777777778,\"#fb9f3a\"],[0.8888888888888888,\"#fdca26\"],[1.0,\"#f0f921\"]]}],\"mesh3d\":[{\"type\":\"mesh3d\",\"colorbar\":{\"outlinewidth\":0,\"ticks\":\"\"}}],\"scatter\":[{\"fillpattern\":{\"fillmode\":\"overlay\",\"size\":10,\"solidity\":0.2},\"type\":\"scatter\"}],\"parcoords\":[{\"type\":\"parcoords\",\"line\":{\"colorbar\":{\"outlinewidth\":0,\"ticks\":\"\"}}}],\"scatterpolargl\":[{\"type\":\"scatterpolargl\",\"marker\":{\"colorbar\":{\"outlinewidth\":0,\"ticks\":\"\"}}}],\"bar\":[{\"error_x\":{\"color\":\"#2a3f5f\"},\"error_y\":{\"color\":\"#2a3f5f\"},\"marker\":{\"line\":{\"color\":\"#E5ECF6\",\"width\":0.5},\"pattern\":{\"fillmode\":\"overlay\",\"size\":10,\"solidity\":0.2}},\"type\":\"bar\"}],\"scattergeo\":[{\"type\":\"scattergeo\",\"marker\":{\"colorbar\":{\"outlinewidth\":0,\"ticks\":\"\"}}}],\"scatterpolar\":[{\"type\":\"scatterpolar\",\"marker\":{\"colorbar\":{\"outlinewidth\":0,\"ticks\":\"\"}}}],\"histogram\":[{\"marker\":{\"pattern\":{\"fillmode\":\"overlay\",\"size\":10,\"solidity\":0.2}},\"type\":\"histogram\"}],\"scattergl\":[{\"type\":\"scattergl\",\"marker\":{\"colorbar\":{\"outlinewidth\":0,\"ticks\":\"\"}}}],\"scatter3d\":[{\"type\":\"scatter3d\",\"line\":{\"colorbar\":{\"outlinewidth\":0,\"ticks\":\"\"}},\"marker\":{\"colorbar\":{\"outlinewidth\":0,\"ticks\":\"\"}}}],\"scattermapbox\":[{\"type\":\"scattermapbox\",\"marker\":{\"colorbar\":{\"outlinewidth\":0,\"ticks\":\"\"}}}],\"scatterternary\":[{\"type\":\"scatterternary\",\"marker\":{\"colorbar\":{\"outlinewidth\":0,\"ticks\":\"\"}}}],\"scattercarpet\":[{\"type\":\"scattercarpet\",\"marker\":{\"colorbar\":{\"outlinewidth\":0,\"ticks\":\"\"}}}],\"carpet\":[{\"aaxis\":{\"endlinecolor\":\"#2a3f5f\",\"gridcolor\":\"white\",\"linecolor\":\"white\",\"minorgridcolor\":\"white\",\"startlinecolor\":\"#2a3f5f\"},\"baxis\":{\"endlinecolor\":\"#2a3f5f\",\"gridcolor\":\"white\",\"linecolor\":\"white\",\"minorgridcolor\":\"white\",\"startlinecolor\":\"#2a3f5f\"},\"type\":\"carpet\"}],\"table\":[{\"cells\":{\"fill\":{\"color\":\"#EBF0F8\"},\"line\":{\"color\":\"white\"}},\"header\":{\"fill\":{\"color\":\"#C8D4E3\"},\"line\":{\"color\":\"white\"}},\"type\":\"table\"}],\"barpolar\":[{\"marker\":{\"line\":{\"color\":\"#E5ECF6\",\"width\":0.5},\"pattern\":{\"fillmode\":\"overlay\",\"size\":10,\"solidity\":0.2}},\"type\":\"barpolar\"}],\"pie\":[{\"automargin\":true,\"type\":\"pie\"}]},\"layout\":{\"autotypenumbers\":\"strict\",\"colorway\":[\"#636efa\",\"#EF553B\",\"#00cc96\",\"#ab63fa\",\"#FFA15A\",\"#19d3f3\",\"#FF6692\",\"#B6E880\",\"#FF97FF\",\"#FECB52\"],\"font\":{\"color\":\"#2a3f5f\"},\"hovermode\":\"closest\",\"hoverlabel\":{\"align\":\"left\"},\"paper_bgcolor\":\"white\",\"plot_bgcolor\":\"#E5ECF6\",\"polar\":{\"bgcolor\":\"#E5ECF6\",\"angularaxis\":{\"gridcolor\":\"white\",\"linecolor\":\"white\",\"ticks\":\"\"},\"radialaxis\":{\"gridcolor\":\"white\",\"linecolor\":\"white\",\"ticks\":\"\"}},\"ternary\":{\"bgcolor\":\"#E5ECF6\",\"aaxis\":{\"gridcolor\":\"white\",\"linecolor\":\"white\",\"ticks\":\"\"},\"baxis\":{\"gridcolor\":\"white\",\"linecolor\":\"white\",\"ticks\":\"\"},\"caxis\":{\"gridcolor\":\"white\",\"linecolor\":\"white\",\"ticks\":\"\"}},\"coloraxis\":{\"colorbar\":{\"outlinewidth\":0,\"ticks\":\"\"}},\"colorscale\":{\"sequential\":[[0.0,\"#0d0887\"],[0.1111111111111111,\"#46039f\"],[0.2222222222222222,\"#7201a8\"],[0.3333333333333333,\"#9c179e\"],[0.4444444444444444,\"#bd3786\"],[0.5555555555555556,\"#d8576b\"],[0.6666666666666666,\"#ed7953\"],[0.7777777777777778,\"#fb9f3a\"],[0.8888888888888888,\"#fdca26\"],[1.0,\"#f0f921\"]],\"sequentialminus\":[[0.0,\"#0d0887\"],[0.1111111111111111,\"#46039f\"],[0.2222222222222222,\"#7201a8\"],[0.3333333333333333,\"#9c179e\"],[0.4444444444444444,\"#bd3786\"],[0.5555555555555556,\"#d8576b\"],[0.6666666666666666,\"#ed7953\"],[0.7777777777777778,\"#fb9f3a\"],[0.8888888888888888,\"#fdca26\"],[1.0,\"#f0f921\"]],\"diverging\":[[0,\"#8e0152\"],[0.1,\"#c51b7d\"],[0.2,\"#de77ae\"],[0.3,\"#f1b6da\"],[0.4,\"#fde0ef\"],[0.5,\"#f7f7f7\"],[0.6,\"#e6f5d0\"],[0.7,\"#b8e186\"],[0.8,\"#7fbc41\"],[0.9,\"#4d9221\"],[1,\"#276419\"]]},\"xaxis\":{\"gridcolor\":\"white\",\"linecolor\":\"white\",\"ticks\":\"\",\"title\":{\"standoff\":15},\"zerolinecolor\":\"white\",\"automargin\":true,\"zerolinewidth\":2},\"yaxis\":{\"gridcolor\":\"white\",\"linecolor\":\"white\",\"ticks\":\"\",\"title\":{\"standoff\":15},\"zerolinecolor\":\"white\",\"automargin\":true,\"zerolinewidth\":2},\"scene\":{\"xaxis\":{\"backgroundcolor\":\"#E5ECF6\",\"gridcolor\":\"white\",\"linecolor\":\"white\",\"showbackground\":true,\"ticks\":\"\",\"zerolinecolor\":\"white\",\"gridwidth\":2},\"yaxis\":{\"backgroundcolor\":\"#E5ECF6\",\"gridcolor\":\"white\",\"linecolor\":\"white\",\"showbackground\":true,\"ticks\":\"\",\"zerolinecolor\":\"white\",\"gridwidth\":2},\"zaxis\":{\"backgroundcolor\":\"#E5ECF6\",\"gridcolor\":\"white\",\"linecolor\":\"white\",\"showbackground\":true,\"ticks\":\"\",\"zerolinecolor\":\"white\",\"gridwidth\":2}},\"shapedefaults\":{\"line\":{\"color\":\"#2a3f5f\"}},\"annotationdefaults\":{\"arrowcolor\":\"#2a3f5f\",\"arrowhead\":0,\"arrowwidth\":1},\"geo\":{\"bgcolor\":\"white\",\"landcolor\":\"#E5ECF6\",\"subunitcolor\":\"white\",\"showland\":true,\"showlakes\":true,\"lakecolor\":\"white\"},\"title\":{\"x\":0.05},\"mapbox\":{\"style\":\"light\"}}},\"xaxis\":{\"anchor\":\"y\",\"domain\":[0.0,0.94],\"tickfont\":{\"size\":16},\"title\":{\"text\":\"Number of Clusters\",\"font\":{\"size\":25}},\"linecolor\":\"black\"},\"yaxis\":{\"anchor\":\"x\",\"domain\":[0.0,1.0],\"tickfont\":{\"size\":12},\"title\":{\"font\":{\"size\":25},\"text\":\"Distortion\"},\"linecolor\":\"black\",\"nticks\":10,\"showgrid\":false},\"yaxis2\":{\"anchor\":\"x\",\"overlaying\":\"y\",\"side\":\"right\",\"title\":{\"font\":{\"size\":20},\"text\":\"Silhouette Score\"},\"nticks\":12,\"showgrid\":false},\"title\":{\"text\":\"Inertia and Silhouette Scores K-Means Fit <br> on Transformed PCA Data\",\"x\":0.5,\"font\":{\"size\":25}},\"legend\":{\"font\":{\"color\":\"black\"},\"yanchor\":\"top\",\"y\":0.98,\"xanchor\":\"right\",\"x\":0.9,\"bgcolor\":\"#DFBA8F\",\"bordercolor\":\"black\",\"borderwidth\":2},\"colorway\":[\"#00704A\",\"#45062E\",\"black\"],\"plot_bgcolor\":\"#B8A085\",\"bargap\":0.2},                        {\"responsive\": true}                    ).then(function(){\n",
       "                            \n",
       "var gd = document.getElementById('f17af393-da0f-48fa-8417-de0864c35177');\n",
       "var x = new MutationObserver(function (mutations, observer) {{\n",
       "        var display = window.getComputedStyle(gd).display;\n",
       "        if (!display || display === 'none') {{\n",
       "            console.log([gd, 'removed!']);\n",
       "            Plotly.purge(gd);\n",
       "            observer.disconnect();\n",
       "        }}\n",
       "}});\n",
       "\n",
       "// Listen for the removal of the full notebook cells\n",
       "var notebookContainer = gd.closest('#notebook-container');\n",
       "if (notebookContainer) {{\n",
       "    x.observe(notebookContainer, {childList: true});\n",
       "}}\n",
       "\n",
       "// Listen for the clearing of the current output cell\n",
       "var outputEl = gd.closest('.output');\n",
       "if (outputEl) {{\n",
       "    x.observe(outputEl, {childList: true});\n",
       "}}\n",
       "\n",
       "                        })                };                });            </script>        </div>"
      ]
     },
     "metadata": {},
     "output_type": "display_data"
    }
   ],
   "source": [
    "fig = make_subplots(specs=[[{\"secondary_y\": True}]])\n",
    "fig.add_trace(\n",
    "    go.Scatter(x = list(range(1,15)), y = distortions, name = 'Distortion'), secondary_y = False\n",
    ")\n",
    "fig.add_trace(\n",
    "    go.Scatter(x = list(range(2,15)), y = silhos, name = 'Silhouette Score'), secondary_y = True\n",
    ")\n",
    "fig.add_trace(\n",
    "    go.Scatter(x = [4,4],y = [0,338000], name = 'Clusters = 4',line = dict(dash = 'dash')), secondary_y = False\n",
    ")\n",
    "fig.update_layout(\n",
    "    colorway = [color1, color3, 'black'],\n",
    "    title = 'Inertia and Silhouette Scores K-Means Fit <br> on Transformed PCA Data',\n",
    "#    xaxis_title = 'Principal Components',\n",
    "#    yaxis_title = 'Explained Variance',\n",
    "    title_x=0.5,\n",
    "    plot_bgcolor = backgroundColor,\n",
    "    title_font = dict(size = 25),\n",
    "    bargap = 0.2,\n",
    "    yaxis = dict(\n",
    "        tickfont = dict(size=12),\n",
    "        titlefont = dict(size = 25),\n",
    "        linecolor = 'black',\n",
    "        nticks = 10,\n",
    "        showgrid = False\n",
    "    ),\n",
    "    xaxis = dict(\n",
    "        tickfont = dict(size=16),\n",
    "        title = 'Number of Clusters',\n",
    "        titlefont = dict(size =25),\n",
    "        linecolor = 'black'\n",
    "        \n",
    "          \n",
    "    ),\n",
    "    legend=dict(\n",
    "        yanchor='top',\n",
    "        y = .98,\n",
    "        xanchor='right',\n",
    "        x = 0.9,\n",
    "        bgcolor = '#DFBA8F',\n",
    "        bordercolor = 'black',\n",
    "        borderwidth = 2,\n",
    "        font = dict(\n",
    "            color = 'black'\n",
    "        )\n",
    "        \n",
    "    )   \n",
    ")\n",
    "fig.update_yaxes(title_text = 'Distortion', secondary_y=False)\n",
    "fig.update_yaxes(title_text = 'Silhouette Score', secondary_y=True, title_font = {'size':20}, nticks=12, showgrid=False)\n",
    "fig.update_traces(\n",
    "    marker_line_width=1,\n",
    "    marker_line_color=\"black\"\n",
    ")\n",
    "#newnames = {'Percent Anonymous Completed':'Anonymous', 'Percent of Known Completed':'Known'}\n",
    "#fig.for_each_trace(lambda t: t.update(name = newnames[t.name],\n",
    "#                                         legendgroup = newnames[t.name],\n",
    "#                                        hovertemplate = t.hovertemplate.replace(t.name, newnames[t.name])\n",
    "#                                        )\n",
    "#                  )"
   ]
  },
  {
   "cell_type": "code",
   "execution_count": 107,
   "id": "81994150",
   "metadata": {},
   "outputs": [
    {
     "data": {
      "text/plain": [
       "KMeans(n_clusters=4)"
      ]
     },
     "execution_count": 107,
     "metadata": {},
     "output_type": "execute_result"
    }
   ],
   "source": [
    "kmeans = KMeans()\n",
    "kmeans.set_params(n_clusters = 4)\n",
    "kmeans.fit(pcaDF)"
   ]
  },
  {
   "cell_type": "code",
   "execution_count": 108,
   "id": "9aacdc45",
   "metadata": {},
   "outputs": [
    {
     "data": {
      "text/plain": [
       "array([3, 3, 2, ..., 1, 3, 0])"
      ]
     },
     "execution_count": 108,
     "metadata": {},
     "output_type": "execute_result"
    }
   ],
   "source": [
    "kmeans.labels_"
   ]
  },
  {
   "cell_type": "code",
   "execution_count": 112,
   "id": "c1a24ebe",
   "metadata": {},
   "outputs": [
    {
     "data": {
      "text/html": [
       "<div>\n",
       "<style scoped>\n",
       "    .dataframe tbody tr th:only-of-type {\n",
       "        vertical-align: middle;\n",
       "    }\n",
       "\n",
       "    .dataframe tbody tr th {\n",
       "        vertical-align: top;\n",
       "    }\n",
       "\n",
       "    .dataframe thead th {\n",
       "        text-align: right;\n",
       "    }\n",
       "</style>\n",
       "<table border=\"1\" class=\"dataframe\">\n",
       "  <thead>\n",
       "    <tr style=\"text-align: right;\">\n",
       "      <th></th>\n",
       "      <th>person</th>\n",
       "      <th>gender</th>\n",
       "      <th>age</th>\n",
       "      <th>income</th>\n",
       "      <th>year_became_member</th>\n",
       "      <th>BOGO_Number</th>\n",
       "      <th>Discount_Number</th>\n",
       "      <th>Informational_Number</th>\n",
       "      <th>reward_avg</th>\n",
       "      <th>difficulty_avg</th>\n",
       "      <th>...</th>\n",
       "      <th>ratio_completed</th>\n",
       "      <th>ratio_viewed</th>\n",
       "      <th>most_recent</th>\n",
       "      <th>total_spent</th>\n",
       "      <th>transactions_number</th>\n",
       "      <th>M_score</th>\n",
       "      <th>R_score</th>\n",
       "      <th>F_score</th>\n",
       "      <th>gender_encode</th>\n",
       "      <th>cluster</th>\n",
       "    </tr>\n",
       "  </thead>\n",
       "  <tbody>\n",
       "    <tr>\n",
       "      <th>0</th>\n",
       "      <td>0009655768c64bdeb2e877511632db8f</td>\n",
       "      <td>M</td>\n",
       "      <td>33</td>\n",
       "      <td>72000.0</td>\n",
       "      <td>2017</td>\n",
       "      <td>3.0</td>\n",
       "      <td>5.0</td>\n",
       "      <td>4.0</td>\n",
       "      <td>2.083333</td>\n",
       "      <td>5.416667</td>\n",
       "      <td>...</td>\n",
       "      <td>0.60</td>\n",
       "      <td>0.80</td>\n",
       "      <td>696.0</td>\n",
       "      <td>127.60</td>\n",
       "      <td>8.0</td>\n",
       "      <td>4</td>\n",
       "      <td>4</td>\n",
       "      <td>3</td>\n",
       "      <td>0</td>\n",
       "      <td>3</td>\n",
       "    </tr>\n",
       "    <tr>\n",
       "      <th>1</th>\n",
       "      <td>0011e0d4e6b944f998e987f904e8c1e5</td>\n",
       "      <td>O</td>\n",
       "      <td>40</td>\n",
       "      <td>57000.0</td>\n",
       "      <td>2018</td>\n",
       "      <td>3.0</td>\n",
       "      <td>6.0</td>\n",
       "      <td>4.0</td>\n",
       "      <td>3.000000</td>\n",
       "      <td>7.384615</td>\n",
       "      <td>...</td>\n",
       "      <td>0.60</td>\n",
       "      <td>1.00</td>\n",
       "      <td>654.0</td>\n",
       "      <td>79.46</td>\n",
       "      <td>5.0</td>\n",
       "      <td>3</td>\n",
       "      <td>3</td>\n",
       "      <td>2</td>\n",
       "      <td>2</td>\n",
       "      <td>3</td>\n",
       "    </tr>\n",
       "    <tr>\n",
       "      <th>2</th>\n",
       "      <td>0020c2b971eb4e9188eac86d93036a77</td>\n",
       "      <td>F</td>\n",
       "      <td>59</td>\n",
       "      <td>90000.0</td>\n",
       "      <td>2016</td>\n",
       "      <td>4.0</td>\n",
       "      <td>5.0</td>\n",
       "      <td>2.0</td>\n",
       "      <td>4.545455</td>\n",
       "      <td>8.181818</td>\n",
       "      <td>...</td>\n",
       "      <td>0.60</td>\n",
       "      <td>0.60</td>\n",
       "      <td>708.0</td>\n",
       "      <td>196.86</td>\n",
       "      <td>8.0</td>\n",
       "      <td>5</td>\n",
       "      <td>5</td>\n",
       "      <td>3</td>\n",
       "      <td>1</td>\n",
       "      <td>2</td>\n",
       "    </tr>\n",
       "    <tr>\n",
       "      <th>3</th>\n",
       "      <td>0020ccbbb6d84e358d3414a3ff76cffd</td>\n",
       "      <td>F</td>\n",
       "      <td>24</td>\n",
       "      <td>60000.0</td>\n",
       "      <td>2016</td>\n",
       "      <td>6.0</td>\n",
       "      <td>3.0</td>\n",
       "      <td>2.0</td>\n",
       "      <td>3.545455</td>\n",
       "      <td>4.636364</td>\n",
       "      <td>...</td>\n",
       "      <td>0.75</td>\n",
       "      <td>1.00</td>\n",
       "      <td>672.0</td>\n",
       "      <td>154.05</td>\n",
       "      <td>12.0</td>\n",
       "      <td>4</td>\n",
       "      <td>4</td>\n",
       "      <td>4</td>\n",
       "      <td>1</td>\n",
       "      <td>0</td>\n",
       "    </tr>\n",
       "    <tr>\n",
       "      <th>4</th>\n",
       "      <td>003d66b6608740288d6cc97a6903f4f0</td>\n",
       "      <td>F</td>\n",
       "      <td>26</td>\n",
       "      <td>73000.0</td>\n",
       "      <td>2017</td>\n",
       "      <td>0.0</td>\n",
       "      <td>8.0</td>\n",
       "      <td>4.0</td>\n",
       "      <td>1.833333</td>\n",
       "      <td>8.333333</td>\n",
       "      <td>...</td>\n",
       "      <td>0.60</td>\n",
       "      <td>0.80</td>\n",
       "      <td>696.0</td>\n",
       "      <td>48.34</td>\n",
       "      <td>18.0</td>\n",
       "      <td>2</td>\n",
       "      <td>4</td>\n",
       "      <td>5</td>\n",
       "      <td>1</td>\n",
       "      <td>2</td>\n",
       "    </tr>\n",
       "    <tr>\n",
       "      <th>...</th>\n",
       "      <td>...</td>\n",
       "      <td>...</td>\n",
       "      <td>...</td>\n",
       "      <td>...</td>\n",
       "      <td>...</td>\n",
       "      <td>...</td>\n",
       "      <td>...</td>\n",
       "      <td>...</td>\n",
       "      <td>...</td>\n",
       "      <td>...</td>\n",
       "      <td>...</td>\n",
       "      <td>...</td>\n",
       "      <td>...</td>\n",
       "      <td>...</td>\n",
       "      <td>...</td>\n",
       "      <td>...</td>\n",
       "      <td>...</td>\n",
       "      <td>...</td>\n",
       "      <td>...</td>\n",
       "      <td>...</td>\n",
       "      <td>...</td>\n",
       "    </tr>\n",
       "    <tr>\n",
       "      <th>14815</th>\n",
       "      <td>fff3ba4757bd42088c044ca26d73817a</td>\n",
       "      <td>F</td>\n",
       "      <td>69</td>\n",
       "      <td>83000.0</td>\n",
       "      <td>2015</td>\n",
       "      <td>3.0</td>\n",
       "      <td>6.0</td>\n",
       "      <td>3.0</td>\n",
       "      <td>2.250000</td>\n",
       "      <td>6.250000</td>\n",
       "      <td>...</td>\n",
       "      <td>0.50</td>\n",
       "      <td>0.50</td>\n",
       "      <td>552.0</td>\n",
       "      <td>580.98</td>\n",
       "      <td>11.0</td>\n",
       "      <td>5</td>\n",
       "      <td>1</td>\n",
       "      <td>4</td>\n",
       "      <td>1</td>\n",
       "      <td>0</td>\n",
       "    </tr>\n",
       "    <tr>\n",
       "      <th>14816</th>\n",
       "      <td>fff7576017104bcc8677a8d63322b5e1</td>\n",
       "      <td>M</td>\n",
       "      <td>71</td>\n",
       "      <td>73000.0</td>\n",
       "      <td>2017</td>\n",
       "      <td>6.0</td>\n",
       "      <td>6.0</td>\n",
       "      <td>0.0</td>\n",
       "      <td>5.166667</td>\n",
       "      <td>9.166667</td>\n",
       "      <td>...</td>\n",
       "      <td>0.60</td>\n",
       "      <td>0.80</td>\n",
       "      <td>696.0</td>\n",
       "      <td>29.94</td>\n",
       "      <td>6.0</td>\n",
       "      <td>2</td>\n",
       "      <td>4</td>\n",
       "      <td>2</td>\n",
       "      <td>0</td>\n",
       "      <td>0</td>\n",
       "    </tr>\n",
       "    <tr>\n",
       "      <th>14817</th>\n",
       "      <td>fff8957ea8b240a6b5e634b6ee8eafcf</td>\n",
       "      <td>M</td>\n",
       "      <td>71</td>\n",
       "      <td>56000.0</td>\n",
       "      <td>2018</td>\n",
       "      <td>2.0</td>\n",
       "      <td>2.0</td>\n",
       "      <td>1.0</td>\n",
       "      <td>4.800000</td>\n",
       "      <td>8.000000</td>\n",
       "      <td>...</td>\n",
       "      <td>0.00</td>\n",
       "      <td>0.67</td>\n",
       "      <td>576.0</td>\n",
       "      <td>12.15</td>\n",
       "      <td>5.0</td>\n",
       "      <td>1</td>\n",
       "      <td>2</td>\n",
       "      <td>2</td>\n",
       "      <td>0</td>\n",
       "      <td>1</td>\n",
       "    </tr>\n",
       "    <tr>\n",
       "      <th>14818</th>\n",
       "      <td>fffad4f4828548d1b5583907f2e9906b</td>\n",
       "      <td>M</td>\n",
       "      <td>34</td>\n",
       "      <td>34000.0</td>\n",
       "      <td>2017</td>\n",
       "      <td>9.0</td>\n",
       "      <td>0.0</td>\n",
       "      <td>2.0</td>\n",
       "      <td>4.090909</td>\n",
       "      <td>4.090909</td>\n",
       "      <td>...</td>\n",
       "      <td>0.75</td>\n",
       "      <td>1.00</td>\n",
       "      <td>678.0</td>\n",
       "      <td>88.83</td>\n",
       "      <td>12.0</td>\n",
       "      <td>3</td>\n",
       "      <td>4</td>\n",
       "      <td>4</td>\n",
       "      <td>0</td>\n",
       "      <td>3</td>\n",
       "    </tr>\n",
       "    <tr>\n",
       "      <th>14819</th>\n",
       "      <td>ffff82501cea40309d5fdd7edcca4a07</td>\n",
       "      <td>F</td>\n",
       "      <td>45</td>\n",
       "      <td>62000.0</td>\n",
       "      <td>2016</td>\n",
       "      <td>3.0</td>\n",
       "      <td>15.0</td>\n",
       "      <td>0.0</td>\n",
       "      <td>3.000000</td>\n",
       "      <td>10.833333</td>\n",
       "      <td>...</td>\n",
       "      <td>1.00</td>\n",
       "      <td>1.00</td>\n",
       "      <td>648.0</td>\n",
       "      <td>226.07</td>\n",
       "      <td>15.0</td>\n",
       "      <td>5</td>\n",
       "      <td>3</td>\n",
       "      <td>5</td>\n",
       "      <td>1</td>\n",
       "      <td>0</td>\n",
       "    </tr>\n",
       "  </tbody>\n",
       "</table>\n",
       "<p>14820 rows × 28 columns</p>\n",
       "</div>"
      ],
      "text/plain": [
       "                                 person gender  age   income  \\\n",
       "0      0009655768c64bdeb2e877511632db8f      M   33  72000.0   \n",
       "1      0011e0d4e6b944f998e987f904e8c1e5      O   40  57000.0   \n",
       "2      0020c2b971eb4e9188eac86d93036a77      F   59  90000.0   \n",
       "3      0020ccbbb6d84e358d3414a3ff76cffd      F   24  60000.0   \n",
       "4      003d66b6608740288d6cc97a6903f4f0      F   26  73000.0   \n",
       "...                                 ...    ...  ...      ...   \n",
       "14815  fff3ba4757bd42088c044ca26d73817a      F   69  83000.0   \n",
       "14816  fff7576017104bcc8677a8d63322b5e1      M   71  73000.0   \n",
       "14817  fff8957ea8b240a6b5e634b6ee8eafcf      M   71  56000.0   \n",
       "14818  fffad4f4828548d1b5583907f2e9906b      M   34  34000.0   \n",
       "14819  ffff82501cea40309d5fdd7edcca4a07      F   45  62000.0   \n",
       "\n",
       "       year_became_member  BOGO_Number  Discount_Number  Informational_Number  \\\n",
       "0                    2017          3.0              5.0                   4.0   \n",
       "1                    2018          3.0              6.0                   4.0   \n",
       "2                    2016          4.0              5.0                   2.0   \n",
       "3                    2016          6.0              3.0                   2.0   \n",
       "4                    2017          0.0              8.0                   4.0   \n",
       "...                   ...          ...              ...                   ...   \n",
       "14815                2015          3.0              6.0                   3.0   \n",
       "14816                2017          6.0              6.0                   0.0   \n",
       "14817                2018          2.0              2.0                   1.0   \n",
       "14818                2017          9.0              0.0                   2.0   \n",
       "14819                2016          3.0             15.0                   0.0   \n",
       "\n",
       "       reward_avg  difficulty_avg  ...  ratio_completed  ratio_viewed  \\\n",
       "0        2.083333        5.416667  ...             0.60          0.80   \n",
       "1        3.000000        7.384615  ...             0.60          1.00   \n",
       "2        4.545455        8.181818  ...             0.60          0.60   \n",
       "3        3.545455        4.636364  ...             0.75          1.00   \n",
       "4        1.833333        8.333333  ...             0.60          0.80   \n",
       "...           ...             ...  ...              ...           ...   \n",
       "14815    2.250000        6.250000  ...             0.50          0.50   \n",
       "14816    5.166667        9.166667  ...             0.60          0.80   \n",
       "14817    4.800000        8.000000  ...             0.00          0.67   \n",
       "14818    4.090909        4.090909  ...             0.75          1.00   \n",
       "14819    3.000000       10.833333  ...             1.00          1.00   \n",
       "\n",
       "       most_recent  total_spent  transactions_number  M_score  R_score  \\\n",
       "0            696.0       127.60                  8.0        4        4   \n",
       "1            654.0        79.46                  5.0        3        3   \n",
       "2            708.0       196.86                  8.0        5        5   \n",
       "3            672.0       154.05                 12.0        4        4   \n",
       "4            696.0        48.34                 18.0        2        4   \n",
       "...            ...          ...                  ...      ...      ...   \n",
       "14815        552.0       580.98                 11.0        5        1   \n",
       "14816        696.0        29.94                  6.0        2        4   \n",
       "14817        576.0        12.15                  5.0        1        2   \n",
       "14818        678.0        88.83                 12.0        3        4   \n",
       "14819        648.0       226.07                 15.0        5        3   \n",
       "\n",
       "       F_score  gender_encode  cluster  \n",
       "0            3              0        3  \n",
       "1            2              2        3  \n",
       "2            3              1        2  \n",
       "3            4              1        0  \n",
       "4            5              1        2  \n",
       "...        ...            ...      ...  \n",
       "14815        4              1        0  \n",
       "14816        2              0        0  \n",
       "14817        2              0        1  \n",
       "14818        4              0        3  \n",
       "14819        5              1        0  \n",
       "\n",
       "[14820 rows x 28 columns]"
      ]
     },
     "execution_count": 112,
     "metadata": {},
     "output_type": "execute_result"
    }
   ],
   "source": [
    "clusterDF = pd.concat([mergeDF, pd.Series(kmeans.labels_, name = 'cluster')], axis = 1)\n",
    "clusterDF"
   ]
  },
  {
   "cell_type": "code",
   "execution_count": 113,
   "id": "ee4300e6",
   "metadata": {},
   "outputs": [],
   "source": [
    "cluster0DF = clusterDF.loc[clusterDF['cluster'] == 0]\n",
    "cluster1DF = clusterDF.loc[clusterDF['cluster'] == 1]\n",
    "cluster2DF = clusterDF.loc[clusterDF['cluster'] == 2]\n",
    "cluster3DF = clusterDF.loc[clusterDF['cluster'] == 3]"
   ]
  },
  {
   "cell_type": "markdown",
   "id": "1d498706",
   "metadata": {},
   "source": [
    "# Cluster Analysis"
   ]
  },
  {
   "cell_type": "code",
   "execution_count": 115,
   "id": "1396ca36",
   "metadata": {},
   "outputs": [
    {
     "data": {
      "text/html": [
       "<div>\n",
       "<style scoped>\n",
       "    .dataframe tbody tr th:only-of-type {\n",
       "        vertical-align: middle;\n",
       "    }\n",
       "\n",
       "    .dataframe tbody tr th {\n",
       "        vertical-align: top;\n",
       "    }\n",
       "\n",
       "    .dataframe thead th {\n",
       "        text-align: right;\n",
       "    }\n",
       "</style>\n",
       "<table border=\"1\" class=\"dataframe\">\n",
       "  <thead>\n",
       "    <tr style=\"text-align: right;\">\n",
       "      <th></th>\n",
       "      <th>age</th>\n",
       "      <th>income</th>\n",
       "      <th>year_became_member</th>\n",
       "      <th>BOGO_Number</th>\n",
       "      <th>Discount_Number</th>\n",
       "      <th>Informational_Number</th>\n",
       "      <th>reward_avg</th>\n",
       "      <th>difficulty_avg</th>\n",
       "      <th>duration_avg</th>\n",
       "      <th>web</th>\n",
       "      <th>...</th>\n",
       "      <th>ratio_completed</th>\n",
       "      <th>ratio_viewed</th>\n",
       "      <th>most_recent</th>\n",
       "      <th>total_spent</th>\n",
       "      <th>transactions_number</th>\n",
       "      <th>M_score</th>\n",
       "      <th>R_score</th>\n",
       "      <th>F_score</th>\n",
       "      <th>gender_encode</th>\n",
       "      <th>cluster</th>\n",
       "    </tr>\n",
       "  </thead>\n",
       "  <tbody>\n",
       "    <tr>\n",
       "      <th>count</th>\n",
       "      <td>3953.000000</td>\n",
       "      <td>3953.000000</td>\n",
       "      <td>3953.000000</td>\n",
       "      <td>3953.000000</td>\n",
       "      <td>3953.000000</td>\n",
       "      <td>3953.000000</td>\n",
       "      <td>3953.000000</td>\n",
       "      <td>3953.000000</td>\n",
       "      <td>3953.000000</td>\n",
       "      <td>3953.000000</td>\n",
       "      <td>...</td>\n",
       "      <td>3953.000000</td>\n",
       "      <td>3953.000000</td>\n",
       "      <td>3953.000000</td>\n",
       "      <td>3953.000000</td>\n",
       "      <td>3953.000000</td>\n",
       "      <td>3953.000000</td>\n",
       "      <td>3953.000000</td>\n",
       "      <td>3953.000000</td>\n",
       "      <td>3953.000000</td>\n",
       "      <td>3953.0</td>\n",
       "    </tr>\n",
       "    <tr>\n",
       "      <th>mean</th>\n",
       "      <td>55.608146</td>\n",
       "      <td>69351.125727</td>\n",
       "      <td>2016.325828</td>\n",
       "      <td>6.470276</td>\n",
       "      <td>5.948394</td>\n",
       "      <td>1.321528</td>\n",
       "      <td>4.777743</td>\n",
       "      <td>8.133931</td>\n",
       "      <td>6.749847</td>\n",
       "      <td>11.423982</td>\n",
       "      <td>...</td>\n",
       "      <td>0.772198</td>\n",
       "      <td>0.865054</td>\n",
       "      <td>655.938275</td>\n",
       "      <td>211.002168</td>\n",
       "      <td>11.757652</td>\n",
       "      <td>4.192006</td>\n",
       "      <td>3.348090</td>\n",
       "      <td>3.770301</td>\n",
       "      <td>0.509992</td>\n",
       "      <td>0.0</td>\n",
       "    </tr>\n",
       "    <tr>\n",
       "      <th>std</th>\n",
       "      <td>16.820287</td>\n",
       "      <td>21180.498616</td>\n",
       "      <td>1.100737</td>\n",
       "      <td>3.102449</td>\n",
       "      <td>3.197429</td>\n",
       "      <td>1.426891</td>\n",
       "      <td>1.470308</td>\n",
       "      <td>1.784977</td>\n",
       "      <td>0.832844</td>\n",
       "      <td>2.662692</td>\n",
       "      <td>...</td>\n",
       "      <td>0.180269</td>\n",
       "      <td>0.155918</td>\n",
       "      <td>50.047712</td>\n",
       "      <td>166.605445</td>\n",
       "      <td>5.082264</td>\n",
       "      <td>0.924978</td>\n",
       "      <td>1.197905</td>\n",
       "      <td>1.112525</td>\n",
       "      <td>0.531844</td>\n",
       "      <td>0.0</td>\n",
       "    </tr>\n",
       "    <tr>\n",
       "      <th>min</th>\n",
       "      <td>18.000000</td>\n",
       "      <td>30000.000000</td>\n",
       "      <td>2013.000000</td>\n",
       "      <td>0.000000</td>\n",
       "      <td>0.000000</td>\n",
       "      <td>0.000000</td>\n",
       "      <td>1.200000</td>\n",
       "      <td>3.400000</td>\n",
       "      <td>4.200000</td>\n",
       "      <td>0.000000</td>\n",
       "      <td>...</td>\n",
       "      <td>0.170000</td>\n",
       "      <td>0.330000</td>\n",
       "      <td>372.000000</td>\n",
       "      <td>21.470000</td>\n",
       "      <td>1.000000</td>\n",
       "      <td>1.000000</td>\n",
       "      <td>1.000000</td>\n",
       "      <td>1.000000</td>\n",
       "      <td>0.000000</td>\n",
       "      <td>0.0</td>\n",
       "    </tr>\n",
       "    <tr>\n",
       "      <th>25%</th>\n",
       "      <td>45.000000</td>\n",
       "      <td>54000.000000</td>\n",
       "      <td>2016.000000</td>\n",
       "      <td>4.000000</td>\n",
       "      <td>3.000000</td>\n",
       "      <td>0.000000</td>\n",
       "      <td>3.714286</td>\n",
       "      <td>6.882353</td>\n",
       "      <td>6.142857</td>\n",
       "      <td>10.000000</td>\n",
       "      <td>...</td>\n",
       "      <td>0.670000</td>\n",
       "      <td>0.800000</td>\n",
       "      <td>630.000000</td>\n",
       "      <td>121.080000</td>\n",
       "      <td>8.000000</td>\n",
       "      <td>4.000000</td>\n",
       "      <td>2.000000</td>\n",
       "      <td>3.000000</td>\n",
       "      <td>0.000000</td>\n",
       "      <td>0.0</td>\n",
       "    </tr>\n",
       "    <tr>\n",
       "      <th>50%</th>\n",
       "      <td>56.000000</td>\n",
       "      <td>68000.000000</td>\n",
       "      <td>2016.000000</td>\n",
       "      <td>6.000000</td>\n",
       "      <td>6.000000</td>\n",
       "      <td>1.000000</td>\n",
       "      <td>4.687500</td>\n",
       "      <td>8.000000</td>\n",
       "      <td>6.714286</td>\n",
       "      <td>12.000000</td>\n",
       "      <td>...</td>\n",
       "      <td>0.800000</td>\n",
       "      <td>0.830000</td>\n",
       "      <td>666.000000</td>\n",
       "      <td>176.530000</td>\n",
       "      <td>11.000000</td>\n",
       "      <td>4.000000</td>\n",
       "      <td>3.000000</td>\n",
       "      <td>4.000000</td>\n",
       "      <td>0.000000</td>\n",
       "      <td>0.0</td>\n",
       "    </tr>\n",
       "    <tr>\n",
       "      <th>75%</th>\n",
       "      <td>67.000000</td>\n",
       "      <td>85000.000000</td>\n",
       "      <td>2017.000000</td>\n",
       "      <td>9.000000</td>\n",
       "      <td>8.000000</td>\n",
       "      <td>2.000000</td>\n",
       "      <td>5.785714</td>\n",
       "      <td>9.250000</td>\n",
       "      <td>7.272727</td>\n",
       "      <td>13.000000</td>\n",
       "      <td>...</td>\n",
       "      <td>1.000000</td>\n",
       "      <td>1.000000</td>\n",
       "      <td>696.000000</td>\n",
       "      <td>244.960000</td>\n",
       "      <td>15.000000</td>\n",
       "      <td>5.000000</td>\n",
       "      <td>4.000000</td>\n",
       "      <td>5.000000</td>\n",
       "      <td>1.000000</td>\n",
       "      <td>0.0</td>\n",
       "    </tr>\n",
       "    <tr>\n",
       "      <th>max</th>\n",
       "      <td>101.000000</td>\n",
       "      <td>120000.000000</td>\n",
       "      <td>2018.000000</td>\n",
       "      <td>18.000000</td>\n",
       "      <td>17.000000</td>\n",
       "      <td>7.000000</td>\n",
       "      <td>10.000000</td>\n",
       "      <td>16.000000</td>\n",
       "      <td>10.000000</td>\n",
       "      <td>18.000000</td>\n",
       "      <td>...</td>\n",
       "      <td>1.000000</td>\n",
       "      <td>1.000000</td>\n",
       "      <td>714.000000</td>\n",
       "      <td>1608.690000</td>\n",
       "      <td>36.000000</td>\n",
       "      <td>5.000000</td>\n",
       "      <td>5.000000</td>\n",
       "      <td>5.000000</td>\n",
       "      <td>2.000000</td>\n",
       "      <td>0.0</td>\n",
       "    </tr>\n",
       "  </tbody>\n",
       "</table>\n",
       "<p>8 rows × 26 columns</p>\n",
       "</div>"
      ],
      "text/plain": [
       "               age         income  year_became_member  BOGO_Number  \\\n",
       "count  3953.000000    3953.000000         3953.000000  3953.000000   \n",
       "mean     55.608146   69351.125727         2016.325828     6.470276   \n",
       "std      16.820287   21180.498616            1.100737     3.102449   \n",
       "min      18.000000   30000.000000         2013.000000     0.000000   \n",
       "25%      45.000000   54000.000000         2016.000000     4.000000   \n",
       "50%      56.000000   68000.000000         2016.000000     6.000000   \n",
       "75%      67.000000   85000.000000         2017.000000     9.000000   \n",
       "max     101.000000  120000.000000         2018.000000    18.000000   \n",
       "\n",
       "       Discount_Number  Informational_Number   reward_avg  difficulty_avg  \\\n",
       "count      3953.000000           3953.000000  3953.000000     3953.000000   \n",
       "mean          5.948394              1.321528     4.777743        8.133931   \n",
       "std           3.197429              1.426891     1.470308        1.784977   \n",
       "min           0.000000              0.000000     1.200000        3.400000   \n",
       "25%           3.000000              0.000000     3.714286        6.882353   \n",
       "50%           6.000000              1.000000     4.687500        8.000000   \n",
       "75%           8.000000              2.000000     5.785714        9.250000   \n",
       "max          17.000000              7.000000    10.000000       16.000000   \n",
       "\n",
       "       duration_avg          web  ...  ratio_completed  ratio_viewed  \\\n",
       "count   3953.000000  3953.000000  ...      3953.000000   3953.000000   \n",
       "mean       6.749847    11.423982  ...         0.772198      0.865054   \n",
       "std        0.832844     2.662692  ...         0.180269      0.155918   \n",
       "min        4.200000     0.000000  ...         0.170000      0.330000   \n",
       "25%        6.142857    10.000000  ...         0.670000      0.800000   \n",
       "50%        6.714286    12.000000  ...         0.800000      0.830000   \n",
       "75%        7.272727    13.000000  ...         1.000000      1.000000   \n",
       "max       10.000000    18.000000  ...         1.000000      1.000000   \n",
       "\n",
       "       most_recent  total_spent  transactions_number      M_score  \\\n",
       "count  3953.000000  3953.000000          3953.000000  3953.000000   \n",
       "mean    655.938275   211.002168            11.757652     4.192006   \n",
       "std      50.047712   166.605445             5.082264     0.924978   \n",
       "min     372.000000    21.470000             1.000000     1.000000   \n",
       "25%     630.000000   121.080000             8.000000     4.000000   \n",
       "50%     666.000000   176.530000            11.000000     4.000000   \n",
       "75%     696.000000   244.960000            15.000000     5.000000   \n",
       "max     714.000000  1608.690000            36.000000     5.000000   \n",
       "\n",
       "           R_score      F_score  gender_encode  cluster  \n",
       "count  3953.000000  3953.000000    3953.000000   3953.0  \n",
       "mean      3.348090     3.770301       0.509992      0.0  \n",
       "std       1.197905     1.112525       0.531844      0.0  \n",
       "min       1.000000     1.000000       0.000000      0.0  \n",
       "25%       2.000000     3.000000       0.000000      0.0  \n",
       "50%       3.000000     4.000000       0.000000      0.0  \n",
       "75%       4.000000     5.000000       1.000000      0.0  \n",
       "max       5.000000     5.000000       2.000000      0.0  \n",
       "\n",
       "[8 rows x 26 columns]"
      ]
     },
     "execution_count": 115,
     "metadata": {},
     "output_type": "execute_result"
    }
   ],
   "source": [
    "cluster0DF.iloc[:,2:].describe()"
   ]
  },
  {
   "cell_type": "code",
   "execution_count": 116,
   "id": "ef840983",
   "metadata": {},
   "outputs": [
    {
     "data": {
      "text/html": [
       "<div>\n",
       "<style scoped>\n",
       "    .dataframe tbody tr th:only-of-type {\n",
       "        vertical-align: middle;\n",
       "    }\n",
       "\n",
       "    .dataframe tbody tr th {\n",
       "        vertical-align: top;\n",
       "    }\n",
       "\n",
       "    .dataframe thead th {\n",
       "        text-align: right;\n",
       "    }\n",
       "</style>\n",
       "<table border=\"1\" class=\"dataframe\">\n",
       "  <thead>\n",
       "    <tr style=\"text-align: right;\">\n",
       "      <th></th>\n",
       "      <th>age</th>\n",
       "      <th>income</th>\n",
       "      <th>year_became_member</th>\n",
       "      <th>BOGO_Number</th>\n",
       "      <th>Discount_Number</th>\n",
       "      <th>Informational_Number</th>\n",
       "      <th>reward_avg</th>\n",
       "      <th>difficulty_avg</th>\n",
       "      <th>duration_avg</th>\n",
       "      <th>web</th>\n",
       "      <th>...</th>\n",
       "      <th>ratio_completed</th>\n",
       "      <th>ratio_viewed</th>\n",
       "      <th>most_recent</th>\n",
       "      <th>total_spent</th>\n",
       "      <th>transactions_number</th>\n",
       "      <th>M_score</th>\n",
       "      <th>R_score</th>\n",
       "      <th>F_score</th>\n",
       "      <th>gender_encode</th>\n",
       "      <th>cluster</th>\n",
       "    </tr>\n",
       "  </thead>\n",
       "  <tbody>\n",
       "    <tr>\n",
       "      <th>count</th>\n",
       "      <td>3458.000000</td>\n",
       "      <td>3458.000000</td>\n",
       "      <td>3458.000000</td>\n",
       "      <td>3458.000000</td>\n",
       "      <td>3458.000000</td>\n",
       "      <td>3458.000000</td>\n",
       "      <td>3458.000000</td>\n",
       "      <td>3458.000000</td>\n",
       "      <td>3458.000000</td>\n",
       "      <td>3458.000000</td>\n",
       "      <td>...</td>\n",
       "      <td>3458.000000</td>\n",
       "      <td>3458.000000</td>\n",
       "      <td>3458.000000</td>\n",
       "      <td>3458.000000</td>\n",
       "      <td>3458.000000</td>\n",
       "      <td>3458.000000</td>\n",
       "      <td>3458.000000</td>\n",
       "      <td>3458.000000</td>\n",
       "      <td>3458.000000</td>\n",
       "      <td>3458.0</td>\n",
       "    </tr>\n",
       "    <tr>\n",
       "      <th>mean</th>\n",
       "      <td>51.508676</td>\n",
       "      <td>58807.981492</td>\n",
       "      <td>2017.053788</td>\n",
       "      <td>2.675824</td>\n",
       "      <td>2.420185</td>\n",
       "      <td>1.239734</td>\n",
       "      <td>4.329273</td>\n",
       "      <td>7.742314</td>\n",
       "      <td>6.456664</td>\n",
       "      <td>4.970214</td>\n",
       "      <td>...</td>\n",
       "      <td>0.166408</td>\n",
       "      <td>0.580951</td>\n",
       "      <td>564.034702</td>\n",
       "      <td>36.323809</td>\n",
       "      <td>4.976287</td>\n",
       "      <td>1.693464</td>\n",
       "      <td>2.417582</td>\n",
       "      <td>1.857432</td>\n",
       "      <td>0.331116</td>\n",
       "      <td>1.0</td>\n",
       "    </tr>\n",
       "    <tr>\n",
       "      <th>std</th>\n",
       "      <td>17.862411</td>\n",
       "      <td>20504.248625</td>\n",
       "      <td>1.112944</td>\n",
       "      <td>1.889453</td>\n",
       "      <td>1.833263</td>\n",
       "      <td>1.235885</td>\n",
       "      <td>1.985255</td>\n",
       "      <td>2.886380</td>\n",
       "      <td>1.199843</td>\n",
       "      <td>1.941726</td>\n",
       "      <td>...</td>\n",
       "      <td>0.225777</td>\n",
       "      <td>0.268130</td>\n",
       "      <td>167.430806</td>\n",
       "      <td>45.069734</td>\n",
       "      <td>3.140618</td>\n",
       "      <td>0.932347</td>\n",
       "      <td>1.368370</td>\n",
       "      <td>1.036604</td>\n",
       "      <td>0.491723</td>\n",
       "      <td>0.0</td>\n",
       "    </tr>\n",
       "    <tr>\n",
       "      <th>min</th>\n",
       "      <td>18.000000</td>\n",
       "      <td>30000.000000</td>\n",
       "      <td>2013.000000</td>\n",
       "      <td>0.000000</td>\n",
       "      <td>0.000000</td>\n",
       "      <td>0.000000</td>\n",
       "      <td>0.000000</td>\n",
       "      <td>0.000000</td>\n",
       "      <td>3.000000</td>\n",
       "      <td>0.000000</td>\n",
       "      <td>...</td>\n",
       "      <td>0.000000</td>\n",
       "      <td>0.000000</td>\n",
       "      <td>0.000000</td>\n",
       "      <td>0.000000</td>\n",
       "      <td>0.000000</td>\n",
       "      <td>1.000000</td>\n",
       "      <td>1.000000</td>\n",
       "      <td>1.000000</td>\n",
       "      <td>0.000000</td>\n",
       "      <td>1.0</td>\n",
       "    </tr>\n",
       "    <tr>\n",
       "      <th>25%</th>\n",
       "      <td>37.000000</td>\n",
       "      <td>42000.000000</td>\n",
       "      <td>2017.000000</td>\n",
       "      <td>1.000000</td>\n",
       "      <td>1.000000</td>\n",
       "      <td>0.000000</td>\n",
       "      <td>2.857143</td>\n",
       "      <td>5.857143</td>\n",
       "      <td>5.666667</td>\n",
       "      <td>4.000000</td>\n",
       "      <td>...</td>\n",
       "      <td>0.000000</td>\n",
       "      <td>0.400000</td>\n",
       "      <td>528.000000</td>\n",
       "      <td>11.172500</td>\n",
       "      <td>3.000000</td>\n",
       "      <td>1.000000</td>\n",
       "      <td>1.000000</td>\n",
       "      <td>1.000000</td>\n",
       "      <td>0.000000</td>\n",
       "      <td>1.0</td>\n",
       "    </tr>\n",
       "    <tr>\n",
       "      <th>50%</th>\n",
       "      <td>53.000000</td>\n",
       "      <td>56000.000000</td>\n",
       "      <td>2017.000000</td>\n",
       "      <td>2.000000</td>\n",
       "      <td>2.000000</td>\n",
       "      <td>1.000000</td>\n",
       "      <td>4.250000</td>\n",
       "      <td>7.625000</td>\n",
       "      <td>6.400000</td>\n",
       "      <td>5.000000</td>\n",
       "      <td>...</td>\n",
       "      <td>0.000000</td>\n",
       "      <td>0.500000</td>\n",
       "      <td>612.000000</td>\n",
       "      <td>20.370000</td>\n",
       "      <td>5.000000</td>\n",
       "      <td>1.000000</td>\n",
       "      <td>2.000000</td>\n",
       "      <td>2.000000</td>\n",
       "      <td>0.000000</td>\n",
       "      <td>1.0</td>\n",
       "    </tr>\n",
       "    <tr>\n",
       "      <th>75%</th>\n",
       "      <td>64.000000</td>\n",
       "      <td>71000.000000</td>\n",
       "      <td>2018.000000</td>\n",
       "      <td>4.000000</td>\n",
       "      <td>4.000000</td>\n",
       "      <td>2.000000</td>\n",
       "      <td>5.666667</td>\n",
       "      <td>10.000000</td>\n",
       "      <td>7.222222</td>\n",
       "      <td>6.000000</td>\n",
       "      <td>...</td>\n",
       "      <td>0.330000</td>\n",
       "      <td>0.750000</td>\n",
       "      <td>672.000000</td>\n",
       "      <td>45.507500</td>\n",
       "      <td>6.000000</td>\n",
       "      <td>2.000000</td>\n",
       "      <td>4.000000</td>\n",
       "      <td>2.000000</td>\n",
       "      <td>1.000000</td>\n",
       "      <td>1.0</td>\n",
       "    </tr>\n",
       "    <tr>\n",
       "      <th>max</th>\n",
       "      <td>101.000000</td>\n",
       "      <td>119000.000000</td>\n",
       "      <td>2018.000000</td>\n",
       "      <td>9.000000</td>\n",
       "      <td>9.000000</td>\n",
       "      <td>6.000000</td>\n",
       "      <td>10.000000</td>\n",
       "      <td>20.000000</td>\n",
       "      <td>10.000000</td>\n",
       "      <td>10.000000</td>\n",
       "      <td>...</td>\n",
       "      <td>1.000000</td>\n",
       "      <td>1.000000</td>\n",
       "      <td>714.000000</td>\n",
       "      <td>743.070000</td>\n",
       "      <td>23.000000</td>\n",
       "      <td>5.000000</td>\n",
       "      <td>5.000000</td>\n",
       "      <td>5.000000</td>\n",
       "      <td>2.000000</td>\n",
       "      <td>1.0</td>\n",
       "    </tr>\n",
       "  </tbody>\n",
       "</table>\n",
       "<p>8 rows × 26 columns</p>\n",
       "</div>"
      ],
      "text/plain": [
       "               age         income  year_became_member  BOGO_Number  \\\n",
       "count  3458.000000    3458.000000         3458.000000  3458.000000   \n",
       "mean     51.508676   58807.981492         2017.053788     2.675824   \n",
       "std      17.862411   20504.248625            1.112944     1.889453   \n",
       "min      18.000000   30000.000000         2013.000000     0.000000   \n",
       "25%      37.000000   42000.000000         2017.000000     1.000000   \n",
       "50%      53.000000   56000.000000         2017.000000     2.000000   \n",
       "75%      64.000000   71000.000000         2018.000000     4.000000   \n",
       "max     101.000000  119000.000000         2018.000000     9.000000   \n",
       "\n",
       "       Discount_Number  Informational_Number   reward_avg  difficulty_avg  \\\n",
       "count      3458.000000           3458.000000  3458.000000     3458.000000   \n",
       "mean          2.420185              1.239734     4.329273        7.742314   \n",
       "std           1.833263              1.235885     1.985255        2.886380   \n",
       "min           0.000000              0.000000     0.000000        0.000000   \n",
       "25%           1.000000              0.000000     2.857143        5.857143   \n",
       "50%           2.000000              1.000000     4.250000        7.625000   \n",
       "75%           4.000000              2.000000     5.666667       10.000000   \n",
       "max           9.000000              6.000000    10.000000       20.000000   \n",
       "\n",
       "       duration_avg          web  ...  ratio_completed  ratio_viewed  \\\n",
       "count   3458.000000  3458.000000  ...      3458.000000   3458.000000   \n",
       "mean       6.456664     4.970214  ...         0.166408      0.580951   \n",
       "std        1.199843     1.941726  ...         0.225777      0.268130   \n",
       "min        3.000000     0.000000  ...         0.000000      0.000000   \n",
       "25%        5.666667     4.000000  ...         0.000000      0.400000   \n",
       "50%        6.400000     5.000000  ...         0.000000      0.500000   \n",
       "75%        7.222222     6.000000  ...         0.330000      0.750000   \n",
       "max       10.000000    10.000000  ...         1.000000      1.000000   \n",
       "\n",
       "       most_recent  total_spent  transactions_number      M_score  \\\n",
       "count  3458.000000  3458.000000          3458.000000  3458.000000   \n",
       "mean    564.034702    36.323809             4.976287     1.693464   \n",
       "std     167.430806    45.069734             3.140618     0.932347   \n",
       "min       0.000000     0.000000             0.000000     1.000000   \n",
       "25%     528.000000    11.172500             3.000000     1.000000   \n",
       "50%     612.000000    20.370000             5.000000     1.000000   \n",
       "75%     672.000000    45.507500             6.000000     2.000000   \n",
       "max     714.000000   743.070000            23.000000     5.000000   \n",
       "\n",
       "           R_score      F_score  gender_encode  cluster  \n",
       "count  3458.000000  3458.000000    3458.000000   3458.0  \n",
       "mean      2.417582     1.857432       0.331116      1.0  \n",
       "std       1.368370     1.036604       0.491723      0.0  \n",
       "min       1.000000     1.000000       0.000000      1.0  \n",
       "25%       1.000000     1.000000       0.000000      1.0  \n",
       "50%       2.000000     2.000000       0.000000      1.0  \n",
       "75%       4.000000     2.000000       1.000000      1.0  \n",
       "max       5.000000     5.000000       2.000000      1.0  \n",
       "\n",
       "[8 rows x 26 columns]"
      ]
     },
     "execution_count": 116,
     "metadata": {},
     "output_type": "execute_result"
    }
   ],
   "source": [
    "cluster1DF.iloc[:,2:].describe()"
   ]
  },
  {
   "cell_type": "code",
   "execution_count": 117,
   "id": "b9fa01c6",
   "metadata": {},
   "outputs": [
    {
     "data": {
      "text/html": [
       "<div>\n",
       "<style scoped>\n",
       "    .dataframe tbody tr th:only-of-type {\n",
       "        vertical-align: middle;\n",
       "    }\n",
       "\n",
       "    .dataframe tbody tr th {\n",
       "        vertical-align: top;\n",
       "    }\n",
       "\n",
       "    .dataframe thead th {\n",
       "        text-align: right;\n",
       "    }\n",
       "</style>\n",
       "<table border=\"1\" class=\"dataframe\">\n",
       "  <thead>\n",
       "    <tr style=\"text-align: right;\">\n",
       "      <th></th>\n",
       "      <th>age</th>\n",
       "      <th>income</th>\n",
       "      <th>year_became_member</th>\n",
       "      <th>BOGO_Number</th>\n",
       "      <th>Discount_Number</th>\n",
       "      <th>Informational_Number</th>\n",
       "      <th>reward_avg</th>\n",
       "      <th>difficulty_avg</th>\n",
       "      <th>duration_avg</th>\n",
       "      <th>web</th>\n",
       "      <th>...</th>\n",
       "      <th>ratio_completed</th>\n",
       "      <th>ratio_viewed</th>\n",
       "      <th>most_recent</th>\n",
       "      <th>total_spent</th>\n",
       "      <th>transactions_number</th>\n",
       "      <th>M_score</th>\n",
       "      <th>R_score</th>\n",
       "      <th>F_score</th>\n",
       "      <th>gender_encode</th>\n",
       "      <th>cluster</th>\n",
       "    </tr>\n",
       "  </thead>\n",
       "  <tbody>\n",
       "    <tr>\n",
       "      <th>count</th>\n",
       "      <td>3847.000000</td>\n",
       "      <td>3847.000000</td>\n",
       "      <td>3847.000000</td>\n",
       "      <td>3847.000000</td>\n",
       "      <td>3847.000000</td>\n",
       "      <td>3847.000000</td>\n",
       "      <td>3847.000000</td>\n",
       "      <td>3847.000000</td>\n",
       "      <td>3847.000000</td>\n",
       "      <td>3847.000000</td>\n",
       "      <td>...</td>\n",
       "      <td>3847.000000</td>\n",
       "      <td>3847.000000</td>\n",
       "      <td>3847.000000</td>\n",
       "      <td>3847.000000</td>\n",
       "      <td>3847.000000</td>\n",
       "      <td>3847.000000</td>\n",
       "      <td>3847.000000</td>\n",
       "      <td>3847.000000</td>\n",
       "      <td>3847.000000</td>\n",
       "      <td>3847.0</td>\n",
       "    </tr>\n",
       "    <tr>\n",
       "      <th>mean</th>\n",
       "      <td>54.597089</td>\n",
       "      <td>66854.951911</td>\n",
       "      <td>2016.146088</td>\n",
       "      <td>3.587991</td>\n",
       "      <td>4.876787</td>\n",
       "      <td>0.906161</td>\n",
       "      <td>4.480861</td>\n",
       "      <td>9.023290</td>\n",
       "      <td>7.147975</td>\n",
       "      <td>7.888485</td>\n",
       "      <td>...</td>\n",
       "      <td>0.665214</td>\n",
       "      <td>0.722506</td>\n",
       "      <td>655.654796</td>\n",
       "      <td>139.899607</td>\n",
       "      <td>10.327008</td>\n",
       "      <td>3.551859</td>\n",
       "      <td>3.404731</td>\n",
       "      <td>3.430205</td>\n",
       "      <td>0.489992</td>\n",
       "      <td>2.0</td>\n",
       "    </tr>\n",
       "    <tr>\n",
       "      <th>std</th>\n",
       "      <td>17.601156</td>\n",
       "      <td>22235.625769</td>\n",
       "      <td>1.225901</td>\n",
       "      <td>2.383094</td>\n",
       "      <td>2.505926</td>\n",
       "      <td>1.083743</td>\n",
       "      <td>1.661536</td>\n",
       "      <td>2.306576</td>\n",
       "      <td>0.968942</td>\n",
       "      <td>2.224477</td>\n",
       "      <td>...</td>\n",
       "      <td>0.237599</td>\n",
       "      <td>0.227427</td>\n",
       "      <td>56.075755</td>\n",
       "      <td>113.698182</td>\n",
       "      <td>4.768336</td>\n",
       "      <td>1.086652</td>\n",
       "      <td>1.247237</td>\n",
       "      <td>1.238468</td>\n",
       "      <td>0.528286</td>\n",
       "      <td>0.0</td>\n",
       "    </tr>\n",
       "    <tr>\n",
       "      <th>min</th>\n",
       "      <td>18.000000</td>\n",
       "      <td>30000.000000</td>\n",
       "      <td>2013.000000</td>\n",
       "      <td>0.000000</td>\n",
       "      <td>0.000000</td>\n",
       "      <td>0.000000</td>\n",
       "      <td>1.000000</td>\n",
       "      <td>2.500000</td>\n",
       "      <td>4.166667</td>\n",
       "      <td>0.000000</td>\n",
       "      <td>...</td>\n",
       "      <td>0.000000</td>\n",
       "      <td>0.000000</td>\n",
       "      <td>360.000000</td>\n",
       "      <td>12.200000</td>\n",
       "      <td>1.000000</td>\n",
       "      <td>1.000000</td>\n",
       "      <td>1.000000</td>\n",
       "      <td>1.000000</td>\n",
       "      <td>0.000000</td>\n",
       "      <td>2.0</td>\n",
       "    </tr>\n",
       "    <tr>\n",
       "      <th>25%</th>\n",
       "      <td>42.000000</td>\n",
       "      <td>49000.000000</td>\n",
       "      <td>2015.000000</td>\n",
       "      <td>2.000000</td>\n",
       "      <td>3.000000</td>\n",
       "      <td>0.000000</td>\n",
       "      <td>3.250000</td>\n",
       "      <td>7.363636</td>\n",
       "      <td>6.428571</td>\n",
       "      <td>6.000000</td>\n",
       "      <td>...</td>\n",
       "      <td>0.500000</td>\n",
       "      <td>0.500000</td>\n",
       "      <td>630.000000</td>\n",
       "      <td>69.015000</td>\n",
       "      <td>7.000000</td>\n",
       "      <td>3.000000</td>\n",
       "      <td>2.000000</td>\n",
       "      <td>3.000000</td>\n",
       "      <td>0.000000</td>\n",
       "      <td>2.0</td>\n",
       "    </tr>\n",
       "    <tr>\n",
       "      <th>50%</th>\n",
       "      <td>56.000000</td>\n",
       "      <td>65000.000000</td>\n",
       "      <td>2016.000000</td>\n",
       "      <td>3.000000</td>\n",
       "      <td>5.000000</td>\n",
       "      <td>0.000000</td>\n",
       "      <td>4.333333</td>\n",
       "      <td>8.846154</td>\n",
       "      <td>7.090909</td>\n",
       "      <td>8.000000</td>\n",
       "      <td>...</td>\n",
       "      <td>0.670000</td>\n",
       "      <td>0.750000</td>\n",
       "      <td>672.000000</td>\n",
       "      <td>121.660000</td>\n",
       "      <td>10.000000</td>\n",
       "      <td>4.000000</td>\n",
       "      <td>4.000000</td>\n",
       "      <td>4.000000</td>\n",
       "      <td>0.000000</td>\n",
       "      <td>2.0</td>\n",
       "    </tr>\n",
       "    <tr>\n",
       "      <th>75%</th>\n",
       "      <td>67.000000</td>\n",
       "      <td>83000.000000</td>\n",
       "      <td>2017.000000</td>\n",
       "      <td>5.000000</td>\n",
       "      <td>6.000000</td>\n",
       "      <td>2.000000</td>\n",
       "      <td>5.545455</td>\n",
       "      <td>10.181818</td>\n",
       "      <td>7.818182</td>\n",
       "      <td>9.000000</td>\n",
       "      <td>...</td>\n",
       "      <td>0.800000</td>\n",
       "      <td>1.000000</td>\n",
       "      <td>696.000000</td>\n",
       "      <td>176.830000</td>\n",
       "      <td>13.000000</td>\n",
       "      <td>4.000000</td>\n",
       "      <td>4.000000</td>\n",
       "      <td>4.000000</td>\n",
       "      <td>1.000000</td>\n",
       "      <td>2.0</td>\n",
       "    </tr>\n",
       "    <tr>\n",
       "      <th>max</th>\n",
       "      <td>101.000000</td>\n",
       "      <td>120000.000000</td>\n",
       "      <td>2018.000000</td>\n",
       "      <td>11.000000</td>\n",
       "      <td>14.000000</td>\n",
       "      <td>5.000000</td>\n",
       "      <td>10.000000</td>\n",
       "      <td>20.000000</td>\n",
       "      <td>10.000000</td>\n",
       "      <td>14.000000</td>\n",
       "      <td>...</td>\n",
       "      <td>1.000000</td>\n",
       "      <td>1.000000</td>\n",
       "      <td>714.000000</td>\n",
       "      <td>1211.760000</td>\n",
       "      <td>36.000000</td>\n",
       "      <td>5.000000</td>\n",
       "      <td>5.000000</td>\n",
       "      <td>5.000000</td>\n",
       "      <td>2.000000</td>\n",
       "      <td>2.0</td>\n",
       "    </tr>\n",
       "  </tbody>\n",
       "</table>\n",
       "<p>8 rows × 26 columns</p>\n",
       "</div>"
      ],
      "text/plain": [
       "               age         income  year_became_member  BOGO_Number  \\\n",
       "count  3847.000000    3847.000000         3847.000000  3847.000000   \n",
       "mean     54.597089   66854.951911         2016.146088     3.587991   \n",
       "std      17.601156   22235.625769            1.225901     2.383094   \n",
       "min      18.000000   30000.000000         2013.000000     0.000000   \n",
       "25%      42.000000   49000.000000         2015.000000     2.000000   \n",
       "50%      56.000000   65000.000000         2016.000000     3.000000   \n",
       "75%      67.000000   83000.000000         2017.000000     5.000000   \n",
       "max     101.000000  120000.000000         2018.000000    11.000000   \n",
       "\n",
       "       Discount_Number  Informational_Number   reward_avg  difficulty_avg  \\\n",
       "count      3847.000000           3847.000000  3847.000000     3847.000000   \n",
       "mean          4.876787              0.906161     4.480861        9.023290   \n",
       "std           2.505926              1.083743     1.661536        2.306576   \n",
       "min           0.000000              0.000000     1.000000        2.500000   \n",
       "25%           3.000000              0.000000     3.250000        7.363636   \n",
       "50%           5.000000              0.000000     4.333333        8.846154   \n",
       "75%           6.000000              2.000000     5.545455       10.181818   \n",
       "max          14.000000              5.000000    10.000000       20.000000   \n",
       "\n",
       "       duration_avg          web  ...  ratio_completed  ratio_viewed  \\\n",
       "count   3847.000000  3847.000000  ...      3847.000000   3847.000000   \n",
       "mean       7.147975     7.888485  ...         0.665214      0.722506   \n",
       "std        0.968942     2.224477  ...         0.237599      0.227427   \n",
       "min        4.166667     0.000000  ...         0.000000      0.000000   \n",
       "25%        6.428571     6.000000  ...         0.500000      0.500000   \n",
       "50%        7.090909     8.000000  ...         0.670000      0.750000   \n",
       "75%        7.818182     9.000000  ...         0.800000      1.000000   \n",
       "max       10.000000    14.000000  ...         1.000000      1.000000   \n",
       "\n",
       "       most_recent  total_spent  transactions_number      M_score  \\\n",
       "count  3847.000000  3847.000000          3847.000000  3847.000000   \n",
       "mean    655.654796   139.899607            10.327008     3.551859   \n",
       "std      56.075755   113.698182             4.768336     1.086652   \n",
       "min     360.000000    12.200000             1.000000     1.000000   \n",
       "25%     630.000000    69.015000             7.000000     3.000000   \n",
       "50%     672.000000   121.660000            10.000000     4.000000   \n",
       "75%     696.000000   176.830000            13.000000     4.000000   \n",
       "max     714.000000  1211.760000            36.000000     5.000000   \n",
       "\n",
       "           R_score      F_score  gender_encode  cluster  \n",
       "count  3847.000000  3847.000000    3847.000000   3847.0  \n",
       "mean      3.404731     3.430205       0.489992      2.0  \n",
       "std       1.247237     1.238468       0.528286      0.0  \n",
       "min       1.000000     1.000000       0.000000      2.0  \n",
       "25%       2.000000     3.000000       0.000000      2.0  \n",
       "50%       4.000000     4.000000       0.000000      2.0  \n",
       "75%       4.000000     4.000000       1.000000      2.0  \n",
       "max       5.000000     5.000000       2.000000      2.0  \n",
       "\n",
       "[8 rows x 26 columns]"
      ]
     },
     "execution_count": 117,
     "metadata": {},
     "output_type": "execute_result"
    }
   ],
   "source": [
    "cluster2DF.iloc[:,2:].describe()"
   ]
  },
  {
   "cell_type": "code",
   "execution_count": 122,
   "id": "d98ef117",
   "metadata": {},
   "outputs": [
    {
     "data": {
      "text/html": [
       "<div>\n",
       "<style scoped>\n",
       "    .dataframe tbody tr th:only-of-type {\n",
       "        vertical-align: middle;\n",
       "    }\n",
       "\n",
       "    .dataframe tbody tr th {\n",
       "        vertical-align: top;\n",
       "    }\n",
       "\n",
       "    .dataframe thead th {\n",
       "        text-align: right;\n",
       "    }\n",
       "</style>\n",
       "<table border=\"1\" class=\"dataframe\">\n",
       "  <thead>\n",
       "    <tr style=\"text-align: right;\">\n",
       "      <th></th>\n",
       "      <th>age</th>\n",
       "      <th>income</th>\n",
       "      <th>year_became_member</th>\n",
       "      <th>BOGO_Number</th>\n",
       "      <th>Discount_Number</th>\n",
       "      <th>Informational_Number</th>\n",
       "      <th>reward_avg</th>\n",
       "      <th>difficulty_avg</th>\n",
       "      <th>duration_avg</th>\n",
       "      <th>web</th>\n",
       "      <th>...</th>\n",
       "      <th>ratio_completed</th>\n",
       "      <th>ratio_viewed</th>\n",
       "      <th>most_recent</th>\n",
       "      <th>total_spent</th>\n",
       "      <th>transactions_number</th>\n",
       "      <th>M_score</th>\n",
       "      <th>R_score</th>\n",
       "      <th>F_score</th>\n",
       "      <th>gender_encode</th>\n",
       "      <th>cluster</th>\n",
       "    </tr>\n",
       "  </thead>\n",
       "  <tbody>\n",
       "    <tr>\n",
       "      <th>count</th>\n",
       "      <td>3562.000000</td>\n",
       "      <td>3562.000000</td>\n",
       "      <td>3562.000000</td>\n",
       "      <td>3562.000000</td>\n",
       "      <td>3562.000000</td>\n",
       "      <td>3562.000000</td>\n",
       "      <td>3562.000000</td>\n",
       "      <td>3562.000000</td>\n",
       "      <td>3562.000000</td>\n",
       "      <td>3562.000000</td>\n",
       "      <td>...</td>\n",
       "      <td>3562.000000</td>\n",
       "      <td>3562.000000</td>\n",
       "      <td>3562.000000</td>\n",
       "      <td>3562.000000</td>\n",
       "      <td>3562.000000</td>\n",
       "      <td>3562.000000</td>\n",
       "      <td>3562.000000</td>\n",
       "      <td>3562.000000</td>\n",
       "      <td>3562.000000</td>\n",
       "      <td>3562.0</td>\n",
       "    </tr>\n",
       "    <tr>\n",
       "      <th>mean</th>\n",
       "      <td>55.607805</td>\n",
       "      <td>65871.982033</td>\n",
       "      <td>2017.038181</td>\n",
       "      <td>4.267546</td>\n",
       "      <td>3.275407</td>\n",
       "      <td>2.712802</td>\n",
       "      <td>3.942639</td>\n",
       "      <td>6.270153</td>\n",
       "      <td>5.931510</td>\n",
       "      <td>7.679674</td>\n",
       "      <td>...</td>\n",
       "      <td>0.291561</td>\n",
       "      <td>0.831053</td>\n",
       "      <td>578.314430</td>\n",
       "      <td>66.479239</td>\n",
       "      <td>5.761931</td>\n",
       "      <td>2.348681</td>\n",
       "      <td>2.474453</td>\n",
       "      <td>2.097979</td>\n",
       "      <td>0.421954</td>\n",
       "      <td>3.0</td>\n",
       "    </tr>\n",
       "    <tr>\n",
       "      <th>std</th>\n",
       "      <td>16.968288</td>\n",
       "      <td>20956.606079</td>\n",
       "      <td>1.053312</td>\n",
       "      <td>2.442258</td>\n",
       "      <td>2.379640</td>\n",
       "      <td>1.773086</td>\n",
       "      <td>1.606145</td>\n",
       "      <td>1.965949</td>\n",
       "      <td>0.912677</td>\n",
       "      <td>2.454272</td>\n",
       "      <td>...</td>\n",
       "      <td>0.216833</td>\n",
       "      <td>0.173994</td>\n",
       "      <td>149.606797</td>\n",
       "      <td>65.720322</td>\n",
       "      <td>3.757988</td>\n",
       "      <td>1.126004</td>\n",
       "      <td>1.353143</td>\n",
       "      <td>1.183383</td>\n",
       "      <td>0.524813</td>\n",
       "      <td>0.0</td>\n",
       "    </tr>\n",
       "    <tr>\n",
       "      <th>min</th>\n",
       "      <td>18.000000</td>\n",
       "      <td>30000.000000</td>\n",
       "      <td>2013.000000</td>\n",
       "      <td>0.000000</td>\n",
       "      <td>0.000000</td>\n",
       "      <td>0.000000</td>\n",
       "      <td>0.000000</td>\n",
       "      <td>0.000000</td>\n",
       "      <td>3.000000</td>\n",
       "      <td>0.000000</td>\n",
       "      <td>...</td>\n",
       "      <td>0.000000</td>\n",
       "      <td>0.170000</td>\n",
       "      <td>0.000000</td>\n",
       "      <td>0.000000</td>\n",
       "      <td>0.000000</td>\n",
       "      <td>1.000000</td>\n",
       "      <td>1.000000</td>\n",
       "      <td>1.000000</td>\n",
       "      <td>0.000000</td>\n",
       "      <td>3.0</td>\n",
       "    </tr>\n",
       "    <tr>\n",
       "      <th>25%</th>\n",
       "      <td>45.000000</td>\n",
       "      <td>51000.000000</td>\n",
       "      <td>2017.000000</td>\n",
       "      <td>3.000000</td>\n",
       "      <td>2.000000</td>\n",
       "      <td>2.000000</td>\n",
       "      <td>2.777778</td>\n",
       "      <td>5.000000</td>\n",
       "      <td>5.300000</td>\n",
       "      <td>6.000000</td>\n",
       "      <td>...</td>\n",
       "      <td>0.170000</td>\n",
       "      <td>0.750000</td>\n",
       "      <td>546.000000</td>\n",
       "      <td>21.950000</td>\n",
       "      <td>3.000000</td>\n",
       "      <td>1.000000</td>\n",
       "      <td>1.000000</td>\n",
       "      <td>1.000000</td>\n",
       "      <td>0.000000</td>\n",
       "      <td>3.0</td>\n",
       "    </tr>\n",
       "    <tr>\n",
       "      <th>50%</th>\n",
       "      <td>56.000000</td>\n",
       "      <td>64000.000000</td>\n",
       "      <td>2017.000000</td>\n",
       "      <td>4.000000</td>\n",
       "      <td>3.000000</td>\n",
       "      <td>2.000000</td>\n",
       "      <td>3.851648</td>\n",
       "      <td>6.250000</td>\n",
       "      <td>5.909091</td>\n",
       "      <td>8.000000</td>\n",
       "      <td>...</td>\n",
       "      <td>0.250000</td>\n",
       "      <td>0.800000</td>\n",
       "      <td>624.000000</td>\n",
       "      <td>49.670000</td>\n",
       "      <td>5.000000</td>\n",
       "      <td>2.000000</td>\n",
       "      <td>2.000000</td>\n",
       "      <td>2.000000</td>\n",
       "      <td>0.000000</td>\n",
       "      <td>3.0</td>\n",
       "    </tr>\n",
       "    <tr>\n",
       "      <th>75%</th>\n",
       "      <td>67.000000</td>\n",
       "      <td>80000.000000</td>\n",
       "      <td>2018.000000</td>\n",
       "      <td>6.000000</td>\n",
       "      <td>5.000000</td>\n",
       "      <td>4.000000</td>\n",
       "      <td>5.000000</td>\n",
       "      <td>7.555556</td>\n",
       "      <td>6.545455</td>\n",
       "      <td>9.000000</td>\n",
       "      <td>...</td>\n",
       "      <td>0.500000</td>\n",
       "      <td>1.000000</td>\n",
       "      <td>672.000000</td>\n",
       "      <td>95.425000</td>\n",
       "      <td>7.000000</td>\n",
       "      <td>3.000000</td>\n",
       "      <td>4.000000</td>\n",
       "      <td>3.000000</td>\n",
       "      <td>1.000000</td>\n",
       "      <td>3.0</td>\n",
       "    </tr>\n",
       "    <tr>\n",
       "      <th>max</th>\n",
       "      <td>101.000000</td>\n",
       "      <td>120000.000000</td>\n",
       "      <td>2018.000000</td>\n",
       "      <td>13.000000</td>\n",
       "      <td>12.000000</td>\n",
       "      <td>10.000000</td>\n",
       "      <td>10.000000</td>\n",
       "      <td>13.571429</td>\n",
       "      <td>9.500000</td>\n",
       "      <td>15.000000</td>\n",
       "      <td>...</td>\n",
       "      <td>1.000000</td>\n",
       "      <td>1.000000</td>\n",
       "      <td>714.000000</td>\n",
       "      <td>1016.930000</td>\n",
       "      <td>25.000000</td>\n",
       "      <td>5.000000</td>\n",
       "      <td>5.000000</td>\n",
       "      <td>5.000000</td>\n",
       "      <td>2.000000</td>\n",
       "      <td>3.0</td>\n",
       "    </tr>\n",
       "  </tbody>\n",
       "</table>\n",
       "<p>8 rows × 26 columns</p>\n",
       "</div>"
      ],
      "text/plain": [
       "               age         income  year_became_member  BOGO_Number  \\\n",
       "count  3562.000000    3562.000000         3562.000000  3562.000000   \n",
       "mean     55.607805   65871.982033         2017.038181     4.267546   \n",
       "std      16.968288   20956.606079            1.053312     2.442258   \n",
       "min      18.000000   30000.000000         2013.000000     0.000000   \n",
       "25%      45.000000   51000.000000         2017.000000     3.000000   \n",
       "50%      56.000000   64000.000000         2017.000000     4.000000   \n",
       "75%      67.000000   80000.000000         2018.000000     6.000000   \n",
       "max     101.000000  120000.000000         2018.000000    13.000000   \n",
       "\n",
       "       Discount_Number  Informational_Number   reward_avg  difficulty_avg  \\\n",
       "count      3562.000000           3562.000000  3562.000000     3562.000000   \n",
       "mean          3.275407              2.712802     3.942639        6.270153   \n",
       "std           2.379640              1.773086     1.606145        1.965949   \n",
       "min           0.000000              0.000000     0.000000        0.000000   \n",
       "25%           2.000000              2.000000     2.777778        5.000000   \n",
       "50%           3.000000              2.000000     3.851648        6.250000   \n",
       "75%           5.000000              4.000000     5.000000        7.555556   \n",
       "max          12.000000             10.000000    10.000000       13.571429   \n",
       "\n",
       "       duration_avg          web  ...  ratio_completed  ratio_viewed  \\\n",
       "count   3562.000000  3562.000000  ...      3562.000000   3562.000000   \n",
       "mean       5.931510     7.679674  ...         0.291561      0.831053   \n",
       "std        0.912677     2.454272  ...         0.216833      0.173994   \n",
       "min        3.000000     0.000000  ...         0.000000      0.170000   \n",
       "25%        5.300000     6.000000  ...         0.170000      0.750000   \n",
       "50%        5.909091     8.000000  ...         0.250000      0.800000   \n",
       "75%        6.545455     9.000000  ...         0.500000      1.000000   \n",
       "max        9.500000    15.000000  ...         1.000000      1.000000   \n",
       "\n",
       "       most_recent  total_spent  transactions_number      M_score  \\\n",
       "count  3562.000000  3562.000000          3562.000000  3562.000000   \n",
       "mean    578.314430    66.479239             5.761931     2.348681   \n",
       "std     149.606797    65.720322             3.757988     1.126004   \n",
       "min       0.000000     0.000000             0.000000     1.000000   \n",
       "25%     546.000000    21.950000             3.000000     1.000000   \n",
       "50%     624.000000    49.670000             5.000000     2.000000   \n",
       "75%     672.000000    95.425000             7.000000     3.000000   \n",
       "max     714.000000  1016.930000            25.000000     5.000000   \n",
       "\n",
       "           R_score      F_score  gender_encode  cluster  \n",
       "count  3562.000000  3562.000000    3562.000000   3562.0  \n",
       "mean      2.474453     2.097979       0.421954      3.0  \n",
       "std       1.353143     1.183383       0.524813      0.0  \n",
       "min       1.000000     1.000000       0.000000      3.0  \n",
       "25%       1.000000     1.000000       0.000000      3.0  \n",
       "50%       2.000000     2.000000       0.000000      3.0  \n",
       "75%       4.000000     3.000000       1.000000      3.0  \n",
       "max       5.000000     5.000000       2.000000      3.0  \n",
       "\n",
       "[8 rows x 26 columns]"
      ]
     },
     "execution_count": 122,
     "metadata": {},
     "output_type": "execute_result"
    }
   ],
   "source": [
    "cluster3DF.iloc[:,2:].describe()"
   ]
  },
  {
   "cell_type": "markdown",
   "id": "a1ca2d32",
   "metadata": {},
   "source": [
    "### Use Radar Plots to compare like metrics of the 4 clusters"
   ]
  },
  {
   "cell_type": "code",
   "execution_count": 131,
   "id": "5be2e615",
   "metadata": {},
   "outputs": [
    {
     "data": {
      "text/html": [
       "<div>\n",
       "<style scoped>\n",
       "    .dataframe tbody tr th:only-of-type {\n",
       "        vertical-align: middle;\n",
       "    }\n",
       "\n",
       "    .dataframe tbody tr th {\n",
       "        vertical-align: top;\n",
       "    }\n",
       "\n",
       "    .dataframe thead th {\n",
       "        text-align: right;\n",
       "    }\n",
       "</style>\n",
       "<table border=\"1\" class=\"dataframe\">\n",
       "  <thead>\n",
       "    <tr style=\"text-align: right;\">\n",
       "      <th></th>\n",
       "      <th>age</th>\n",
       "      <th>income</th>\n",
       "      <th>year_became_member</th>\n",
       "      <th>BOGO_Number</th>\n",
       "      <th>Discount_Number</th>\n",
       "      <th>Informational_Number</th>\n",
       "      <th>reward_avg</th>\n",
       "      <th>difficulty_avg</th>\n",
       "      <th>duration_avg</th>\n",
       "      <th>web</th>\n",
       "      <th>...</th>\n",
       "      <th>ratio_completed</th>\n",
       "      <th>ratio_viewed</th>\n",
       "      <th>most_recent</th>\n",
       "      <th>total_spent</th>\n",
       "      <th>transactions_number</th>\n",
       "      <th>M_score</th>\n",
       "      <th>R_score</th>\n",
       "      <th>F_score</th>\n",
       "      <th>gender_encode</th>\n",
       "      <th>cluster</th>\n",
       "    </tr>\n",
       "  </thead>\n",
       "  <tbody>\n",
       "    <tr>\n",
       "      <th>mean</th>\n",
       "      <td>55.608146</td>\n",
       "      <td>69351.125727</td>\n",
       "      <td>2016.325828</td>\n",
       "      <td>6.470276</td>\n",
       "      <td>5.948394</td>\n",
       "      <td>1.321528</td>\n",
       "      <td>4.777743</td>\n",
       "      <td>8.133931</td>\n",
       "      <td>6.749847</td>\n",
       "      <td>11.423982</td>\n",
       "      <td>...</td>\n",
       "      <td>0.772198</td>\n",
       "      <td>0.865054</td>\n",
       "      <td>655.938275</td>\n",
       "      <td>211.002168</td>\n",
       "      <td>11.757652</td>\n",
       "      <td>4.192006</td>\n",
       "      <td>3.348090</td>\n",
       "      <td>3.770301</td>\n",
       "      <td>0.509992</td>\n",
       "      <td>0</td>\n",
       "    </tr>\n",
       "    <tr>\n",
       "      <th>mean</th>\n",
       "      <td>51.508676</td>\n",
       "      <td>58807.981492</td>\n",
       "      <td>2017.053788</td>\n",
       "      <td>2.675824</td>\n",
       "      <td>2.420185</td>\n",
       "      <td>1.239734</td>\n",
       "      <td>4.329273</td>\n",
       "      <td>7.742314</td>\n",
       "      <td>6.456664</td>\n",
       "      <td>4.970214</td>\n",
       "      <td>...</td>\n",
       "      <td>0.166408</td>\n",
       "      <td>0.580951</td>\n",
       "      <td>564.034702</td>\n",
       "      <td>36.323809</td>\n",
       "      <td>4.976287</td>\n",
       "      <td>1.693464</td>\n",
       "      <td>2.417582</td>\n",
       "      <td>1.857432</td>\n",
       "      <td>0.331116</td>\n",
       "      <td>1</td>\n",
       "    </tr>\n",
       "    <tr>\n",
       "      <th>mean</th>\n",
       "      <td>54.597089</td>\n",
       "      <td>66854.951911</td>\n",
       "      <td>2016.146088</td>\n",
       "      <td>3.587991</td>\n",
       "      <td>4.876787</td>\n",
       "      <td>0.906161</td>\n",
       "      <td>4.480861</td>\n",
       "      <td>9.023290</td>\n",
       "      <td>7.147975</td>\n",
       "      <td>7.888485</td>\n",
       "      <td>...</td>\n",
       "      <td>0.665214</td>\n",
       "      <td>0.722506</td>\n",
       "      <td>655.654796</td>\n",
       "      <td>139.899607</td>\n",
       "      <td>10.327008</td>\n",
       "      <td>3.551859</td>\n",
       "      <td>3.404731</td>\n",
       "      <td>3.430205</td>\n",
       "      <td>0.489992</td>\n",
       "      <td>2</td>\n",
       "    </tr>\n",
       "    <tr>\n",
       "      <th>mean</th>\n",
       "      <td>55.607805</td>\n",
       "      <td>65871.982033</td>\n",
       "      <td>2017.038181</td>\n",
       "      <td>4.267546</td>\n",
       "      <td>3.275407</td>\n",
       "      <td>2.712802</td>\n",
       "      <td>3.942639</td>\n",
       "      <td>6.270153</td>\n",
       "      <td>5.931510</td>\n",
       "      <td>7.679674</td>\n",
       "      <td>...</td>\n",
       "      <td>0.291561</td>\n",
       "      <td>0.831053</td>\n",
       "      <td>578.314430</td>\n",
       "      <td>66.479239</td>\n",
       "      <td>5.761931</td>\n",
       "      <td>2.348681</td>\n",
       "      <td>2.474453</td>\n",
       "      <td>2.097979</td>\n",
       "      <td>0.421954</td>\n",
       "      <td>3</td>\n",
       "    </tr>\n",
       "  </tbody>\n",
       "</table>\n",
       "<p>4 rows × 26 columns</p>\n",
       "</div>"
      ],
      "text/plain": [
       "            age        income  year_became_member  BOGO_Number  \\\n",
       "mean  55.608146  69351.125727         2016.325828     6.470276   \n",
       "mean  51.508676  58807.981492         2017.053788     2.675824   \n",
       "mean  54.597089  66854.951911         2016.146088     3.587991   \n",
       "mean  55.607805  65871.982033         2017.038181     4.267546   \n",
       "\n",
       "      Discount_Number  Informational_Number  reward_avg  difficulty_avg  \\\n",
       "mean         5.948394              1.321528    4.777743        8.133931   \n",
       "mean         2.420185              1.239734    4.329273        7.742314   \n",
       "mean         4.876787              0.906161    4.480861        9.023290   \n",
       "mean         3.275407              2.712802    3.942639        6.270153   \n",
       "\n",
       "      duration_avg        web  ...  ratio_completed  ratio_viewed  \\\n",
       "mean      6.749847  11.423982  ...         0.772198      0.865054   \n",
       "mean      6.456664   4.970214  ...         0.166408      0.580951   \n",
       "mean      7.147975   7.888485  ...         0.665214      0.722506   \n",
       "mean      5.931510   7.679674  ...         0.291561      0.831053   \n",
       "\n",
       "      most_recent  total_spent  transactions_number   M_score   R_score  \\\n",
       "mean   655.938275   211.002168            11.757652  4.192006  3.348090   \n",
       "mean   564.034702    36.323809             4.976287  1.693464  2.417582   \n",
       "mean   655.654796   139.899607            10.327008  3.551859  3.404731   \n",
       "mean   578.314430    66.479239             5.761931  2.348681  2.474453   \n",
       "\n",
       "       F_score  gender_encode  cluster  \n",
       "mean  3.770301       0.509992        0  \n",
       "mean  1.857432       0.331116        1  \n",
       "mean  3.430205       0.489992        2  \n",
       "mean  2.097979       0.421954        3  \n",
       "\n",
       "[4 rows x 26 columns]"
      ]
     },
     "execution_count": 131,
     "metadata": {},
     "output_type": "execute_result"
    }
   ],
   "source": [
    "radarDF = pd.concat([cluster0DF.iloc[:,2:].describe().loc[['mean']],cluster1DF.iloc[:,2:].describe().loc[['mean']],cluster2DF.iloc[:,2:].describe().loc[['mean']],cluster3DF.iloc[:,2:].describe().loc[['mean']]])\n",
    "radarDF['cluster'] = [0,1,2,3]\n",
    "radarDF"
   ]
  },
  {
   "cell_type": "code",
   "execution_count": 139,
   "id": "306ede89",
   "metadata": {
    "scrolled": true
   },
   "outputs": [
    {
     "data": {
      "text/html": [
       "<div>\n",
       "<style scoped>\n",
       "    .dataframe tbody tr th:only-of-type {\n",
       "        vertical-align: middle;\n",
       "    }\n",
       "\n",
       "    .dataframe tbody tr th {\n",
       "        vertical-align: top;\n",
       "    }\n",
       "\n",
       "    .dataframe thead th {\n",
       "        text-align: right;\n",
       "    }\n",
       "</style>\n",
       "<table border=\"1\" class=\"dataframe\">\n",
       "  <thead>\n",
       "    <tr style=\"text-align: right;\">\n",
       "      <th></th>\n",
       "      <th>cluster</th>\n",
       "      <th>variable</th>\n",
       "      <th>value</th>\n",
       "    </tr>\n",
       "  </thead>\n",
       "  <tbody>\n",
       "    <tr>\n",
       "      <th>0</th>\n",
       "      <td>0</td>\n",
       "      <td>BOGO_Number</td>\n",
       "      <td>6.470276</td>\n",
       "    </tr>\n",
       "    <tr>\n",
       "      <th>1</th>\n",
       "      <td>1</td>\n",
       "      <td>BOGO_Number</td>\n",
       "      <td>2.675824</td>\n",
       "    </tr>\n",
       "    <tr>\n",
       "      <th>2</th>\n",
       "      <td>2</td>\n",
       "      <td>BOGO_Number</td>\n",
       "      <td>3.587991</td>\n",
       "    </tr>\n",
       "    <tr>\n",
       "      <th>3</th>\n",
       "      <td>3</td>\n",
       "      <td>BOGO_Number</td>\n",
       "      <td>4.267546</td>\n",
       "    </tr>\n",
       "    <tr>\n",
       "      <th>4</th>\n",
       "      <td>0</td>\n",
       "      <td>Discount_Number</td>\n",
       "      <td>5.948394</td>\n",
       "    </tr>\n",
       "    <tr>\n",
       "      <th>5</th>\n",
       "      <td>1</td>\n",
       "      <td>Discount_Number</td>\n",
       "      <td>2.420185</td>\n",
       "    </tr>\n",
       "    <tr>\n",
       "      <th>6</th>\n",
       "      <td>2</td>\n",
       "      <td>Discount_Number</td>\n",
       "      <td>4.876787</td>\n",
       "    </tr>\n",
       "    <tr>\n",
       "      <th>7</th>\n",
       "      <td>3</td>\n",
       "      <td>Discount_Number</td>\n",
       "      <td>3.275407</td>\n",
       "    </tr>\n",
       "    <tr>\n",
       "      <th>8</th>\n",
       "      <td>0</td>\n",
       "      <td>Informational_Number</td>\n",
       "      <td>1.321528</td>\n",
       "    </tr>\n",
       "    <tr>\n",
       "      <th>9</th>\n",
       "      <td>1</td>\n",
       "      <td>Informational_Number</td>\n",
       "      <td>1.239734</td>\n",
       "    </tr>\n",
       "    <tr>\n",
       "      <th>10</th>\n",
       "      <td>2</td>\n",
       "      <td>Informational_Number</td>\n",
       "      <td>0.906161</td>\n",
       "    </tr>\n",
       "    <tr>\n",
       "      <th>11</th>\n",
       "      <td>3</td>\n",
       "      <td>Informational_Number</td>\n",
       "      <td>2.712802</td>\n",
       "    </tr>\n",
       "    <tr>\n",
       "      <th>12</th>\n",
       "      <td>0</td>\n",
       "      <td>reward_avg</td>\n",
       "      <td>4.777743</td>\n",
       "    </tr>\n",
       "    <tr>\n",
       "      <th>13</th>\n",
       "      <td>1</td>\n",
       "      <td>reward_avg</td>\n",
       "      <td>4.329273</td>\n",
       "    </tr>\n",
       "    <tr>\n",
       "      <th>14</th>\n",
       "      <td>2</td>\n",
       "      <td>reward_avg</td>\n",
       "      <td>4.480861</td>\n",
       "    </tr>\n",
       "    <tr>\n",
       "      <th>15</th>\n",
       "      <td>3</td>\n",
       "      <td>reward_avg</td>\n",
       "      <td>3.942639</td>\n",
       "    </tr>\n",
       "    <tr>\n",
       "      <th>16</th>\n",
       "      <td>0</td>\n",
       "      <td>difficulty_avg</td>\n",
       "      <td>8.133931</td>\n",
       "    </tr>\n",
       "    <tr>\n",
       "      <th>17</th>\n",
       "      <td>1</td>\n",
       "      <td>difficulty_avg</td>\n",
       "      <td>7.742314</td>\n",
       "    </tr>\n",
       "    <tr>\n",
       "      <th>18</th>\n",
       "      <td>2</td>\n",
       "      <td>difficulty_avg</td>\n",
       "      <td>9.023290</td>\n",
       "    </tr>\n",
       "    <tr>\n",
       "      <th>19</th>\n",
       "      <td>3</td>\n",
       "      <td>difficulty_avg</td>\n",
       "      <td>6.270153</td>\n",
       "    </tr>\n",
       "    <tr>\n",
       "      <th>20</th>\n",
       "      <td>0</td>\n",
       "      <td>duration_avg</td>\n",
       "      <td>6.749847</td>\n",
       "    </tr>\n",
       "    <tr>\n",
       "      <th>21</th>\n",
       "      <td>1</td>\n",
       "      <td>duration_avg</td>\n",
       "      <td>6.456664</td>\n",
       "    </tr>\n",
       "    <tr>\n",
       "      <th>22</th>\n",
       "      <td>2</td>\n",
       "      <td>duration_avg</td>\n",
       "      <td>7.147975</td>\n",
       "    </tr>\n",
       "    <tr>\n",
       "      <th>23</th>\n",
       "      <td>3</td>\n",
       "      <td>duration_avg</td>\n",
       "      <td>5.931510</td>\n",
       "    </tr>\n",
       "  </tbody>\n",
       "</table>\n",
       "</div>"
      ],
      "text/plain": [
       "    cluster              variable     value\n",
       "0         0           BOGO_Number  6.470276\n",
       "1         1           BOGO_Number  2.675824\n",
       "2         2           BOGO_Number  3.587991\n",
       "3         3           BOGO_Number  4.267546\n",
       "4         0       Discount_Number  5.948394\n",
       "5         1       Discount_Number  2.420185\n",
       "6         2       Discount_Number  4.876787\n",
       "7         3       Discount_Number  3.275407\n",
       "8         0  Informational_Number  1.321528\n",
       "9         1  Informational_Number  1.239734\n",
       "10        2  Informational_Number  0.906161\n",
       "11        3  Informational_Number  2.712802\n",
       "12        0            reward_avg  4.777743\n",
       "13        1            reward_avg  4.329273\n",
       "14        2            reward_avg  4.480861\n",
       "15        3            reward_avg  3.942639\n",
       "16        0        difficulty_avg  8.133931\n",
       "17        1        difficulty_avg  7.742314\n",
       "18        2        difficulty_avg  9.023290\n",
       "19        3        difficulty_avg  6.270153\n",
       "20        0          duration_avg  6.749847\n",
       "21        1          duration_avg  6.456664\n",
       "22        2          duration_avg  7.147975\n",
       "23        3          duration_avg  5.931510"
      ]
     },
     "execution_count": 139,
     "metadata": {},
     "output_type": "execute_result"
    }
   ],
   "source": [
    "A = pd.melt(radarDF.loc[:, ['BOGO_Number','Discount_Number', 'Informational_Number', 'reward_avg', 'difficulty_avg', 'duration_avg', 'cluster']],id_vars='cluster' )\n",
    "A"
   ]
  },
  {
   "cell_type": "code",
   "execution_count": 140,
   "id": "cfa29ab1",
   "metadata": {},
   "outputs": [
    {
     "data": {
      "application/vnd.plotly.v1+json": {
       "config": {
        "plotlyServerURL": "https://plot.ly"
       },
       "data": [
        {
         "hovertemplate": "cluster=0<br>value=%{r}<br>variable=%{theta}<extra></extra>",
         "legendgroup": "0",
         "line": {
          "color": "#636efa",
          "dash": "solid"
         },
         "marker": {
          "symbol": "circle"
         },
         "mode": "lines",
         "name": "0",
         "r": [
          6.470275739944346,
          5.948393625094865,
          1.3215279534530737,
          4.7777425870335435,
          8.13393125973445,
          6.7498473564302275
         ],
         "showlegend": true,
         "subplot": "polar",
         "theta": [
          "BOGO_Number",
          "Discount_Number",
          "Informational_Number",
          "reward_avg",
          "difficulty_avg",
          "duration_avg"
         ],
         "type": "scatterpolar"
        },
        {
         "hovertemplate": "cluster=1<br>value=%{r}<br>variable=%{theta}<extra></extra>",
         "legendgroup": "1",
         "line": {
          "color": "#EF553B",
          "dash": "solid"
         },
         "marker": {
          "symbol": "circle"
         },
         "mode": "lines",
         "name": "1",
         "r": [
          2.6758241758241756,
          2.420185078079815,
          1.239733950260266,
          4.329273285194341,
          7.742313659606905,
          6.456664471702059
         ],
         "showlegend": true,
         "subplot": "polar",
         "theta": [
          "BOGO_Number",
          "Discount_Number",
          "Informational_Number",
          "reward_avg",
          "difficulty_avg",
          "duration_avg"
         ],
         "type": "scatterpolar"
        },
        {
         "hovertemplate": "cluster=2<br>value=%{r}<br>variable=%{theta}<extra></extra>",
         "legendgroup": "2",
         "line": {
          "color": "#00cc96",
          "dash": "solid"
         },
         "marker": {
          "symbol": "circle"
         },
         "mode": "lines",
         "name": "2",
         "r": [
          3.587990642058747,
          4.876787106836496,
          0.9061606446581753,
          4.480860520209366,
          9.02329020588052,
          7.147974661303227
         ],
         "showlegend": true,
         "subplot": "polar",
         "theta": [
          "BOGO_Number",
          "Discount_Number",
          "Informational_Number",
          "reward_avg",
          "difficulty_avg",
          "duration_avg"
         ],
         "type": "scatterpolar"
        },
        {
         "hovertemplate": "cluster=3<br>value=%{r}<br>variable=%{theta}<extra></extra>",
         "legendgroup": "3",
         "line": {
          "color": "#ab63fa",
          "dash": "solid"
         },
         "marker": {
          "symbol": "circle"
         },
         "mode": "lines",
         "name": "3",
         "r": [
          4.267546322290848,
          3.2754070746771475,
          2.7128017967434026,
          3.942639168804248,
          6.2701526824912595,
          5.931509590135359
         ],
         "showlegend": true,
         "subplot": "polar",
         "theta": [
          "BOGO_Number",
          "Discount_Number",
          "Informational_Number",
          "reward_avg",
          "difficulty_avg",
          "duration_avg"
         ],
         "type": "scatterpolar"
        }
       ],
       "layout": {
        "legend": {
         "title": {
          "text": "cluster"
         },
         "tracegroupgap": 0
        },
        "margin": {
         "t": 60
        },
        "polar": {
         "angularaxis": {
          "direction": "clockwise",
          "rotation": 90
         },
         "domain": {
          "x": [
           0,
           1
          ],
          "y": [
           0,
           1
          ]
         }
        },
        "template": {
         "data": {
          "bar": [
           {
            "error_x": {
             "color": "#2a3f5f"
            },
            "error_y": {
             "color": "#2a3f5f"
            },
            "marker": {
             "line": {
              "color": "#E5ECF6",
              "width": 0.5
             },
             "pattern": {
              "fillmode": "overlay",
              "size": 10,
              "solidity": 0.2
             }
            },
            "type": "bar"
           }
          ],
          "barpolar": [
           {
            "marker": {
             "line": {
              "color": "#E5ECF6",
              "width": 0.5
             },
             "pattern": {
              "fillmode": "overlay",
              "size": 10,
              "solidity": 0.2
             }
            },
            "type": "barpolar"
           }
          ],
          "carpet": [
           {
            "aaxis": {
             "endlinecolor": "#2a3f5f",
             "gridcolor": "white",
             "linecolor": "white",
             "minorgridcolor": "white",
             "startlinecolor": "#2a3f5f"
            },
            "baxis": {
             "endlinecolor": "#2a3f5f",
             "gridcolor": "white",
             "linecolor": "white",
             "minorgridcolor": "white",
             "startlinecolor": "#2a3f5f"
            },
            "type": "carpet"
           }
          ],
          "choropleth": [
           {
            "colorbar": {
             "outlinewidth": 0,
             "ticks": ""
            },
            "type": "choropleth"
           }
          ],
          "contour": [
           {
            "colorbar": {
             "outlinewidth": 0,
             "ticks": ""
            },
            "colorscale": [
             [
              0,
              "#0d0887"
             ],
             [
              0.1111111111111111,
              "#46039f"
             ],
             [
              0.2222222222222222,
              "#7201a8"
             ],
             [
              0.3333333333333333,
              "#9c179e"
             ],
             [
              0.4444444444444444,
              "#bd3786"
             ],
             [
              0.5555555555555556,
              "#d8576b"
             ],
             [
              0.6666666666666666,
              "#ed7953"
             ],
             [
              0.7777777777777778,
              "#fb9f3a"
             ],
             [
              0.8888888888888888,
              "#fdca26"
             ],
             [
              1,
              "#f0f921"
             ]
            ],
            "type": "contour"
           }
          ],
          "contourcarpet": [
           {
            "colorbar": {
             "outlinewidth": 0,
             "ticks": ""
            },
            "type": "contourcarpet"
           }
          ],
          "heatmap": [
           {
            "colorbar": {
             "outlinewidth": 0,
             "ticks": ""
            },
            "colorscale": [
             [
              0,
              "#0d0887"
             ],
             [
              0.1111111111111111,
              "#46039f"
             ],
             [
              0.2222222222222222,
              "#7201a8"
             ],
             [
              0.3333333333333333,
              "#9c179e"
             ],
             [
              0.4444444444444444,
              "#bd3786"
             ],
             [
              0.5555555555555556,
              "#d8576b"
             ],
             [
              0.6666666666666666,
              "#ed7953"
             ],
             [
              0.7777777777777778,
              "#fb9f3a"
             ],
             [
              0.8888888888888888,
              "#fdca26"
             ],
             [
              1,
              "#f0f921"
             ]
            ],
            "type": "heatmap"
           }
          ],
          "heatmapgl": [
           {
            "colorbar": {
             "outlinewidth": 0,
             "ticks": ""
            },
            "colorscale": [
             [
              0,
              "#0d0887"
             ],
             [
              0.1111111111111111,
              "#46039f"
             ],
             [
              0.2222222222222222,
              "#7201a8"
             ],
             [
              0.3333333333333333,
              "#9c179e"
             ],
             [
              0.4444444444444444,
              "#bd3786"
             ],
             [
              0.5555555555555556,
              "#d8576b"
             ],
             [
              0.6666666666666666,
              "#ed7953"
             ],
             [
              0.7777777777777778,
              "#fb9f3a"
             ],
             [
              0.8888888888888888,
              "#fdca26"
             ],
             [
              1,
              "#f0f921"
             ]
            ],
            "type": "heatmapgl"
           }
          ],
          "histogram": [
           {
            "marker": {
             "pattern": {
              "fillmode": "overlay",
              "size": 10,
              "solidity": 0.2
             }
            },
            "type": "histogram"
           }
          ],
          "histogram2d": [
           {
            "colorbar": {
             "outlinewidth": 0,
             "ticks": ""
            },
            "colorscale": [
             [
              0,
              "#0d0887"
             ],
             [
              0.1111111111111111,
              "#46039f"
             ],
             [
              0.2222222222222222,
              "#7201a8"
             ],
             [
              0.3333333333333333,
              "#9c179e"
             ],
             [
              0.4444444444444444,
              "#bd3786"
             ],
             [
              0.5555555555555556,
              "#d8576b"
             ],
             [
              0.6666666666666666,
              "#ed7953"
             ],
             [
              0.7777777777777778,
              "#fb9f3a"
             ],
             [
              0.8888888888888888,
              "#fdca26"
             ],
             [
              1,
              "#f0f921"
             ]
            ],
            "type": "histogram2d"
           }
          ],
          "histogram2dcontour": [
           {
            "colorbar": {
             "outlinewidth": 0,
             "ticks": ""
            },
            "colorscale": [
             [
              0,
              "#0d0887"
             ],
             [
              0.1111111111111111,
              "#46039f"
             ],
             [
              0.2222222222222222,
              "#7201a8"
             ],
             [
              0.3333333333333333,
              "#9c179e"
             ],
             [
              0.4444444444444444,
              "#bd3786"
             ],
             [
              0.5555555555555556,
              "#d8576b"
             ],
             [
              0.6666666666666666,
              "#ed7953"
             ],
             [
              0.7777777777777778,
              "#fb9f3a"
             ],
             [
              0.8888888888888888,
              "#fdca26"
             ],
             [
              1,
              "#f0f921"
             ]
            ],
            "type": "histogram2dcontour"
           }
          ],
          "mesh3d": [
           {
            "colorbar": {
             "outlinewidth": 0,
             "ticks": ""
            },
            "type": "mesh3d"
           }
          ],
          "parcoords": [
           {
            "line": {
             "colorbar": {
              "outlinewidth": 0,
              "ticks": ""
             }
            },
            "type": "parcoords"
           }
          ],
          "pie": [
           {
            "automargin": true,
            "type": "pie"
           }
          ],
          "scatter": [
           {
            "fillpattern": {
             "fillmode": "overlay",
             "size": 10,
             "solidity": 0.2
            },
            "type": "scatter"
           }
          ],
          "scatter3d": [
           {
            "line": {
             "colorbar": {
              "outlinewidth": 0,
              "ticks": ""
             }
            },
            "marker": {
             "colorbar": {
              "outlinewidth": 0,
              "ticks": ""
             }
            },
            "type": "scatter3d"
           }
          ],
          "scattercarpet": [
           {
            "marker": {
             "colorbar": {
              "outlinewidth": 0,
              "ticks": ""
             }
            },
            "type": "scattercarpet"
           }
          ],
          "scattergeo": [
           {
            "marker": {
             "colorbar": {
              "outlinewidth": 0,
              "ticks": ""
             }
            },
            "type": "scattergeo"
           }
          ],
          "scattergl": [
           {
            "marker": {
             "colorbar": {
              "outlinewidth": 0,
              "ticks": ""
             }
            },
            "type": "scattergl"
           }
          ],
          "scattermapbox": [
           {
            "marker": {
             "colorbar": {
              "outlinewidth": 0,
              "ticks": ""
             }
            },
            "type": "scattermapbox"
           }
          ],
          "scatterpolar": [
           {
            "marker": {
             "colorbar": {
              "outlinewidth": 0,
              "ticks": ""
             }
            },
            "type": "scatterpolar"
           }
          ],
          "scatterpolargl": [
           {
            "marker": {
             "colorbar": {
              "outlinewidth": 0,
              "ticks": ""
             }
            },
            "type": "scatterpolargl"
           }
          ],
          "scatterternary": [
           {
            "marker": {
             "colorbar": {
              "outlinewidth": 0,
              "ticks": ""
             }
            },
            "type": "scatterternary"
           }
          ],
          "surface": [
           {
            "colorbar": {
             "outlinewidth": 0,
             "ticks": ""
            },
            "colorscale": [
             [
              0,
              "#0d0887"
             ],
             [
              0.1111111111111111,
              "#46039f"
             ],
             [
              0.2222222222222222,
              "#7201a8"
             ],
             [
              0.3333333333333333,
              "#9c179e"
             ],
             [
              0.4444444444444444,
              "#bd3786"
             ],
             [
              0.5555555555555556,
              "#d8576b"
             ],
             [
              0.6666666666666666,
              "#ed7953"
             ],
             [
              0.7777777777777778,
              "#fb9f3a"
             ],
             [
              0.8888888888888888,
              "#fdca26"
             ],
             [
              1,
              "#f0f921"
             ]
            ],
            "type": "surface"
           }
          ],
          "table": [
           {
            "cells": {
             "fill": {
              "color": "#EBF0F8"
             },
             "line": {
              "color": "white"
             }
            },
            "header": {
             "fill": {
              "color": "#C8D4E3"
             },
             "line": {
              "color": "white"
             }
            },
            "type": "table"
           }
          ]
         },
         "layout": {
          "annotationdefaults": {
           "arrowcolor": "#2a3f5f",
           "arrowhead": 0,
           "arrowwidth": 1
          },
          "autotypenumbers": "strict",
          "coloraxis": {
           "colorbar": {
            "outlinewidth": 0,
            "ticks": ""
           }
          },
          "colorscale": {
           "diverging": [
            [
             0,
             "#8e0152"
            ],
            [
             0.1,
             "#c51b7d"
            ],
            [
             0.2,
             "#de77ae"
            ],
            [
             0.3,
             "#f1b6da"
            ],
            [
             0.4,
             "#fde0ef"
            ],
            [
             0.5,
             "#f7f7f7"
            ],
            [
             0.6,
             "#e6f5d0"
            ],
            [
             0.7,
             "#b8e186"
            ],
            [
             0.8,
             "#7fbc41"
            ],
            [
             0.9,
             "#4d9221"
            ],
            [
             1,
             "#276419"
            ]
           ],
           "sequential": [
            [
             0,
             "#0d0887"
            ],
            [
             0.1111111111111111,
             "#46039f"
            ],
            [
             0.2222222222222222,
             "#7201a8"
            ],
            [
             0.3333333333333333,
             "#9c179e"
            ],
            [
             0.4444444444444444,
             "#bd3786"
            ],
            [
             0.5555555555555556,
             "#d8576b"
            ],
            [
             0.6666666666666666,
             "#ed7953"
            ],
            [
             0.7777777777777778,
             "#fb9f3a"
            ],
            [
             0.8888888888888888,
             "#fdca26"
            ],
            [
             1,
             "#f0f921"
            ]
           ],
           "sequentialminus": [
            [
             0,
             "#0d0887"
            ],
            [
             0.1111111111111111,
             "#46039f"
            ],
            [
             0.2222222222222222,
             "#7201a8"
            ],
            [
             0.3333333333333333,
             "#9c179e"
            ],
            [
             0.4444444444444444,
             "#bd3786"
            ],
            [
             0.5555555555555556,
             "#d8576b"
            ],
            [
             0.6666666666666666,
             "#ed7953"
            ],
            [
             0.7777777777777778,
             "#fb9f3a"
            ],
            [
             0.8888888888888888,
             "#fdca26"
            ],
            [
             1,
             "#f0f921"
            ]
           ]
          },
          "colorway": [
           "#636efa",
           "#EF553B",
           "#00cc96",
           "#ab63fa",
           "#FFA15A",
           "#19d3f3",
           "#FF6692",
           "#B6E880",
           "#FF97FF",
           "#FECB52"
          ],
          "font": {
           "color": "#2a3f5f"
          },
          "geo": {
           "bgcolor": "white",
           "lakecolor": "white",
           "landcolor": "#E5ECF6",
           "showlakes": true,
           "showland": true,
           "subunitcolor": "white"
          },
          "hoverlabel": {
           "align": "left"
          },
          "hovermode": "closest",
          "mapbox": {
           "style": "light"
          },
          "paper_bgcolor": "white",
          "plot_bgcolor": "#E5ECF6",
          "polar": {
           "angularaxis": {
            "gridcolor": "white",
            "linecolor": "white",
            "ticks": ""
           },
           "bgcolor": "#E5ECF6",
           "radialaxis": {
            "gridcolor": "white",
            "linecolor": "white",
            "ticks": ""
           }
          },
          "scene": {
           "xaxis": {
            "backgroundcolor": "#E5ECF6",
            "gridcolor": "white",
            "gridwidth": 2,
            "linecolor": "white",
            "showbackground": true,
            "ticks": "",
            "zerolinecolor": "white"
           },
           "yaxis": {
            "backgroundcolor": "#E5ECF6",
            "gridcolor": "white",
            "gridwidth": 2,
            "linecolor": "white",
            "showbackground": true,
            "ticks": "",
            "zerolinecolor": "white"
           },
           "zaxis": {
            "backgroundcolor": "#E5ECF6",
            "gridcolor": "white",
            "gridwidth": 2,
            "linecolor": "white",
            "showbackground": true,
            "ticks": "",
            "zerolinecolor": "white"
           }
          },
          "shapedefaults": {
           "line": {
            "color": "#2a3f5f"
           }
          },
          "ternary": {
           "aaxis": {
            "gridcolor": "white",
            "linecolor": "white",
            "ticks": ""
           },
           "baxis": {
            "gridcolor": "white",
            "linecolor": "white",
            "ticks": ""
           },
           "bgcolor": "#E5ECF6",
           "caxis": {
            "gridcolor": "white",
            "linecolor": "white",
            "ticks": ""
           }
          },
          "title": {
           "x": 0.05
          },
          "xaxis": {
           "automargin": true,
           "gridcolor": "white",
           "linecolor": "white",
           "ticks": "",
           "title": {
            "standoff": 15
           },
           "zerolinecolor": "white",
           "zerolinewidth": 2
          },
          "yaxis": {
           "automargin": true,
           "gridcolor": "white",
           "linecolor": "white",
           "ticks": "",
           "title": {
            "standoff": 15
           },
           "zerolinecolor": "white",
           "zerolinewidth": 2
          }
         }
        }
       }
      },
      "text/html": [
       "<div>                            <div id=\"8b8ec54c-94f8-4463-b815-a75953ce0989\" class=\"plotly-graph-div\" style=\"height:525px; width:100%;\"></div>            <script type=\"text/javascript\">                require([\"plotly\"], function(Plotly) {                    window.PLOTLYENV=window.PLOTLYENV || {};                                    if (document.getElementById(\"8b8ec54c-94f8-4463-b815-a75953ce0989\")) {                    Plotly.newPlot(                        \"8b8ec54c-94f8-4463-b815-a75953ce0989\",                        [{\"hovertemplate\":\"cluster=0<br>value=%{r}<br>variable=%{theta}<extra></extra>\",\"legendgroup\":\"0\",\"line\":{\"color\":\"#636efa\",\"dash\":\"solid\"},\"marker\":{\"symbol\":\"circle\"},\"mode\":\"lines\",\"name\":\"0\",\"r\":[6.470275739944346,5.948393625094865,1.3215279534530737,4.7777425870335435,8.13393125973445,6.7498473564302275],\"showlegend\":true,\"subplot\":\"polar\",\"theta\":[\"BOGO_Number\",\"Discount_Number\",\"Informational_Number\",\"reward_avg\",\"difficulty_avg\",\"duration_avg\"],\"type\":\"scatterpolar\"},{\"hovertemplate\":\"cluster=1<br>value=%{r}<br>variable=%{theta}<extra></extra>\",\"legendgroup\":\"1\",\"line\":{\"color\":\"#EF553B\",\"dash\":\"solid\"},\"marker\":{\"symbol\":\"circle\"},\"mode\":\"lines\",\"name\":\"1\",\"r\":[2.6758241758241756,2.420185078079815,1.239733950260266,4.329273285194341,7.742313659606905,6.456664471702059],\"showlegend\":true,\"subplot\":\"polar\",\"theta\":[\"BOGO_Number\",\"Discount_Number\",\"Informational_Number\",\"reward_avg\",\"difficulty_avg\",\"duration_avg\"],\"type\":\"scatterpolar\"},{\"hovertemplate\":\"cluster=2<br>value=%{r}<br>variable=%{theta}<extra></extra>\",\"legendgroup\":\"2\",\"line\":{\"color\":\"#00cc96\",\"dash\":\"solid\"},\"marker\":{\"symbol\":\"circle\"},\"mode\":\"lines\",\"name\":\"2\",\"r\":[3.587990642058747,4.876787106836496,0.9061606446581753,4.480860520209366,9.02329020588052,7.147974661303227],\"showlegend\":true,\"subplot\":\"polar\",\"theta\":[\"BOGO_Number\",\"Discount_Number\",\"Informational_Number\",\"reward_avg\",\"difficulty_avg\",\"duration_avg\"],\"type\":\"scatterpolar\"},{\"hovertemplate\":\"cluster=3<br>value=%{r}<br>variable=%{theta}<extra></extra>\",\"legendgroup\":\"3\",\"line\":{\"color\":\"#ab63fa\",\"dash\":\"solid\"},\"marker\":{\"symbol\":\"circle\"},\"mode\":\"lines\",\"name\":\"3\",\"r\":[4.267546322290848,3.2754070746771475,2.7128017967434026,3.942639168804248,6.2701526824912595,5.931509590135359],\"showlegend\":true,\"subplot\":\"polar\",\"theta\":[\"BOGO_Number\",\"Discount_Number\",\"Informational_Number\",\"reward_avg\",\"difficulty_avg\",\"duration_avg\"],\"type\":\"scatterpolar\"}],                        {\"template\":{\"data\":{\"histogram2dcontour\":[{\"type\":\"histogram2dcontour\",\"colorbar\":{\"outlinewidth\":0,\"ticks\":\"\"},\"colorscale\":[[0.0,\"#0d0887\"],[0.1111111111111111,\"#46039f\"],[0.2222222222222222,\"#7201a8\"],[0.3333333333333333,\"#9c179e\"],[0.4444444444444444,\"#bd3786\"],[0.5555555555555556,\"#d8576b\"],[0.6666666666666666,\"#ed7953\"],[0.7777777777777778,\"#fb9f3a\"],[0.8888888888888888,\"#fdca26\"],[1.0,\"#f0f921\"]]}],\"choropleth\":[{\"type\":\"choropleth\",\"colorbar\":{\"outlinewidth\":0,\"ticks\":\"\"}}],\"histogram2d\":[{\"type\":\"histogram2d\",\"colorbar\":{\"outlinewidth\":0,\"ticks\":\"\"},\"colorscale\":[[0.0,\"#0d0887\"],[0.1111111111111111,\"#46039f\"],[0.2222222222222222,\"#7201a8\"],[0.3333333333333333,\"#9c179e\"],[0.4444444444444444,\"#bd3786\"],[0.5555555555555556,\"#d8576b\"],[0.6666666666666666,\"#ed7953\"],[0.7777777777777778,\"#fb9f3a\"],[0.8888888888888888,\"#fdca26\"],[1.0,\"#f0f921\"]]}],\"heatmap\":[{\"type\":\"heatmap\",\"colorbar\":{\"outlinewidth\":0,\"ticks\":\"\"},\"colorscale\":[[0.0,\"#0d0887\"],[0.1111111111111111,\"#46039f\"],[0.2222222222222222,\"#7201a8\"],[0.3333333333333333,\"#9c179e\"],[0.4444444444444444,\"#bd3786\"],[0.5555555555555556,\"#d8576b\"],[0.6666666666666666,\"#ed7953\"],[0.7777777777777778,\"#fb9f3a\"],[0.8888888888888888,\"#fdca26\"],[1.0,\"#f0f921\"]]}],\"heatmapgl\":[{\"type\":\"heatmapgl\",\"colorbar\":{\"outlinewidth\":0,\"ticks\":\"\"},\"colorscale\":[[0.0,\"#0d0887\"],[0.1111111111111111,\"#46039f\"],[0.2222222222222222,\"#7201a8\"],[0.3333333333333333,\"#9c179e\"],[0.4444444444444444,\"#bd3786\"],[0.5555555555555556,\"#d8576b\"],[0.6666666666666666,\"#ed7953\"],[0.7777777777777778,\"#fb9f3a\"],[0.8888888888888888,\"#fdca26\"],[1.0,\"#f0f921\"]]}],\"contourcarpet\":[{\"type\":\"contourcarpet\",\"colorbar\":{\"outlinewidth\":0,\"ticks\":\"\"}}],\"contour\":[{\"type\":\"contour\",\"colorbar\":{\"outlinewidth\":0,\"ticks\":\"\"},\"colorscale\":[[0.0,\"#0d0887\"],[0.1111111111111111,\"#46039f\"],[0.2222222222222222,\"#7201a8\"],[0.3333333333333333,\"#9c179e\"],[0.4444444444444444,\"#bd3786\"],[0.5555555555555556,\"#d8576b\"],[0.6666666666666666,\"#ed7953\"],[0.7777777777777778,\"#fb9f3a\"],[0.8888888888888888,\"#fdca26\"],[1.0,\"#f0f921\"]]}],\"surface\":[{\"type\":\"surface\",\"colorbar\":{\"outlinewidth\":0,\"ticks\":\"\"},\"colorscale\":[[0.0,\"#0d0887\"],[0.1111111111111111,\"#46039f\"],[0.2222222222222222,\"#7201a8\"],[0.3333333333333333,\"#9c179e\"],[0.4444444444444444,\"#bd3786\"],[0.5555555555555556,\"#d8576b\"],[0.6666666666666666,\"#ed7953\"],[0.7777777777777778,\"#fb9f3a\"],[0.8888888888888888,\"#fdca26\"],[1.0,\"#f0f921\"]]}],\"mesh3d\":[{\"type\":\"mesh3d\",\"colorbar\":{\"outlinewidth\":0,\"ticks\":\"\"}}],\"scatter\":[{\"fillpattern\":{\"fillmode\":\"overlay\",\"size\":10,\"solidity\":0.2},\"type\":\"scatter\"}],\"parcoords\":[{\"type\":\"parcoords\",\"line\":{\"colorbar\":{\"outlinewidth\":0,\"ticks\":\"\"}}}],\"scatterpolargl\":[{\"type\":\"scatterpolargl\",\"marker\":{\"colorbar\":{\"outlinewidth\":0,\"ticks\":\"\"}}}],\"bar\":[{\"error_x\":{\"color\":\"#2a3f5f\"},\"error_y\":{\"color\":\"#2a3f5f\"},\"marker\":{\"line\":{\"color\":\"#E5ECF6\",\"width\":0.5},\"pattern\":{\"fillmode\":\"overlay\",\"size\":10,\"solidity\":0.2}},\"type\":\"bar\"}],\"scattergeo\":[{\"type\":\"scattergeo\",\"marker\":{\"colorbar\":{\"outlinewidth\":0,\"ticks\":\"\"}}}],\"scatterpolar\":[{\"type\":\"scatterpolar\",\"marker\":{\"colorbar\":{\"outlinewidth\":0,\"ticks\":\"\"}}}],\"histogram\":[{\"marker\":{\"pattern\":{\"fillmode\":\"overlay\",\"size\":10,\"solidity\":0.2}},\"type\":\"histogram\"}],\"scattergl\":[{\"type\":\"scattergl\",\"marker\":{\"colorbar\":{\"outlinewidth\":0,\"ticks\":\"\"}}}],\"scatter3d\":[{\"type\":\"scatter3d\",\"line\":{\"colorbar\":{\"outlinewidth\":0,\"ticks\":\"\"}},\"marker\":{\"colorbar\":{\"outlinewidth\":0,\"ticks\":\"\"}}}],\"scattermapbox\":[{\"type\":\"scattermapbox\",\"marker\":{\"colorbar\":{\"outlinewidth\":0,\"ticks\":\"\"}}}],\"scatterternary\":[{\"type\":\"scatterternary\",\"marker\":{\"colorbar\":{\"outlinewidth\":0,\"ticks\":\"\"}}}],\"scattercarpet\":[{\"type\":\"scattercarpet\",\"marker\":{\"colorbar\":{\"outlinewidth\":0,\"ticks\":\"\"}}}],\"carpet\":[{\"aaxis\":{\"endlinecolor\":\"#2a3f5f\",\"gridcolor\":\"white\",\"linecolor\":\"white\",\"minorgridcolor\":\"white\",\"startlinecolor\":\"#2a3f5f\"},\"baxis\":{\"endlinecolor\":\"#2a3f5f\",\"gridcolor\":\"white\",\"linecolor\":\"white\",\"minorgridcolor\":\"white\",\"startlinecolor\":\"#2a3f5f\"},\"type\":\"carpet\"}],\"table\":[{\"cells\":{\"fill\":{\"color\":\"#EBF0F8\"},\"line\":{\"color\":\"white\"}},\"header\":{\"fill\":{\"color\":\"#C8D4E3\"},\"line\":{\"color\":\"white\"}},\"type\":\"table\"}],\"barpolar\":[{\"marker\":{\"line\":{\"color\":\"#E5ECF6\",\"width\":0.5},\"pattern\":{\"fillmode\":\"overlay\",\"size\":10,\"solidity\":0.2}},\"type\":\"barpolar\"}],\"pie\":[{\"automargin\":true,\"type\":\"pie\"}]},\"layout\":{\"autotypenumbers\":\"strict\",\"colorway\":[\"#636efa\",\"#EF553B\",\"#00cc96\",\"#ab63fa\",\"#FFA15A\",\"#19d3f3\",\"#FF6692\",\"#B6E880\",\"#FF97FF\",\"#FECB52\"],\"font\":{\"color\":\"#2a3f5f\"},\"hovermode\":\"closest\",\"hoverlabel\":{\"align\":\"left\"},\"paper_bgcolor\":\"white\",\"plot_bgcolor\":\"#E5ECF6\",\"polar\":{\"bgcolor\":\"#E5ECF6\",\"angularaxis\":{\"gridcolor\":\"white\",\"linecolor\":\"white\",\"ticks\":\"\"},\"radialaxis\":{\"gridcolor\":\"white\",\"linecolor\":\"white\",\"ticks\":\"\"}},\"ternary\":{\"bgcolor\":\"#E5ECF6\",\"aaxis\":{\"gridcolor\":\"white\",\"linecolor\":\"white\",\"ticks\":\"\"},\"baxis\":{\"gridcolor\":\"white\",\"linecolor\":\"white\",\"ticks\":\"\"},\"caxis\":{\"gridcolor\":\"white\",\"linecolor\":\"white\",\"ticks\":\"\"}},\"coloraxis\":{\"colorbar\":{\"outlinewidth\":0,\"ticks\":\"\"}},\"colorscale\":{\"sequential\":[[0.0,\"#0d0887\"],[0.1111111111111111,\"#46039f\"],[0.2222222222222222,\"#7201a8\"],[0.3333333333333333,\"#9c179e\"],[0.4444444444444444,\"#bd3786\"],[0.5555555555555556,\"#d8576b\"],[0.6666666666666666,\"#ed7953\"],[0.7777777777777778,\"#fb9f3a\"],[0.8888888888888888,\"#fdca26\"],[1.0,\"#f0f921\"]],\"sequentialminus\":[[0.0,\"#0d0887\"],[0.1111111111111111,\"#46039f\"],[0.2222222222222222,\"#7201a8\"],[0.3333333333333333,\"#9c179e\"],[0.4444444444444444,\"#bd3786\"],[0.5555555555555556,\"#d8576b\"],[0.6666666666666666,\"#ed7953\"],[0.7777777777777778,\"#fb9f3a\"],[0.8888888888888888,\"#fdca26\"],[1.0,\"#f0f921\"]],\"diverging\":[[0,\"#8e0152\"],[0.1,\"#c51b7d\"],[0.2,\"#de77ae\"],[0.3,\"#f1b6da\"],[0.4,\"#fde0ef\"],[0.5,\"#f7f7f7\"],[0.6,\"#e6f5d0\"],[0.7,\"#b8e186\"],[0.8,\"#7fbc41\"],[0.9,\"#4d9221\"],[1,\"#276419\"]]},\"xaxis\":{\"gridcolor\":\"white\",\"linecolor\":\"white\",\"ticks\":\"\",\"title\":{\"standoff\":15},\"zerolinecolor\":\"white\",\"automargin\":true,\"zerolinewidth\":2},\"yaxis\":{\"gridcolor\":\"white\",\"linecolor\":\"white\",\"ticks\":\"\",\"title\":{\"standoff\":15},\"zerolinecolor\":\"white\",\"automargin\":true,\"zerolinewidth\":2},\"scene\":{\"xaxis\":{\"backgroundcolor\":\"#E5ECF6\",\"gridcolor\":\"white\",\"linecolor\":\"white\",\"showbackground\":true,\"ticks\":\"\",\"zerolinecolor\":\"white\",\"gridwidth\":2},\"yaxis\":{\"backgroundcolor\":\"#E5ECF6\",\"gridcolor\":\"white\",\"linecolor\":\"white\",\"showbackground\":true,\"ticks\":\"\",\"zerolinecolor\":\"white\",\"gridwidth\":2},\"zaxis\":{\"backgroundcolor\":\"#E5ECF6\",\"gridcolor\":\"white\",\"linecolor\":\"white\",\"showbackground\":true,\"ticks\":\"\",\"zerolinecolor\":\"white\",\"gridwidth\":2}},\"shapedefaults\":{\"line\":{\"color\":\"#2a3f5f\"}},\"annotationdefaults\":{\"arrowcolor\":\"#2a3f5f\",\"arrowhead\":0,\"arrowwidth\":1},\"geo\":{\"bgcolor\":\"white\",\"landcolor\":\"#E5ECF6\",\"subunitcolor\":\"white\",\"showland\":true,\"showlakes\":true,\"lakecolor\":\"white\"},\"title\":{\"x\":0.05},\"mapbox\":{\"style\":\"light\"}}},\"polar\":{\"domain\":{\"x\":[0.0,1.0],\"y\":[0.0,1.0]},\"angularaxis\":{\"direction\":\"clockwise\",\"rotation\":90}},\"legend\":{\"title\":{\"text\":\"cluster\"},\"tracegroupgap\":0},\"margin\":{\"t\":60}},                        {\"responsive\": true}                    ).then(function(){\n",
       "                            \n",
       "var gd = document.getElementById('8b8ec54c-94f8-4463-b815-a75953ce0989');\n",
       "var x = new MutationObserver(function (mutations, observer) {{\n",
       "        var display = window.getComputedStyle(gd).display;\n",
       "        if (!display || display === 'none') {{\n",
       "            console.log([gd, 'removed!']);\n",
       "            Plotly.purge(gd);\n",
       "            observer.disconnect();\n",
       "        }}\n",
       "}});\n",
       "\n",
       "// Listen for the removal of the full notebook cells\n",
       "var notebookContainer = gd.closest('#notebook-container');\n",
       "if (notebookContainer) {{\n",
       "    x.observe(notebookContainer, {childList: true});\n",
       "}}\n",
       "\n",
       "// Listen for the clearing of the current output cell\n",
       "var outputEl = gd.closest('.output');\n",
       "if (outputEl) {{\n",
       "    x.observe(outputEl, {childList: true});\n",
       "}}\n",
       "\n",
       "                        })                };                });            </script>        </div>"
      ]
     },
     "metadata": {},
     "output_type": "display_data"
    }
   ],
   "source": [
    "px.line_polar(A, r = 'value', theta = 'variable', color = 'cluster')"
   ]
  },
  {
   "cell_type": "code",
   "execution_count": 141,
   "id": "a37cf80d",
   "metadata": {},
   "outputs": [
    {
     "data": {
      "text/plain": [
       "Index(['age', 'income', 'year_became_member', 'BOGO_Number', 'Discount_Number',\n",
       "       'Informational_Number', 'reward_avg', 'difficulty_avg', 'duration_avg',\n",
       "       'web', 'email', 'social', 'mobile', 'offer completed', 'offer received',\n",
       "       'offer viewed', 'ratio_completed', 'ratio_viewed', 'most_recent',\n",
       "       'total_spent', 'transactions_number', 'M_score', 'R_score', 'F_score',\n",
       "       'gender_encode', 'cluster'],\n",
       "      dtype='object')"
      ]
     },
     "execution_count": 141,
     "metadata": {},
     "output_type": "execute_result"
    }
   ],
   "source": [
    "radarDF.columns"
   ]
  },
  {
   "cell_type": "code",
   "execution_count": 143,
   "id": "9572db56",
   "metadata": {},
   "outputs": [],
   "source": [
    "A = pd.melt(radarDF.loc[:, ['web', 'email', 'social', 'mobile', 'offer completed', 'offer received', 'offer viewed', 'M_score', 'F_score', 'R_score','cluster']],id_vars='cluster' )"
   ]
  },
  {
   "cell_type": "code",
   "execution_count": 144,
   "id": "02d1222d",
   "metadata": {},
   "outputs": [
    {
     "data": {
      "application/vnd.plotly.v1+json": {
       "config": {
        "plotlyServerURL": "https://plot.ly"
       },
       "data": [
        {
         "hovertemplate": "cluster=0<br>value=%{r}<br>variable=%{theta}<extra></extra>",
         "legendgroup": "0",
         "line": {
          "color": "#636efa",
          "dash": "solid"
         },
         "marker": {
          "symbol": "circle"
         },
         "mode": "lines",
         "name": "0",
         "r": [
          11.423981785985328,
          13.740197318492285,
          9.562610675436378,
          12.806982038957754,
          4.003035669112067,
          5.239311915001265,
          4.497849734378953,
          4.192006071338224,
          3.7703010371869468,
          3.348090058183658
         ],
         "showlegend": true,
         "subplot": "polar",
         "theta": [
          "web",
          "email",
          "social",
          "mobile",
          "offer completed",
          "offer received",
          "offer viewed",
          "M_score",
          "F_score",
          "R_score"
         ],
         "type": "scatterpolar"
        },
        {
         "hovertemplate": "cluster=1<br>value=%{r}<br>variable=%{theta}<extra></extra>",
         "legendgroup": "1",
         "line": {
          "color": "#EF553B",
          "dash": "solid"
         },
         "marker": {
          "symbol": "circle"
         },
         "mode": "lines",
         "name": "1",
         "r": [
          4.970213996529786,
          6.335743204164257,
          3.7779063042220935,
          5.665702718334297,
          0.5396182764603817,
          3.7420474262579524,
          2.0540775014459225,
          1.6934644303065356,
          1.857432041642568,
          2.4175824175824174
         ],
         "showlegend": true,
         "subplot": "polar",
         "theta": [
          "web",
          "email",
          "social",
          "mobile",
          "offer completed",
          "offer received",
          "offer viewed",
          "M_score",
          "F_score",
          "R_score"
         ],
         "type": "scatterpolar"
        },
        {
         "hovertemplate": "cluster=2<br>value=%{r}<br>variable=%{theta}<extra></extra>",
         "legendgroup": "2",
         "line": {
          "color": "#00cc96",
          "dash": "solid"
         },
         "marker": {
          "symbol": "circle"
         },
         "mode": "lines",
         "name": "2",
         "r": [
          7.888484533402651,
          9.370938393553418,
          5.667533142708604,
          8.123212893163505,
          2.5687548739277357,
          4.013257083441643,
          2.7889264361840396,
          3.551858591109956,
          3.4302053548219393,
          3.4047309591889783
         ],
         "showlegend": true,
         "subplot": "polar",
         "theta": [
          "web",
          "email",
          "social",
          "mobile",
          "offer completed",
          "offer received",
          "offer viewed",
          "M_score",
          "F_score",
          "R_score"
         ],
         "type": "scatterpolar"
        },
        {
         "hovertemplate": "cluster=3<br>value=%{r}<br>variable=%{theta}<extra></extra>",
         "legendgroup": "3",
         "line": {
          "color": "#ab63fa",
          "dash": "solid"
         },
         "marker": {
          "symbol": "circle"
         },
         "mode": "lines",
         "name": "3",
         "r": [
          7.679674340258281,
          10.255755193711398,
          7.100505334081976,
          9.828747894441324,
          1.3677709152161708,
          4.887984278495227,
          4,
          2.348680516563728,
          2.0979786636720945,
          2.4744525547445257
         ],
         "showlegend": true,
         "subplot": "polar",
         "theta": [
          "web",
          "email",
          "social",
          "mobile",
          "offer completed",
          "offer received",
          "offer viewed",
          "M_score",
          "F_score",
          "R_score"
         ],
         "type": "scatterpolar"
        }
       ],
       "layout": {
        "legend": {
         "title": {
          "text": "cluster"
         },
         "tracegroupgap": 0
        },
        "margin": {
         "t": 60
        },
        "polar": {
         "angularaxis": {
          "direction": "clockwise",
          "rotation": 90
         },
         "domain": {
          "x": [
           0,
           1
          ],
          "y": [
           0,
           1
          ]
         }
        },
        "template": {
         "data": {
          "bar": [
           {
            "error_x": {
             "color": "#2a3f5f"
            },
            "error_y": {
             "color": "#2a3f5f"
            },
            "marker": {
             "line": {
              "color": "#E5ECF6",
              "width": 0.5
             },
             "pattern": {
              "fillmode": "overlay",
              "size": 10,
              "solidity": 0.2
             }
            },
            "type": "bar"
           }
          ],
          "barpolar": [
           {
            "marker": {
             "line": {
              "color": "#E5ECF6",
              "width": 0.5
             },
             "pattern": {
              "fillmode": "overlay",
              "size": 10,
              "solidity": 0.2
             }
            },
            "type": "barpolar"
           }
          ],
          "carpet": [
           {
            "aaxis": {
             "endlinecolor": "#2a3f5f",
             "gridcolor": "white",
             "linecolor": "white",
             "minorgridcolor": "white",
             "startlinecolor": "#2a3f5f"
            },
            "baxis": {
             "endlinecolor": "#2a3f5f",
             "gridcolor": "white",
             "linecolor": "white",
             "minorgridcolor": "white",
             "startlinecolor": "#2a3f5f"
            },
            "type": "carpet"
           }
          ],
          "choropleth": [
           {
            "colorbar": {
             "outlinewidth": 0,
             "ticks": ""
            },
            "type": "choropleth"
           }
          ],
          "contour": [
           {
            "colorbar": {
             "outlinewidth": 0,
             "ticks": ""
            },
            "colorscale": [
             [
              0,
              "#0d0887"
             ],
             [
              0.1111111111111111,
              "#46039f"
             ],
             [
              0.2222222222222222,
              "#7201a8"
             ],
             [
              0.3333333333333333,
              "#9c179e"
             ],
             [
              0.4444444444444444,
              "#bd3786"
             ],
             [
              0.5555555555555556,
              "#d8576b"
             ],
             [
              0.6666666666666666,
              "#ed7953"
             ],
             [
              0.7777777777777778,
              "#fb9f3a"
             ],
             [
              0.8888888888888888,
              "#fdca26"
             ],
             [
              1,
              "#f0f921"
             ]
            ],
            "type": "contour"
           }
          ],
          "contourcarpet": [
           {
            "colorbar": {
             "outlinewidth": 0,
             "ticks": ""
            },
            "type": "contourcarpet"
           }
          ],
          "heatmap": [
           {
            "colorbar": {
             "outlinewidth": 0,
             "ticks": ""
            },
            "colorscale": [
             [
              0,
              "#0d0887"
             ],
             [
              0.1111111111111111,
              "#46039f"
             ],
             [
              0.2222222222222222,
              "#7201a8"
             ],
             [
              0.3333333333333333,
              "#9c179e"
             ],
             [
              0.4444444444444444,
              "#bd3786"
             ],
             [
              0.5555555555555556,
              "#d8576b"
             ],
             [
              0.6666666666666666,
              "#ed7953"
             ],
             [
              0.7777777777777778,
              "#fb9f3a"
             ],
             [
              0.8888888888888888,
              "#fdca26"
             ],
             [
              1,
              "#f0f921"
             ]
            ],
            "type": "heatmap"
           }
          ],
          "heatmapgl": [
           {
            "colorbar": {
             "outlinewidth": 0,
             "ticks": ""
            },
            "colorscale": [
             [
              0,
              "#0d0887"
             ],
             [
              0.1111111111111111,
              "#46039f"
             ],
             [
              0.2222222222222222,
              "#7201a8"
             ],
             [
              0.3333333333333333,
              "#9c179e"
             ],
             [
              0.4444444444444444,
              "#bd3786"
             ],
             [
              0.5555555555555556,
              "#d8576b"
             ],
             [
              0.6666666666666666,
              "#ed7953"
             ],
             [
              0.7777777777777778,
              "#fb9f3a"
             ],
             [
              0.8888888888888888,
              "#fdca26"
             ],
             [
              1,
              "#f0f921"
             ]
            ],
            "type": "heatmapgl"
           }
          ],
          "histogram": [
           {
            "marker": {
             "pattern": {
              "fillmode": "overlay",
              "size": 10,
              "solidity": 0.2
             }
            },
            "type": "histogram"
           }
          ],
          "histogram2d": [
           {
            "colorbar": {
             "outlinewidth": 0,
             "ticks": ""
            },
            "colorscale": [
             [
              0,
              "#0d0887"
             ],
             [
              0.1111111111111111,
              "#46039f"
             ],
             [
              0.2222222222222222,
              "#7201a8"
             ],
             [
              0.3333333333333333,
              "#9c179e"
             ],
             [
              0.4444444444444444,
              "#bd3786"
             ],
             [
              0.5555555555555556,
              "#d8576b"
             ],
             [
              0.6666666666666666,
              "#ed7953"
             ],
             [
              0.7777777777777778,
              "#fb9f3a"
             ],
             [
              0.8888888888888888,
              "#fdca26"
             ],
             [
              1,
              "#f0f921"
             ]
            ],
            "type": "histogram2d"
           }
          ],
          "histogram2dcontour": [
           {
            "colorbar": {
             "outlinewidth": 0,
             "ticks": ""
            },
            "colorscale": [
             [
              0,
              "#0d0887"
             ],
             [
              0.1111111111111111,
              "#46039f"
             ],
             [
              0.2222222222222222,
              "#7201a8"
             ],
             [
              0.3333333333333333,
              "#9c179e"
             ],
             [
              0.4444444444444444,
              "#bd3786"
             ],
             [
              0.5555555555555556,
              "#d8576b"
             ],
             [
              0.6666666666666666,
              "#ed7953"
             ],
             [
              0.7777777777777778,
              "#fb9f3a"
             ],
             [
              0.8888888888888888,
              "#fdca26"
             ],
             [
              1,
              "#f0f921"
             ]
            ],
            "type": "histogram2dcontour"
           }
          ],
          "mesh3d": [
           {
            "colorbar": {
             "outlinewidth": 0,
             "ticks": ""
            },
            "type": "mesh3d"
           }
          ],
          "parcoords": [
           {
            "line": {
             "colorbar": {
              "outlinewidth": 0,
              "ticks": ""
             }
            },
            "type": "parcoords"
           }
          ],
          "pie": [
           {
            "automargin": true,
            "type": "pie"
           }
          ],
          "scatter": [
           {
            "fillpattern": {
             "fillmode": "overlay",
             "size": 10,
             "solidity": 0.2
            },
            "type": "scatter"
           }
          ],
          "scatter3d": [
           {
            "line": {
             "colorbar": {
              "outlinewidth": 0,
              "ticks": ""
             }
            },
            "marker": {
             "colorbar": {
              "outlinewidth": 0,
              "ticks": ""
             }
            },
            "type": "scatter3d"
           }
          ],
          "scattercarpet": [
           {
            "marker": {
             "colorbar": {
              "outlinewidth": 0,
              "ticks": ""
             }
            },
            "type": "scattercarpet"
           }
          ],
          "scattergeo": [
           {
            "marker": {
             "colorbar": {
              "outlinewidth": 0,
              "ticks": ""
             }
            },
            "type": "scattergeo"
           }
          ],
          "scattergl": [
           {
            "marker": {
             "colorbar": {
              "outlinewidth": 0,
              "ticks": ""
             }
            },
            "type": "scattergl"
           }
          ],
          "scattermapbox": [
           {
            "marker": {
             "colorbar": {
              "outlinewidth": 0,
              "ticks": ""
             }
            },
            "type": "scattermapbox"
           }
          ],
          "scatterpolar": [
           {
            "marker": {
             "colorbar": {
              "outlinewidth": 0,
              "ticks": ""
             }
            },
            "type": "scatterpolar"
           }
          ],
          "scatterpolargl": [
           {
            "marker": {
             "colorbar": {
              "outlinewidth": 0,
              "ticks": ""
             }
            },
            "type": "scatterpolargl"
           }
          ],
          "scatterternary": [
           {
            "marker": {
             "colorbar": {
              "outlinewidth": 0,
              "ticks": ""
             }
            },
            "type": "scatterternary"
           }
          ],
          "surface": [
           {
            "colorbar": {
             "outlinewidth": 0,
             "ticks": ""
            },
            "colorscale": [
             [
              0,
              "#0d0887"
             ],
             [
              0.1111111111111111,
              "#46039f"
             ],
             [
              0.2222222222222222,
              "#7201a8"
             ],
             [
              0.3333333333333333,
              "#9c179e"
             ],
             [
              0.4444444444444444,
              "#bd3786"
             ],
             [
              0.5555555555555556,
              "#d8576b"
             ],
             [
              0.6666666666666666,
              "#ed7953"
             ],
             [
              0.7777777777777778,
              "#fb9f3a"
             ],
             [
              0.8888888888888888,
              "#fdca26"
             ],
             [
              1,
              "#f0f921"
             ]
            ],
            "type": "surface"
           }
          ],
          "table": [
           {
            "cells": {
             "fill": {
              "color": "#EBF0F8"
             },
             "line": {
              "color": "white"
             }
            },
            "header": {
             "fill": {
              "color": "#C8D4E3"
             },
             "line": {
              "color": "white"
             }
            },
            "type": "table"
           }
          ]
         },
         "layout": {
          "annotationdefaults": {
           "arrowcolor": "#2a3f5f",
           "arrowhead": 0,
           "arrowwidth": 1
          },
          "autotypenumbers": "strict",
          "coloraxis": {
           "colorbar": {
            "outlinewidth": 0,
            "ticks": ""
           }
          },
          "colorscale": {
           "diverging": [
            [
             0,
             "#8e0152"
            ],
            [
             0.1,
             "#c51b7d"
            ],
            [
             0.2,
             "#de77ae"
            ],
            [
             0.3,
             "#f1b6da"
            ],
            [
             0.4,
             "#fde0ef"
            ],
            [
             0.5,
             "#f7f7f7"
            ],
            [
             0.6,
             "#e6f5d0"
            ],
            [
             0.7,
             "#b8e186"
            ],
            [
             0.8,
             "#7fbc41"
            ],
            [
             0.9,
             "#4d9221"
            ],
            [
             1,
             "#276419"
            ]
           ],
           "sequential": [
            [
             0,
             "#0d0887"
            ],
            [
             0.1111111111111111,
             "#46039f"
            ],
            [
             0.2222222222222222,
             "#7201a8"
            ],
            [
             0.3333333333333333,
             "#9c179e"
            ],
            [
             0.4444444444444444,
             "#bd3786"
            ],
            [
             0.5555555555555556,
             "#d8576b"
            ],
            [
             0.6666666666666666,
             "#ed7953"
            ],
            [
             0.7777777777777778,
             "#fb9f3a"
            ],
            [
             0.8888888888888888,
             "#fdca26"
            ],
            [
             1,
             "#f0f921"
            ]
           ],
           "sequentialminus": [
            [
             0,
             "#0d0887"
            ],
            [
             0.1111111111111111,
             "#46039f"
            ],
            [
             0.2222222222222222,
             "#7201a8"
            ],
            [
             0.3333333333333333,
             "#9c179e"
            ],
            [
             0.4444444444444444,
             "#bd3786"
            ],
            [
             0.5555555555555556,
             "#d8576b"
            ],
            [
             0.6666666666666666,
             "#ed7953"
            ],
            [
             0.7777777777777778,
             "#fb9f3a"
            ],
            [
             0.8888888888888888,
             "#fdca26"
            ],
            [
             1,
             "#f0f921"
            ]
           ]
          },
          "colorway": [
           "#636efa",
           "#EF553B",
           "#00cc96",
           "#ab63fa",
           "#FFA15A",
           "#19d3f3",
           "#FF6692",
           "#B6E880",
           "#FF97FF",
           "#FECB52"
          ],
          "font": {
           "color": "#2a3f5f"
          },
          "geo": {
           "bgcolor": "white",
           "lakecolor": "white",
           "landcolor": "#E5ECF6",
           "showlakes": true,
           "showland": true,
           "subunitcolor": "white"
          },
          "hoverlabel": {
           "align": "left"
          },
          "hovermode": "closest",
          "mapbox": {
           "style": "light"
          },
          "paper_bgcolor": "white",
          "plot_bgcolor": "#E5ECF6",
          "polar": {
           "angularaxis": {
            "gridcolor": "white",
            "linecolor": "white",
            "ticks": ""
           },
           "bgcolor": "#E5ECF6",
           "radialaxis": {
            "gridcolor": "white",
            "linecolor": "white",
            "ticks": ""
           }
          },
          "scene": {
           "xaxis": {
            "backgroundcolor": "#E5ECF6",
            "gridcolor": "white",
            "gridwidth": 2,
            "linecolor": "white",
            "showbackground": true,
            "ticks": "",
            "zerolinecolor": "white"
           },
           "yaxis": {
            "backgroundcolor": "#E5ECF6",
            "gridcolor": "white",
            "gridwidth": 2,
            "linecolor": "white",
            "showbackground": true,
            "ticks": "",
            "zerolinecolor": "white"
           },
           "zaxis": {
            "backgroundcolor": "#E5ECF6",
            "gridcolor": "white",
            "gridwidth": 2,
            "linecolor": "white",
            "showbackground": true,
            "ticks": "",
            "zerolinecolor": "white"
           }
          },
          "shapedefaults": {
           "line": {
            "color": "#2a3f5f"
           }
          },
          "ternary": {
           "aaxis": {
            "gridcolor": "white",
            "linecolor": "white",
            "ticks": ""
           },
           "baxis": {
            "gridcolor": "white",
            "linecolor": "white",
            "ticks": ""
           },
           "bgcolor": "#E5ECF6",
           "caxis": {
            "gridcolor": "white",
            "linecolor": "white",
            "ticks": ""
           }
          },
          "title": {
           "x": 0.05
          },
          "xaxis": {
           "automargin": true,
           "gridcolor": "white",
           "linecolor": "white",
           "ticks": "",
           "title": {
            "standoff": 15
           },
           "zerolinecolor": "white",
           "zerolinewidth": 2
          },
          "yaxis": {
           "automargin": true,
           "gridcolor": "white",
           "linecolor": "white",
           "ticks": "",
           "title": {
            "standoff": 15
           },
           "zerolinecolor": "white",
           "zerolinewidth": 2
          }
         }
        }
       }
      },
      "text/html": [
       "<div>                            <div id=\"b31f1aa0-3b2a-48bc-8b16-ebc872528bd9\" class=\"plotly-graph-div\" style=\"height:525px; width:100%;\"></div>            <script type=\"text/javascript\">                require([\"plotly\"], function(Plotly) {                    window.PLOTLYENV=window.PLOTLYENV || {};                                    if (document.getElementById(\"b31f1aa0-3b2a-48bc-8b16-ebc872528bd9\")) {                    Plotly.newPlot(                        \"b31f1aa0-3b2a-48bc-8b16-ebc872528bd9\",                        [{\"hovertemplate\":\"cluster=0<br>value=%{r}<br>variable=%{theta}<extra></extra>\",\"legendgroup\":\"0\",\"line\":{\"color\":\"#636efa\",\"dash\":\"solid\"},\"marker\":{\"symbol\":\"circle\"},\"mode\":\"lines\",\"name\":\"0\",\"r\":[11.423981785985328,13.740197318492285,9.562610675436378,12.806982038957754,4.003035669112067,5.239311915001265,4.497849734378953,4.192006071338224,3.7703010371869468,3.348090058183658],\"showlegend\":true,\"subplot\":\"polar\",\"theta\":[\"web\",\"email\",\"social\",\"mobile\",\"offer completed\",\"offer received\",\"offer viewed\",\"M_score\",\"F_score\",\"R_score\"],\"type\":\"scatterpolar\"},{\"hovertemplate\":\"cluster=1<br>value=%{r}<br>variable=%{theta}<extra></extra>\",\"legendgroup\":\"1\",\"line\":{\"color\":\"#EF553B\",\"dash\":\"solid\"},\"marker\":{\"symbol\":\"circle\"},\"mode\":\"lines\",\"name\":\"1\",\"r\":[4.970213996529786,6.335743204164257,3.7779063042220935,5.665702718334297,0.5396182764603817,3.7420474262579524,2.0540775014459225,1.6934644303065356,1.857432041642568,2.4175824175824174],\"showlegend\":true,\"subplot\":\"polar\",\"theta\":[\"web\",\"email\",\"social\",\"mobile\",\"offer completed\",\"offer received\",\"offer viewed\",\"M_score\",\"F_score\",\"R_score\"],\"type\":\"scatterpolar\"},{\"hovertemplate\":\"cluster=2<br>value=%{r}<br>variable=%{theta}<extra></extra>\",\"legendgroup\":\"2\",\"line\":{\"color\":\"#00cc96\",\"dash\":\"solid\"},\"marker\":{\"symbol\":\"circle\"},\"mode\":\"lines\",\"name\":\"2\",\"r\":[7.888484533402651,9.370938393553418,5.667533142708604,8.123212893163505,2.5687548739277357,4.013257083441643,2.7889264361840396,3.551858591109956,3.4302053548219393,3.4047309591889783],\"showlegend\":true,\"subplot\":\"polar\",\"theta\":[\"web\",\"email\",\"social\",\"mobile\",\"offer completed\",\"offer received\",\"offer viewed\",\"M_score\",\"F_score\",\"R_score\"],\"type\":\"scatterpolar\"},{\"hovertemplate\":\"cluster=3<br>value=%{r}<br>variable=%{theta}<extra></extra>\",\"legendgroup\":\"3\",\"line\":{\"color\":\"#ab63fa\",\"dash\":\"solid\"},\"marker\":{\"symbol\":\"circle\"},\"mode\":\"lines\",\"name\":\"3\",\"r\":[7.679674340258281,10.255755193711398,7.100505334081976,9.828747894441324,1.3677709152161708,4.887984278495227,4.0,2.348680516563728,2.0979786636720945,2.4744525547445257],\"showlegend\":true,\"subplot\":\"polar\",\"theta\":[\"web\",\"email\",\"social\",\"mobile\",\"offer completed\",\"offer received\",\"offer viewed\",\"M_score\",\"F_score\",\"R_score\"],\"type\":\"scatterpolar\"}],                        {\"template\":{\"data\":{\"histogram2dcontour\":[{\"type\":\"histogram2dcontour\",\"colorbar\":{\"outlinewidth\":0,\"ticks\":\"\"},\"colorscale\":[[0.0,\"#0d0887\"],[0.1111111111111111,\"#46039f\"],[0.2222222222222222,\"#7201a8\"],[0.3333333333333333,\"#9c179e\"],[0.4444444444444444,\"#bd3786\"],[0.5555555555555556,\"#d8576b\"],[0.6666666666666666,\"#ed7953\"],[0.7777777777777778,\"#fb9f3a\"],[0.8888888888888888,\"#fdca26\"],[1.0,\"#f0f921\"]]}],\"choropleth\":[{\"type\":\"choropleth\",\"colorbar\":{\"outlinewidth\":0,\"ticks\":\"\"}}],\"histogram2d\":[{\"type\":\"histogram2d\",\"colorbar\":{\"outlinewidth\":0,\"ticks\":\"\"},\"colorscale\":[[0.0,\"#0d0887\"],[0.1111111111111111,\"#46039f\"],[0.2222222222222222,\"#7201a8\"],[0.3333333333333333,\"#9c179e\"],[0.4444444444444444,\"#bd3786\"],[0.5555555555555556,\"#d8576b\"],[0.6666666666666666,\"#ed7953\"],[0.7777777777777778,\"#fb9f3a\"],[0.8888888888888888,\"#fdca26\"],[1.0,\"#f0f921\"]]}],\"heatmap\":[{\"type\":\"heatmap\",\"colorbar\":{\"outlinewidth\":0,\"ticks\":\"\"},\"colorscale\":[[0.0,\"#0d0887\"],[0.1111111111111111,\"#46039f\"],[0.2222222222222222,\"#7201a8\"],[0.3333333333333333,\"#9c179e\"],[0.4444444444444444,\"#bd3786\"],[0.5555555555555556,\"#d8576b\"],[0.6666666666666666,\"#ed7953\"],[0.7777777777777778,\"#fb9f3a\"],[0.8888888888888888,\"#fdca26\"],[1.0,\"#f0f921\"]]}],\"heatmapgl\":[{\"type\":\"heatmapgl\",\"colorbar\":{\"outlinewidth\":0,\"ticks\":\"\"},\"colorscale\":[[0.0,\"#0d0887\"],[0.1111111111111111,\"#46039f\"],[0.2222222222222222,\"#7201a8\"],[0.3333333333333333,\"#9c179e\"],[0.4444444444444444,\"#bd3786\"],[0.5555555555555556,\"#d8576b\"],[0.6666666666666666,\"#ed7953\"],[0.7777777777777778,\"#fb9f3a\"],[0.8888888888888888,\"#fdca26\"],[1.0,\"#f0f921\"]]}],\"contourcarpet\":[{\"type\":\"contourcarpet\",\"colorbar\":{\"outlinewidth\":0,\"ticks\":\"\"}}],\"contour\":[{\"type\":\"contour\",\"colorbar\":{\"outlinewidth\":0,\"ticks\":\"\"},\"colorscale\":[[0.0,\"#0d0887\"],[0.1111111111111111,\"#46039f\"],[0.2222222222222222,\"#7201a8\"],[0.3333333333333333,\"#9c179e\"],[0.4444444444444444,\"#bd3786\"],[0.5555555555555556,\"#d8576b\"],[0.6666666666666666,\"#ed7953\"],[0.7777777777777778,\"#fb9f3a\"],[0.8888888888888888,\"#fdca26\"],[1.0,\"#f0f921\"]]}],\"surface\":[{\"type\":\"surface\",\"colorbar\":{\"outlinewidth\":0,\"ticks\":\"\"},\"colorscale\":[[0.0,\"#0d0887\"],[0.1111111111111111,\"#46039f\"],[0.2222222222222222,\"#7201a8\"],[0.3333333333333333,\"#9c179e\"],[0.4444444444444444,\"#bd3786\"],[0.5555555555555556,\"#d8576b\"],[0.6666666666666666,\"#ed7953\"],[0.7777777777777778,\"#fb9f3a\"],[0.8888888888888888,\"#fdca26\"],[1.0,\"#f0f921\"]]}],\"mesh3d\":[{\"type\":\"mesh3d\",\"colorbar\":{\"outlinewidth\":0,\"ticks\":\"\"}}],\"scatter\":[{\"fillpattern\":{\"fillmode\":\"overlay\",\"size\":10,\"solidity\":0.2},\"type\":\"scatter\"}],\"parcoords\":[{\"type\":\"parcoords\",\"line\":{\"colorbar\":{\"outlinewidth\":0,\"ticks\":\"\"}}}],\"scatterpolargl\":[{\"type\":\"scatterpolargl\",\"marker\":{\"colorbar\":{\"outlinewidth\":0,\"ticks\":\"\"}}}],\"bar\":[{\"error_x\":{\"color\":\"#2a3f5f\"},\"error_y\":{\"color\":\"#2a3f5f\"},\"marker\":{\"line\":{\"color\":\"#E5ECF6\",\"width\":0.5},\"pattern\":{\"fillmode\":\"overlay\",\"size\":10,\"solidity\":0.2}},\"type\":\"bar\"}],\"scattergeo\":[{\"type\":\"scattergeo\",\"marker\":{\"colorbar\":{\"outlinewidth\":0,\"ticks\":\"\"}}}],\"scatterpolar\":[{\"type\":\"scatterpolar\",\"marker\":{\"colorbar\":{\"outlinewidth\":0,\"ticks\":\"\"}}}],\"histogram\":[{\"marker\":{\"pattern\":{\"fillmode\":\"overlay\",\"size\":10,\"solidity\":0.2}},\"type\":\"histogram\"}],\"scattergl\":[{\"type\":\"scattergl\",\"marker\":{\"colorbar\":{\"outlinewidth\":0,\"ticks\":\"\"}}}],\"scatter3d\":[{\"type\":\"scatter3d\",\"line\":{\"colorbar\":{\"outlinewidth\":0,\"ticks\":\"\"}},\"marker\":{\"colorbar\":{\"outlinewidth\":0,\"ticks\":\"\"}}}],\"scattermapbox\":[{\"type\":\"scattermapbox\",\"marker\":{\"colorbar\":{\"outlinewidth\":0,\"ticks\":\"\"}}}],\"scatterternary\":[{\"type\":\"scatterternary\",\"marker\":{\"colorbar\":{\"outlinewidth\":0,\"ticks\":\"\"}}}],\"scattercarpet\":[{\"type\":\"scattercarpet\",\"marker\":{\"colorbar\":{\"outlinewidth\":0,\"ticks\":\"\"}}}],\"carpet\":[{\"aaxis\":{\"endlinecolor\":\"#2a3f5f\",\"gridcolor\":\"white\",\"linecolor\":\"white\",\"minorgridcolor\":\"white\",\"startlinecolor\":\"#2a3f5f\"},\"baxis\":{\"endlinecolor\":\"#2a3f5f\",\"gridcolor\":\"white\",\"linecolor\":\"white\",\"minorgridcolor\":\"white\",\"startlinecolor\":\"#2a3f5f\"},\"type\":\"carpet\"}],\"table\":[{\"cells\":{\"fill\":{\"color\":\"#EBF0F8\"},\"line\":{\"color\":\"white\"}},\"header\":{\"fill\":{\"color\":\"#C8D4E3\"},\"line\":{\"color\":\"white\"}},\"type\":\"table\"}],\"barpolar\":[{\"marker\":{\"line\":{\"color\":\"#E5ECF6\",\"width\":0.5},\"pattern\":{\"fillmode\":\"overlay\",\"size\":10,\"solidity\":0.2}},\"type\":\"barpolar\"}],\"pie\":[{\"automargin\":true,\"type\":\"pie\"}]},\"layout\":{\"autotypenumbers\":\"strict\",\"colorway\":[\"#636efa\",\"#EF553B\",\"#00cc96\",\"#ab63fa\",\"#FFA15A\",\"#19d3f3\",\"#FF6692\",\"#B6E880\",\"#FF97FF\",\"#FECB52\"],\"font\":{\"color\":\"#2a3f5f\"},\"hovermode\":\"closest\",\"hoverlabel\":{\"align\":\"left\"},\"paper_bgcolor\":\"white\",\"plot_bgcolor\":\"#E5ECF6\",\"polar\":{\"bgcolor\":\"#E5ECF6\",\"angularaxis\":{\"gridcolor\":\"white\",\"linecolor\":\"white\",\"ticks\":\"\"},\"radialaxis\":{\"gridcolor\":\"white\",\"linecolor\":\"white\",\"ticks\":\"\"}},\"ternary\":{\"bgcolor\":\"#E5ECF6\",\"aaxis\":{\"gridcolor\":\"white\",\"linecolor\":\"white\",\"ticks\":\"\"},\"baxis\":{\"gridcolor\":\"white\",\"linecolor\":\"white\",\"ticks\":\"\"},\"caxis\":{\"gridcolor\":\"white\",\"linecolor\":\"white\",\"ticks\":\"\"}},\"coloraxis\":{\"colorbar\":{\"outlinewidth\":0,\"ticks\":\"\"}},\"colorscale\":{\"sequential\":[[0.0,\"#0d0887\"],[0.1111111111111111,\"#46039f\"],[0.2222222222222222,\"#7201a8\"],[0.3333333333333333,\"#9c179e\"],[0.4444444444444444,\"#bd3786\"],[0.5555555555555556,\"#d8576b\"],[0.6666666666666666,\"#ed7953\"],[0.7777777777777778,\"#fb9f3a\"],[0.8888888888888888,\"#fdca26\"],[1.0,\"#f0f921\"]],\"sequentialminus\":[[0.0,\"#0d0887\"],[0.1111111111111111,\"#46039f\"],[0.2222222222222222,\"#7201a8\"],[0.3333333333333333,\"#9c179e\"],[0.4444444444444444,\"#bd3786\"],[0.5555555555555556,\"#d8576b\"],[0.6666666666666666,\"#ed7953\"],[0.7777777777777778,\"#fb9f3a\"],[0.8888888888888888,\"#fdca26\"],[1.0,\"#f0f921\"]],\"diverging\":[[0,\"#8e0152\"],[0.1,\"#c51b7d\"],[0.2,\"#de77ae\"],[0.3,\"#f1b6da\"],[0.4,\"#fde0ef\"],[0.5,\"#f7f7f7\"],[0.6,\"#e6f5d0\"],[0.7,\"#b8e186\"],[0.8,\"#7fbc41\"],[0.9,\"#4d9221\"],[1,\"#276419\"]]},\"xaxis\":{\"gridcolor\":\"white\",\"linecolor\":\"white\",\"ticks\":\"\",\"title\":{\"standoff\":15},\"zerolinecolor\":\"white\",\"automargin\":true,\"zerolinewidth\":2},\"yaxis\":{\"gridcolor\":\"white\",\"linecolor\":\"white\",\"ticks\":\"\",\"title\":{\"standoff\":15},\"zerolinecolor\":\"white\",\"automargin\":true,\"zerolinewidth\":2},\"scene\":{\"xaxis\":{\"backgroundcolor\":\"#E5ECF6\",\"gridcolor\":\"white\",\"linecolor\":\"white\",\"showbackground\":true,\"ticks\":\"\",\"zerolinecolor\":\"white\",\"gridwidth\":2},\"yaxis\":{\"backgroundcolor\":\"#E5ECF6\",\"gridcolor\":\"white\",\"linecolor\":\"white\",\"showbackground\":true,\"ticks\":\"\",\"zerolinecolor\":\"white\",\"gridwidth\":2},\"zaxis\":{\"backgroundcolor\":\"#E5ECF6\",\"gridcolor\":\"white\",\"linecolor\":\"white\",\"showbackground\":true,\"ticks\":\"\",\"zerolinecolor\":\"white\",\"gridwidth\":2}},\"shapedefaults\":{\"line\":{\"color\":\"#2a3f5f\"}},\"annotationdefaults\":{\"arrowcolor\":\"#2a3f5f\",\"arrowhead\":0,\"arrowwidth\":1},\"geo\":{\"bgcolor\":\"white\",\"landcolor\":\"#E5ECF6\",\"subunitcolor\":\"white\",\"showland\":true,\"showlakes\":true,\"lakecolor\":\"white\"},\"title\":{\"x\":0.05},\"mapbox\":{\"style\":\"light\"}}},\"polar\":{\"domain\":{\"x\":[0.0,1.0],\"y\":[0.0,1.0]},\"angularaxis\":{\"direction\":\"clockwise\",\"rotation\":90}},\"legend\":{\"title\":{\"text\":\"cluster\"},\"tracegroupgap\":0},\"margin\":{\"t\":60}},                        {\"responsive\": true}                    ).then(function(){\n",
       "                            \n",
       "var gd = document.getElementById('b31f1aa0-3b2a-48bc-8b16-ebc872528bd9');\n",
       "var x = new MutationObserver(function (mutations, observer) {{\n",
       "        var display = window.getComputedStyle(gd).display;\n",
       "        if (!display || display === 'none') {{\n",
       "            console.log([gd, 'removed!']);\n",
       "            Plotly.purge(gd);\n",
       "            observer.disconnect();\n",
       "        }}\n",
       "}});\n",
       "\n",
       "// Listen for the removal of the full notebook cells\n",
       "var notebookContainer = gd.closest('#notebook-container');\n",
       "if (notebookContainer) {{\n",
       "    x.observe(notebookContainer, {childList: true});\n",
       "}}\n",
       "\n",
       "// Listen for the clearing of the current output cell\n",
       "var outputEl = gd.closest('.output');\n",
       "if (outputEl) {{\n",
       "    x.observe(outputEl, {childList: true});\n",
       "}}\n",
       "\n",
       "                        })                };                });            </script>        </div>"
      ]
     },
     "metadata": {},
     "output_type": "display_data"
    }
   ],
   "source": [
    "px.line_polar(A, r = 'value', theta = 'variable', color = 'cluster')"
   ]
  },
  {
   "cell_type": "code",
   "execution_count": null,
   "id": "44dbdd2a",
   "metadata": {},
   "outputs": [],
   "source": []
  }
 ],
 "metadata": {
  "kernelspec": {
   "display_name": "Python 3 (ipykernel)",
   "language": "python",
   "name": "python3"
  },
  "language_info": {
   "codemirror_mode": {
    "name": "ipython",
    "version": 3
   },
   "file_extension": ".py",
   "mimetype": "text/x-python",
   "name": "python",
   "nbconvert_exporter": "python",
   "pygments_lexer": "ipython3",
   "version": "3.8.12"
  }
 },
 "nbformat": 4,
 "nbformat_minor": 5
}
