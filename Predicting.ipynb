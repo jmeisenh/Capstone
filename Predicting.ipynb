{
 "cells": [
  {
   "cell_type": "markdown",
   "id": "dec10633",
   "metadata": {},
   "source": [
    "# In this notebook I will attempt to run a prediciton on new mobile offers and chances are they will be completed"
   ]
  },
  {
   "cell_type": "code",
   "execution_count": 1,
   "id": "620e70f2",
   "metadata": {},
   "outputs": [],
   "source": [
    "import pandas as pd\n",
    "import plotly.express as px\n",
    "import numpy as np\n",
    "import scipy\n",
    "import matplotlib.pyplot as mlt\n",
    "import plotly.express as px\n",
    "import plotly.figure_factory as ff\n",
    "import plotly.graph_objects as go"
   ]
  },
  {
   "cell_type": "markdown",
   "id": "6a6c25cd",
   "metadata": {},
   "source": [
    "# Define Color Pallete"
   ]
  },
  {
   "cell_type": "code",
   "execution_count": null,
   "id": "b7003fef",
   "metadata": {},
   "outputs": [],
   "source": []
  }
 ],
 "metadata": {
  "kernelspec": {
   "display_name": "Python 3 (ipykernel)",
   "language": "python",
   "name": "python3"
  },
  "language_info": {
   "codemirror_mode": {
    "name": "ipython",
    "version": 3
   },
   "file_extension": ".py",
   "mimetype": "text/x-python",
   "name": "python",
   "nbconvert_exporter": "python",
   "pygments_lexer": "ipython3",
   "version": "3.8.12"
  }
 },
 "nbformat": 4,
 "nbformat_minor": 5
}
