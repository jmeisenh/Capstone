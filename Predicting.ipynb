{
 "cells": [
  {
   "cell_type": "markdown",
   "id": "2915bf9f",
   "metadata": {},
   "source": [
    "# In this notebook I will attempt to run a prediciton on new mobile offers and chances are they will be completed"
   ]
  },
  {
   "cell_type": "code",
   "execution_count": 1,
   "id": "7814b6fa",
   "metadata": {},
   "outputs": [],
   "source": [
    "import pandas as pd\n",
    "import plotly.express as px\n",
    "import numpy as np\n",
    "import scipy\n",
    "import matplotlib.pyplot as mlt\n",
    "import plotly.express as px\n",
    "import plotly.figure_factory as ff\n",
    "import plotly.graph_objects as go"
   ]
  },
  {
   "cell_type": "markdown",
   "id": "82ae327e",
   "metadata": {},
   "source": [
    "# Define Color Pallete"
   ]
  },
  {
   "cell_type": "code",
   "execution_count": 2,
   "id": "5f1c6295",
   "metadata": {},
   "outputs": [],
   "source": [
    "color1 = '#00704A'\n",
    "color2 = '#FF9FE5'\n",
    "color3 = '#45062E'\n",
    "backgroundColor = '#B8A085'\n",
    "ccs = ['#ACDDA9', '#00704A', '#002F20']\n",
    "dcs = ['#002619','#008256', '#00de92', '#a1ffdf', '#fdfffe']"
   ]
  },
  {
   "cell_type": "code",
   "execution_count": null,
   "id": "0a809323",
   "metadata": {},
   "outputs": [],
   "source": []
  }
 ],
 "metadata": {
  "kernelspec": {
   "display_name": "Python 3 (ipykernel)",
   "language": "python",
   "name": "python3"
  },
  "language_info": {
   "codemirror_mode": {
    "name": "ipython",
    "version": 3
   },
   "file_extension": ".py",
   "mimetype": "text/x-python",
   "name": "python",
   "nbconvert_exporter": "python",
   "pygments_lexer": "ipython3",
   "version": "3.8.12"
  }
 },
 "nbformat": 4,
 "nbformat_minor": 5
}
