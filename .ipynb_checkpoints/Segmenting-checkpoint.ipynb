{
 "cells": [
  {
   "cell_type": "code",
   "execution_count": 1,
   "id": "4a1f9de4",
   "metadata": {},
   "outputs": [],
   "source": [
    "import pandas as pd\n",
    "import plotly.express as px\n",
    "import numpy as np\n",
    "import scipy\n",
    "import matplotlib.pyplot as mlt\n",
    "import plotly.express as px"
   ]
  },
  {
   "cell_type": "markdown",
   "id": "c100a3ee",
   "metadata": {},
   "source": [
    "# Define Color Pallette"
   ]
  },
  {
   "cell_type": "code",
   "execution_count": 2,
   "id": "23a3a3ae",
   "metadata": {},
   "outputs": [],
   "source": [
    "color1 = '#00704A'\n",
    "color2 = '#FF9FE5'\n",
    "color3 = '#45062E'\n",
    "backgroundColor = '#B8A085'\n",
    "ccs = ['#ACDDA9', '#00704A', '#002F20']\n",
    "dcs = ['#002619','#008256', '#00de92', '#a1ffdf', '#fdfffe']"
   ]
  },
  {
   "cell_type": "markdown",
   "id": "77f1a0c3",
   "metadata": {},
   "source": [
    "# Import Data"
   ]
  },
  {
   "cell_type": "code",
   "execution_count": 3,
   "id": "4de58ff9",
   "metadata": {},
   "outputs": [
    {
     "data": {
      "text/html": [
       "<div>\n",
       "<style scoped>\n",
       "    .dataframe tbody tr th:only-of-type {\n",
       "        vertical-align: middle;\n",
       "    }\n",
       "\n",
       "    .dataframe tbody tr th {\n",
       "        vertical-align: top;\n",
       "    }\n",
       "\n",
       "    .dataframe thead th {\n",
       "        text-align: right;\n",
       "    }\n",
       "</style>\n",
       "<table border=\"1\" class=\"dataframe\">\n",
       "  <thead>\n",
       "    <tr style=\"text-align: right;\">\n",
       "      <th></th>\n",
       "      <th>person</th>\n",
       "      <th>event</th>\n",
       "      <th>time</th>\n",
       "      <th>offer_id</th>\n",
       "      <th>reward</th>\n",
       "      <th>difficulty</th>\n",
       "      <th>duration</th>\n",
       "      <th>offer_type</th>\n",
       "      <th>web</th>\n",
       "      <th>email</th>\n",
       "      <th>mobile</th>\n",
       "      <th>social</th>\n",
       "      <th>gender</th>\n",
       "      <th>age</th>\n",
       "      <th>became_member_on</th>\n",
       "      <th>income</th>\n",
       "      <th>anonymous</th>\n",
       "      <th>income_cluster</th>\n",
       "    </tr>\n",
       "  </thead>\n",
       "  <tbody>\n",
       "    <tr>\n",
       "      <th>0</th>\n",
       "      <td>78afa995795e4d85b5d9ceeca43f5fef</td>\n",
       "      <td>offer received</td>\n",
       "      <td>0</td>\n",
       "      <td>9b98b8c7a33c4b65b9aebfe6a799e6d9</td>\n",
       "      <td>5</td>\n",
       "      <td>5</td>\n",
       "      <td>7</td>\n",
       "      <td>bogo</td>\n",
       "      <td>1</td>\n",
       "      <td>1</td>\n",
       "      <td>1</td>\n",
       "      <td>0</td>\n",
       "      <td>F</td>\n",
       "      <td>75</td>\n",
       "      <td>2017-05-09</td>\n",
       "      <td>100000.0</td>\n",
       "      <td>0</td>\n",
       "      <td>0</td>\n",
       "    </tr>\n",
       "    <tr>\n",
       "      <th>2</th>\n",
       "      <td>e2127556f4f64592b11af22de27a7932</td>\n",
       "      <td>offer received</td>\n",
       "      <td>0</td>\n",
       "      <td>2906b810c7d4411798c6938adc9daaa5</td>\n",
       "      <td>2</td>\n",
       "      <td>10</td>\n",
       "      <td>7</td>\n",
       "      <td>discount</td>\n",
       "      <td>1</td>\n",
       "      <td>1</td>\n",
       "      <td>1</td>\n",
       "      <td>0</td>\n",
       "      <td>M</td>\n",
       "      <td>68</td>\n",
       "      <td>2018-04-26</td>\n",
       "      <td>70000.0</td>\n",
       "      <td>0</td>\n",
       "      <td>1</td>\n",
       "    </tr>\n",
       "    <tr>\n",
       "      <th>5</th>\n",
       "      <td>389bc3fa690240e798340f5a15918d5c</td>\n",
       "      <td>offer received</td>\n",
       "      <td>0</td>\n",
       "      <td>f19421c1d4aa40978ebb69ca19b0e20d</td>\n",
       "      <td>5</td>\n",
       "      <td>5</td>\n",
       "      <td>5</td>\n",
       "      <td>bogo</td>\n",
       "      <td>1</td>\n",
       "      <td>1</td>\n",
       "      <td>1</td>\n",
       "      <td>1</td>\n",
       "      <td>M</td>\n",
       "      <td>65</td>\n",
       "      <td>2018-02-09</td>\n",
       "      <td>53000.0</td>\n",
       "      <td>0</td>\n",
       "      <td>1</td>\n",
       "    </tr>\n",
       "    <tr>\n",
       "      <th>7</th>\n",
       "      <td>2eeac8d8feae4a8cad5a6af0499a211d</td>\n",
       "      <td>offer received</td>\n",
       "      <td>0</td>\n",
       "      <td>3f207df678b143eea3cee63160fa8bed</td>\n",
       "      <td>0</td>\n",
       "      <td>0</td>\n",
       "      <td>4</td>\n",
       "      <td>informational</td>\n",
       "      <td>1</td>\n",
       "      <td>1</td>\n",
       "      <td>1</td>\n",
       "      <td>0</td>\n",
       "      <td>M</td>\n",
       "      <td>58</td>\n",
       "      <td>2017-11-11</td>\n",
       "      <td>51000.0</td>\n",
       "      <td>0</td>\n",
       "      <td>1</td>\n",
       "    </tr>\n",
       "    <tr>\n",
       "      <th>8</th>\n",
       "      <td>aa4862eba776480b8bb9c68455b8c2e1</td>\n",
       "      <td>offer received</td>\n",
       "      <td>0</td>\n",
       "      <td>0b1e1539f2cc45b7b9fa7c272da2e1d7</td>\n",
       "      <td>5</td>\n",
       "      <td>20</td>\n",
       "      <td>10</td>\n",
       "      <td>discount</td>\n",
       "      <td>1</td>\n",
       "      <td>1</td>\n",
       "      <td>0</td>\n",
       "      <td>0</td>\n",
       "      <td>F</td>\n",
       "      <td>61</td>\n",
       "      <td>2017-09-11</td>\n",
       "      <td>57000.0</td>\n",
       "      <td>0</td>\n",
       "      <td>1</td>\n",
       "    </tr>\n",
       "  </tbody>\n",
       "</table>\n",
       "</div>"
      ],
      "text/plain": [
       "                             person           event  time  \\\n",
       "0  78afa995795e4d85b5d9ceeca43f5fef  offer received     0   \n",
       "2  e2127556f4f64592b11af22de27a7932  offer received     0   \n",
       "5  389bc3fa690240e798340f5a15918d5c  offer received     0   \n",
       "7  2eeac8d8feae4a8cad5a6af0499a211d  offer received     0   \n",
       "8  aa4862eba776480b8bb9c68455b8c2e1  offer received     0   \n",
       "\n",
       "                           offer_id  reward  difficulty  duration  \\\n",
       "0  9b98b8c7a33c4b65b9aebfe6a799e6d9       5           5         7   \n",
       "2  2906b810c7d4411798c6938adc9daaa5       2          10         7   \n",
       "5  f19421c1d4aa40978ebb69ca19b0e20d       5           5         5   \n",
       "7  3f207df678b143eea3cee63160fa8bed       0           0         4   \n",
       "8  0b1e1539f2cc45b7b9fa7c272da2e1d7       5          20        10   \n",
       "\n",
       "      offer_type  web  email  mobile  social gender  age became_member_on  \\\n",
       "0           bogo    1      1       1       0      F   75       2017-05-09   \n",
       "2       discount    1      1       1       0      M   68       2018-04-26   \n",
       "5           bogo    1      1       1       1      M   65       2018-02-09   \n",
       "7  informational    1      1       1       0      M   58       2017-11-11   \n",
       "8       discount    1      1       0       0      F   61       2017-09-11   \n",
       "\n",
       "     income  anonymous  income_cluster  \n",
       "0  100000.0          0               0  \n",
       "2   70000.0          0               1  \n",
       "5   53000.0          0               1  \n",
       "7   51000.0          0               1  \n",
       "8   57000.0          0               1  "
      ]
     },
     "execution_count": 3,
     "metadata": {},
     "output_type": "execute_result"
    }
   ],
   "source": [
    "df = pd.read_csv('transactions.csv')\n",
    "df.drop(['Unnamed: 0.1','Unnamed: 0' ], axis =1, inplace=True)\n",
    "df = df.loc[df['anonymous'] == 0]\n",
    "df.head()"
   ]
  },
  {
   "cell_type": "markdown",
   "id": "337799a7",
   "metadata": {},
   "source": [
    "# Feature Engineering\n",
    "## We want an indivdual observation for each customer with relevant data"
   ]
  },
  {
   "cell_type": "markdown",
   "id": "b8704fa3",
   "metadata": {},
   "source": [
    "## Offer Count for each Customer   \n",
    "#### Number of BOGO, Discount, and Information Offers\n",
    "#### 'offerNumDF'"
   ]
  },
  {
   "cell_type": "code",
   "execution_count": 4,
   "id": "977dbe98",
   "metadata": {},
   "outputs": [
    {
     "data": {
      "text/html": [
       "<div>\n",
       "<style scoped>\n",
       "    .dataframe tbody tr th:only-of-type {\n",
       "        vertical-align: middle;\n",
       "    }\n",
       "\n",
       "    .dataframe tbody tr th {\n",
       "        vertical-align: top;\n",
       "    }\n",
       "\n",
       "    .dataframe thead th {\n",
       "        text-align: right;\n",
       "    }\n",
       "</style>\n",
       "<table border=\"1\" class=\"dataframe\">\n",
       "  <thead>\n",
       "    <tr style=\"text-align: right;\">\n",
       "      <th></th>\n",
       "      <th>person</th>\n",
       "      <th>BOGO_Number</th>\n",
       "      <th>Discount_Number</th>\n",
       "      <th>Informational_Number</th>\n",
       "    </tr>\n",
       "  </thead>\n",
       "  <tbody>\n",
       "    <tr>\n",
       "      <th>0</th>\n",
       "      <td>0009655768c64bdeb2e877511632db8f</td>\n",
       "      <td>3.0</td>\n",
       "      <td>5.0</td>\n",
       "      <td>4.0</td>\n",
       "    </tr>\n",
       "    <tr>\n",
       "      <th>1</th>\n",
       "      <td>0011e0d4e6b944f998e987f904e8c1e5</td>\n",
       "      <td>3.0</td>\n",
       "      <td>6.0</td>\n",
       "      <td>4.0</td>\n",
       "    </tr>\n",
       "    <tr>\n",
       "      <th>2</th>\n",
       "      <td>0020c2b971eb4e9188eac86d93036a77</td>\n",
       "      <td>4.0</td>\n",
       "      <td>5.0</td>\n",
       "      <td>2.0</td>\n",
       "    </tr>\n",
       "    <tr>\n",
       "      <th>3</th>\n",
       "      <td>0020ccbbb6d84e358d3414a3ff76cffd</td>\n",
       "      <td>6.0</td>\n",
       "      <td>3.0</td>\n",
       "      <td>2.0</td>\n",
       "    </tr>\n",
       "    <tr>\n",
       "      <th>4</th>\n",
       "      <td>003d66b6608740288d6cc97a6903f4f0</td>\n",
       "      <td>0.0</td>\n",
       "      <td>8.0</td>\n",
       "      <td>4.0</td>\n",
       "    </tr>\n",
       "    <tr>\n",
       "      <th>...</th>\n",
       "      <td>...</td>\n",
       "      <td>...</td>\n",
       "      <td>...</td>\n",
       "      <td>...</td>\n",
       "    </tr>\n",
       "    <tr>\n",
       "      <th>14815</th>\n",
       "      <td>fff3ba4757bd42088c044ca26d73817a</td>\n",
       "      <td>3.0</td>\n",
       "      <td>6.0</td>\n",
       "      <td>3.0</td>\n",
       "    </tr>\n",
       "    <tr>\n",
       "      <th>14816</th>\n",
       "      <td>fff7576017104bcc8677a8d63322b5e1</td>\n",
       "      <td>6.0</td>\n",
       "      <td>6.0</td>\n",
       "      <td>0.0</td>\n",
       "    </tr>\n",
       "    <tr>\n",
       "      <th>14817</th>\n",
       "      <td>fff8957ea8b240a6b5e634b6ee8eafcf</td>\n",
       "      <td>2.0</td>\n",
       "      <td>2.0</td>\n",
       "      <td>1.0</td>\n",
       "    </tr>\n",
       "    <tr>\n",
       "      <th>14818</th>\n",
       "      <td>fffad4f4828548d1b5583907f2e9906b</td>\n",
       "      <td>9.0</td>\n",
       "      <td>0.0</td>\n",
       "      <td>2.0</td>\n",
       "    </tr>\n",
       "    <tr>\n",
       "      <th>14819</th>\n",
       "      <td>ffff82501cea40309d5fdd7edcca4a07</td>\n",
       "      <td>3.0</td>\n",
       "      <td>15.0</td>\n",
       "      <td>0.0</td>\n",
       "    </tr>\n",
       "  </tbody>\n",
       "</table>\n",
       "<p>14820 rows × 4 columns</p>\n",
       "</div>"
      ],
      "text/plain": [
       "                                 person  BOGO_Number  Discount_Number  \\\n",
       "0      0009655768c64bdeb2e877511632db8f          3.0              5.0   \n",
       "1      0011e0d4e6b944f998e987f904e8c1e5          3.0              6.0   \n",
       "2      0020c2b971eb4e9188eac86d93036a77          4.0              5.0   \n",
       "3      0020ccbbb6d84e358d3414a3ff76cffd          6.0              3.0   \n",
       "4      003d66b6608740288d6cc97a6903f4f0          0.0              8.0   \n",
       "...                                 ...          ...              ...   \n",
       "14815  fff3ba4757bd42088c044ca26d73817a          3.0              6.0   \n",
       "14816  fff7576017104bcc8677a8d63322b5e1          6.0              6.0   \n",
       "14817  fff8957ea8b240a6b5e634b6ee8eafcf          2.0              2.0   \n",
       "14818  fffad4f4828548d1b5583907f2e9906b          9.0              0.0   \n",
       "14819  ffff82501cea40309d5fdd7edcca4a07          3.0             15.0   \n",
       "\n",
       "       Informational_Number  \n",
       "0                       4.0  \n",
       "1                       4.0  \n",
       "2                       2.0  \n",
       "3                       2.0  \n",
       "4                       4.0  \n",
       "...                     ...  \n",
       "14815                   3.0  \n",
       "14816                   0.0  \n",
       "14817                   1.0  \n",
       "14818                   2.0  \n",
       "14819                   0.0  \n",
       "\n",
       "[14820 rows x 4 columns]"
      ]
     },
     "execution_count": 4,
     "metadata": {},
     "output_type": "execute_result"
    }
   ],
   "source": [
    "# Start with getting a offer count for each customer\n",
    "A = df.groupby(['person', 'offer_type']).count().event.reset_index()\n",
    "A.columns = ['person', 'offer_type', 'Number of Offers']\n",
    "A\n",
    "# Pivot longer\n",
    "A = A.pivot(columns = 'offer_type', values = 'Number of Offers',index = 'person').reset_index()\n",
    "A.columns = ['person', 'BOGO_Number', 'Discount_Number', 'Informational_Number']\n",
    "A.fillna(0, inplace = True)\n",
    "offerNumDF = A\n",
    "offerNumDF"
   ]
  },
  {
   "cell_type": "markdown",
   "id": "0ed51b18",
   "metadata": {},
   "source": [
    "## Aggregate offers channels (web, mobile, social, email) and Reward, difficulty and offer duration\n",
    "#### 'aggDF'"
   ]
  },
  {
   "cell_type": "code",
   "execution_count": 5,
   "id": "4859f355",
   "metadata": {},
   "outputs": [
    {
     "data": {
      "text/html": [
       "<div>\n",
       "<style scoped>\n",
       "    .dataframe tbody tr th:only-of-type {\n",
       "        vertical-align: middle;\n",
       "    }\n",
       "\n",
       "    .dataframe tbody tr th {\n",
       "        vertical-align: top;\n",
       "    }\n",
       "\n",
       "    .dataframe thead th {\n",
       "        text-align: right;\n",
       "    }\n",
       "</style>\n",
       "<table border=\"1\" class=\"dataframe\">\n",
       "  <thead>\n",
       "    <tr style=\"text-align: right;\">\n",
       "      <th></th>\n",
       "      <th>person</th>\n",
       "      <th>reward_avg</th>\n",
       "      <th>difficulty_avg</th>\n",
       "      <th>duration_avg</th>\n",
       "      <th>web</th>\n",
       "      <th>email</th>\n",
       "      <th>social</th>\n",
       "      <th>mobile</th>\n",
       "    </tr>\n",
       "  </thead>\n",
       "  <tbody>\n",
       "    <tr>\n",
       "      <th>0</th>\n",
       "      <td>0009655768c64bdeb2e877511632db8f</td>\n",
       "      <td>2.083333</td>\n",
       "      <td>5.416667</td>\n",
       "      <td>6.083333</td>\n",
       "      <td>10</td>\n",
       "      <td>12</td>\n",
       "      <td>8</td>\n",
       "      <td>12</td>\n",
       "    </tr>\n",
       "    <tr>\n",
       "      <th>1</th>\n",
       "      <td>0011e0d4e6b944f998e987f904e8c1e5</td>\n",
       "      <td>3.000000</td>\n",
       "      <td>7.384615</td>\n",
       "      <td>6.615385</td>\n",
       "      <td>11</td>\n",
       "      <td>13</td>\n",
       "      <td>5</td>\n",
       "      <td>10</td>\n",
       "    </tr>\n",
       "    <tr>\n",
       "      <th>2</th>\n",
       "      <td>0020c2b971eb4e9188eac86d93036a77</td>\n",
       "      <td>4.545455</td>\n",
       "      <td>8.181818</td>\n",
       "      <td>7.090909</td>\n",
       "      <td>8</td>\n",
       "      <td>11</td>\n",
       "      <td>11</td>\n",
       "      <td>11</td>\n",
       "    </tr>\n",
       "    <tr>\n",
       "      <th>3</th>\n",
       "      <td>0020ccbbb6d84e358d3414a3ff76cffd</td>\n",
       "      <td>3.545455</td>\n",
       "      <td>4.636364</td>\n",
       "      <td>5.727273</td>\n",
       "      <td>9</td>\n",
       "      <td>11</td>\n",
       "      <td>8</td>\n",
       "      <td>11</td>\n",
       "    </tr>\n",
       "    <tr>\n",
       "      <th>4</th>\n",
       "      <td>003d66b6608740288d6cc97a6903f4f0</td>\n",
       "      <td>1.833333</td>\n",
       "      <td>8.333333</td>\n",
       "      <td>7.833333</td>\n",
       "      <td>10</td>\n",
       "      <td>12</td>\n",
       "      <td>8</td>\n",
       "      <td>10</td>\n",
       "    </tr>\n",
       "    <tr>\n",
       "      <th>...</th>\n",
       "      <td>...</td>\n",
       "      <td>...</td>\n",
       "      <td>...</td>\n",
       "      <td>...</td>\n",
       "      <td>...</td>\n",
       "      <td>...</td>\n",
       "      <td>...</td>\n",
       "      <td>...</td>\n",
       "    </tr>\n",
       "    <tr>\n",
       "      <th>14815</th>\n",
       "      <td>fff3ba4757bd42088c044ca26d73817a</td>\n",
       "      <td>2.250000</td>\n",
       "      <td>6.250000</td>\n",
       "      <td>6.750000</td>\n",
       "      <td>9</td>\n",
       "      <td>12</td>\n",
       "      <td>6</td>\n",
       "      <td>12</td>\n",
       "    </tr>\n",
       "    <tr>\n",
       "      <th>14816</th>\n",
       "      <td>fff7576017104bcc8677a8d63322b5e1</td>\n",
       "      <td>5.166667</td>\n",
       "      <td>9.166667</td>\n",
       "      <td>8.166667</td>\n",
       "      <td>10</td>\n",
       "      <td>12</td>\n",
       "      <td>10</td>\n",
       "      <td>12</td>\n",
       "    </tr>\n",
       "    <tr>\n",
       "      <th>14817</th>\n",
       "      <td>fff8957ea8b240a6b5e634b6ee8eafcf</td>\n",
       "      <td>4.800000</td>\n",
       "      <td>8.000000</td>\n",
       "      <td>6.800000</td>\n",
       "      <td>5</td>\n",
       "      <td>5</td>\n",
       "      <td>4</td>\n",
       "      <td>5</td>\n",
       "    </tr>\n",
       "    <tr>\n",
       "      <th>14818</th>\n",
       "      <td>fffad4f4828548d1b5583907f2e9906b</td>\n",
       "      <td>4.090909</td>\n",
       "      <td>4.090909</td>\n",
       "      <td>5.181818</td>\n",
       "      <td>9</td>\n",
       "      <td>11</td>\n",
       "      <td>8</td>\n",
       "      <td>11</td>\n",
       "    </tr>\n",
       "    <tr>\n",
       "      <th>14819</th>\n",
       "      <td>ffff82501cea40309d5fdd7edcca4a07</td>\n",
       "      <td>3.000000</td>\n",
       "      <td>10.833333</td>\n",
       "      <td>8.000000</td>\n",
       "      <td>18</td>\n",
       "      <td>18</td>\n",
       "      <td>3</td>\n",
       "      <td>15</td>\n",
       "    </tr>\n",
       "  </tbody>\n",
       "</table>\n",
       "<p>14820 rows × 8 columns</p>\n",
       "</div>"
      ],
      "text/plain": [
       "                                 person  reward_avg  difficulty_avg  \\\n",
       "0      0009655768c64bdeb2e877511632db8f    2.083333        5.416667   \n",
       "1      0011e0d4e6b944f998e987f904e8c1e5    3.000000        7.384615   \n",
       "2      0020c2b971eb4e9188eac86d93036a77    4.545455        8.181818   \n",
       "3      0020ccbbb6d84e358d3414a3ff76cffd    3.545455        4.636364   \n",
       "4      003d66b6608740288d6cc97a6903f4f0    1.833333        8.333333   \n",
       "...                                 ...         ...             ...   \n",
       "14815  fff3ba4757bd42088c044ca26d73817a    2.250000        6.250000   \n",
       "14816  fff7576017104bcc8677a8d63322b5e1    5.166667        9.166667   \n",
       "14817  fff8957ea8b240a6b5e634b6ee8eafcf    4.800000        8.000000   \n",
       "14818  fffad4f4828548d1b5583907f2e9906b    4.090909        4.090909   \n",
       "14819  ffff82501cea40309d5fdd7edcca4a07    3.000000       10.833333   \n",
       "\n",
       "       duration_avg  web  email  social  mobile  \n",
       "0          6.083333   10     12       8      12  \n",
       "1          6.615385   11     13       5      10  \n",
       "2          7.090909    8     11      11      11  \n",
       "3          5.727273    9     11       8      11  \n",
       "4          7.833333   10     12       8      10  \n",
       "...             ...  ...    ...     ...     ...  \n",
       "14815      6.750000    9     12       6      12  \n",
       "14816      8.166667   10     12      10      12  \n",
       "14817      6.800000    5      5       4       5  \n",
       "14818      5.181818    9     11       8      11  \n",
       "14819      8.000000   18     18       3      15  \n",
       "\n",
       "[14820 rows x 8 columns]"
      ]
     },
     "execution_count": 5,
     "metadata": {},
     "output_type": "execute_result"
    }
   ],
   "source": [
    "A = df.loc[:, ['person', 'reward', 'difficulty', 'duration', 'web', 'email', 'social', 'mobile']]\n",
    "aggDF = A.groupby('person').agg(\n",
    "    reward_avg = ('reward', 'mean'),\n",
    "    difficulty_avg = ('difficulty', 'mean'),\n",
    "    duration_avg = ('duration', 'mean'),\n",
    "    web = ('web', 'sum'), \n",
    "    email = ('email', 'sum'),\n",
    "    social = ('social', 'sum'),\n",
    "    mobile = ('mobile', 'sum')\n",
    ").reset_index()\n",
    "aggDF"
   ]
  },
  {
   "cell_type": "markdown",
   "id": "5c46a605",
   "metadata": {},
   "source": [
    "## Event aggregation (How many offers received, viewed and completed)\n",
    "#### 'eventDF'"
   ]
  },
  {
   "cell_type": "code",
   "execution_count": 6,
   "id": "a25f59ef",
   "metadata": {},
   "outputs": [
    {
     "data": {
      "text/html": [
       "<div>\n",
       "<style scoped>\n",
       "    .dataframe tbody tr th:only-of-type {\n",
       "        vertical-align: middle;\n",
       "    }\n",
       "\n",
       "    .dataframe tbody tr th {\n",
       "        vertical-align: top;\n",
       "    }\n",
       "\n",
       "    .dataframe thead th {\n",
       "        text-align: right;\n",
       "    }\n",
       "</style>\n",
       "<table border=\"1\" class=\"dataframe\">\n",
       "  <thead>\n",
       "    <tr style=\"text-align: right;\">\n",
       "      <th>event</th>\n",
       "      <th>person</th>\n",
       "      <th>offer completed</th>\n",
       "      <th>offer received</th>\n",
       "      <th>offer viewed</th>\n",
       "      <th>ratio_completed</th>\n",
       "      <th>ratio_viewed</th>\n",
       "    </tr>\n",
       "  </thead>\n",
       "  <tbody>\n",
       "    <tr>\n",
       "      <th>0</th>\n",
       "      <td>0009655768c64bdeb2e877511632db8f</td>\n",
       "      <td>3.0</td>\n",
       "      <td>5.0</td>\n",
       "      <td>4.0</td>\n",
       "      <td>0.60</td>\n",
       "      <td>0.80</td>\n",
       "    </tr>\n",
       "    <tr>\n",
       "      <th>1</th>\n",
       "      <td>0011e0d4e6b944f998e987f904e8c1e5</td>\n",
       "      <td>3.0</td>\n",
       "      <td>5.0</td>\n",
       "      <td>5.0</td>\n",
       "      <td>0.60</td>\n",
       "      <td>1.00</td>\n",
       "    </tr>\n",
       "    <tr>\n",
       "      <th>2</th>\n",
       "      <td>0020c2b971eb4e9188eac86d93036a77</td>\n",
       "      <td>3.0</td>\n",
       "      <td>5.0</td>\n",
       "      <td>3.0</td>\n",
       "      <td>0.60</td>\n",
       "      <td>0.60</td>\n",
       "    </tr>\n",
       "    <tr>\n",
       "      <th>3</th>\n",
       "      <td>0020ccbbb6d84e358d3414a3ff76cffd</td>\n",
       "      <td>3.0</td>\n",
       "      <td>4.0</td>\n",
       "      <td>4.0</td>\n",
       "      <td>0.75</td>\n",
       "      <td>1.00</td>\n",
       "    </tr>\n",
       "    <tr>\n",
       "      <th>4</th>\n",
       "      <td>003d66b6608740288d6cc97a6903f4f0</td>\n",
       "      <td>3.0</td>\n",
       "      <td>5.0</td>\n",
       "      <td>4.0</td>\n",
       "      <td>0.60</td>\n",
       "      <td>0.80</td>\n",
       "    </tr>\n",
       "    <tr>\n",
       "      <th>...</th>\n",
       "      <td>...</td>\n",
       "      <td>...</td>\n",
       "      <td>...</td>\n",
       "      <td>...</td>\n",
       "      <td>...</td>\n",
       "      <td>...</td>\n",
       "    </tr>\n",
       "    <tr>\n",
       "      <th>14815</th>\n",
       "      <td>fff3ba4757bd42088c044ca26d73817a</td>\n",
       "      <td>3.0</td>\n",
       "      <td>6.0</td>\n",
       "      <td>3.0</td>\n",
       "      <td>0.50</td>\n",
       "      <td>0.50</td>\n",
       "    </tr>\n",
       "    <tr>\n",
       "      <th>14816</th>\n",
       "      <td>fff7576017104bcc8677a8d63322b5e1</td>\n",
       "      <td>3.0</td>\n",
       "      <td>5.0</td>\n",
       "      <td>4.0</td>\n",
       "      <td>0.60</td>\n",
       "      <td>0.80</td>\n",
       "    </tr>\n",
       "    <tr>\n",
       "      <th>14817</th>\n",
       "      <td>fff8957ea8b240a6b5e634b6ee8eafcf</td>\n",
       "      <td>0.0</td>\n",
       "      <td>3.0</td>\n",
       "      <td>2.0</td>\n",
       "      <td>0.00</td>\n",
       "      <td>0.67</td>\n",
       "    </tr>\n",
       "    <tr>\n",
       "      <th>14818</th>\n",
       "      <td>fffad4f4828548d1b5583907f2e9906b</td>\n",
       "      <td>3.0</td>\n",
       "      <td>4.0</td>\n",
       "      <td>4.0</td>\n",
       "      <td>0.75</td>\n",
       "      <td>1.00</td>\n",
       "    </tr>\n",
       "    <tr>\n",
       "      <th>14819</th>\n",
       "      <td>ffff82501cea40309d5fdd7edcca4a07</td>\n",
       "      <td>6.0</td>\n",
       "      <td>6.0</td>\n",
       "      <td>6.0</td>\n",
       "      <td>1.00</td>\n",
       "      <td>1.00</td>\n",
       "    </tr>\n",
       "  </tbody>\n",
       "</table>\n",
       "<p>14820 rows × 6 columns</p>\n",
       "</div>"
      ],
      "text/plain": [
       "event                            person  offer completed  offer received  \\\n",
       "0      0009655768c64bdeb2e877511632db8f              3.0             5.0   \n",
       "1      0011e0d4e6b944f998e987f904e8c1e5              3.0             5.0   \n",
       "2      0020c2b971eb4e9188eac86d93036a77              3.0             5.0   \n",
       "3      0020ccbbb6d84e358d3414a3ff76cffd              3.0             4.0   \n",
       "4      003d66b6608740288d6cc97a6903f4f0              3.0             5.0   \n",
       "...                                 ...              ...             ...   \n",
       "14815  fff3ba4757bd42088c044ca26d73817a              3.0             6.0   \n",
       "14816  fff7576017104bcc8677a8d63322b5e1              3.0             5.0   \n",
       "14817  fff8957ea8b240a6b5e634b6ee8eafcf              0.0             3.0   \n",
       "14818  fffad4f4828548d1b5583907f2e9906b              3.0             4.0   \n",
       "14819  ffff82501cea40309d5fdd7edcca4a07              6.0             6.0   \n",
       "\n",
       "event  offer viewed  ratio_completed  ratio_viewed  \n",
       "0               4.0             0.60          0.80  \n",
       "1               5.0             0.60          1.00  \n",
       "2               3.0             0.60          0.60  \n",
       "3               4.0             0.75          1.00  \n",
       "4               4.0             0.60          0.80  \n",
       "...             ...              ...           ...  \n",
       "14815           3.0             0.50          0.50  \n",
       "14816           4.0             0.60          0.80  \n",
       "14817           2.0             0.00          0.67  \n",
       "14818           4.0             0.75          1.00  \n",
       "14819           6.0             1.00          1.00  \n",
       "\n",
       "[14820 rows x 6 columns]"
      ]
     },
     "execution_count": 6,
     "metadata": {},
     "output_type": "execute_result"
    }
   ],
   "source": [
    "A = df.loc[:, ['person', 'event', 'web']]\n",
    "A = A.groupby(['person', 'event']).count().reset_index()\n",
    "eventDF = A.pivot(index = 'person', columns = 'event', values = 'web').reset_index()\n",
    "eventDF.fillna(0, inplace = True)\n",
    "eventDF['ratio_completed'] = round(eventDF['offer completed']/eventDF['offer received'] ,2)\n",
    "eventDF['ratio_viewed'] = round(eventDF['offer viewed']/ eventDF['offer received'],2)\n",
    "eventDF"
   ]
  },
  {
   "cell_type": "markdown",
   "id": "c87f7652",
   "metadata": {},
   "source": [
    "## Create Demographics DF (age, income, year been a  member, gender)\n",
    "#### 'demoDF'"
   ]
  },
  {
   "cell_type": "code",
   "execution_count": 7,
   "id": "99fe2081",
   "metadata": {},
   "outputs": [
    {
     "data": {
      "text/html": [
       "<div>\n",
       "<style scoped>\n",
       "    .dataframe tbody tr th:only-of-type {\n",
       "        vertical-align: middle;\n",
       "    }\n",
       "\n",
       "    .dataframe tbody tr th {\n",
       "        vertical-align: top;\n",
       "    }\n",
       "\n",
       "    .dataframe thead th {\n",
       "        text-align: right;\n",
       "    }\n",
       "</style>\n",
       "<table border=\"1\" class=\"dataframe\">\n",
       "  <thead>\n",
       "    <tr style=\"text-align: right;\">\n",
       "      <th></th>\n",
       "      <th>person</th>\n",
       "      <th>gender</th>\n",
       "      <th>age</th>\n",
       "      <th>income</th>\n",
       "      <th>year_became_member</th>\n",
       "    </tr>\n",
       "  </thead>\n",
       "  <tbody>\n",
       "    <tr>\n",
       "      <th>0</th>\n",
       "      <td>0009655768c64bdeb2e877511632db8f</td>\n",
       "      <td>M</td>\n",
       "      <td>33</td>\n",
       "      <td>72000.0</td>\n",
       "      <td>2017</td>\n",
       "    </tr>\n",
       "    <tr>\n",
       "      <th>1</th>\n",
       "      <td>0011e0d4e6b944f998e987f904e8c1e5</td>\n",
       "      <td>O</td>\n",
       "      <td>40</td>\n",
       "      <td>57000.0</td>\n",
       "      <td>2018</td>\n",
       "    </tr>\n",
       "    <tr>\n",
       "      <th>2</th>\n",
       "      <td>0020c2b971eb4e9188eac86d93036a77</td>\n",
       "      <td>F</td>\n",
       "      <td>59</td>\n",
       "      <td>90000.0</td>\n",
       "      <td>2016</td>\n",
       "    </tr>\n",
       "    <tr>\n",
       "      <th>3</th>\n",
       "      <td>0020ccbbb6d84e358d3414a3ff76cffd</td>\n",
       "      <td>F</td>\n",
       "      <td>24</td>\n",
       "      <td>60000.0</td>\n",
       "      <td>2016</td>\n",
       "    </tr>\n",
       "    <tr>\n",
       "      <th>4</th>\n",
       "      <td>003d66b6608740288d6cc97a6903f4f0</td>\n",
       "      <td>F</td>\n",
       "      <td>26</td>\n",
       "      <td>73000.0</td>\n",
       "      <td>2017</td>\n",
       "    </tr>\n",
       "    <tr>\n",
       "      <th>...</th>\n",
       "      <td>...</td>\n",
       "      <td>...</td>\n",
       "      <td>...</td>\n",
       "      <td>...</td>\n",
       "      <td>...</td>\n",
       "    </tr>\n",
       "    <tr>\n",
       "      <th>14815</th>\n",
       "      <td>fff3ba4757bd42088c044ca26d73817a</td>\n",
       "      <td>F</td>\n",
       "      <td>69</td>\n",
       "      <td>83000.0</td>\n",
       "      <td>2015</td>\n",
       "    </tr>\n",
       "    <tr>\n",
       "      <th>14816</th>\n",
       "      <td>fff7576017104bcc8677a8d63322b5e1</td>\n",
       "      <td>M</td>\n",
       "      <td>71</td>\n",
       "      <td>73000.0</td>\n",
       "      <td>2017</td>\n",
       "    </tr>\n",
       "    <tr>\n",
       "      <th>14817</th>\n",
       "      <td>fff8957ea8b240a6b5e634b6ee8eafcf</td>\n",
       "      <td>M</td>\n",
       "      <td>71</td>\n",
       "      <td>56000.0</td>\n",
       "      <td>2018</td>\n",
       "    </tr>\n",
       "    <tr>\n",
       "      <th>14818</th>\n",
       "      <td>fffad4f4828548d1b5583907f2e9906b</td>\n",
       "      <td>M</td>\n",
       "      <td>34</td>\n",
       "      <td>34000.0</td>\n",
       "      <td>2017</td>\n",
       "    </tr>\n",
       "    <tr>\n",
       "      <th>14819</th>\n",
       "      <td>ffff82501cea40309d5fdd7edcca4a07</td>\n",
       "      <td>F</td>\n",
       "      <td>45</td>\n",
       "      <td>62000.0</td>\n",
       "      <td>2016</td>\n",
       "    </tr>\n",
       "  </tbody>\n",
       "</table>\n",
       "<p>14820 rows × 5 columns</p>\n",
       "</div>"
      ],
      "text/plain": [
       "                                 person gender  age   income  \\\n",
       "0      0009655768c64bdeb2e877511632db8f      M   33  72000.0   \n",
       "1      0011e0d4e6b944f998e987f904e8c1e5      O   40  57000.0   \n",
       "2      0020c2b971eb4e9188eac86d93036a77      F   59  90000.0   \n",
       "3      0020ccbbb6d84e358d3414a3ff76cffd      F   24  60000.0   \n",
       "4      003d66b6608740288d6cc97a6903f4f0      F   26  73000.0   \n",
       "...                                 ...    ...  ...      ...   \n",
       "14815  fff3ba4757bd42088c044ca26d73817a      F   69  83000.0   \n",
       "14816  fff7576017104bcc8677a8d63322b5e1      M   71  73000.0   \n",
       "14817  fff8957ea8b240a6b5e634b6ee8eafcf      M   71  56000.0   \n",
       "14818  fffad4f4828548d1b5583907f2e9906b      M   34  34000.0   \n",
       "14819  ffff82501cea40309d5fdd7edcca4a07      F   45  62000.0   \n",
       "\n",
       "       year_became_member  \n",
       "0                    2017  \n",
       "1                    2018  \n",
       "2                    2016  \n",
       "3                    2016  \n",
       "4                    2017  \n",
       "...                   ...  \n",
       "14815                2015  \n",
       "14816                2017  \n",
       "14817                2018  \n",
       "14818                2017  \n",
       "14819                2016  \n",
       "\n",
       "[14820 rows x 5 columns]"
      ]
     },
     "execution_count": 7,
     "metadata": {},
     "output_type": "execute_result"
    }
   ],
   "source": [
    "demoDF = df.loc[:,['person', 'gender', 'age', 'became_member_on', 'income']]\n",
    "demoDF = demoDF.groupby('person').agg(\n",
    "    gender = ('gender', 'first'),\n",
    "    age = ('age', 'first'),\n",
    "    income = ('income', 'first'),\n",
    "    became_member_on = ('became_member_on', 'first')\n",
    ").reset_index()\n",
    "# convert became a member on to date\n",
    "demoDF['became_member_on'] = pd.to_datetime(demoDF['became_member_on'])\n",
    "demoDF['year_became_member'] = demoDF['became_member_on'].dt.year\n",
    "demoDF.drop(['became_member_on'], axis = 1, inplace = True)\n",
    "demoDF"
   ]
  },
  {
   "cell_type": "markdown",
   "id": "dcb2de9f",
   "metadata": {},
   "source": [
    "## Attach how much money they spent and most recent transaction date"
   ]
  },
  {
   "cell_type": "code",
   "execution_count": 8,
   "id": "630b51b3",
   "metadata": {},
   "outputs": [
    {
     "data": {
      "text/html": [
       "<div>\n",
       "<style scoped>\n",
       "    .dataframe tbody tr th:only-of-type {\n",
       "        vertical-align: middle;\n",
       "    }\n",
       "\n",
       "    .dataframe tbody tr th {\n",
       "        vertical-align: top;\n",
       "    }\n",
       "\n",
       "    .dataframe thead th {\n",
       "        text-align: right;\n",
       "    }\n",
       "</style>\n",
       "<table border=\"1\" class=\"dataframe\">\n",
       "  <thead>\n",
       "    <tr style=\"text-align: right;\">\n",
       "      <th></th>\n",
       "      <th>person</th>\n",
       "      <th>most_recent</th>\n",
       "      <th>total_spent</th>\n",
       "      <th>transactions_number</th>\n",
       "    </tr>\n",
       "  </thead>\n",
       "  <tbody>\n",
       "    <tr>\n",
       "      <th>0</th>\n",
       "      <td>0009655768c64bdeb2e877511632db8f</td>\n",
       "      <td>696</td>\n",
       "      <td>127.60</td>\n",
       "      <td>8</td>\n",
       "    </tr>\n",
       "    <tr>\n",
       "      <th>1</th>\n",
       "      <td>00116118485d4dfda04fdbaba9a87b5c</td>\n",
       "      <td>474</td>\n",
       "      <td>4.09</td>\n",
       "      <td>3</td>\n",
       "    </tr>\n",
       "    <tr>\n",
       "      <th>2</th>\n",
       "      <td>0011e0d4e6b944f998e987f904e8c1e5</td>\n",
       "      <td>654</td>\n",
       "      <td>79.46</td>\n",
       "      <td>5</td>\n",
       "    </tr>\n",
       "    <tr>\n",
       "      <th>3</th>\n",
       "      <td>0020c2b971eb4e9188eac86d93036a77</td>\n",
       "      <td>708</td>\n",
       "      <td>196.86</td>\n",
       "      <td>8</td>\n",
       "    </tr>\n",
       "    <tr>\n",
       "      <th>4</th>\n",
       "      <td>0020ccbbb6d84e358d3414a3ff76cffd</td>\n",
       "      <td>672</td>\n",
       "      <td>154.05</td>\n",
       "      <td>12</td>\n",
       "    </tr>\n",
       "    <tr>\n",
       "      <th>...</th>\n",
       "      <td>...</td>\n",
       "      <td>...</td>\n",
       "      <td>...</td>\n",
       "      <td>...</td>\n",
       "    </tr>\n",
       "    <tr>\n",
       "      <th>16573</th>\n",
       "      <td>fff3ba4757bd42088c044ca26d73817a</td>\n",
       "      <td>552</td>\n",
       "      <td>580.98</td>\n",
       "      <td>11</td>\n",
       "    </tr>\n",
       "    <tr>\n",
       "      <th>16574</th>\n",
       "      <td>fff7576017104bcc8677a8d63322b5e1</td>\n",
       "      <td>696</td>\n",
       "      <td>29.94</td>\n",
       "      <td>6</td>\n",
       "    </tr>\n",
       "    <tr>\n",
       "      <th>16575</th>\n",
       "      <td>fff8957ea8b240a6b5e634b6ee8eafcf</td>\n",
       "      <td>576</td>\n",
       "      <td>12.15</td>\n",
       "      <td>5</td>\n",
       "    </tr>\n",
       "    <tr>\n",
       "      <th>16576</th>\n",
       "      <td>fffad4f4828548d1b5583907f2e9906b</td>\n",
       "      <td>678</td>\n",
       "      <td>88.83</td>\n",
       "      <td>12</td>\n",
       "    </tr>\n",
       "    <tr>\n",
       "      <th>16577</th>\n",
       "      <td>ffff82501cea40309d5fdd7edcca4a07</td>\n",
       "      <td>648</td>\n",
       "      <td>226.07</td>\n",
       "      <td>15</td>\n",
       "    </tr>\n",
       "  </tbody>\n",
       "</table>\n",
       "<p>16578 rows × 4 columns</p>\n",
       "</div>"
      ],
      "text/plain": [
       "                                 person  most_recent  total_spent  \\\n",
       "0      0009655768c64bdeb2e877511632db8f          696       127.60   \n",
       "1      00116118485d4dfda04fdbaba9a87b5c          474         4.09   \n",
       "2      0011e0d4e6b944f998e987f904e8c1e5          654        79.46   \n",
       "3      0020c2b971eb4e9188eac86d93036a77          708       196.86   \n",
       "4      0020ccbbb6d84e358d3414a3ff76cffd          672       154.05   \n",
       "...                                 ...          ...          ...   \n",
       "16573  fff3ba4757bd42088c044ca26d73817a          552       580.98   \n",
       "16574  fff7576017104bcc8677a8d63322b5e1          696        29.94   \n",
       "16575  fff8957ea8b240a6b5e634b6ee8eafcf          576        12.15   \n",
       "16576  fffad4f4828548d1b5583907f2e9906b          678        88.83   \n",
       "16577  ffff82501cea40309d5fdd7edcca4a07          648       226.07   \n",
       "\n",
       "       transactions_number  \n",
       "0                        8  \n",
       "1                        3  \n",
       "2                        5  \n",
       "3                        8  \n",
       "4                       12  \n",
       "...                    ...  \n",
       "16573                   11  \n",
       "16574                    6  \n",
       "16575                    5  \n",
       "16576                   12  \n",
       "16577                   15  \n",
       "\n",
       "[16578 rows x 4 columns]"
      ]
     },
     "execution_count": 8,
     "metadata": {},
     "output_type": "execute_result"
    }
   ],
   "source": [
    "money = pd.read_csv('transcriptT.csv')\n",
    "money.drop(['Unnamed: 0', 'value'], axis = 1, inplace = True)\n",
    "money = money.groupby('person').agg(\n",
    "    most_recent = ('time', 'last'),\n",
    "    total_spent = ('spent', 'sum'),\n",
    "    transactions_number = ('event', 'count')\n",
    ").reset_index()\n",
    "money"
   ]
  },
  {
   "cell_type": "markdown",
   "id": "81a033da",
   "metadata": {},
   "source": [
    "## Merge"
   ]
  },
  {
   "cell_type": "code",
   "execution_count": 9,
   "id": "a4915c95",
   "metadata": {},
   "outputs": [
    {
     "data": {
      "text/html": [
       "<div>\n",
       "<style scoped>\n",
       "    .dataframe tbody tr th:only-of-type {\n",
       "        vertical-align: middle;\n",
       "    }\n",
       "\n",
       "    .dataframe tbody tr th {\n",
       "        vertical-align: top;\n",
       "    }\n",
       "\n",
       "    .dataframe thead th {\n",
       "        text-align: right;\n",
       "    }\n",
       "</style>\n",
       "<table border=\"1\" class=\"dataframe\">\n",
       "  <thead>\n",
       "    <tr style=\"text-align: right;\">\n",
       "      <th></th>\n",
       "      <th>person</th>\n",
       "      <th>gender</th>\n",
       "      <th>age</th>\n",
       "      <th>income</th>\n",
       "      <th>year_became_member</th>\n",
       "      <th>BOGO_Number</th>\n",
       "      <th>Discount_Number</th>\n",
       "      <th>Informational_Number</th>\n",
       "      <th>reward_avg</th>\n",
       "      <th>difficulty_avg</th>\n",
       "      <th>...</th>\n",
       "      <th>social</th>\n",
       "      <th>mobile</th>\n",
       "      <th>offer completed</th>\n",
       "      <th>offer received</th>\n",
       "      <th>offer viewed</th>\n",
       "      <th>ratio_completed</th>\n",
       "      <th>ratio_viewed</th>\n",
       "      <th>most_recent</th>\n",
       "      <th>total_spent</th>\n",
       "      <th>transactions_number</th>\n",
       "    </tr>\n",
       "  </thead>\n",
       "  <tbody>\n",
       "    <tr>\n",
       "      <th>0</th>\n",
       "      <td>0009655768c64bdeb2e877511632db8f</td>\n",
       "      <td>M</td>\n",
       "      <td>33</td>\n",
       "      <td>72000.0</td>\n",
       "      <td>2017</td>\n",
       "      <td>3.0</td>\n",
       "      <td>5.0</td>\n",
       "      <td>4.0</td>\n",
       "      <td>2.083333</td>\n",
       "      <td>5.416667</td>\n",
       "      <td>...</td>\n",
       "      <td>8</td>\n",
       "      <td>12</td>\n",
       "      <td>3.0</td>\n",
       "      <td>5.0</td>\n",
       "      <td>4.0</td>\n",
       "      <td>0.60</td>\n",
       "      <td>0.80</td>\n",
       "      <td>696.0</td>\n",
       "      <td>127.60</td>\n",
       "      <td>8.0</td>\n",
       "    </tr>\n",
       "    <tr>\n",
       "      <th>1</th>\n",
       "      <td>0011e0d4e6b944f998e987f904e8c1e5</td>\n",
       "      <td>O</td>\n",
       "      <td>40</td>\n",
       "      <td>57000.0</td>\n",
       "      <td>2018</td>\n",
       "      <td>3.0</td>\n",
       "      <td>6.0</td>\n",
       "      <td>4.0</td>\n",
       "      <td>3.000000</td>\n",
       "      <td>7.384615</td>\n",
       "      <td>...</td>\n",
       "      <td>5</td>\n",
       "      <td>10</td>\n",
       "      <td>3.0</td>\n",
       "      <td>5.0</td>\n",
       "      <td>5.0</td>\n",
       "      <td>0.60</td>\n",
       "      <td>1.00</td>\n",
       "      <td>654.0</td>\n",
       "      <td>79.46</td>\n",
       "      <td>5.0</td>\n",
       "    </tr>\n",
       "    <tr>\n",
       "      <th>2</th>\n",
       "      <td>0020c2b971eb4e9188eac86d93036a77</td>\n",
       "      <td>F</td>\n",
       "      <td>59</td>\n",
       "      <td>90000.0</td>\n",
       "      <td>2016</td>\n",
       "      <td>4.0</td>\n",
       "      <td>5.0</td>\n",
       "      <td>2.0</td>\n",
       "      <td>4.545455</td>\n",
       "      <td>8.181818</td>\n",
       "      <td>...</td>\n",
       "      <td>11</td>\n",
       "      <td>11</td>\n",
       "      <td>3.0</td>\n",
       "      <td>5.0</td>\n",
       "      <td>3.0</td>\n",
       "      <td>0.60</td>\n",
       "      <td>0.60</td>\n",
       "      <td>708.0</td>\n",
       "      <td>196.86</td>\n",
       "      <td>8.0</td>\n",
       "    </tr>\n",
       "    <tr>\n",
       "      <th>3</th>\n",
       "      <td>0020ccbbb6d84e358d3414a3ff76cffd</td>\n",
       "      <td>F</td>\n",
       "      <td>24</td>\n",
       "      <td>60000.0</td>\n",
       "      <td>2016</td>\n",
       "      <td>6.0</td>\n",
       "      <td>3.0</td>\n",
       "      <td>2.0</td>\n",
       "      <td>3.545455</td>\n",
       "      <td>4.636364</td>\n",
       "      <td>...</td>\n",
       "      <td>8</td>\n",
       "      <td>11</td>\n",
       "      <td>3.0</td>\n",
       "      <td>4.0</td>\n",
       "      <td>4.0</td>\n",
       "      <td>0.75</td>\n",
       "      <td>1.00</td>\n",
       "      <td>672.0</td>\n",
       "      <td>154.05</td>\n",
       "      <td>12.0</td>\n",
       "    </tr>\n",
       "    <tr>\n",
       "      <th>4</th>\n",
       "      <td>003d66b6608740288d6cc97a6903f4f0</td>\n",
       "      <td>F</td>\n",
       "      <td>26</td>\n",
       "      <td>73000.0</td>\n",
       "      <td>2017</td>\n",
       "      <td>0.0</td>\n",
       "      <td>8.0</td>\n",
       "      <td>4.0</td>\n",
       "      <td>1.833333</td>\n",
       "      <td>8.333333</td>\n",
       "      <td>...</td>\n",
       "      <td>8</td>\n",
       "      <td>10</td>\n",
       "      <td>3.0</td>\n",
       "      <td>5.0</td>\n",
       "      <td>4.0</td>\n",
       "      <td>0.60</td>\n",
       "      <td>0.80</td>\n",
       "      <td>696.0</td>\n",
       "      <td>48.34</td>\n",
       "      <td>18.0</td>\n",
       "    </tr>\n",
       "    <tr>\n",
       "      <th>...</th>\n",
       "      <td>...</td>\n",
       "      <td>...</td>\n",
       "      <td>...</td>\n",
       "      <td>...</td>\n",
       "      <td>...</td>\n",
       "      <td>...</td>\n",
       "      <td>...</td>\n",
       "      <td>...</td>\n",
       "      <td>...</td>\n",
       "      <td>...</td>\n",
       "      <td>...</td>\n",
       "      <td>...</td>\n",
       "      <td>...</td>\n",
       "      <td>...</td>\n",
       "      <td>...</td>\n",
       "      <td>...</td>\n",
       "      <td>...</td>\n",
       "      <td>...</td>\n",
       "      <td>...</td>\n",
       "      <td>...</td>\n",
       "      <td>...</td>\n",
       "    </tr>\n",
       "    <tr>\n",
       "      <th>14815</th>\n",
       "      <td>fff3ba4757bd42088c044ca26d73817a</td>\n",
       "      <td>F</td>\n",
       "      <td>69</td>\n",
       "      <td>83000.0</td>\n",
       "      <td>2015</td>\n",
       "      <td>3.0</td>\n",
       "      <td>6.0</td>\n",
       "      <td>3.0</td>\n",
       "      <td>2.250000</td>\n",
       "      <td>6.250000</td>\n",
       "      <td>...</td>\n",
       "      <td>6</td>\n",
       "      <td>12</td>\n",
       "      <td>3.0</td>\n",
       "      <td>6.0</td>\n",
       "      <td>3.0</td>\n",
       "      <td>0.50</td>\n",
       "      <td>0.50</td>\n",
       "      <td>552.0</td>\n",
       "      <td>580.98</td>\n",
       "      <td>11.0</td>\n",
       "    </tr>\n",
       "    <tr>\n",
       "      <th>14816</th>\n",
       "      <td>fff7576017104bcc8677a8d63322b5e1</td>\n",
       "      <td>M</td>\n",
       "      <td>71</td>\n",
       "      <td>73000.0</td>\n",
       "      <td>2017</td>\n",
       "      <td>6.0</td>\n",
       "      <td>6.0</td>\n",
       "      <td>0.0</td>\n",
       "      <td>5.166667</td>\n",
       "      <td>9.166667</td>\n",
       "      <td>...</td>\n",
       "      <td>10</td>\n",
       "      <td>12</td>\n",
       "      <td>3.0</td>\n",
       "      <td>5.0</td>\n",
       "      <td>4.0</td>\n",
       "      <td>0.60</td>\n",
       "      <td>0.80</td>\n",
       "      <td>696.0</td>\n",
       "      <td>29.94</td>\n",
       "      <td>6.0</td>\n",
       "    </tr>\n",
       "    <tr>\n",
       "      <th>14817</th>\n",
       "      <td>fff8957ea8b240a6b5e634b6ee8eafcf</td>\n",
       "      <td>M</td>\n",
       "      <td>71</td>\n",
       "      <td>56000.0</td>\n",
       "      <td>2018</td>\n",
       "      <td>2.0</td>\n",
       "      <td>2.0</td>\n",
       "      <td>1.0</td>\n",
       "      <td>4.800000</td>\n",
       "      <td>8.000000</td>\n",
       "      <td>...</td>\n",
       "      <td>4</td>\n",
       "      <td>5</td>\n",
       "      <td>0.0</td>\n",
       "      <td>3.0</td>\n",
       "      <td>2.0</td>\n",
       "      <td>0.00</td>\n",
       "      <td>0.67</td>\n",
       "      <td>576.0</td>\n",
       "      <td>12.15</td>\n",
       "      <td>5.0</td>\n",
       "    </tr>\n",
       "    <tr>\n",
       "      <th>14818</th>\n",
       "      <td>fffad4f4828548d1b5583907f2e9906b</td>\n",
       "      <td>M</td>\n",
       "      <td>34</td>\n",
       "      <td>34000.0</td>\n",
       "      <td>2017</td>\n",
       "      <td>9.0</td>\n",
       "      <td>0.0</td>\n",
       "      <td>2.0</td>\n",
       "      <td>4.090909</td>\n",
       "      <td>4.090909</td>\n",
       "      <td>...</td>\n",
       "      <td>8</td>\n",
       "      <td>11</td>\n",
       "      <td>3.0</td>\n",
       "      <td>4.0</td>\n",
       "      <td>4.0</td>\n",
       "      <td>0.75</td>\n",
       "      <td>1.00</td>\n",
       "      <td>678.0</td>\n",
       "      <td>88.83</td>\n",
       "      <td>12.0</td>\n",
       "    </tr>\n",
       "    <tr>\n",
       "      <th>14819</th>\n",
       "      <td>ffff82501cea40309d5fdd7edcca4a07</td>\n",
       "      <td>F</td>\n",
       "      <td>45</td>\n",
       "      <td>62000.0</td>\n",
       "      <td>2016</td>\n",
       "      <td>3.0</td>\n",
       "      <td>15.0</td>\n",
       "      <td>0.0</td>\n",
       "      <td>3.000000</td>\n",
       "      <td>10.833333</td>\n",
       "      <td>...</td>\n",
       "      <td>3</td>\n",
       "      <td>15</td>\n",
       "      <td>6.0</td>\n",
       "      <td>6.0</td>\n",
       "      <td>6.0</td>\n",
       "      <td>1.00</td>\n",
       "      <td>1.00</td>\n",
       "      <td>648.0</td>\n",
       "      <td>226.07</td>\n",
       "      <td>15.0</td>\n",
       "    </tr>\n",
       "  </tbody>\n",
       "</table>\n",
       "<p>14820 rows × 23 columns</p>\n",
       "</div>"
      ],
      "text/plain": [
       "                                 person gender  age   income  \\\n",
       "0      0009655768c64bdeb2e877511632db8f      M   33  72000.0   \n",
       "1      0011e0d4e6b944f998e987f904e8c1e5      O   40  57000.0   \n",
       "2      0020c2b971eb4e9188eac86d93036a77      F   59  90000.0   \n",
       "3      0020ccbbb6d84e358d3414a3ff76cffd      F   24  60000.0   \n",
       "4      003d66b6608740288d6cc97a6903f4f0      F   26  73000.0   \n",
       "...                                 ...    ...  ...      ...   \n",
       "14815  fff3ba4757bd42088c044ca26d73817a      F   69  83000.0   \n",
       "14816  fff7576017104bcc8677a8d63322b5e1      M   71  73000.0   \n",
       "14817  fff8957ea8b240a6b5e634b6ee8eafcf      M   71  56000.0   \n",
       "14818  fffad4f4828548d1b5583907f2e9906b      M   34  34000.0   \n",
       "14819  ffff82501cea40309d5fdd7edcca4a07      F   45  62000.0   \n",
       "\n",
       "       year_became_member  BOGO_Number  Discount_Number  Informational_Number  \\\n",
       "0                    2017          3.0              5.0                   4.0   \n",
       "1                    2018          3.0              6.0                   4.0   \n",
       "2                    2016          4.0              5.0                   2.0   \n",
       "3                    2016          6.0              3.0                   2.0   \n",
       "4                    2017          0.0              8.0                   4.0   \n",
       "...                   ...          ...              ...                   ...   \n",
       "14815                2015          3.0              6.0                   3.0   \n",
       "14816                2017          6.0              6.0                   0.0   \n",
       "14817                2018          2.0              2.0                   1.0   \n",
       "14818                2017          9.0              0.0                   2.0   \n",
       "14819                2016          3.0             15.0                   0.0   \n",
       "\n",
       "       reward_avg  difficulty_avg  ...  social  mobile  offer completed  \\\n",
       "0        2.083333        5.416667  ...       8      12              3.0   \n",
       "1        3.000000        7.384615  ...       5      10              3.0   \n",
       "2        4.545455        8.181818  ...      11      11              3.0   \n",
       "3        3.545455        4.636364  ...       8      11              3.0   \n",
       "4        1.833333        8.333333  ...       8      10              3.0   \n",
       "...           ...             ...  ...     ...     ...              ...   \n",
       "14815    2.250000        6.250000  ...       6      12              3.0   \n",
       "14816    5.166667        9.166667  ...      10      12              3.0   \n",
       "14817    4.800000        8.000000  ...       4       5              0.0   \n",
       "14818    4.090909        4.090909  ...       8      11              3.0   \n",
       "14819    3.000000       10.833333  ...       3      15              6.0   \n",
       "\n",
       "       offer received  offer viewed  ratio_completed  ratio_viewed  \\\n",
       "0                 5.0           4.0             0.60          0.80   \n",
       "1                 5.0           5.0             0.60          1.00   \n",
       "2                 5.0           3.0             0.60          0.60   \n",
       "3                 4.0           4.0             0.75          1.00   \n",
       "4                 5.0           4.0             0.60          0.80   \n",
       "...               ...           ...              ...           ...   \n",
       "14815             6.0           3.0             0.50          0.50   \n",
       "14816             5.0           4.0             0.60          0.80   \n",
       "14817             3.0           2.0             0.00          0.67   \n",
       "14818             4.0           4.0             0.75          1.00   \n",
       "14819             6.0           6.0             1.00          1.00   \n",
       "\n",
       "       most_recent  total_spent  transactions_number  \n",
       "0            696.0       127.60                  8.0  \n",
       "1            654.0        79.46                  5.0  \n",
       "2            708.0       196.86                  8.0  \n",
       "3            672.0       154.05                 12.0  \n",
       "4            696.0        48.34                 18.0  \n",
       "...            ...          ...                  ...  \n",
       "14815        552.0       580.98                 11.0  \n",
       "14816        696.0        29.94                  6.0  \n",
       "14817        576.0        12.15                  5.0  \n",
       "14818        678.0        88.83                 12.0  \n",
       "14819        648.0       226.07                 15.0  \n",
       "\n",
       "[14820 rows x 23 columns]"
      ]
     },
     "execution_count": 9,
     "metadata": {},
     "output_type": "execute_result"
    }
   ],
   "source": [
    "mergeDF = offerNumDF.merge(aggDF, how = 'left', on = 'person')\n",
    "mergeDF = mergeDF.merge(eventDF, how = 'left', on = 'person')\n",
    "\n",
    "mergeDF = demoDF.merge(mergeDF, how = 'left', on = 'person')\n",
    "mergeDF = mergeDF.merge(money, how = 'left', on = 'person')\n",
    "mergeDF"
   ]
  },
  {
   "cell_type": "markdown",
   "id": "a1a27fd7",
   "metadata": {},
   "source": [
    "### Look for NAs"
   ]
  },
  {
   "cell_type": "code",
   "execution_count": 10,
   "id": "dd86a5f1",
   "metadata": {},
   "outputs": [
    {
     "data": {
      "text/plain": [
       "person                  False\n",
       "gender                  False\n",
       "age                     False\n",
       "income                  False\n",
       "year_became_member      False\n",
       "BOGO_Number             False\n",
       "Discount_Number         False\n",
       "Informational_Number    False\n",
       "reward_avg              False\n",
       "difficulty_avg          False\n",
       "duration_avg            False\n",
       "web                     False\n",
       "email                   False\n",
       "social                  False\n",
       "mobile                  False\n",
       "offer completed         False\n",
       "offer received          False\n",
       "offer viewed            False\n",
       "ratio_completed         False\n",
       "ratio_viewed            False\n",
       "most_recent              True\n",
       "total_spent              True\n",
       "transactions_number      True\n",
       "dtype: bool"
      ]
     },
     "execution_count": 10,
     "metadata": {},
     "output_type": "execute_result"
    }
   ],
   "source": [
    "mergeDF.isna().any()"
   ]
  },
  {
   "cell_type": "markdown",
   "id": "b3b82123",
   "metadata": {},
   "source": [
    "### Only NA values are in actual transactions, meaning they never bought anything, fill nas with 0"
   ]
  },
  {
   "cell_type": "code",
   "execution_count": 11,
   "id": "1b350c15",
   "metadata": {},
   "outputs": [
    {
     "data": {
      "text/plain": [
       "person                  False\n",
       "gender                  False\n",
       "age                     False\n",
       "income                  False\n",
       "year_became_member      False\n",
       "BOGO_Number             False\n",
       "Discount_Number         False\n",
       "Informational_Number    False\n",
       "reward_avg              False\n",
       "difficulty_avg          False\n",
       "duration_avg            False\n",
       "web                     False\n",
       "email                   False\n",
       "social                  False\n",
       "mobile                  False\n",
       "offer completed         False\n",
       "offer received          False\n",
       "offer viewed            False\n",
       "ratio_completed         False\n",
       "ratio_viewed            False\n",
       "most_recent             False\n",
       "total_spent             False\n",
       "transactions_number     False\n",
       "dtype: bool"
      ]
     },
     "execution_count": 11,
     "metadata": {},
     "output_type": "execute_result"
    }
   ],
   "source": [
    "mergeDF.fillna(0, inplace=True)\n",
    "mergeDF.isna().any()"
   ]
  },
  {
   "cell_type": "code",
   "execution_count": null,
   "id": "8cd4de99",
   "metadata": {},
   "outputs": [],
   "source": []
  },
  {
   "cell_type": "markdown",
   "id": "3e150449",
   "metadata": {},
   "source": [
    "## Calculate RFM score (recency, frequency, monetary)"
   ]
  },
  {
   "cell_type": "code",
   "execution_count": 12,
   "id": "8ee76173",
   "metadata": {},
   "outputs": [],
   "source": [
    "mergeDF['M_score'] = pd.cut(mergeDF['total_spent'], bins=[-1,\n",
    "       np.percentile(mergeDF['total_spent'], 20),\n",
    "       np.percentile(mergeDF['total_spent'], 40),\n",
    "       np.percentile(mergeDF['total_spent'], 60),\n",
    "       np.percentile(mergeDF['total_spent'], 80),\n",
    "       mergeDF['total_spent'].max()],\n",
    "                           labels = [1,2,3,4,5]).astype('int')"
   ]
  },
  {
   "cell_type": "code",
   "execution_count": 13,
   "id": "f8ee6b1a",
   "metadata": {},
   "outputs": [
    {
     "data": {
      "text/html": [
       "<div>\n",
       "<style scoped>\n",
       "    .dataframe tbody tr th:only-of-type {\n",
       "        vertical-align: middle;\n",
       "    }\n",
       "\n",
       "    .dataframe tbody tr th {\n",
       "        vertical-align: top;\n",
       "    }\n",
       "\n",
       "    .dataframe thead th {\n",
       "        text-align: right;\n",
       "    }\n",
       "</style>\n",
       "<table border=\"1\" class=\"dataframe\">\n",
       "  <thead>\n",
       "    <tr style=\"text-align: right;\">\n",
       "      <th></th>\n",
       "      <th>M_score</th>\n",
       "      <th>total_spent</th>\n",
       "    </tr>\n",
       "  </thead>\n",
       "  <tbody>\n",
       "    <tr>\n",
       "      <th>0</th>\n",
       "      <td>4</td>\n",
       "      <td>127.60</td>\n",
       "    </tr>\n",
       "    <tr>\n",
       "      <th>1</th>\n",
       "      <td>3</td>\n",
       "      <td>79.46</td>\n",
       "    </tr>\n",
       "    <tr>\n",
       "      <th>2</th>\n",
       "      <td>5</td>\n",
       "      <td>196.86</td>\n",
       "    </tr>\n",
       "    <tr>\n",
       "      <th>3</th>\n",
       "      <td>4</td>\n",
       "      <td>154.05</td>\n",
       "    </tr>\n",
       "    <tr>\n",
       "      <th>4</th>\n",
       "      <td>2</td>\n",
       "      <td>48.34</td>\n",
       "    </tr>\n",
       "    <tr>\n",
       "      <th>...</th>\n",
       "      <td>...</td>\n",
       "      <td>...</td>\n",
       "    </tr>\n",
       "    <tr>\n",
       "      <th>14815</th>\n",
       "      <td>5</td>\n",
       "      <td>580.98</td>\n",
       "    </tr>\n",
       "    <tr>\n",
       "      <th>14816</th>\n",
       "      <td>2</td>\n",
       "      <td>29.94</td>\n",
       "    </tr>\n",
       "    <tr>\n",
       "      <th>14817</th>\n",
       "      <td>1</td>\n",
       "      <td>12.15</td>\n",
       "    </tr>\n",
       "    <tr>\n",
       "      <th>14818</th>\n",
       "      <td>3</td>\n",
       "      <td>88.83</td>\n",
       "    </tr>\n",
       "    <tr>\n",
       "      <th>14819</th>\n",
       "      <td>5</td>\n",
       "      <td>226.07</td>\n",
       "    </tr>\n",
       "  </tbody>\n",
       "</table>\n",
       "<p>14820 rows × 2 columns</p>\n",
       "</div>"
      ],
      "text/plain": [
       "       M_score  total_spent\n",
       "0            4       127.60\n",
       "1            3        79.46\n",
       "2            5       196.86\n",
       "3            4       154.05\n",
       "4            2        48.34\n",
       "...        ...          ...\n",
       "14815        5       580.98\n",
       "14816        2        29.94\n",
       "14817        1        12.15\n",
       "14818        3        88.83\n",
       "14819        5       226.07\n",
       "\n",
       "[14820 rows x 2 columns]"
      ]
     },
     "execution_count": 13,
     "metadata": {},
     "output_type": "execute_result"
    }
   ],
   "source": [
    "mergeDF[['M_score', 'total_spent']]"
   ]
  },
  {
   "cell_type": "code",
   "execution_count": 14,
   "id": "82f8bbad",
   "metadata": {},
   "outputs": [],
   "source": [
    "mergeDF['R_score'] = pd.cut(mergeDF['most_recent'], bins=[-1,\n",
    "       np.percentile(mergeDF['most_recent'], 20),\n",
    "       np.percentile(mergeDF['most_recent'], 40),\n",
    "       np.percentile(mergeDF['most_recent'], 60),\n",
    "       np.percentile(mergeDF['most_recent'], 80),\n",
    "       mergeDF['most_recent'].max()],\n",
    "                           labels = [1,2,3,4,5]).astype('int')"
   ]
  },
  {
   "cell_type": "code",
   "execution_count": 15,
   "id": "61b832ae",
   "metadata": {},
   "outputs": [
    {
     "data": {
      "text/html": [
       "<div>\n",
       "<style scoped>\n",
       "    .dataframe tbody tr th:only-of-type {\n",
       "        vertical-align: middle;\n",
       "    }\n",
       "\n",
       "    .dataframe tbody tr th {\n",
       "        vertical-align: top;\n",
       "    }\n",
       "\n",
       "    .dataframe thead th {\n",
       "        text-align: right;\n",
       "    }\n",
       "</style>\n",
       "<table border=\"1\" class=\"dataframe\">\n",
       "  <thead>\n",
       "    <tr style=\"text-align: right;\">\n",
       "      <th></th>\n",
       "      <th>R_score</th>\n",
       "      <th>most_recent</th>\n",
       "    </tr>\n",
       "  </thead>\n",
       "  <tbody>\n",
       "    <tr>\n",
       "      <th>0</th>\n",
       "      <td>4</td>\n",
       "      <td>696.0</td>\n",
       "    </tr>\n",
       "    <tr>\n",
       "      <th>1</th>\n",
       "      <td>3</td>\n",
       "      <td>654.0</td>\n",
       "    </tr>\n",
       "    <tr>\n",
       "      <th>2</th>\n",
       "      <td>5</td>\n",
       "      <td>708.0</td>\n",
       "    </tr>\n",
       "    <tr>\n",
       "      <th>3</th>\n",
       "      <td>4</td>\n",
       "      <td>672.0</td>\n",
       "    </tr>\n",
       "    <tr>\n",
       "      <th>4</th>\n",
       "      <td>4</td>\n",
       "      <td>696.0</td>\n",
       "    </tr>\n",
       "    <tr>\n",
       "      <th>...</th>\n",
       "      <td>...</td>\n",
       "      <td>...</td>\n",
       "    </tr>\n",
       "    <tr>\n",
       "      <th>14815</th>\n",
       "      <td>1</td>\n",
       "      <td>552.0</td>\n",
       "    </tr>\n",
       "    <tr>\n",
       "      <th>14816</th>\n",
       "      <td>4</td>\n",
       "      <td>696.0</td>\n",
       "    </tr>\n",
       "    <tr>\n",
       "      <th>14817</th>\n",
       "      <td>2</td>\n",
       "      <td>576.0</td>\n",
       "    </tr>\n",
       "    <tr>\n",
       "      <th>14818</th>\n",
       "      <td>4</td>\n",
       "      <td>678.0</td>\n",
       "    </tr>\n",
       "    <tr>\n",
       "      <th>14819</th>\n",
       "      <td>3</td>\n",
       "      <td>648.0</td>\n",
       "    </tr>\n",
       "  </tbody>\n",
       "</table>\n",
       "<p>14820 rows × 2 columns</p>\n",
       "</div>"
      ],
      "text/plain": [
       "       R_score  most_recent\n",
       "0            4        696.0\n",
       "1            3        654.0\n",
       "2            5        708.0\n",
       "3            4        672.0\n",
       "4            4        696.0\n",
       "...        ...          ...\n",
       "14815        1        552.0\n",
       "14816        4        696.0\n",
       "14817        2        576.0\n",
       "14818        4        678.0\n",
       "14819        3        648.0\n",
       "\n",
       "[14820 rows x 2 columns]"
      ]
     },
     "execution_count": 15,
     "metadata": {},
     "output_type": "execute_result"
    }
   ],
   "source": [
    "mergeDF[['R_score', 'most_recent']]"
   ]
  },
  {
   "cell_type": "code",
   "execution_count": 16,
   "id": "e1df7b6f",
   "metadata": {},
   "outputs": [],
   "source": [
    "mergeDF['F_score'] = pd.cut(mergeDF['transactions_number'], bins=[-1,\n",
    "       np.percentile(mergeDF['transactions_number'], 20),\n",
    "       np.percentile(mergeDF['transactions_number'], 40),\n",
    "       np.percentile(mergeDF['transactions_number'], 60),\n",
    "       np.percentile(mergeDF['transactions_number'], 80),\n",
    "       mergeDF['transactions_number'].max()],\n",
    "                           labels = [1,2,3,4,5]).astype('int')"
   ]
  },
  {
   "cell_type": "code",
   "execution_count": 17,
   "id": "f53636c0",
   "metadata": {},
   "outputs": [
    {
     "data": {
      "text/html": [
       "<div>\n",
       "<style scoped>\n",
       "    .dataframe tbody tr th:only-of-type {\n",
       "        vertical-align: middle;\n",
       "    }\n",
       "\n",
       "    .dataframe tbody tr th {\n",
       "        vertical-align: top;\n",
       "    }\n",
       "\n",
       "    .dataframe thead th {\n",
       "        text-align: right;\n",
       "    }\n",
       "</style>\n",
       "<table border=\"1\" class=\"dataframe\">\n",
       "  <thead>\n",
       "    <tr style=\"text-align: right;\">\n",
       "      <th></th>\n",
       "      <th>F_score</th>\n",
       "      <th>transactions_number</th>\n",
       "    </tr>\n",
       "  </thead>\n",
       "  <tbody>\n",
       "    <tr>\n",
       "      <th>0</th>\n",
       "      <td>3</td>\n",
       "      <td>8.0</td>\n",
       "    </tr>\n",
       "    <tr>\n",
       "      <th>1</th>\n",
       "      <td>2</td>\n",
       "      <td>5.0</td>\n",
       "    </tr>\n",
       "    <tr>\n",
       "      <th>2</th>\n",
       "      <td>3</td>\n",
       "      <td>8.0</td>\n",
       "    </tr>\n",
       "    <tr>\n",
       "      <th>3</th>\n",
       "      <td>4</td>\n",
       "      <td>12.0</td>\n",
       "    </tr>\n",
       "    <tr>\n",
       "      <th>4</th>\n",
       "      <td>5</td>\n",
       "      <td>18.0</td>\n",
       "    </tr>\n",
       "    <tr>\n",
       "      <th>...</th>\n",
       "      <td>...</td>\n",
       "      <td>...</td>\n",
       "    </tr>\n",
       "    <tr>\n",
       "      <th>14815</th>\n",
       "      <td>4</td>\n",
       "      <td>11.0</td>\n",
       "    </tr>\n",
       "    <tr>\n",
       "      <th>14816</th>\n",
       "      <td>2</td>\n",
       "      <td>6.0</td>\n",
       "    </tr>\n",
       "    <tr>\n",
       "      <th>14817</th>\n",
       "      <td>2</td>\n",
       "      <td>5.0</td>\n",
       "    </tr>\n",
       "    <tr>\n",
       "      <th>14818</th>\n",
       "      <td>4</td>\n",
       "      <td>12.0</td>\n",
       "    </tr>\n",
       "    <tr>\n",
       "      <th>14819</th>\n",
       "      <td>5</td>\n",
       "      <td>15.0</td>\n",
       "    </tr>\n",
       "  </tbody>\n",
       "</table>\n",
       "<p>14820 rows × 2 columns</p>\n",
       "</div>"
      ],
      "text/plain": [
       "       F_score  transactions_number\n",
       "0            3                  8.0\n",
       "1            2                  5.0\n",
       "2            3                  8.0\n",
       "3            4                 12.0\n",
       "4            5                 18.0\n",
       "...        ...                  ...\n",
       "14815        4                 11.0\n",
       "14816        2                  6.0\n",
       "14817        2                  5.0\n",
       "14818        4                 12.0\n",
       "14819        5                 15.0\n",
       "\n",
       "[14820 rows x 2 columns]"
      ]
     },
     "execution_count": 17,
     "metadata": {},
     "output_type": "execute_result"
    }
   ],
   "source": [
    "mergeDF[['F_score', 'transactions_number']]"
   ]
  },
  {
   "cell_type": "code",
   "execution_count": 18,
   "id": "3a35a43b",
   "metadata": {},
   "outputs": [
    {
     "data": {
      "text/html": [
       "<div>\n",
       "<style scoped>\n",
       "    .dataframe tbody tr th:only-of-type {\n",
       "        vertical-align: middle;\n",
       "    }\n",
       "\n",
       "    .dataframe tbody tr th {\n",
       "        vertical-align: top;\n",
       "    }\n",
       "\n",
       "    .dataframe thead th {\n",
       "        text-align: right;\n",
       "    }\n",
       "</style>\n",
       "<table border=\"1\" class=\"dataframe\">\n",
       "  <thead>\n",
       "    <tr style=\"text-align: right;\">\n",
       "      <th></th>\n",
       "      <th>person</th>\n",
       "      <th>gender</th>\n",
       "      <th>age</th>\n",
       "      <th>income</th>\n",
       "      <th>year_became_member</th>\n",
       "      <th>BOGO_Number</th>\n",
       "      <th>Discount_Number</th>\n",
       "      <th>Informational_Number</th>\n",
       "      <th>reward_avg</th>\n",
       "      <th>difficulty_avg</th>\n",
       "      <th>...</th>\n",
       "      <th>offer received</th>\n",
       "      <th>offer viewed</th>\n",
       "      <th>ratio_completed</th>\n",
       "      <th>ratio_viewed</th>\n",
       "      <th>most_recent</th>\n",
       "      <th>total_spent</th>\n",
       "      <th>transactions_number</th>\n",
       "      <th>M_score</th>\n",
       "      <th>R_score</th>\n",
       "      <th>F_score</th>\n",
       "    </tr>\n",
       "  </thead>\n",
       "  <tbody>\n",
       "    <tr>\n",
       "      <th>0</th>\n",
       "      <td>0009655768c64bdeb2e877511632db8f</td>\n",
       "      <td>M</td>\n",
       "      <td>33</td>\n",
       "      <td>72000.0</td>\n",
       "      <td>2017</td>\n",
       "      <td>3.0</td>\n",
       "      <td>5.0</td>\n",
       "      <td>4.0</td>\n",
       "      <td>2.083333</td>\n",
       "      <td>5.416667</td>\n",
       "      <td>...</td>\n",
       "      <td>5.0</td>\n",
       "      <td>4.0</td>\n",
       "      <td>0.60</td>\n",
       "      <td>0.80</td>\n",
       "      <td>696.0</td>\n",
       "      <td>127.60</td>\n",
       "      <td>8.0</td>\n",
       "      <td>4</td>\n",
       "      <td>4</td>\n",
       "      <td>3</td>\n",
       "    </tr>\n",
       "    <tr>\n",
       "      <th>1</th>\n",
       "      <td>0011e0d4e6b944f998e987f904e8c1e5</td>\n",
       "      <td>O</td>\n",
       "      <td>40</td>\n",
       "      <td>57000.0</td>\n",
       "      <td>2018</td>\n",
       "      <td>3.0</td>\n",
       "      <td>6.0</td>\n",
       "      <td>4.0</td>\n",
       "      <td>3.000000</td>\n",
       "      <td>7.384615</td>\n",
       "      <td>...</td>\n",
       "      <td>5.0</td>\n",
       "      <td>5.0</td>\n",
       "      <td>0.60</td>\n",
       "      <td>1.00</td>\n",
       "      <td>654.0</td>\n",
       "      <td>79.46</td>\n",
       "      <td>5.0</td>\n",
       "      <td>3</td>\n",
       "      <td>3</td>\n",
       "      <td>2</td>\n",
       "    </tr>\n",
       "    <tr>\n",
       "      <th>2</th>\n",
       "      <td>0020c2b971eb4e9188eac86d93036a77</td>\n",
       "      <td>F</td>\n",
       "      <td>59</td>\n",
       "      <td>90000.0</td>\n",
       "      <td>2016</td>\n",
       "      <td>4.0</td>\n",
       "      <td>5.0</td>\n",
       "      <td>2.0</td>\n",
       "      <td>4.545455</td>\n",
       "      <td>8.181818</td>\n",
       "      <td>...</td>\n",
       "      <td>5.0</td>\n",
       "      <td>3.0</td>\n",
       "      <td>0.60</td>\n",
       "      <td>0.60</td>\n",
       "      <td>708.0</td>\n",
       "      <td>196.86</td>\n",
       "      <td>8.0</td>\n",
       "      <td>5</td>\n",
       "      <td>5</td>\n",
       "      <td>3</td>\n",
       "    </tr>\n",
       "    <tr>\n",
       "      <th>3</th>\n",
       "      <td>0020ccbbb6d84e358d3414a3ff76cffd</td>\n",
       "      <td>F</td>\n",
       "      <td>24</td>\n",
       "      <td>60000.0</td>\n",
       "      <td>2016</td>\n",
       "      <td>6.0</td>\n",
       "      <td>3.0</td>\n",
       "      <td>2.0</td>\n",
       "      <td>3.545455</td>\n",
       "      <td>4.636364</td>\n",
       "      <td>...</td>\n",
       "      <td>4.0</td>\n",
       "      <td>4.0</td>\n",
       "      <td>0.75</td>\n",
       "      <td>1.00</td>\n",
       "      <td>672.0</td>\n",
       "      <td>154.05</td>\n",
       "      <td>12.0</td>\n",
       "      <td>4</td>\n",
       "      <td>4</td>\n",
       "      <td>4</td>\n",
       "    </tr>\n",
       "    <tr>\n",
       "      <th>4</th>\n",
       "      <td>003d66b6608740288d6cc97a6903f4f0</td>\n",
       "      <td>F</td>\n",
       "      <td>26</td>\n",
       "      <td>73000.0</td>\n",
       "      <td>2017</td>\n",
       "      <td>0.0</td>\n",
       "      <td>8.0</td>\n",
       "      <td>4.0</td>\n",
       "      <td>1.833333</td>\n",
       "      <td>8.333333</td>\n",
       "      <td>...</td>\n",
       "      <td>5.0</td>\n",
       "      <td>4.0</td>\n",
       "      <td>0.60</td>\n",
       "      <td>0.80</td>\n",
       "      <td>696.0</td>\n",
       "      <td>48.34</td>\n",
       "      <td>18.0</td>\n",
       "      <td>2</td>\n",
       "      <td>4</td>\n",
       "      <td>5</td>\n",
       "    </tr>\n",
       "    <tr>\n",
       "      <th>...</th>\n",
       "      <td>...</td>\n",
       "      <td>...</td>\n",
       "      <td>...</td>\n",
       "      <td>...</td>\n",
       "      <td>...</td>\n",
       "      <td>...</td>\n",
       "      <td>...</td>\n",
       "      <td>...</td>\n",
       "      <td>...</td>\n",
       "      <td>...</td>\n",
       "      <td>...</td>\n",
       "      <td>...</td>\n",
       "      <td>...</td>\n",
       "      <td>...</td>\n",
       "      <td>...</td>\n",
       "      <td>...</td>\n",
       "      <td>...</td>\n",
       "      <td>...</td>\n",
       "      <td>...</td>\n",
       "      <td>...</td>\n",
       "      <td>...</td>\n",
       "    </tr>\n",
       "    <tr>\n",
       "      <th>14815</th>\n",
       "      <td>fff3ba4757bd42088c044ca26d73817a</td>\n",
       "      <td>F</td>\n",
       "      <td>69</td>\n",
       "      <td>83000.0</td>\n",
       "      <td>2015</td>\n",
       "      <td>3.0</td>\n",
       "      <td>6.0</td>\n",
       "      <td>3.0</td>\n",
       "      <td>2.250000</td>\n",
       "      <td>6.250000</td>\n",
       "      <td>...</td>\n",
       "      <td>6.0</td>\n",
       "      <td>3.0</td>\n",
       "      <td>0.50</td>\n",
       "      <td>0.50</td>\n",
       "      <td>552.0</td>\n",
       "      <td>580.98</td>\n",
       "      <td>11.0</td>\n",
       "      <td>5</td>\n",
       "      <td>1</td>\n",
       "      <td>4</td>\n",
       "    </tr>\n",
       "    <tr>\n",
       "      <th>14816</th>\n",
       "      <td>fff7576017104bcc8677a8d63322b5e1</td>\n",
       "      <td>M</td>\n",
       "      <td>71</td>\n",
       "      <td>73000.0</td>\n",
       "      <td>2017</td>\n",
       "      <td>6.0</td>\n",
       "      <td>6.0</td>\n",
       "      <td>0.0</td>\n",
       "      <td>5.166667</td>\n",
       "      <td>9.166667</td>\n",
       "      <td>...</td>\n",
       "      <td>5.0</td>\n",
       "      <td>4.0</td>\n",
       "      <td>0.60</td>\n",
       "      <td>0.80</td>\n",
       "      <td>696.0</td>\n",
       "      <td>29.94</td>\n",
       "      <td>6.0</td>\n",
       "      <td>2</td>\n",
       "      <td>4</td>\n",
       "      <td>2</td>\n",
       "    </tr>\n",
       "    <tr>\n",
       "      <th>14817</th>\n",
       "      <td>fff8957ea8b240a6b5e634b6ee8eafcf</td>\n",
       "      <td>M</td>\n",
       "      <td>71</td>\n",
       "      <td>56000.0</td>\n",
       "      <td>2018</td>\n",
       "      <td>2.0</td>\n",
       "      <td>2.0</td>\n",
       "      <td>1.0</td>\n",
       "      <td>4.800000</td>\n",
       "      <td>8.000000</td>\n",
       "      <td>...</td>\n",
       "      <td>3.0</td>\n",
       "      <td>2.0</td>\n",
       "      <td>0.00</td>\n",
       "      <td>0.67</td>\n",
       "      <td>576.0</td>\n",
       "      <td>12.15</td>\n",
       "      <td>5.0</td>\n",
       "      <td>1</td>\n",
       "      <td>2</td>\n",
       "      <td>2</td>\n",
       "    </tr>\n",
       "    <tr>\n",
       "      <th>14818</th>\n",
       "      <td>fffad4f4828548d1b5583907f2e9906b</td>\n",
       "      <td>M</td>\n",
       "      <td>34</td>\n",
       "      <td>34000.0</td>\n",
       "      <td>2017</td>\n",
       "      <td>9.0</td>\n",
       "      <td>0.0</td>\n",
       "      <td>2.0</td>\n",
       "      <td>4.090909</td>\n",
       "      <td>4.090909</td>\n",
       "      <td>...</td>\n",
       "      <td>4.0</td>\n",
       "      <td>4.0</td>\n",
       "      <td>0.75</td>\n",
       "      <td>1.00</td>\n",
       "      <td>678.0</td>\n",
       "      <td>88.83</td>\n",
       "      <td>12.0</td>\n",
       "      <td>3</td>\n",
       "      <td>4</td>\n",
       "      <td>4</td>\n",
       "    </tr>\n",
       "    <tr>\n",
       "      <th>14819</th>\n",
       "      <td>ffff82501cea40309d5fdd7edcca4a07</td>\n",
       "      <td>F</td>\n",
       "      <td>45</td>\n",
       "      <td>62000.0</td>\n",
       "      <td>2016</td>\n",
       "      <td>3.0</td>\n",
       "      <td>15.0</td>\n",
       "      <td>0.0</td>\n",
       "      <td>3.000000</td>\n",
       "      <td>10.833333</td>\n",
       "      <td>...</td>\n",
       "      <td>6.0</td>\n",
       "      <td>6.0</td>\n",
       "      <td>1.00</td>\n",
       "      <td>1.00</td>\n",
       "      <td>648.0</td>\n",
       "      <td>226.07</td>\n",
       "      <td>15.0</td>\n",
       "      <td>5</td>\n",
       "      <td>3</td>\n",
       "      <td>5</td>\n",
       "    </tr>\n",
       "  </tbody>\n",
       "</table>\n",
       "<p>14820 rows × 26 columns</p>\n",
       "</div>"
      ],
      "text/plain": [
       "                                 person gender  age   income  \\\n",
       "0      0009655768c64bdeb2e877511632db8f      M   33  72000.0   \n",
       "1      0011e0d4e6b944f998e987f904e8c1e5      O   40  57000.0   \n",
       "2      0020c2b971eb4e9188eac86d93036a77      F   59  90000.0   \n",
       "3      0020ccbbb6d84e358d3414a3ff76cffd      F   24  60000.0   \n",
       "4      003d66b6608740288d6cc97a6903f4f0      F   26  73000.0   \n",
       "...                                 ...    ...  ...      ...   \n",
       "14815  fff3ba4757bd42088c044ca26d73817a      F   69  83000.0   \n",
       "14816  fff7576017104bcc8677a8d63322b5e1      M   71  73000.0   \n",
       "14817  fff8957ea8b240a6b5e634b6ee8eafcf      M   71  56000.0   \n",
       "14818  fffad4f4828548d1b5583907f2e9906b      M   34  34000.0   \n",
       "14819  ffff82501cea40309d5fdd7edcca4a07      F   45  62000.0   \n",
       "\n",
       "       year_became_member  BOGO_Number  Discount_Number  Informational_Number  \\\n",
       "0                    2017          3.0              5.0                   4.0   \n",
       "1                    2018          3.0              6.0                   4.0   \n",
       "2                    2016          4.0              5.0                   2.0   \n",
       "3                    2016          6.0              3.0                   2.0   \n",
       "4                    2017          0.0              8.0                   4.0   \n",
       "...                   ...          ...              ...                   ...   \n",
       "14815                2015          3.0              6.0                   3.0   \n",
       "14816                2017          6.0              6.0                   0.0   \n",
       "14817                2018          2.0              2.0                   1.0   \n",
       "14818                2017          9.0              0.0                   2.0   \n",
       "14819                2016          3.0             15.0                   0.0   \n",
       "\n",
       "       reward_avg  difficulty_avg  ...  offer received  offer viewed  \\\n",
       "0        2.083333        5.416667  ...             5.0           4.0   \n",
       "1        3.000000        7.384615  ...             5.0           5.0   \n",
       "2        4.545455        8.181818  ...             5.0           3.0   \n",
       "3        3.545455        4.636364  ...             4.0           4.0   \n",
       "4        1.833333        8.333333  ...             5.0           4.0   \n",
       "...           ...             ...  ...             ...           ...   \n",
       "14815    2.250000        6.250000  ...             6.0           3.0   \n",
       "14816    5.166667        9.166667  ...             5.0           4.0   \n",
       "14817    4.800000        8.000000  ...             3.0           2.0   \n",
       "14818    4.090909        4.090909  ...             4.0           4.0   \n",
       "14819    3.000000       10.833333  ...             6.0           6.0   \n",
       "\n",
       "       ratio_completed  ratio_viewed  most_recent  total_spent  \\\n",
       "0                 0.60          0.80        696.0       127.60   \n",
       "1                 0.60          1.00        654.0        79.46   \n",
       "2                 0.60          0.60        708.0       196.86   \n",
       "3                 0.75          1.00        672.0       154.05   \n",
       "4                 0.60          0.80        696.0        48.34   \n",
       "...                ...           ...          ...          ...   \n",
       "14815             0.50          0.50        552.0       580.98   \n",
       "14816             0.60          0.80        696.0        29.94   \n",
       "14817             0.00          0.67        576.0        12.15   \n",
       "14818             0.75          1.00        678.0        88.83   \n",
       "14819             1.00          1.00        648.0       226.07   \n",
       "\n",
       "       transactions_number  M_score  R_score  F_score  \n",
       "0                      8.0        4        4        3  \n",
       "1                      5.0        3        3        2  \n",
       "2                      8.0        5        5        3  \n",
       "3                     12.0        4        4        4  \n",
       "4                     18.0        2        4        5  \n",
       "...                    ...      ...      ...      ...  \n",
       "14815                 11.0        5        1        4  \n",
       "14816                  6.0        2        4        2  \n",
       "14817                  5.0        1        2        2  \n",
       "14818                 12.0        3        4        4  \n",
       "14819                 15.0        5        3        5  \n",
       "\n",
       "[14820 rows x 26 columns]"
      ]
     },
     "execution_count": 18,
     "metadata": {},
     "output_type": "execute_result"
    }
   ],
   "source": [
    "mergeDF"
   ]
  },
  {
   "cell_type": "markdown",
   "id": "4a3c443b",
   "metadata": {},
   "source": [
    "# Dimentionality Reduction with PCA\n",
    "### ordinal encode gender field\n",
    "### Scale data"
   ]
  },
  {
   "cell_type": "code",
   "execution_count": 21,
   "id": "2739e801",
   "metadata": {},
   "outputs": [
    {
     "data": {
      "text/html": [
       "<div>\n",
       "<style scoped>\n",
       "    .dataframe tbody tr th:only-of-type {\n",
       "        vertical-align: middle;\n",
       "    }\n",
       "\n",
       "    .dataframe tbody tr th {\n",
       "        vertical-align: top;\n",
       "    }\n",
       "\n",
       "    .dataframe thead th {\n",
       "        text-align: right;\n",
       "    }\n",
       "</style>\n",
       "<table border=\"1\" class=\"dataframe\">\n",
       "  <thead>\n",
       "    <tr style=\"text-align: right;\">\n",
       "      <th></th>\n",
       "      <th>person</th>\n",
       "      <th>gender</th>\n",
       "      <th>age</th>\n",
       "      <th>income</th>\n",
       "      <th>year_became_member</th>\n",
       "      <th>BOGO_Number</th>\n",
       "      <th>Discount_Number</th>\n",
       "      <th>Informational_Number</th>\n",
       "      <th>reward_avg</th>\n",
       "      <th>difficulty_avg</th>\n",
       "      <th>...</th>\n",
       "      <th>offer viewed</th>\n",
       "      <th>ratio_completed</th>\n",
       "      <th>ratio_viewed</th>\n",
       "      <th>most_recent</th>\n",
       "      <th>total_spent</th>\n",
       "      <th>transactions_number</th>\n",
       "      <th>M_score</th>\n",
       "      <th>R_score</th>\n",
       "      <th>F_score</th>\n",
       "      <th>gender_encode</th>\n",
       "    </tr>\n",
       "  </thead>\n",
       "  <tbody>\n",
       "    <tr>\n",
       "      <th>0</th>\n",
       "      <td>0009655768c64bdeb2e877511632db8f</td>\n",
       "      <td>M</td>\n",
       "      <td>33</td>\n",
       "      <td>72000.0</td>\n",
       "      <td>2017</td>\n",
       "      <td>3.0</td>\n",
       "      <td>5.0</td>\n",
       "      <td>4.0</td>\n",
       "      <td>2.083333</td>\n",
       "      <td>5.416667</td>\n",
       "      <td>...</td>\n",
       "      <td>4.0</td>\n",
       "      <td>0.60</td>\n",
       "      <td>0.80</td>\n",
       "      <td>696.0</td>\n",
       "      <td>127.60</td>\n",
       "      <td>8.0</td>\n",
       "      <td>4</td>\n",
       "      <td>4</td>\n",
       "      <td>3</td>\n",
       "      <td>0</td>\n",
       "    </tr>\n",
       "    <tr>\n",
       "      <th>1</th>\n",
       "      <td>0011e0d4e6b944f998e987f904e8c1e5</td>\n",
       "      <td>O</td>\n",
       "      <td>40</td>\n",
       "      <td>57000.0</td>\n",
       "      <td>2018</td>\n",
       "      <td>3.0</td>\n",
       "      <td>6.0</td>\n",
       "      <td>4.0</td>\n",
       "      <td>3.000000</td>\n",
       "      <td>7.384615</td>\n",
       "      <td>...</td>\n",
       "      <td>5.0</td>\n",
       "      <td>0.60</td>\n",
       "      <td>1.00</td>\n",
       "      <td>654.0</td>\n",
       "      <td>79.46</td>\n",
       "      <td>5.0</td>\n",
       "      <td>3</td>\n",
       "      <td>3</td>\n",
       "      <td>2</td>\n",
       "      <td>2</td>\n",
       "    </tr>\n",
       "    <tr>\n",
       "      <th>2</th>\n",
       "      <td>0020c2b971eb4e9188eac86d93036a77</td>\n",
       "      <td>F</td>\n",
       "      <td>59</td>\n",
       "      <td>90000.0</td>\n",
       "      <td>2016</td>\n",
       "      <td>4.0</td>\n",
       "      <td>5.0</td>\n",
       "      <td>2.0</td>\n",
       "      <td>4.545455</td>\n",
       "      <td>8.181818</td>\n",
       "      <td>...</td>\n",
       "      <td>3.0</td>\n",
       "      <td>0.60</td>\n",
       "      <td>0.60</td>\n",
       "      <td>708.0</td>\n",
       "      <td>196.86</td>\n",
       "      <td>8.0</td>\n",
       "      <td>5</td>\n",
       "      <td>5</td>\n",
       "      <td>3</td>\n",
       "      <td>1</td>\n",
       "    </tr>\n",
       "    <tr>\n",
       "      <th>3</th>\n",
       "      <td>0020ccbbb6d84e358d3414a3ff76cffd</td>\n",
       "      <td>F</td>\n",
       "      <td>24</td>\n",
       "      <td>60000.0</td>\n",
       "      <td>2016</td>\n",
       "      <td>6.0</td>\n",
       "      <td>3.0</td>\n",
       "      <td>2.0</td>\n",
       "      <td>3.545455</td>\n",
       "      <td>4.636364</td>\n",
       "      <td>...</td>\n",
       "      <td>4.0</td>\n",
       "      <td>0.75</td>\n",
       "      <td>1.00</td>\n",
       "      <td>672.0</td>\n",
       "      <td>154.05</td>\n",
       "      <td>12.0</td>\n",
       "      <td>4</td>\n",
       "      <td>4</td>\n",
       "      <td>4</td>\n",
       "      <td>1</td>\n",
       "    </tr>\n",
       "    <tr>\n",
       "      <th>4</th>\n",
       "      <td>003d66b6608740288d6cc97a6903f4f0</td>\n",
       "      <td>F</td>\n",
       "      <td>26</td>\n",
       "      <td>73000.0</td>\n",
       "      <td>2017</td>\n",
       "      <td>0.0</td>\n",
       "      <td>8.0</td>\n",
       "      <td>4.0</td>\n",
       "      <td>1.833333</td>\n",
       "      <td>8.333333</td>\n",
       "      <td>...</td>\n",
       "      <td>4.0</td>\n",
       "      <td>0.60</td>\n",
       "      <td>0.80</td>\n",
       "      <td>696.0</td>\n",
       "      <td>48.34</td>\n",
       "      <td>18.0</td>\n",
       "      <td>2</td>\n",
       "      <td>4</td>\n",
       "      <td>5</td>\n",
       "      <td>1</td>\n",
       "    </tr>\n",
       "    <tr>\n",
       "      <th>...</th>\n",
       "      <td>...</td>\n",
       "      <td>...</td>\n",
       "      <td>...</td>\n",
       "      <td>...</td>\n",
       "      <td>...</td>\n",
       "      <td>...</td>\n",
       "      <td>...</td>\n",
       "      <td>...</td>\n",
       "      <td>...</td>\n",
       "      <td>...</td>\n",
       "      <td>...</td>\n",
       "      <td>...</td>\n",
       "      <td>...</td>\n",
       "      <td>...</td>\n",
       "      <td>...</td>\n",
       "      <td>...</td>\n",
       "      <td>...</td>\n",
       "      <td>...</td>\n",
       "      <td>...</td>\n",
       "      <td>...</td>\n",
       "      <td>...</td>\n",
       "    </tr>\n",
       "    <tr>\n",
       "      <th>14815</th>\n",
       "      <td>fff3ba4757bd42088c044ca26d73817a</td>\n",
       "      <td>F</td>\n",
       "      <td>69</td>\n",
       "      <td>83000.0</td>\n",
       "      <td>2015</td>\n",
       "      <td>3.0</td>\n",
       "      <td>6.0</td>\n",
       "      <td>3.0</td>\n",
       "      <td>2.250000</td>\n",
       "      <td>6.250000</td>\n",
       "      <td>...</td>\n",
       "      <td>3.0</td>\n",
       "      <td>0.50</td>\n",
       "      <td>0.50</td>\n",
       "      <td>552.0</td>\n",
       "      <td>580.98</td>\n",
       "      <td>11.0</td>\n",
       "      <td>5</td>\n",
       "      <td>1</td>\n",
       "      <td>4</td>\n",
       "      <td>1</td>\n",
       "    </tr>\n",
       "    <tr>\n",
       "      <th>14816</th>\n",
       "      <td>fff7576017104bcc8677a8d63322b5e1</td>\n",
       "      <td>M</td>\n",
       "      <td>71</td>\n",
       "      <td>73000.0</td>\n",
       "      <td>2017</td>\n",
       "      <td>6.0</td>\n",
       "      <td>6.0</td>\n",
       "      <td>0.0</td>\n",
       "      <td>5.166667</td>\n",
       "      <td>9.166667</td>\n",
       "      <td>...</td>\n",
       "      <td>4.0</td>\n",
       "      <td>0.60</td>\n",
       "      <td>0.80</td>\n",
       "      <td>696.0</td>\n",
       "      <td>29.94</td>\n",
       "      <td>6.0</td>\n",
       "      <td>2</td>\n",
       "      <td>4</td>\n",
       "      <td>2</td>\n",
       "      <td>0</td>\n",
       "    </tr>\n",
       "    <tr>\n",
       "      <th>14817</th>\n",
       "      <td>fff8957ea8b240a6b5e634b6ee8eafcf</td>\n",
       "      <td>M</td>\n",
       "      <td>71</td>\n",
       "      <td>56000.0</td>\n",
       "      <td>2018</td>\n",
       "      <td>2.0</td>\n",
       "      <td>2.0</td>\n",
       "      <td>1.0</td>\n",
       "      <td>4.800000</td>\n",
       "      <td>8.000000</td>\n",
       "      <td>...</td>\n",
       "      <td>2.0</td>\n",
       "      <td>0.00</td>\n",
       "      <td>0.67</td>\n",
       "      <td>576.0</td>\n",
       "      <td>12.15</td>\n",
       "      <td>5.0</td>\n",
       "      <td>1</td>\n",
       "      <td>2</td>\n",
       "      <td>2</td>\n",
       "      <td>0</td>\n",
       "    </tr>\n",
       "    <tr>\n",
       "      <th>14818</th>\n",
       "      <td>fffad4f4828548d1b5583907f2e9906b</td>\n",
       "      <td>M</td>\n",
       "      <td>34</td>\n",
       "      <td>34000.0</td>\n",
       "      <td>2017</td>\n",
       "      <td>9.0</td>\n",
       "      <td>0.0</td>\n",
       "      <td>2.0</td>\n",
       "      <td>4.090909</td>\n",
       "      <td>4.090909</td>\n",
       "      <td>...</td>\n",
       "      <td>4.0</td>\n",
       "      <td>0.75</td>\n",
       "      <td>1.00</td>\n",
       "      <td>678.0</td>\n",
       "      <td>88.83</td>\n",
       "      <td>12.0</td>\n",
       "      <td>3</td>\n",
       "      <td>4</td>\n",
       "      <td>4</td>\n",
       "      <td>0</td>\n",
       "    </tr>\n",
       "    <tr>\n",
       "      <th>14819</th>\n",
       "      <td>ffff82501cea40309d5fdd7edcca4a07</td>\n",
       "      <td>F</td>\n",
       "      <td>45</td>\n",
       "      <td>62000.0</td>\n",
       "      <td>2016</td>\n",
       "      <td>3.0</td>\n",
       "      <td>15.0</td>\n",
       "      <td>0.0</td>\n",
       "      <td>3.000000</td>\n",
       "      <td>10.833333</td>\n",
       "      <td>...</td>\n",
       "      <td>6.0</td>\n",
       "      <td>1.00</td>\n",
       "      <td>1.00</td>\n",
       "      <td>648.0</td>\n",
       "      <td>226.07</td>\n",
       "      <td>15.0</td>\n",
       "      <td>5</td>\n",
       "      <td>3</td>\n",
       "      <td>5</td>\n",
       "      <td>1</td>\n",
       "    </tr>\n",
       "  </tbody>\n",
       "</table>\n",
       "<p>14820 rows × 27 columns</p>\n",
       "</div>"
      ],
      "text/plain": [
       "                                 person gender  age   income  \\\n",
       "0      0009655768c64bdeb2e877511632db8f      M   33  72000.0   \n",
       "1      0011e0d4e6b944f998e987f904e8c1e5      O   40  57000.0   \n",
       "2      0020c2b971eb4e9188eac86d93036a77      F   59  90000.0   \n",
       "3      0020ccbbb6d84e358d3414a3ff76cffd      F   24  60000.0   \n",
       "4      003d66b6608740288d6cc97a6903f4f0      F   26  73000.0   \n",
       "...                                 ...    ...  ...      ...   \n",
       "14815  fff3ba4757bd42088c044ca26d73817a      F   69  83000.0   \n",
       "14816  fff7576017104bcc8677a8d63322b5e1      M   71  73000.0   \n",
       "14817  fff8957ea8b240a6b5e634b6ee8eafcf      M   71  56000.0   \n",
       "14818  fffad4f4828548d1b5583907f2e9906b      M   34  34000.0   \n",
       "14819  ffff82501cea40309d5fdd7edcca4a07      F   45  62000.0   \n",
       "\n",
       "       year_became_member  BOGO_Number  Discount_Number  Informational_Number  \\\n",
       "0                    2017          3.0              5.0                   4.0   \n",
       "1                    2018          3.0              6.0                   4.0   \n",
       "2                    2016          4.0              5.0                   2.0   \n",
       "3                    2016          6.0              3.0                   2.0   \n",
       "4                    2017          0.0              8.0                   4.0   \n",
       "...                   ...          ...              ...                   ...   \n",
       "14815                2015          3.0              6.0                   3.0   \n",
       "14816                2017          6.0              6.0                   0.0   \n",
       "14817                2018          2.0              2.0                   1.0   \n",
       "14818                2017          9.0              0.0                   2.0   \n",
       "14819                2016          3.0             15.0                   0.0   \n",
       "\n",
       "       reward_avg  difficulty_avg  ...  offer viewed  ratio_completed  \\\n",
       "0        2.083333        5.416667  ...           4.0             0.60   \n",
       "1        3.000000        7.384615  ...           5.0             0.60   \n",
       "2        4.545455        8.181818  ...           3.0             0.60   \n",
       "3        3.545455        4.636364  ...           4.0             0.75   \n",
       "4        1.833333        8.333333  ...           4.0             0.60   \n",
       "...           ...             ...  ...           ...              ...   \n",
       "14815    2.250000        6.250000  ...           3.0             0.50   \n",
       "14816    5.166667        9.166667  ...           4.0             0.60   \n",
       "14817    4.800000        8.000000  ...           2.0             0.00   \n",
       "14818    4.090909        4.090909  ...           4.0             0.75   \n",
       "14819    3.000000       10.833333  ...           6.0             1.00   \n",
       "\n",
       "       ratio_viewed  most_recent  total_spent  transactions_number  M_score  \\\n",
       "0              0.80        696.0       127.60                  8.0        4   \n",
       "1              1.00        654.0        79.46                  5.0        3   \n",
       "2              0.60        708.0       196.86                  8.0        5   \n",
       "3              1.00        672.0       154.05                 12.0        4   \n",
       "4              0.80        696.0        48.34                 18.0        2   \n",
       "...             ...          ...          ...                  ...      ...   \n",
       "14815          0.50        552.0       580.98                 11.0        5   \n",
       "14816          0.80        696.0        29.94                  6.0        2   \n",
       "14817          0.67        576.0        12.15                  5.0        1   \n",
       "14818          1.00        678.0        88.83                 12.0        3   \n",
       "14819          1.00        648.0       226.07                 15.0        5   \n",
       "\n",
       "       R_score  F_score  gender_encode  \n",
       "0            4        3              0  \n",
       "1            3        2              2  \n",
       "2            5        3              1  \n",
       "3            4        4              1  \n",
       "4            4        5              1  \n",
       "...        ...      ...            ...  \n",
       "14815        1        4              1  \n",
       "14816        4        2              0  \n",
       "14817        2        2              0  \n",
       "14818        4        4              0  \n",
       "14819        3        5              1  \n",
       "\n",
       "[14820 rows x 27 columns]"
      ]
     },
     "execution_count": 21,
     "metadata": {},
     "output_type": "execute_result"
    }
   ],
   "source": [
    "mergeDF['gender_encode'] = np.where(mergeDF['gender']=='M', 0, np.where(mergeDF['gender'] == 'F', 1,2))\n",
    "mergeDF"
   ]
  },
  {
   "cell_type": "code",
   "execution_count": 22,
   "id": "2e2ca299",
   "metadata": {},
   "outputs": [],
   "source": [
    "from sklearn.preprocessing import StandardScaler\n",
    "ss = StandardScaler()"
   ]
  },
  {
   "cell_type": "code",
   "execution_count": 30,
   "id": "fb635286",
   "metadata": {},
   "outputs": [
    {
     "data": {
      "text/html": [
       "<div>\n",
       "<style scoped>\n",
       "    .dataframe tbody tr th:only-of-type {\n",
       "        vertical-align: middle;\n",
       "    }\n",
       "\n",
       "    .dataframe tbody tr th {\n",
       "        vertical-align: top;\n",
       "    }\n",
       "\n",
       "    .dataframe thead th {\n",
       "        text-align: right;\n",
       "    }\n",
       "</style>\n",
       "<table border=\"1\" class=\"dataframe\">\n",
       "  <thead>\n",
       "    <tr style=\"text-align: right;\">\n",
       "      <th></th>\n",
       "      <th>0</th>\n",
       "      <th>1</th>\n",
       "      <th>2</th>\n",
       "      <th>3</th>\n",
       "      <th>4</th>\n",
       "      <th>5</th>\n",
       "      <th>6</th>\n",
       "      <th>7</th>\n",
       "      <th>8</th>\n",
       "      <th>9</th>\n",
       "      <th>...</th>\n",
       "      <th>15</th>\n",
       "      <th>16</th>\n",
       "      <th>17</th>\n",
       "      <th>18</th>\n",
       "      <th>19</th>\n",
       "      <th>20</th>\n",
       "      <th>21</th>\n",
       "      <th>22</th>\n",
       "      <th>23</th>\n",
       "      <th>24</th>\n",
       "    </tr>\n",
       "  </thead>\n",
       "  <tbody>\n",
       "    <tr>\n",
       "      <th>0</th>\n",
       "      <td>-1.230488</td>\n",
       "      <td>0.305275</td>\n",
       "      <td>0.316911</td>\n",
       "      <td>-0.453489</td>\n",
       "      <td>0.274803</td>\n",
       "      <td>1.585800</td>\n",
       "      <td>-1.352218</td>\n",
       "      <td>-0.976632</td>\n",
       "      <td>-0.468545</td>\n",
       "      <td>0.578338</td>\n",
       "      <td>...</td>\n",
       "      <td>0.492730</td>\n",
       "      <td>0.339644</td>\n",
       "      <td>0.196280</td>\n",
       "      <td>0.650670</td>\n",
       "      <td>0.081163</td>\n",
       "      <td>-0.070019</td>\n",
       "      <td>0.707190</td>\n",
       "      <td>0.776362</td>\n",
       "      <td>0.117739</td>\n",
       "      <td>-0.842316</td>\n",
       "    </tr>\n",
       "    <tr>\n",
       "      <th>1</th>\n",
       "      <td>-0.827786</td>\n",
       "      <td>-0.389256</td>\n",
       "      <td>1.151419</td>\n",
       "      <td>-0.453489</td>\n",
       "      <td>0.620259</td>\n",
       "      <td>1.585800</td>\n",
       "      <td>-0.816084</td>\n",
       "      <td>-0.178736</td>\n",
       "      <td>0.025330</td>\n",
       "      <td>0.882792</td>\n",
       "      <td>...</td>\n",
       "      <td>1.267917</td>\n",
       "      <td>0.339644</td>\n",
       "      <td>1.042102</td>\n",
       "      <td>0.310075</td>\n",
       "      <td>-0.289214</td>\n",
       "      <td>-0.648872</td>\n",
       "      <td>0.000143</td>\n",
       "      <td>0.046908</td>\n",
       "      <td>-0.590416</td>\n",
       "      <td>2.969908</td>\n",
       "    </tr>\n",
       "    <tr>\n",
       "      <th>2</th>\n",
       "      <td>0.265262</td>\n",
       "      <td>1.138711</td>\n",
       "      <td>-0.517598</td>\n",
       "      <td>-0.106596</td>\n",
       "      <td>0.274803</td>\n",
       "      <td>0.302263</td>\n",
       "      <td>0.087812</td>\n",
       "      <td>0.144486</td>\n",
       "      <td>0.466734</td>\n",
       "      <td>-0.030569</td>\n",
       "      <td>...</td>\n",
       "      <td>-0.282457</td>\n",
       "      <td>0.339644</td>\n",
       "      <td>-0.649542</td>\n",
       "      <td>0.747983</td>\n",
       "      <td>0.614032</td>\n",
       "      <td>-0.070019</td>\n",
       "      <td>1.414237</td>\n",
       "      <td>1.505816</td>\n",
       "      <td>0.117739</td>\n",
       "      <td>1.063796</td>\n",
       "    </tr>\n",
       "    <tr>\n",
       "      <th>3</th>\n",
       "      <td>-1.748248</td>\n",
       "      <td>-0.250350</td>\n",
       "      <td>-0.517598</td>\n",
       "      <td>0.587190</td>\n",
       "      <td>-0.416109</td>\n",
       "      <td>0.302263</td>\n",
       "      <td>-0.497062</td>\n",
       "      <td>-1.293002</td>\n",
       "      <td>-0.799057</td>\n",
       "      <td>0.273885</td>\n",
       "      <td>...</td>\n",
       "      <td>0.492730</td>\n",
       "      <td>0.792722</td>\n",
       "      <td>1.042102</td>\n",
       "      <td>0.456044</td>\n",
       "      <td>0.284663</td>\n",
       "      <td>0.701783</td>\n",
       "      <td>0.707190</td>\n",
       "      <td>0.776362</td>\n",
       "      <td>0.825894</td>\n",
       "      <td>1.063796</td>\n",
       "    </tr>\n",
       "    <tr>\n",
       "      <th>4</th>\n",
       "      <td>-1.633190</td>\n",
       "      <td>0.351577</td>\n",
       "      <td>0.316911</td>\n",
       "      <td>-1.494167</td>\n",
       "      <td>1.311171</td>\n",
       "      <td>1.585800</td>\n",
       "      <td>-1.498436</td>\n",
       "      <td>0.205917</td>\n",
       "      <td>1.155888</td>\n",
       "      <td>0.578338</td>\n",
       "      <td>...</td>\n",
       "      <td>0.492730</td>\n",
       "      <td>0.339644</td>\n",
       "      <td>0.196280</td>\n",
       "      <td>0.650670</td>\n",
       "      <td>-0.528643</td>\n",
       "      <td>1.859487</td>\n",
       "      <td>-0.706904</td>\n",
       "      <td>0.776362</td>\n",
       "      <td>1.534049</td>\n",
       "      <td>1.063796</td>\n",
       "    </tr>\n",
       "    <tr>\n",
       "      <th>...</th>\n",
       "      <td>...</td>\n",
       "      <td>...</td>\n",
       "      <td>...</td>\n",
       "      <td>...</td>\n",
       "      <td>...</td>\n",
       "      <td>...</td>\n",
       "      <td>...</td>\n",
       "      <td>...</td>\n",
       "      <td>...</td>\n",
       "      <td>...</td>\n",
       "      <td>...</td>\n",
       "      <td>...</td>\n",
       "      <td>...</td>\n",
       "      <td>...</td>\n",
       "      <td>...</td>\n",
       "      <td>...</td>\n",
       "      <td>...</td>\n",
       "      <td>...</td>\n",
       "      <td>...</td>\n",
       "      <td>...</td>\n",
       "      <td>...</td>\n",
       "    </tr>\n",
       "    <tr>\n",
       "      <th>14815</th>\n",
       "      <td>0.840550</td>\n",
       "      <td>0.814597</td>\n",
       "      <td>-1.352107</td>\n",
       "      <td>-0.453489</td>\n",
       "      <td>0.620259</td>\n",
       "      <td>0.944032</td>\n",
       "      <td>-1.254739</td>\n",
       "      <td>-0.638761</td>\n",
       "      <td>0.150287</td>\n",
       "      <td>0.273885</td>\n",
       "      <td>...</td>\n",
       "      <td>-0.282457</td>\n",
       "      <td>0.037591</td>\n",
       "      <td>-1.072453</td>\n",
       "      <td>-0.517085</td>\n",
       "      <td>3.569356</td>\n",
       "      <td>0.508833</td>\n",
       "      <td>1.414237</td>\n",
       "      <td>-1.412001</td>\n",
       "      <td>0.825894</td>\n",
       "      <td>1.063796</td>\n",
       "    </tr>\n",
       "    <tr>\n",
       "      <th>14816</th>\n",
       "      <td>0.955608</td>\n",
       "      <td>0.351577</td>\n",
       "      <td>0.316911</td>\n",
       "      <td>0.587190</td>\n",
       "      <td>0.620259</td>\n",
       "      <td>-0.981273</td>\n",
       "      <td>0.451142</td>\n",
       "      <td>0.543789</td>\n",
       "      <td>1.465303</td>\n",
       "      <td>0.578338</td>\n",
       "      <td>...</td>\n",
       "      <td>0.492730</td>\n",
       "      <td>0.339644</td>\n",
       "      <td>0.196280</td>\n",
       "      <td>0.650670</td>\n",
       "      <td>-0.670208</td>\n",
       "      <td>-0.455921</td>\n",
       "      <td>-0.706904</td>\n",
       "      <td>0.776362</td>\n",
       "      <td>-0.590416</td>\n",
       "      <td>-0.842316</td>\n",
       "    </tr>\n",
       "    <tr>\n",
       "      <th>14817</th>\n",
       "      <td>0.955608</td>\n",
       "      <td>-0.435558</td>\n",
       "      <td>1.151419</td>\n",
       "      <td>-0.800381</td>\n",
       "      <td>-0.761565</td>\n",
       "      <td>-0.339505</td>\n",
       "      <td>0.236689</td>\n",
       "      <td>0.070769</td>\n",
       "      <td>0.196699</td>\n",
       "      <td>-0.943929</td>\n",
       "      <td>...</td>\n",
       "      <td>-1.057644</td>\n",
       "      <td>-1.472669</td>\n",
       "      <td>-0.353504</td>\n",
       "      <td>-0.322459</td>\n",
       "      <td>-0.807080</td>\n",
       "      <td>-0.648872</td>\n",
       "      <td>-1.413951</td>\n",
       "      <td>-0.682547</td>\n",
       "      <td>-0.590416</td>\n",
       "      <td>-0.842316</td>\n",
       "    </tr>\n",
       "    <tr>\n",
       "      <th>14818</th>\n",
       "      <td>-1.172959</td>\n",
       "      <td>-1.454202</td>\n",
       "      <td>0.316911</td>\n",
       "      <td>1.627868</td>\n",
       "      <td>-1.452477</td>\n",
       "      <td>0.302263</td>\n",
       "      <td>-0.178040</td>\n",
       "      <td>-1.514155</td>\n",
       "      <td>-1.305374</td>\n",
       "      <td>0.273885</td>\n",
       "      <td>...</td>\n",
       "      <td>0.492730</td>\n",
       "      <td>0.792722</td>\n",
       "      <td>1.042102</td>\n",
       "      <td>0.504701</td>\n",
       "      <td>-0.217123</td>\n",
       "      <td>0.701783</td>\n",
       "      <td>0.000143</td>\n",
       "      <td>0.776362</td>\n",
       "      <td>0.825894</td>\n",
       "      <td>-0.842316</td>\n",
       "    </tr>\n",
       "    <tr>\n",
       "      <th>14819</th>\n",
       "      <td>-0.540142</td>\n",
       "      <td>-0.157746</td>\n",
       "      <td>-0.517598</td>\n",
       "      <td>-0.453489</td>\n",
       "      <td>3.729364</td>\n",
       "      <td>-0.981273</td>\n",
       "      <td>-0.816084</td>\n",
       "      <td>1.219531</td>\n",
       "      <td>1.310595</td>\n",
       "      <td>3.013965</td>\n",
       "      <td>...</td>\n",
       "      <td>2.043104</td>\n",
       "      <td>1.547852</td>\n",
       "      <td>1.042102</td>\n",
       "      <td>0.261418</td>\n",
       "      <td>0.838767</td>\n",
       "      <td>1.280635</td>\n",
       "      <td>1.414237</td>\n",
       "      <td>0.046908</td>\n",
       "      <td>1.534049</td>\n",
       "      <td>1.063796</td>\n",
       "    </tr>\n",
       "  </tbody>\n",
       "</table>\n",
       "<p>14820 rows × 25 columns</p>\n",
       "</div>"
      ],
      "text/plain": [
       "             0         1         2         3         4         5         6   \\\n",
       "0     -1.230488  0.305275  0.316911 -0.453489  0.274803  1.585800 -1.352218   \n",
       "1     -0.827786 -0.389256  1.151419 -0.453489  0.620259  1.585800 -0.816084   \n",
       "2      0.265262  1.138711 -0.517598 -0.106596  0.274803  0.302263  0.087812   \n",
       "3     -1.748248 -0.250350 -0.517598  0.587190 -0.416109  0.302263 -0.497062   \n",
       "4     -1.633190  0.351577  0.316911 -1.494167  1.311171  1.585800 -1.498436   \n",
       "...         ...       ...       ...       ...       ...       ...       ...   \n",
       "14815  0.840550  0.814597 -1.352107 -0.453489  0.620259  0.944032 -1.254739   \n",
       "14816  0.955608  0.351577  0.316911  0.587190  0.620259 -0.981273  0.451142   \n",
       "14817  0.955608 -0.435558  1.151419 -0.800381 -0.761565 -0.339505  0.236689   \n",
       "14818 -1.172959 -1.454202  0.316911  1.627868 -1.452477  0.302263 -0.178040   \n",
       "14819 -0.540142 -0.157746 -0.517598 -0.453489  3.729364 -0.981273 -0.816084   \n",
       "\n",
       "             7         8         9   ...        15        16        17  \\\n",
       "0     -0.976632 -0.468545  0.578338  ...  0.492730  0.339644  0.196280   \n",
       "1     -0.178736  0.025330  0.882792  ...  1.267917  0.339644  1.042102   \n",
       "2      0.144486  0.466734 -0.030569  ... -0.282457  0.339644 -0.649542   \n",
       "3     -1.293002 -0.799057  0.273885  ...  0.492730  0.792722  1.042102   \n",
       "4      0.205917  1.155888  0.578338  ...  0.492730  0.339644  0.196280   \n",
       "...         ...       ...       ...  ...       ...       ...       ...   \n",
       "14815 -0.638761  0.150287  0.273885  ... -0.282457  0.037591 -1.072453   \n",
       "14816  0.543789  1.465303  0.578338  ...  0.492730  0.339644  0.196280   \n",
       "14817  0.070769  0.196699 -0.943929  ... -1.057644 -1.472669 -0.353504   \n",
       "14818 -1.514155 -1.305374  0.273885  ...  0.492730  0.792722  1.042102   \n",
       "14819  1.219531  1.310595  3.013965  ...  2.043104  1.547852  1.042102   \n",
       "\n",
       "             18        19        20        21        22        23        24  \n",
       "0      0.650670  0.081163 -0.070019  0.707190  0.776362  0.117739 -0.842316  \n",
       "1      0.310075 -0.289214 -0.648872  0.000143  0.046908 -0.590416  2.969908  \n",
       "2      0.747983  0.614032 -0.070019  1.414237  1.505816  0.117739  1.063796  \n",
       "3      0.456044  0.284663  0.701783  0.707190  0.776362  0.825894  1.063796  \n",
       "4      0.650670 -0.528643  1.859487 -0.706904  0.776362  1.534049  1.063796  \n",
       "...         ...       ...       ...       ...       ...       ...       ...  \n",
       "14815 -0.517085  3.569356  0.508833  1.414237 -1.412001  0.825894  1.063796  \n",
       "14816  0.650670 -0.670208 -0.455921 -0.706904  0.776362 -0.590416 -0.842316  \n",
       "14817 -0.322459 -0.807080 -0.648872 -1.413951 -0.682547 -0.590416 -0.842316  \n",
       "14818  0.504701 -0.217123  0.701783  0.000143  0.776362  0.825894 -0.842316  \n",
       "14819  0.261418  0.838767  1.280635  1.414237  0.046908  1.534049  1.063796  \n",
       "\n",
       "[14820 rows x 25 columns]"
      ]
     },
     "execution_count": 30,
     "metadata": {},
     "output_type": "execute_result"
    }
   ],
   "source": [
    "scaledDF = pd.DataFrame(ss.fit_transform(mergeDF.iloc[:,2:]))\n",
    "scaledDF"
   ]
  },
  {
   "cell_type": "code",
   "execution_count": 31,
   "id": "7499e0f1",
   "metadata": {},
   "outputs": [],
   "source": [
    "from sklearn.decomposition import PCA\n",
    "pca = PCA()"
   ]
  },
  {
   "cell_type": "code",
   "execution_count": 32,
   "id": "1df203d0",
   "metadata": {},
   "outputs": [
    {
     "data": {
      "text/plain": [
       "PCA()"
      ]
     },
     "execution_count": 32,
     "metadata": {},
     "output_type": "execute_result"
    }
   ],
   "source": [
    "pca.set_params(n_components = None)\n",
    "pca.fit(scaledDF)"
   ]
  },
  {
   "cell_type": "code",
   "execution_count": 33,
   "id": "fc6211c6",
   "metadata": {},
   "outputs": [
    {
     "data": {
      "text/plain": [
       "array([2.97048785e-01, 1.25851418e-01, 1.02472991e-01, 8.61348898e-02,\n",
       "       8.12626492e-02, 4.71114165e-02, 4.46920181e-02, 3.58557617e-02,\n",
       "       3.41681723e-02, 2.82355801e-02, 2.68438825e-02, 1.97084254e-02,\n",
       "       1.59533917e-02, 1.49934666e-02, 1.07067717e-02, 9.77178461e-03,\n",
       "       5.36986268e-03, 4.96523329e-03, 3.00844780e-03, 2.52966933e-03,\n",
       "       1.39911457e-03, 1.17918505e-03, 7.37082333e-04, 4.31235893e-33,\n",
       "       9.94794712e-34])"
      ]
     },
     "execution_count": 33,
     "metadata": {},
     "output_type": "execute_result"
    }
   ],
   "source": [
    "pca.explained_variance_ratio_"
   ]
  },
  {
   "cell_type": "code",
   "execution_count": 79,
   "id": "e62c9ae5",
   "metadata": {},
   "outputs": [],
   "source": [
    "import plotly.express as px\n",
    "import plotly.graph_objects as go\n",
    "from plotly.subplots import make_subplots"
   ]
  },
  {
   "cell_type": "code",
   "execution_count": 73,
   "id": "0cd3cf44",
   "metadata": {},
   "outputs": [
    {
     "data": {
      "application/vnd.plotly.v1+json": {
       "config": {
        "plotlyServerURL": "https://plot.ly"
       },
       "data": [
        {
         "marker": {
          "line": {
           "color": "black",
           "width": 1
          }
         },
         "type": "bar",
         "x": [
          0,
          1,
          2,
          3,
          4,
          5,
          6,
          7,
          8,
          9,
          10,
          11,
          12,
          13,
          14,
          15,
          16,
          17,
          18,
          19,
          20,
          21,
          22,
          23,
          24
         ],
         "y": [
          0.2970487853781211,
          0.12585141806769712,
          0.10247299140329447,
          0.08613488978673707,
          0.08126264920766381,
          0.04711141654141263,
          0.04469201806310644,
          0.03585576167447913,
          0.034168172254681675,
          0.028235580093503788,
          0.02684388250591828
         ]
        },
        {
         "marker": {
          "line": {
           "color": "black",
           "width": 1
          }
         },
         "type": "scatter",
         "x": [
          0,
          1,
          2,
          3,
          4,
          5,
          6,
          7,
          8,
          9,
          10,
          11,
          12,
          13,
          14,
          15,
          16,
          17,
          18,
          19,
          20,
          21,
          22,
          23,
          24
         ],
         "y": [
          0.2970487853781211,
          0.42290020344581825,
          0.5253731948491127,
          0.6115080846358498,
          0.6927707338435136,
          0.7398821503849262,
          0.7845741684480326,
          0.8204299301225118,
          0.8545981023771935,
          0.8828336824706973,
          0.9096775649766156
         ]
        }
       ],
       "layout": {
        "bargap": 0.2,
        "colorway": [
         "#00704A",
         "#00704A"
        ],
        "legend": {
         "bgcolor": "#DFBA8F",
         "bordercolor": "black",
         "borderwidth": 2,
         "font": {
          "color": "black"
         }
        },
        "plot_bgcolor": "#B8A085",
        "showlegend": false,
        "template": {
         "data": {
          "bar": [
           {
            "error_x": {
             "color": "#2a3f5f"
            },
            "error_y": {
             "color": "#2a3f5f"
            },
            "marker": {
             "line": {
              "color": "#E5ECF6",
              "width": 0.5
             },
             "pattern": {
              "fillmode": "overlay",
              "size": 10,
              "solidity": 0.2
             }
            },
            "type": "bar"
           }
          ],
          "barpolar": [
           {
            "marker": {
             "line": {
              "color": "#E5ECF6",
              "width": 0.5
             },
             "pattern": {
              "fillmode": "overlay",
              "size": 10,
              "solidity": 0.2
             }
            },
            "type": "barpolar"
           }
          ],
          "carpet": [
           {
            "aaxis": {
             "endlinecolor": "#2a3f5f",
             "gridcolor": "white",
             "linecolor": "white",
             "minorgridcolor": "white",
             "startlinecolor": "#2a3f5f"
            },
            "baxis": {
             "endlinecolor": "#2a3f5f",
             "gridcolor": "white",
             "linecolor": "white",
             "minorgridcolor": "white",
             "startlinecolor": "#2a3f5f"
            },
            "type": "carpet"
           }
          ],
          "choropleth": [
           {
            "colorbar": {
             "outlinewidth": 0,
             "ticks": ""
            },
            "type": "choropleth"
           }
          ],
          "contour": [
           {
            "colorbar": {
             "outlinewidth": 0,
             "ticks": ""
            },
            "colorscale": [
             [
              0,
              "#0d0887"
             ],
             [
              0.1111111111111111,
              "#46039f"
             ],
             [
              0.2222222222222222,
              "#7201a8"
             ],
             [
              0.3333333333333333,
              "#9c179e"
             ],
             [
              0.4444444444444444,
              "#bd3786"
             ],
             [
              0.5555555555555556,
              "#d8576b"
             ],
             [
              0.6666666666666666,
              "#ed7953"
             ],
             [
              0.7777777777777778,
              "#fb9f3a"
             ],
             [
              0.8888888888888888,
              "#fdca26"
             ],
             [
              1,
              "#f0f921"
             ]
            ],
            "type": "contour"
           }
          ],
          "contourcarpet": [
           {
            "colorbar": {
             "outlinewidth": 0,
             "ticks": ""
            },
            "type": "contourcarpet"
           }
          ],
          "heatmap": [
           {
            "colorbar": {
             "outlinewidth": 0,
             "ticks": ""
            },
            "colorscale": [
             [
              0,
              "#0d0887"
             ],
             [
              0.1111111111111111,
              "#46039f"
             ],
             [
              0.2222222222222222,
              "#7201a8"
             ],
             [
              0.3333333333333333,
              "#9c179e"
             ],
             [
              0.4444444444444444,
              "#bd3786"
             ],
             [
              0.5555555555555556,
              "#d8576b"
             ],
             [
              0.6666666666666666,
              "#ed7953"
             ],
             [
              0.7777777777777778,
              "#fb9f3a"
             ],
             [
              0.8888888888888888,
              "#fdca26"
             ],
             [
              1,
              "#f0f921"
             ]
            ],
            "type": "heatmap"
           }
          ],
          "heatmapgl": [
           {
            "colorbar": {
             "outlinewidth": 0,
             "ticks": ""
            },
            "colorscale": [
             [
              0,
              "#0d0887"
             ],
             [
              0.1111111111111111,
              "#46039f"
             ],
             [
              0.2222222222222222,
              "#7201a8"
             ],
             [
              0.3333333333333333,
              "#9c179e"
             ],
             [
              0.4444444444444444,
              "#bd3786"
             ],
             [
              0.5555555555555556,
              "#d8576b"
             ],
             [
              0.6666666666666666,
              "#ed7953"
             ],
             [
              0.7777777777777778,
              "#fb9f3a"
             ],
             [
              0.8888888888888888,
              "#fdca26"
             ],
             [
              1,
              "#f0f921"
             ]
            ],
            "type": "heatmapgl"
           }
          ],
          "histogram": [
           {
            "marker": {
             "pattern": {
              "fillmode": "overlay",
              "size": 10,
              "solidity": 0.2
             }
            },
            "type": "histogram"
           }
          ],
          "histogram2d": [
           {
            "colorbar": {
             "outlinewidth": 0,
             "ticks": ""
            },
            "colorscale": [
             [
              0,
              "#0d0887"
             ],
             [
              0.1111111111111111,
              "#46039f"
             ],
             [
              0.2222222222222222,
              "#7201a8"
             ],
             [
              0.3333333333333333,
              "#9c179e"
             ],
             [
              0.4444444444444444,
              "#bd3786"
             ],
             [
              0.5555555555555556,
              "#d8576b"
             ],
             [
              0.6666666666666666,
              "#ed7953"
             ],
             [
              0.7777777777777778,
              "#fb9f3a"
             ],
             [
              0.8888888888888888,
              "#fdca26"
             ],
             [
              1,
              "#f0f921"
             ]
            ],
            "type": "histogram2d"
           }
          ],
          "histogram2dcontour": [
           {
            "colorbar": {
             "outlinewidth": 0,
             "ticks": ""
            },
            "colorscale": [
             [
              0,
              "#0d0887"
             ],
             [
              0.1111111111111111,
              "#46039f"
             ],
             [
              0.2222222222222222,
              "#7201a8"
             ],
             [
              0.3333333333333333,
              "#9c179e"
             ],
             [
              0.4444444444444444,
              "#bd3786"
             ],
             [
              0.5555555555555556,
              "#d8576b"
             ],
             [
              0.6666666666666666,
              "#ed7953"
             ],
             [
              0.7777777777777778,
              "#fb9f3a"
             ],
             [
              0.8888888888888888,
              "#fdca26"
             ],
             [
              1,
              "#f0f921"
             ]
            ],
            "type": "histogram2dcontour"
           }
          ],
          "mesh3d": [
           {
            "colorbar": {
             "outlinewidth": 0,
             "ticks": ""
            },
            "type": "mesh3d"
           }
          ],
          "parcoords": [
           {
            "line": {
             "colorbar": {
              "outlinewidth": 0,
              "ticks": ""
             }
            },
            "type": "parcoords"
           }
          ],
          "pie": [
           {
            "automargin": true,
            "type": "pie"
           }
          ],
          "scatter": [
           {
            "fillpattern": {
             "fillmode": "overlay",
             "size": 10,
             "solidity": 0.2
            },
            "type": "scatter"
           }
          ],
          "scatter3d": [
           {
            "line": {
             "colorbar": {
              "outlinewidth": 0,
              "ticks": ""
             }
            },
            "marker": {
             "colorbar": {
              "outlinewidth": 0,
              "ticks": ""
             }
            },
            "type": "scatter3d"
           }
          ],
          "scattercarpet": [
           {
            "marker": {
             "colorbar": {
              "outlinewidth": 0,
              "ticks": ""
             }
            },
            "type": "scattercarpet"
           }
          ],
          "scattergeo": [
           {
            "marker": {
             "colorbar": {
              "outlinewidth": 0,
              "ticks": ""
             }
            },
            "type": "scattergeo"
           }
          ],
          "scattergl": [
           {
            "marker": {
             "colorbar": {
              "outlinewidth": 0,
              "ticks": ""
             }
            },
            "type": "scattergl"
           }
          ],
          "scattermapbox": [
           {
            "marker": {
             "colorbar": {
              "outlinewidth": 0,
              "ticks": ""
             }
            },
            "type": "scattermapbox"
           }
          ],
          "scatterpolar": [
           {
            "marker": {
             "colorbar": {
              "outlinewidth": 0,
              "ticks": ""
             }
            },
            "type": "scatterpolar"
           }
          ],
          "scatterpolargl": [
           {
            "marker": {
             "colorbar": {
              "outlinewidth": 0,
              "ticks": ""
             }
            },
            "type": "scatterpolargl"
           }
          ],
          "scatterternary": [
           {
            "marker": {
             "colorbar": {
              "outlinewidth": 0,
              "ticks": ""
             }
            },
            "type": "scatterternary"
           }
          ],
          "surface": [
           {
            "colorbar": {
             "outlinewidth": 0,
             "ticks": ""
            },
            "colorscale": [
             [
              0,
              "#0d0887"
             ],
             [
              0.1111111111111111,
              "#46039f"
             ],
             [
              0.2222222222222222,
              "#7201a8"
             ],
             [
              0.3333333333333333,
              "#9c179e"
             ],
             [
              0.4444444444444444,
              "#bd3786"
             ],
             [
              0.5555555555555556,
              "#d8576b"
             ],
             [
              0.6666666666666666,
              "#ed7953"
             ],
             [
              0.7777777777777778,
              "#fb9f3a"
             ],
             [
              0.8888888888888888,
              "#fdca26"
             ],
             [
              1,
              "#f0f921"
             ]
            ],
            "type": "surface"
           }
          ],
          "table": [
           {
            "cells": {
             "fill": {
              "color": "#EBF0F8"
             },
             "line": {
              "color": "white"
             }
            },
            "header": {
             "fill": {
              "color": "#C8D4E3"
             },
             "line": {
              "color": "white"
             }
            },
            "type": "table"
           }
          ]
         },
         "layout": {
          "annotationdefaults": {
           "arrowcolor": "#2a3f5f",
           "arrowhead": 0,
           "arrowwidth": 1
          },
          "autotypenumbers": "strict",
          "coloraxis": {
           "colorbar": {
            "outlinewidth": 0,
            "ticks": ""
           }
          },
          "colorscale": {
           "diverging": [
            [
             0,
             "#8e0152"
            ],
            [
             0.1,
             "#c51b7d"
            ],
            [
             0.2,
             "#de77ae"
            ],
            [
             0.3,
             "#f1b6da"
            ],
            [
             0.4,
             "#fde0ef"
            ],
            [
             0.5,
             "#f7f7f7"
            ],
            [
             0.6,
             "#e6f5d0"
            ],
            [
             0.7,
             "#b8e186"
            ],
            [
             0.8,
             "#7fbc41"
            ],
            [
             0.9,
             "#4d9221"
            ],
            [
             1,
             "#276419"
            ]
           ],
           "sequential": [
            [
             0,
             "#0d0887"
            ],
            [
             0.1111111111111111,
             "#46039f"
            ],
            [
             0.2222222222222222,
             "#7201a8"
            ],
            [
             0.3333333333333333,
             "#9c179e"
            ],
            [
             0.4444444444444444,
             "#bd3786"
            ],
            [
             0.5555555555555556,
             "#d8576b"
            ],
            [
             0.6666666666666666,
             "#ed7953"
            ],
            [
             0.7777777777777778,
             "#fb9f3a"
            ],
            [
             0.8888888888888888,
             "#fdca26"
            ],
            [
             1,
             "#f0f921"
            ]
           ],
           "sequentialminus": [
            [
             0,
             "#0d0887"
            ],
            [
             0.1111111111111111,
             "#46039f"
            ],
            [
             0.2222222222222222,
             "#7201a8"
            ],
            [
             0.3333333333333333,
             "#9c179e"
            ],
            [
             0.4444444444444444,
             "#bd3786"
            ],
            [
             0.5555555555555556,
             "#d8576b"
            ],
            [
             0.6666666666666666,
             "#ed7953"
            ],
            [
             0.7777777777777778,
             "#fb9f3a"
            ],
            [
             0.8888888888888888,
             "#fdca26"
            ],
            [
             1,
             "#f0f921"
            ]
           ]
          },
          "colorway": [
           "#636efa",
           "#EF553B",
           "#00cc96",
           "#ab63fa",
           "#FFA15A",
           "#19d3f3",
           "#FF6692",
           "#B6E880",
           "#FF97FF",
           "#FECB52"
          ],
          "font": {
           "color": "#2a3f5f"
          },
          "geo": {
           "bgcolor": "white",
           "lakecolor": "white",
           "landcolor": "#E5ECF6",
           "showlakes": true,
           "showland": true,
           "subunitcolor": "white"
          },
          "hoverlabel": {
           "align": "left"
          },
          "hovermode": "closest",
          "mapbox": {
           "style": "light"
          },
          "paper_bgcolor": "white",
          "plot_bgcolor": "#E5ECF6",
          "polar": {
           "angularaxis": {
            "gridcolor": "white",
            "linecolor": "white",
            "ticks": ""
           },
           "bgcolor": "#E5ECF6",
           "radialaxis": {
            "gridcolor": "white",
            "linecolor": "white",
            "ticks": ""
           }
          },
          "scene": {
           "xaxis": {
            "backgroundcolor": "#E5ECF6",
            "gridcolor": "white",
            "gridwidth": 2,
            "linecolor": "white",
            "showbackground": true,
            "ticks": "",
            "zerolinecolor": "white"
           },
           "yaxis": {
            "backgroundcolor": "#E5ECF6",
            "gridcolor": "white",
            "gridwidth": 2,
            "linecolor": "white",
            "showbackground": true,
            "ticks": "",
            "zerolinecolor": "white"
           },
           "zaxis": {
            "backgroundcolor": "#E5ECF6",
            "gridcolor": "white",
            "gridwidth": 2,
            "linecolor": "white",
            "showbackground": true,
            "ticks": "",
            "zerolinecolor": "white"
           }
          },
          "shapedefaults": {
           "line": {
            "color": "#2a3f5f"
           }
          },
          "ternary": {
           "aaxis": {
            "gridcolor": "white",
            "linecolor": "white",
            "ticks": ""
           },
           "baxis": {
            "gridcolor": "white",
            "linecolor": "white",
            "ticks": ""
           },
           "bgcolor": "#E5ECF6",
           "caxis": {
            "gridcolor": "white",
            "linecolor": "white",
            "ticks": ""
           }
          },
          "title": {
           "x": 0.05
          },
          "xaxis": {
           "automargin": true,
           "gridcolor": "white",
           "linecolor": "white",
           "ticks": "",
           "title": {
            "standoff": 15
           },
           "zerolinecolor": "white",
           "zerolinewidth": 2
          },
          "yaxis": {
           "automargin": true,
           "gridcolor": "white",
           "linecolor": "white",
           "ticks": "",
           "title": {
            "standoff": 15
           },
           "zerolinecolor": "white",
           "zerolinewidth": 2
          }
         }
        },
        "title": {
         "font": {
          "size": 25
         },
         "text": "Principal Component Analysis <br> Explained Variance",
         "x": 0.5
        },
        "xaxis": {
         "linecolor": "black",
         "tickfont": {
          "size": 16
         },
         "title": {
          "font": {
           "size": 25
          },
          "text": "Principal Components"
         }
        },
        "yaxis": {
         "linecolor": "black",
         "tickfont": {
          "size": 16
         },
         "title": {
          "font": {
           "size": 25
          },
          "text": "Explained Variance"
         }
        }
       }
      },
      "text/html": [
       "<div>                            <div id=\"8949cc05-cd49-4d5f-96a2-d97ec0b17bd0\" class=\"plotly-graph-div\" style=\"height:525px; width:100%;\"></div>            <script type=\"text/javascript\">                require([\"plotly\"], function(Plotly) {                    window.PLOTLYENV=window.PLOTLYENV || {};                                    if (document.getElementById(\"8949cc05-cd49-4d5f-96a2-d97ec0b17bd0\")) {                    Plotly.newPlot(                        \"8949cc05-cd49-4d5f-96a2-d97ec0b17bd0\",                        [{\"x\":[0,1,2,3,4,5,6,7,8,9,10,11,12,13,14,15,16,17,18,19,20,21,22,23,24],\"y\":[0.2970487853781211,0.12585141806769712,0.10247299140329447,0.08613488978673707,0.08126264920766381,0.04711141654141263,0.04469201806310644,0.03585576167447913,0.034168172254681675,0.028235580093503788,0.02684388250591828],\"type\":\"bar\",\"marker\":{\"line\":{\"color\":\"black\",\"width\":1}}},{\"x\":[0,1,2,3,4,5,6,7,8,9,10,11,12,13,14,15,16,17,18,19,20,21,22,23,24],\"y\":[0.2970487853781211,0.42290020344581825,0.5253731948491127,0.6115080846358498,0.6927707338435136,0.7398821503849262,0.7845741684480326,0.8204299301225118,0.8545981023771935,0.8828336824706973,0.9096775649766156],\"type\":\"scatter\",\"marker\":{\"line\":{\"color\":\"black\",\"width\":1}}}],                        {\"template\":{\"data\":{\"histogram2dcontour\":[{\"type\":\"histogram2dcontour\",\"colorbar\":{\"outlinewidth\":0,\"ticks\":\"\"},\"colorscale\":[[0.0,\"#0d0887\"],[0.1111111111111111,\"#46039f\"],[0.2222222222222222,\"#7201a8\"],[0.3333333333333333,\"#9c179e\"],[0.4444444444444444,\"#bd3786\"],[0.5555555555555556,\"#d8576b\"],[0.6666666666666666,\"#ed7953\"],[0.7777777777777778,\"#fb9f3a\"],[0.8888888888888888,\"#fdca26\"],[1.0,\"#f0f921\"]]}],\"choropleth\":[{\"type\":\"choropleth\",\"colorbar\":{\"outlinewidth\":0,\"ticks\":\"\"}}],\"histogram2d\":[{\"type\":\"histogram2d\",\"colorbar\":{\"outlinewidth\":0,\"ticks\":\"\"},\"colorscale\":[[0.0,\"#0d0887\"],[0.1111111111111111,\"#46039f\"],[0.2222222222222222,\"#7201a8\"],[0.3333333333333333,\"#9c179e\"],[0.4444444444444444,\"#bd3786\"],[0.5555555555555556,\"#d8576b\"],[0.6666666666666666,\"#ed7953\"],[0.7777777777777778,\"#fb9f3a\"],[0.8888888888888888,\"#fdca26\"],[1.0,\"#f0f921\"]]}],\"heatmap\":[{\"type\":\"heatmap\",\"colorbar\":{\"outlinewidth\":0,\"ticks\":\"\"},\"colorscale\":[[0.0,\"#0d0887\"],[0.1111111111111111,\"#46039f\"],[0.2222222222222222,\"#7201a8\"],[0.3333333333333333,\"#9c179e\"],[0.4444444444444444,\"#bd3786\"],[0.5555555555555556,\"#d8576b\"],[0.6666666666666666,\"#ed7953\"],[0.7777777777777778,\"#fb9f3a\"],[0.8888888888888888,\"#fdca26\"],[1.0,\"#f0f921\"]]}],\"heatmapgl\":[{\"type\":\"heatmapgl\",\"colorbar\":{\"outlinewidth\":0,\"ticks\":\"\"},\"colorscale\":[[0.0,\"#0d0887\"],[0.1111111111111111,\"#46039f\"],[0.2222222222222222,\"#7201a8\"],[0.3333333333333333,\"#9c179e\"],[0.4444444444444444,\"#bd3786\"],[0.5555555555555556,\"#d8576b\"],[0.6666666666666666,\"#ed7953\"],[0.7777777777777778,\"#fb9f3a\"],[0.8888888888888888,\"#fdca26\"],[1.0,\"#f0f921\"]]}],\"contourcarpet\":[{\"type\":\"contourcarpet\",\"colorbar\":{\"outlinewidth\":0,\"ticks\":\"\"}}],\"contour\":[{\"type\":\"contour\",\"colorbar\":{\"outlinewidth\":0,\"ticks\":\"\"},\"colorscale\":[[0.0,\"#0d0887\"],[0.1111111111111111,\"#46039f\"],[0.2222222222222222,\"#7201a8\"],[0.3333333333333333,\"#9c179e\"],[0.4444444444444444,\"#bd3786\"],[0.5555555555555556,\"#d8576b\"],[0.6666666666666666,\"#ed7953\"],[0.7777777777777778,\"#fb9f3a\"],[0.8888888888888888,\"#fdca26\"],[1.0,\"#f0f921\"]]}],\"surface\":[{\"type\":\"surface\",\"colorbar\":{\"outlinewidth\":0,\"ticks\":\"\"},\"colorscale\":[[0.0,\"#0d0887\"],[0.1111111111111111,\"#46039f\"],[0.2222222222222222,\"#7201a8\"],[0.3333333333333333,\"#9c179e\"],[0.4444444444444444,\"#bd3786\"],[0.5555555555555556,\"#d8576b\"],[0.6666666666666666,\"#ed7953\"],[0.7777777777777778,\"#fb9f3a\"],[0.8888888888888888,\"#fdca26\"],[1.0,\"#f0f921\"]]}],\"mesh3d\":[{\"type\":\"mesh3d\",\"colorbar\":{\"outlinewidth\":0,\"ticks\":\"\"}}],\"scatter\":[{\"fillpattern\":{\"fillmode\":\"overlay\",\"size\":10,\"solidity\":0.2},\"type\":\"scatter\"}],\"parcoords\":[{\"type\":\"parcoords\",\"line\":{\"colorbar\":{\"outlinewidth\":0,\"ticks\":\"\"}}}],\"scatterpolargl\":[{\"type\":\"scatterpolargl\",\"marker\":{\"colorbar\":{\"outlinewidth\":0,\"ticks\":\"\"}}}],\"bar\":[{\"error_x\":{\"color\":\"#2a3f5f\"},\"error_y\":{\"color\":\"#2a3f5f\"},\"marker\":{\"line\":{\"color\":\"#E5ECF6\",\"width\":0.5},\"pattern\":{\"fillmode\":\"overlay\",\"size\":10,\"solidity\":0.2}},\"type\":\"bar\"}],\"scattergeo\":[{\"type\":\"scattergeo\",\"marker\":{\"colorbar\":{\"outlinewidth\":0,\"ticks\":\"\"}}}],\"scatterpolar\":[{\"type\":\"scatterpolar\",\"marker\":{\"colorbar\":{\"outlinewidth\":0,\"ticks\":\"\"}}}],\"histogram\":[{\"marker\":{\"pattern\":{\"fillmode\":\"overlay\",\"size\":10,\"solidity\":0.2}},\"type\":\"histogram\"}],\"scattergl\":[{\"type\":\"scattergl\",\"marker\":{\"colorbar\":{\"outlinewidth\":0,\"ticks\":\"\"}}}],\"scatter3d\":[{\"type\":\"scatter3d\",\"line\":{\"colorbar\":{\"outlinewidth\":0,\"ticks\":\"\"}},\"marker\":{\"colorbar\":{\"outlinewidth\":0,\"ticks\":\"\"}}}],\"scattermapbox\":[{\"type\":\"scattermapbox\",\"marker\":{\"colorbar\":{\"outlinewidth\":0,\"ticks\":\"\"}}}],\"scatterternary\":[{\"type\":\"scatterternary\",\"marker\":{\"colorbar\":{\"outlinewidth\":0,\"ticks\":\"\"}}}],\"scattercarpet\":[{\"type\":\"scattercarpet\",\"marker\":{\"colorbar\":{\"outlinewidth\":0,\"ticks\":\"\"}}}],\"carpet\":[{\"aaxis\":{\"endlinecolor\":\"#2a3f5f\",\"gridcolor\":\"white\",\"linecolor\":\"white\",\"minorgridcolor\":\"white\",\"startlinecolor\":\"#2a3f5f\"},\"baxis\":{\"endlinecolor\":\"#2a3f5f\",\"gridcolor\":\"white\",\"linecolor\":\"white\",\"minorgridcolor\":\"white\",\"startlinecolor\":\"#2a3f5f\"},\"type\":\"carpet\"}],\"table\":[{\"cells\":{\"fill\":{\"color\":\"#EBF0F8\"},\"line\":{\"color\":\"white\"}},\"header\":{\"fill\":{\"color\":\"#C8D4E3\"},\"line\":{\"color\":\"white\"}},\"type\":\"table\"}],\"barpolar\":[{\"marker\":{\"line\":{\"color\":\"#E5ECF6\",\"width\":0.5},\"pattern\":{\"fillmode\":\"overlay\",\"size\":10,\"solidity\":0.2}},\"type\":\"barpolar\"}],\"pie\":[{\"automargin\":true,\"type\":\"pie\"}]},\"layout\":{\"autotypenumbers\":\"strict\",\"colorway\":[\"#636efa\",\"#EF553B\",\"#00cc96\",\"#ab63fa\",\"#FFA15A\",\"#19d3f3\",\"#FF6692\",\"#B6E880\",\"#FF97FF\",\"#FECB52\"],\"font\":{\"color\":\"#2a3f5f\"},\"hovermode\":\"closest\",\"hoverlabel\":{\"align\":\"left\"},\"paper_bgcolor\":\"white\",\"plot_bgcolor\":\"#E5ECF6\",\"polar\":{\"bgcolor\":\"#E5ECF6\",\"angularaxis\":{\"gridcolor\":\"white\",\"linecolor\":\"white\",\"ticks\":\"\"},\"radialaxis\":{\"gridcolor\":\"white\",\"linecolor\":\"white\",\"ticks\":\"\"}},\"ternary\":{\"bgcolor\":\"#E5ECF6\",\"aaxis\":{\"gridcolor\":\"white\",\"linecolor\":\"white\",\"ticks\":\"\"},\"baxis\":{\"gridcolor\":\"white\",\"linecolor\":\"white\",\"ticks\":\"\"},\"caxis\":{\"gridcolor\":\"white\",\"linecolor\":\"white\",\"ticks\":\"\"}},\"coloraxis\":{\"colorbar\":{\"outlinewidth\":0,\"ticks\":\"\"}},\"colorscale\":{\"sequential\":[[0.0,\"#0d0887\"],[0.1111111111111111,\"#46039f\"],[0.2222222222222222,\"#7201a8\"],[0.3333333333333333,\"#9c179e\"],[0.4444444444444444,\"#bd3786\"],[0.5555555555555556,\"#d8576b\"],[0.6666666666666666,\"#ed7953\"],[0.7777777777777778,\"#fb9f3a\"],[0.8888888888888888,\"#fdca26\"],[1.0,\"#f0f921\"]],\"sequentialminus\":[[0.0,\"#0d0887\"],[0.1111111111111111,\"#46039f\"],[0.2222222222222222,\"#7201a8\"],[0.3333333333333333,\"#9c179e\"],[0.4444444444444444,\"#bd3786\"],[0.5555555555555556,\"#d8576b\"],[0.6666666666666666,\"#ed7953\"],[0.7777777777777778,\"#fb9f3a\"],[0.8888888888888888,\"#fdca26\"],[1.0,\"#f0f921\"]],\"diverging\":[[0,\"#8e0152\"],[0.1,\"#c51b7d\"],[0.2,\"#de77ae\"],[0.3,\"#f1b6da\"],[0.4,\"#fde0ef\"],[0.5,\"#f7f7f7\"],[0.6,\"#e6f5d0\"],[0.7,\"#b8e186\"],[0.8,\"#7fbc41\"],[0.9,\"#4d9221\"],[1,\"#276419\"]]},\"xaxis\":{\"gridcolor\":\"white\",\"linecolor\":\"white\",\"ticks\":\"\",\"title\":{\"standoff\":15},\"zerolinecolor\":\"white\",\"automargin\":true,\"zerolinewidth\":2},\"yaxis\":{\"gridcolor\":\"white\",\"linecolor\":\"white\",\"ticks\":\"\",\"title\":{\"standoff\":15},\"zerolinecolor\":\"white\",\"automargin\":true,\"zerolinewidth\":2},\"scene\":{\"xaxis\":{\"backgroundcolor\":\"#E5ECF6\",\"gridcolor\":\"white\",\"linecolor\":\"white\",\"showbackground\":true,\"ticks\":\"\",\"zerolinecolor\":\"white\",\"gridwidth\":2},\"yaxis\":{\"backgroundcolor\":\"#E5ECF6\",\"gridcolor\":\"white\",\"linecolor\":\"white\",\"showbackground\":true,\"ticks\":\"\",\"zerolinecolor\":\"white\",\"gridwidth\":2},\"zaxis\":{\"backgroundcolor\":\"#E5ECF6\",\"gridcolor\":\"white\",\"linecolor\":\"white\",\"showbackground\":true,\"ticks\":\"\",\"zerolinecolor\":\"white\",\"gridwidth\":2}},\"shapedefaults\":{\"line\":{\"color\":\"#2a3f5f\"}},\"annotationdefaults\":{\"arrowcolor\":\"#2a3f5f\",\"arrowhead\":0,\"arrowwidth\":1},\"geo\":{\"bgcolor\":\"white\",\"landcolor\":\"#E5ECF6\",\"subunitcolor\":\"white\",\"showland\":true,\"showlakes\":true,\"lakecolor\":\"white\"},\"title\":{\"x\":0.05},\"mapbox\":{\"style\":\"light\"}}},\"title\":{\"text\":\"Principal Component Analysis <br> Explained Variance\",\"x\":0.5,\"font\":{\"size\":25}},\"yaxis\":{\"tickfont\":{\"size\":16},\"title\":{\"text\":\"Explained Variance\",\"font\":{\"size\":25}},\"linecolor\":\"black\"},\"xaxis\":{\"tickfont\":{\"size\":16},\"title\":{\"text\":\"Principal Components\",\"font\":{\"size\":25}},\"linecolor\":\"black\"},\"legend\":{\"font\":{\"color\":\"black\"},\"bgcolor\":\"#DFBA8F\",\"bordercolor\":\"black\",\"borderwidth\":2},\"colorway\":[\"#00704A\",\"#00704A\"],\"showlegend\":false,\"plot_bgcolor\":\"#B8A085\",\"bargap\":0.2},                        {\"responsive\": true}                    ).then(function(){\n",
       "                            \n",
       "var gd = document.getElementById('8949cc05-cd49-4d5f-96a2-d97ec0b17bd0');\n",
       "var x = new MutationObserver(function (mutations, observer) {{\n",
       "        var display = window.getComputedStyle(gd).display;\n",
       "        if (!display || display === 'none') {{\n",
       "            console.log([gd, 'removed!']);\n",
       "            Plotly.purge(gd);\n",
       "            observer.disconnect();\n",
       "        }}\n",
       "}});\n",
       "\n",
       "// Listen for the removal of the full notebook cells\n",
       "var notebookContainer = gd.closest('#notebook-container');\n",
       "if (notebookContainer) {{\n",
       "    x.observe(notebookContainer, {childList: true});\n",
       "}}\n",
       "\n",
       "// Listen for the clearing of the current output cell\n",
       "var outputEl = gd.closest('.output');\n",
       "if (outputEl) {{\n",
       "    x.observe(outputEl, {childList: true});\n",
       "}}\n",
       "\n",
       "                        })                };                });            </script>        </div>"
      ]
     },
     "metadata": {},
     "output_type": "display_data"
    }
   ],
   "source": [
    "fig = go.Figure()\n",
    "fig.add_trace(go.Bar(x = list(range(25)), y = pca.explained_variance_ratio_))\n",
    "fig.add_trace(go.Scatter(x= list(range(25)), y=np.cumsum(pca.explained_variance_ratio_)))\n",
    "fig.update_layout(\n",
    "    colorway = [color1, color1],\n",
    "    showlegend= False,\n",
    "    title = 'Principal Component Analysis <br> Explained Variance',\n",
    "    xaxis_title = 'Principal Components',\n",
    "    yaxis_title = 'Explained Variance',\n",
    "    title_x=0.5,\n",
    "    plot_bgcolor = backgroundColor,\n",
    "    title_font = dict(size = 25),\n",
    "    bargap = 0.2,\n",
    "    yaxis = dict(\n",
    "        tickfont = dict(size=16),\n",
    "        titlefont = dict(size = 25),\n",
    "        linecolor = 'black'     \n",
    "    ),\n",
    "    xaxis = dict(\n",
    "        tickfont = dict(size=16),\n",
    "        titlefont = dict(size =25),\n",
    "        linecolor = 'black',\n",
    "        #showticklabels = False\n",
    "          \n",
    "    ),\n",
    "    legend=dict(\n",
    "        #yanchor='top',\n",
    "        #y = .98,\n",
    "        #xanchor='right',\n",
    "        #x = 0.98,\n",
    "        bgcolor = '#DFBA8F',\n",
    "        bordercolor = 'black',\n",
    "        borderwidth = 2,\n",
    "        font = dict(\n",
    "            color = 'black'\n",
    "        )\n",
    "        \n",
    "    )   \n",
    ")\n",
    "fig.update_traces(\n",
    "    marker_line_width=1,\n",
    "    marker_line_color=\"black\"\n",
    ")\n",
    "#newnames = {'Percent Anonymous Completed':'Anonymous', 'Percent of Known Completed':'Known'}\n",
    "#fig.for_each_trace(lambda t: t.update(name = newnames[t.name],\n",
    "#                                         legendgroup = newnames[t.name],\n",
    "#                                        hovertemplate = t.hovertemplate.replace(t.name, newnames[t.name])\n",
    "#                                        )\n",
    "#                  )"
   ]
  },
  {
   "cell_type": "markdown",
   "id": "4cf105ef",
   "metadata": {},
   "source": [
    "## 90% of variance can be explained by the first 11 components"
   ]
  },
  {
   "cell_type": "code",
   "execution_count": 61,
   "id": "aaa1379c",
   "metadata": {},
   "outputs": [],
   "source": [
    "pca.set_params(n_components = 11)\n",
    "pcaDF = pd.DataFrame(pca.fit_transform(scaledDF))"
   ]
  },
  {
   "cell_type": "markdown",
   "id": "f3180199",
   "metadata": {},
   "source": [
    "# Clustering"
   ]
  },
  {
   "cell_type": "code",
   "execution_count": 69,
   "id": "b32c1d24",
   "metadata": {},
   "outputs": [],
   "source": [
    "from sklearn.cluster import KMeans\n",
    "from PlottingFunctions import plot_inertia, plot_silhouette\n",
    "from sklearn.metrics import silhouette_score, silhouette_samples"
   ]
  },
  {
   "cell_type": "code",
   "execution_count": 66,
   "id": "81be7eba",
   "metadata": {},
   "outputs": [],
   "source": [
    "kmeans = KMeans()\n",
    "distortions = []\n",
    "for k in range(1,15):\n",
    "    kmeanModel = KMeans(n_clusters = k)\n",
    "    kmeanModel.fit(pcaDF)\n",
    "    distortions.append(kmeanModel.inertia_)"
   ]
  },
  {
   "cell_type": "code",
   "execution_count": 67,
   "id": "41bd35d8",
   "metadata": {},
   "outputs": [
    {
     "data": {
      "text/plain": [
       "[337035.5378238354,\n",
       " 262136.7289420032,\n",
       " 242195.31193214588,\n",
       " 225920.13488698588,\n",
       " 214152.85355983494,\n",
       " 204024.43683052494,\n",
       " 195933.81532991957,\n",
       " 189290.52172483326,\n",
       " 183296.5603622581,\n",
       " 178220.5200032758,\n",
       " 173898.4763411912,\n",
       " 170302.5462425968,\n",
       " 167253.60497675062,\n",
       " 164799.89055233268]"
      ]
     },
     "execution_count": 67,
     "metadata": {},
     "output_type": "execute_result"
    }
   ],
   "source": [
    "distortions"
   ]
  },
  {
   "cell_type": "code",
   "execution_count": 83,
   "id": "7d09945b",
   "metadata": {},
   "outputs": [
    {
     "data": {
      "text/plain": [
       "[0.1924348738858318,\n",
       " 0.13018680561835458,\n",
       " 0.11783195590299685,\n",
       " 0.11700631302313469,\n",
       " 0.11634007327980221,\n",
       " 0.10921469380997997,\n",
       " 0.1079052687445897,\n",
       " 0.10612453255085759,\n",
       " 0.10517880727841374,\n",
       " 0.10448923442817783,\n",
       " 0.1024054817310237,\n",
       " 0.10111423256623354,\n",
       " 0.1008660301914601]"
      ]
     },
     "execution_count": 83,
     "metadata": {},
     "output_type": "execute_result"
    }
   ],
   "source": [
    "silhos = []\n",
    "for k in range(2,15):\n",
    "    kmeanModel = KMeans(n_clusters = k)\n",
    "    kmeanModel.fit(pcaDF)\n",
    "    silhos.append(silhouette_score(pcaDF, kmeanModel.labels_, metric = 'euclidean'))\n",
    "silhos"
   ]
  },
  {
   "cell_type": "code",
   "execution_count": 106,
   "id": "8c22159a",
   "metadata": {},
   "outputs": [
    {
     "data": {
      "application/vnd.plotly.v1+json": {
       "config": {
        "plotlyServerURL": "https://plot.ly"
       },
       "data": [
        {
         "marker": {
          "line": {
           "color": "black",
           "width": 1
          }
         },
         "name": "Distortion",
         "type": "scatter",
         "x": [
          1,
          2,
          3,
          4,
          5,
          6,
          7,
          8,
          9,
          10,
          11,
          12,
          13,
          14
         ],
         "xaxis": "x",
         "y": [
          337035.5378238354,
          262136.7289420032,
          242195.31193214588,
          225920.13488698588,
          214152.85355983494,
          204024.43683052494,
          195933.81532991957,
          189290.52172483326,
          183296.5603622581,
          178220.5200032758,
          173898.4763411912,
          170302.5462425968,
          167253.60497675062,
          164799.89055233268
         ],
         "yaxis": "y"
        },
        {
         "marker": {
          "line": {
           "color": "black",
           "width": 1
          }
         },
         "name": "Silhouette Score",
         "type": "scatter",
         "x": [
          2,
          3,
          4,
          5,
          6,
          7,
          8,
          9,
          10,
          11,
          12,
          13,
          14
         ],
         "xaxis": "x",
         "y": [
          0.1924348738858318,
          0.13018680561835458,
          0.11783195590299685,
          0.11700631302313469,
          0.11634007327980221,
          0.10921469380997997,
          0.1079052687445897,
          0.10612453255085759,
          0.10517880727841374,
          0.10448923442817783,
          0.1024054817310237,
          0.10111423256623354,
          0.1008660301914601
         ],
         "yaxis": "y2"
        },
        {
         "line": {
          "dash": "dash"
         },
         "marker": {
          "line": {
           "color": "black",
           "width": 1
          }
         },
         "name": "Clusters = 4",
         "type": "scatter",
         "x": [
          4,
          4
         ],
         "xaxis": "x",
         "y": [
          0,
          338000
         ],
         "yaxis": "y"
        }
       ],
       "layout": {
        "bargap": 0.2,
        "colorway": [
         "#00704A",
         "#45062E",
         "black"
        ],
        "legend": {
         "bgcolor": "#DFBA8F",
         "bordercolor": "black",
         "borderwidth": 2,
         "font": {
          "color": "black"
         },
         "x": 0.9,
         "xanchor": "right",
         "y": 0.98,
         "yanchor": "top"
        },
        "plot_bgcolor": "#B8A085",
        "template": {
         "data": {
          "bar": [
           {
            "error_x": {
             "color": "#2a3f5f"
            },
            "error_y": {
             "color": "#2a3f5f"
            },
            "marker": {
             "line": {
              "color": "#E5ECF6",
              "width": 0.5
             },
             "pattern": {
              "fillmode": "overlay",
              "size": 10,
              "solidity": 0.2
             }
            },
            "type": "bar"
           }
          ],
          "barpolar": [
           {
            "marker": {
             "line": {
              "color": "#E5ECF6",
              "width": 0.5
             },
             "pattern": {
              "fillmode": "overlay",
              "size": 10,
              "solidity": 0.2
             }
            },
            "type": "barpolar"
           }
          ],
          "carpet": [
           {
            "aaxis": {
             "endlinecolor": "#2a3f5f",
             "gridcolor": "white",
             "linecolor": "white",
             "minorgridcolor": "white",
             "startlinecolor": "#2a3f5f"
            },
            "baxis": {
             "endlinecolor": "#2a3f5f",
             "gridcolor": "white",
             "linecolor": "white",
             "minorgridcolor": "white",
             "startlinecolor": "#2a3f5f"
            },
            "type": "carpet"
           }
          ],
          "choropleth": [
           {
            "colorbar": {
             "outlinewidth": 0,
             "ticks": ""
            },
            "type": "choropleth"
           }
          ],
          "contour": [
           {
            "colorbar": {
             "outlinewidth": 0,
             "ticks": ""
            },
            "colorscale": [
             [
              0,
              "#0d0887"
             ],
             [
              0.1111111111111111,
              "#46039f"
             ],
             [
              0.2222222222222222,
              "#7201a8"
             ],
             [
              0.3333333333333333,
              "#9c179e"
             ],
             [
              0.4444444444444444,
              "#bd3786"
             ],
             [
              0.5555555555555556,
              "#d8576b"
             ],
             [
              0.6666666666666666,
              "#ed7953"
             ],
             [
              0.7777777777777778,
              "#fb9f3a"
             ],
             [
              0.8888888888888888,
              "#fdca26"
             ],
             [
              1,
              "#f0f921"
             ]
            ],
            "type": "contour"
           }
          ],
          "contourcarpet": [
           {
            "colorbar": {
             "outlinewidth": 0,
             "ticks": ""
            },
            "type": "contourcarpet"
           }
          ],
          "heatmap": [
           {
            "colorbar": {
             "outlinewidth": 0,
             "ticks": ""
            },
            "colorscale": [
             [
              0,
              "#0d0887"
             ],
             [
              0.1111111111111111,
              "#46039f"
             ],
             [
              0.2222222222222222,
              "#7201a8"
             ],
             [
              0.3333333333333333,
              "#9c179e"
             ],
             [
              0.4444444444444444,
              "#bd3786"
             ],
             [
              0.5555555555555556,
              "#d8576b"
             ],
             [
              0.6666666666666666,
              "#ed7953"
             ],
             [
              0.7777777777777778,
              "#fb9f3a"
             ],
             [
              0.8888888888888888,
              "#fdca26"
             ],
             [
              1,
              "#f0f921"
             ]
            ],
            "type": "heatmap"
           }
          ],
          "heatmapgl": [
           {
            "colorbar": {
             "outlinewidth": 0,
             "ticks": ""
            },
            "colorscale": [
             [
              0,
              "#0d0887"
             ],
             [
              0.1111111111111111,
              "#46039f"
             ],
             [
              0.2222222222222222,
              "#7201a8"
             ],
             [
              0.3333333333333333,
              "#9c179e"
             ],
             [
              0.4444444444444444,
              "#bd3786"
             ],
             [
              0.5555555555555556,
              "#d8576b"
             ],
             [
              0.6666666666666666,
              "#ed7953"
             ],
             [
              0.7777777777777778,
              "#fb9f3a"
             ],
             [
              0.8888888888888888,
              "#fdca26"
             ],
             [
              1,
              "#f0f921"
             ]
            ],
            "type": "heatmapgl"
           }
          ],
          "histogram": [
           {
            "marker": {
             "pattern": {
              "fillmode": "overlay",
              "size": 10,
              "solidity": 0.2
             }
            },
            "type": "histogram"
           }
          ],
          "histogram2d": [
           {
            "colorbar": {
             "outlinewidth": 0,
             "ticks": ""
            },
            "colorscale": [
             [
              0,
              "#0d0887"
             ],
             [
              0.1111111111111111,
              "#46039f"
             ],
             [
              0.2222222222222222,
              "#7201a8"
             ],
             [
              0.3333333333333333,
              "#9c179e"
             ],
             [
              0.4444444444444444,
              "#bd3786"
             ],
             [
              0.5555555555555556,
              "#d8576b"
             ],
             [
              0.6666666666666666,
              "#ed7953"
             ],
             [
              0.7777777777777778,
              "#fb9f3a"
             ],
             [
              0.8888888888888888,
              "#fdca26"
             ],
             [
              1,
              "#f0f921"
             ]
            ],
            "type": "histogram2d"
           }
          ],
          "histogram2dcontour": [
           {
            "colorbar": {
             "outlinewidth": 0,
             "ticks": ""
            },
            "colorscale": [
             [
              0,
              "#0d0887"
             ],
             [
              0.1111111111111111,
              "#46039f"
             ],
             [
              0.2222222222222222,
              "#7201a8"
             ],
             [
              0.3333333333333333,
              "#9c179e"
             ],
             [
              0.4444444444444444,
              "#bd3786"
             ],
             [
              0.5555555555555556,
              "#d8576b"
             ],
             [
              0.6666666666666666,
              "#ed7953"
             ],
             [
              0.7777777777777778,
              "#fb9f3a"
             ],
             [
              0.8888888888888888,
              "#fdca26"
             ],
             [
              1,
              "#f0f921"
             ]
            ],
            "type": "histogram2dcontour"
           }
          ],
          "mesh3d": [
           {
            "colorbar": {
             "outlinewidth": 0,
             "ticks": ""
            },
            "type": "mesh3d"
           }
          ],
          "parcoords": [
           {
            "line": {
             "colorbar": {
              "outlinewidth": 0,
              "ticks": ""
             }
            },
            "type": "parcoords"
           }
          ],
          "pie": [
           {
            "automargin": true,
            "type": "pie"
           }
          ],
          "scatter": [
           {
            "fillpattern": {
             "fillmode": "overlay",
             "size": 10,
             "solidity": 0.2
            },
            "type": "scatter"
           }
          ],
          "scatter3d": [
           {
            "line": {
             "colorbar": {
              "outlinewidth": 0,
              "ticks": ""
             }
            },
            "marker": {
             "colorbar": {
              "outlinewidth": 0,
              "ticks": ""
             }
            },
            "type": "scatter3d"
           }
          ],
          "scattercarpet": [
           {
            "marker": {
             "colorbar": {
              "outlinewidth": 0,
              "ticks": ""
             }
            },
            "type": "scattercarpet"
           }
          ],
          "scattergeo": [
           {
            "marker": {
             "colorbar": {
              "outlinewidth": 0,
              "ticks": ""
             }
            },
            "type": "scattergeo"
           }
          ],
          "scattergl": [
           {
            "marker": {
             "colorbar": {
              "outlinewidth": 0,
              "ticks": ""
             }
            },
            "type": "scattergl"
           }
          ],
          "scattermapbox": [
           {
            "marker": {
             "colorbar": {
              "outlinewidth": 0,
              "ticks": ""
             }
            },
            "type": "scattermapbox"
           }
          ],
          "scatterpolar": [
           {
            "marker": {
             "colorbar": {
              "outlinewidth": 0,
              "ticks": ""
             }
            },
            "type": "scatterpolar"
           }
          ],
          "scatterpolargl": [
           {
            "marker": {
             "colorbar": {
              "outlinewidth": 0,
              "ticks": ""
             }
            },
            "type": "scatterpolargl"
           }
          ],
          "scatterternary": [
           {
            "marker": {
             "colorbar": {
              "outlinewidth": 0,
              "ticks": ""
             }
            },
            "type": "scatterternary"
           }
          ],
          "surface": [
           {
            "colorbar": {
             "outlinewidth": 0,
             "ticks": ""
            },
            "colorscale": [
             [
              0,
              "#0d0887"
             ],
             [
              0.1111111111111111,
              "#46039f"
             ],
             [
              0.2222222222222222,
              "#7201a8"
             ],
             [
              0.3333333333333333,
              "#9c179e"
             ],
             [
              0.4444444444444444,
              "#bd3786"
             ],
             [
              0.5555555555555556,
              "#d8576b"
             ],
             [
              0.6666666666666666,
              "#ed7953"
             ],
             [
              0.7777777777777778,
              "#fb9f3a"
             ],
             [
              0.8888888888888888,
              "#fdca26"
             ],
             [
              1,
              "#f0f921"
             ]
            ],
            "type": "surface"
           }
          ],
          "table": [
           {
            "cells": {
             "fill": {
              "color": "#EBF0F8"
             },
             "line": {
              "color": "white"
             }
            },
            "header": {
             "fill": {
              "color": "#C8D4E3"
             },
             "line": {
              "color": "white"
             }
            },
            "type": "table"
           }
          ]
         },
         "layout": {
          "annotationdefaults": {
           "arrowcolor": "#2a3f5f",
           "arrowhead": 0,
           "arrowwidth": 1
          },
          "autotypenumbers": "strict",
          "coloraxis": {
           "colorbar": {
            "outlinewidth": 0,
            "ticks": ""
           }
          },
          "colorscale": {
           "diverging": [
            [
             0,
             "#8e0152"
            ],
            [
             0.1,
             "#c51b7d"
            ],
            [
             0.2,
             "#de77ae"
            ],
            [
             0.3,
             "#f1b6da"
            ],
            [
             0.4,
             "#fde0ef"
            ],
            [
             0.5,
             "#f7f7f7"
            ],
            [
             0.6,
             "#e6f5d0"
            ],
            [
             0.7,
             "#b8e186"
            ],
            [
             0.8,
             "#7fbc41"
            ],
            [
             0.9,
             "#4d9221"
            ],
            [
             1,
             "#276419"
            ]
           ],
           "sequential": [
            [
             0,
             "#0d0887"
            ],
            [
             0.1111111111111111,
             "#46039f"
            ],
            [
             0.2222222222222222,
             "#7201a8"
            ],
            [
             0.3333333333333333,
             "#9c179e"
            ],
            [
             0.4444444444444444,
             "#bd3786"
            ],
            [
             0.5555555555555556,
             "#d8576b"
            ],
            [
             0.6666666666666666,
             "#ed7953"
            ],
            [
             0.7777777777777778,
             "#fb9f3a"
            ],
            [
             0.8888888888888888,
             "#fdca26"
            ],
            [
             1,
             "#f0f921"
            ]
           ],
           "sequentialminus": [
            [
             0,
             "#0d0887"
            ],
            [
             0.1111111111111111,
             "#46039f"
            ],
            [
             0.2222222222222222,
             "#7201a8"
            ],
            [
             0.3333333333333333,
             "#9c179e"
            ],
            [
             0.4444444444444444,
             "#bd3786"
            ],
            [
             0.5555555555555556,
             "#d8576b"
            ],
            [
             0.6666666666666666,
             "#ed7953"
            ],
            [
             0.7777777777777778,
             "#fb9f3a"
            ],
            [
             0.8888888888888888,
             "#fdca26"
            ],
            [
             1,
             "#f0f921"
            ]
           ]
          },
          "colorway": [
           "#636efa",
           "#EF553B",
           "#00cc96",
           "#ab63fa",
           "#FFA15A",
           "#19d3f3",
           "#FF6692",
           "#B6E880",
           "#FF97FF",
           "#FECB52"
          ],
          "font": {
           "color": "#2a3f5f"
          },
          "geo": {
           "bgcolor": "white",
           "lakecolor": "white",
           "landcolor": "#E5ECF6",
           "showlakes": true,
           "showland": true,
           "subunitcolor": "white"
          },
          "hoverlabel": {
           "align": "left"
          },
          "hovermode": "closest",
          "mapbox": {
           "style": "light"
          },
          "paper_bgcolor": "white",
          "plot_bgcolor": "#E5ECF6",
          "polar": {
           "angularaxis": {
            "gridcolor": "white",
            "linecolor": "white",
            "ticks": ""
           },
           "bgcolor": "#E5ECF6",
           "radialaxis": {
            "gridcolor": "white",
            "linecolor": "white",
            "ticks": ""
           }
          },
          "scene": {
           "xaxis": {
            "backgroundcolor": "#E5ECF6",
            "gridcolor": "white",
            "gridwidth": 2,
            "linecolor": "white",
            "showbackground": true,
            "ticks": "",
            "zerolinecolor": "white"
           },
           "yaxis": {
            "backgroundcolor": "#E5ECF6",
            "gridcolor": "white",
            "gridwidth": 2,
            "linecolor": "white",
            "showbackground": true,
            "ticks": "",
            "zerolinecolor": "white"
           },
           "zaxis": {
            "backgroundcolor": "#E5ECF6",
            "gridcolor": "white",
            "gridwidth": 2,
            "linecolor": "white",
            "showbackground": true,
            "ticks": "",
            "zerolinecolor": "white"
           }
          },
          "shapedefaults": {
           "line": {
            "color": "#2a3f5f"
           }
          },
          "ternary": {
           "aaxis": {
            "gridcolor": "white",
            "linecolor": "white",
            "ticks": ""
           },
           "baxis": {
            "gridcolor": "white",
            "linecolor": "white",
            "ticks": ""
           },
           "bgcolor": "#E5ECF6",
           "caxis": {
            "gridcolor": "white",
            "linecolor": "white",
            "ticks": ""
           }
          },
          "title": {
           "x": 0.05
          },
          "xaxis": {
           "automargin": true,
           "gridcolor": "white",
           "linecolor": "white",
           "ticks": "",
           "title": {
            "standoff": 15
           },
           "zerolinecolor": "white",
           "zerolinewidth": 2
          },
          "yaxis": {
           "automargin": true,
           "gridcolor": "white",
           "linecolor": "white",
           "ticks": "",
           "title": {
            "standoff": 15
           },
           "zerolinecolor": "white",
           "zerolinewidth": 2
          }
         }
        },
        "title": {
         "font": {
          "size": 25
         },
         "text": "Inertia and Silhouette Scores K-Means Fit <br> on Transformed PCA Data",
         "x": 0.5
        },
        "xaxis": {
         "anchor": "y",
         "domain": [
          0,
          0.94
         ],
         "linecolor": "black",
         "tickfont": {
          "size": 16
         },
         "title": {
          "font": {
           "size": 25
          },
          "text": "Number of Clusters"
         }
        },
        "yaxis": {
         "anchor": "x",
         "domain": [
          0,
          1
         ],
         "linecolor": "black",
         "nticks": 10,
         "showgrid": false,
         "tickfont": {
          "size": 12
         },
         "title": {
          "font": {
           "size": 25
          },
          "text": "Distortion"
         }
        },
        "yaxis2": {
         "anchor": "x",
         "nticks": 12,
         "overlaying": "y",
         "showgrid": false,
         "side": "right",
         "title": {
          "font": {
           "size": 20
          },
          "text": "Silhouette Score"
         }
        }
       }
      },
      "text/html": [
       "<div>                            <div id=\"f17af393-da0f-48fa-8417-de0864c35177\" class=\"plotly-graph-div\" style=\"height:525px; width:100%;\"></div>            <script type=\"text/javascript\">                require([\"plotly\"], function(Plotly) {                    window.PLOTLYENV=window.PLOTLYENV || {};                                    if (document.getElementById(\"f17af393-da0f-48fa-8417-de0864c35177\")) {                    Plotly.newPlot(                        \"f17af393-da0f-48fa-8417-de0864c35177\",                        [{\"name\":\"Distortion\",\"x\":[1,2,3,4,5,6,7,8,9,10,11,12,13,14],\"y\":[337035.5378238354,262136.7289420032,242195.31193214588,225920.13488698588,214152.85355983494,204024.43683052494,195933.81532991957,189290.52172483326,183296.5603622581,178220.5200032758,173898.4763411912,170302.5462425968,167253.60497675062,164799.89055233268],\"type\":\"scatter\",\"xaxis\":\"x\",\"yaxis\":\"y\",\"marker\":{\"line\":{\"color\":\"black\",\"width\":1}}},{\"name\":\"Silhouette Score\",\"x\":[2,3,4,5,6,7,8,9,10,11,12,13,14],\"y\":[0.1924348738858318,0.13018680561835458,0.11783195590299685,0.11700631302313469,0.11634007327980221,0.10921469380997997,0.1079052687445897,0.10612453255085759,0.10517880727841374,0.10448923442817783,0.1024054817310237,0.10111423256623354,0.1008660301914601],\"type\":\"scatter\",\"xaxis\":\"x\",\"yaxis\":\"y2\",\"marker\":{\"line\":{\"color\":\"black\",\"width\":1}}},{\"line\":{\"dash\":\"dash\"},\"name\":\"Clusters = 4\",\"x\":[4,4],\"y\":[0,338000],\"type\":\"scatter\",\"xaxis\":\"x\",\"yaxis\":\"y\",\"marker\":{\"line\":{\"color\":\"black\",\"width\":1}}}],                        {\"template\":{\"data\":{\"histogram2dcontour\":[{\"type\":\"histogram2dcontour\",\"colorbar\":{\"outlinewidth\":0,\"ticks\":\"\"},\"colorscale\":[[0.0,\"#0d0887\"],[0.1111111111111111,\"#46039f\"],[0.2222222222222222,\"#7201a8\"],[0.3333333333333333,\"#9c179e\"],[0.4444444444444444,\"#bd3786\"],[0.5555555555555556,\"#d8576b\"],[0.6666666666666666,\"#ed7953\"],[0.7777777777777778,\"#fb9f3a\"],[0.8888888888888888,\"#fdca26\"],[1.0,\"#f0f921\"]]}],\"choropleth\":[{\"type\":\"choropleth\",\"colorbar\":{\"outlinewidth\":0,\"ticks\":\"\"}}],\"histogram2d\":[{\"type\":\"histogram2d\",\"colorbar\":{\"outlinewidth\":0,\"ticks\":\"\"},\"colorscale\":[[0.0,\"#0d0887\"],[0.1111111111111111,\"#46039f\"],[0.2222222222222222,\"#7201a8\"],[0.3333333333333333,\"#9c179e\"],[0.4444444444444444,\"#bd3786\"],[0.5555555555555556,\"#d8576b\"],[0.6666666666666666,\"#ed7953\"],[0.7777777777777778,\"#fb9f3a\"],[0.8888888888888888,\"#fdca26\"],[1.0,\"#f0f921\"]]}],\"heatmap\":[{\"type\":\"heatmap\",\"colorbar\":{\"outlinewidth\":0,\"ticks\":\"\"},\"colorscale\":[[0.0,\"#0d0887\"],[0.1111111111111111,\"#46039f\"],[0.2222222222222222,\"#7201a8\"],[0.3333333333333333,\"#9c179e\"],[0.4444444444444444,\"#bd3786\"],[0.5555555555555556,\"#d8576b\"],[0.6666666666666666,\"#ed7953\"],[0.7777777777777778,\"#fb9f3a\"],[0.8888888888888888,\"#fdca26\"],[1.0,\"#f0f921\"]]}],\"heatmapgl\":[{\"type\":\"heatmapgl\",\"colorbar\":{\"outlinewidth\":0,\"ticks\":\"\"},\"colorscale\":[[0.0,\"#0d0887\"],[0.1111111111111111,\"#46039f\"],[0.2222222222222222,\"#7201a8\"],[0.3333333333333333,\"#9c179e\"],[0.4444444444444444,\"#bd3786\"],[0.5555555555555556,\"#d8576b\"],[0.6666666666666666,\"#ed7953\"],[0.7777777777777778,\"#fb9f3a\"],[0.8888888888888888,\"#fdca26\"],[1.0,\"#f0f921\"]]}],\"contourcarpet\":[{\"type\":\"contourcarpet\",\"colorbar\":{\"outlinewidth\":0,\"ticks\":\"\"}}],\"contour\":[{\"type\":\"contour\",\"colorbar\":{\"outlinewidth\":0,\"ticks\":\"\"},\"colorscale\":[[0.0,\"#0d0887\"],[0.1111111111111111,\"#46039f\"],[0.2222222222222222,\"#7201a8\"],[0.3333333333333333,\"#9c179e\"],[0.4444444444444444,\"#bd3786\"],[0.5555555555555556,\"#d8576b\"],[0.6666666666666666,\"#ed7953\"],[0.7777777777777778,\"#fb9f3a\"],[0.8888888888888888,\"#fdca26\"],[1.0,\"#f0f921\"]]}],\"surface\":[{\"type\":\"surface\",\"colorbar\":{\"outlinewidth\":0,\"ticks\":\"\"},\"colorscale\":[[0.0,\"#0d0887\"],[0.1111111111111111,\"#46039f\"],[0.2222222222222222,\"#7201a8\"],[0.3333333333333333,\"#9c179e\"],[0.4444444444444444,\"#bd3786\"],[0.5555555555555556,\"#d8576b\"],[0.6666666666666666,\"#ed7953\"],[0.7777777777777778,\"#fb9f3a\"],[0.8888888888888888,\"#fdca26\"],[1.0,\"#f0f921\"]]}],\"mesh3d\":[{\"type\":\"mesh3d\",\"colorbar\":{\"outlinewidth\":0,\"ticks\":\"\"}}],\"scatter\":[{\"fillpattern\":{\"fillmode\":\"overlay\",\"size\":10,\"solidity\":0.2},\"type\":\"scatter\"}],\"parcoords\":[{\"type\":\"parcoords\",\"line\":{\"colorbar\":{\"outlinewidth\":0,\"ticks\":\"\"}}}],\"scatterpolargl\":[{\"type\":\"scatterpolargl\",\"marker\":{\"colorbar\":{\"outlinewidth\":0,\"ticks\":\"\"}}}],\"bar\":[{\"error_x\":{\"color\":\"#2a3f5f\"},\"error_y\":{\"color\":\"#2a3f5f\"},\"marker\":{\"line\":{\"color\":\"#E5ECF6\",\"width\":0.5},\"pattern\":{\"fillmode\":\"overlay\",\"size\":10,\"solidity\":0.2}},\"type\":\"bar\"}],\"scattergeo\":[{\"type\":\"scattergeo\",\"marker\":{\"colorbar\":{\"outlinewidth\":0,\"ticks\":\"\"}}}],\"scatterpolar\":[{\"type\":\"scatterpolar\",\"marker\":{\"colorbar\":{\"outlinewidth\":0,\"ticks\":\"\"}}}],\"histogram\":[{\"marker\":{\"pattern\":{\"fillmode\":\"overlay\",\"size\":10,\"solidity\":0.2}},\"type\":\"histogram\"}],\"scattergl\":[{\"type\":\"scattergl\",\"marker\":{\"colorbar\":{\"outlinewidth\":0,\"ticks\":\"\"}}}],\"scatter3d\":[{\"type\":\"scatter3d\",\"line\":{\"colorbar\":{\"outlinewidth\":0,\"ticks\":\"\"}},\"marker\":{\"colorbar\":{\"outlinewidth\":0,\"ticks\":\"\"}}}],\"scattermapbox\":[{\"type\":\"scattermapbox\",\"marker\":{\"colorbar\":{\"outlinewidth\":0,\"ticks\":\"\"}}}],\"scatterternary\":[{\"type\":\"scatterternary\",\"marker\":{\"colorbar\":{\"outlinewidth\":0,\"ticks\":\"\"}}}],\"scattercarpet\":[{\"type\":\"scattercarpet\",\"marker\":{\"colorbar\":{\"outlinewidth\":0,\"ticks\":\"\"}}}],\"carpet\":[{\"aaxis\":{\"endlinecolor\":\"#2a3f5f\",\"gridcolor\":\"white\",\"linecolor\":\"white\",\"minorgridcolor\":\"white\",\"startlinecolor\":\"#2a3f5f\"},\"baxis\":{\"endlinecolor\":\"#2a3f5f\",\"gridcolor\":\"white\",\"linecolor\":\"white\",\"minorgridcolor\":\"white\",\"startlinecolor\":\"#2a3f5f\"},\"type\":\"carpet\"}],\"table\":[{\"cells\":{\"fill\":{\"color\":\"#EBF0F8\"},\"line\":{\"color\":\"white\"}},\"header\":{\"fill\":{\"color\":\"#C8D4E3\"},\"line\":{\"color\":\"white\"}},\"type\":\"table\"}],\"barpolar\":[{\"marker\":{\"line\":{\"color\":\"#E5ECF6\",\"width\":0.5},\"pattern\":{\"fillmode\":\"overlay\",\"size\":10,\"solidity\":0.2}},\"type\":\"barpolar\"}],\"pie\":[{\"automargin\":true,\"type\":\"pie\"}]},\"layout\":{\"autotypenumbers\":\"strict\",\"colorway\":[\"#636efa\",\"#EF553B\",\"#00cc96\",\"#ab63fa\",\"#FFA15A\",\"#19d3f3\",\"#FF6692\",\"#B6E880\",\"#FF97FF\",\"#FECB52\"],\"font\":{\"color\":\"#2a3f5f\"},\"hovermode\":\"closest\",\"hoverlabel\":{\"align\":\"left\"},\"paper_bgcolor\":\"white\",\"plot_bgcolor\":\"#E5ECF6\",\"polar\":{\"bgcolor\":\"#E5ECF6\",\"angularaxis\":{\"gridcolor\":\"white\",\"linecolor\":\"white\",\"ticks\":\"\"},\"radialaxis\":{\"gridcolor\":\"white\",\"linecolor\":\"white\",\"ticks\":\"\"}},\"ternary\":{\"bgcolor\":\"#E5ECF6\",\"aaxis\":{\"gridcolor\":\"white\",\"linecolor\":\"white\",\"ticks\":\"\"},\"baxis\":{\"gridcolor\":\"white\",\"linecolor\":\"white\",\"ticks\":\"\"},\"caxis\":{\"gridcolor\":\"white\",\"linecolor\":\"white\",\"ticks\":\"\"}},\"coloraxis\":{\"colorbar\":{\"outlinewidth\":0,\"ticks\":\"\"}},\"colorscale\":{\"sequential\":[[0.0,\"#0d0887\"],[0.1111111111111111,\"#46039f\"],[0.2222222222222222,\"#7201a8\"],[0.3333333333333333,\"#9c179e\"],[0.4444444444444444,\"#bd3786\"],[0.5555555555555556,\"#d8576b\"],[0.6666666666666666,\"#ed7953\"],[0.7777777777777778,\"#fb9f3a\"],[0.8888888888888888,\"#fdca26\"],[1.0,\"#f0f921\"]],\"sequentialminus\":[[0.0,\"#0d0887\"],[0.1111111111111111,\"#46039f\"],[0.2222222222222222,\"#7201a8\"],[0.3333333333333333,\"#9c179e\"],[0.4444444444444444,\"#bd3786\"],[0.5555555555555556,\"#d8576b\"],[0.6666666666666666,\"#ed7953\"],[0.7777777777777778,\"#fb9f3a\"],[0.8888888888888888,\"#fdca26\"],[1.0,\"#f0f921\"]],\"diverging\":[[0,\"#8e0152\"],[0.1,\"#c51b7d\"],[0.2,\"#de77ae\"],[0.3,\"#f1b6da\"],[0.4,\"#fde0ef\"],[0.5,\"#f7f7f7\"],[0.6,\"#e6f5d0\"],[0.7,\"#b8e186\"],[0.8,\"#7fbc41\"],[0.9,\"#4d9221\"],[1,\"#276419\"]]},\"xaxis\":{\"gridcolor\":\"white\",\"linecolor\":\"white\",\"ticks\":\"\",\"title\":{\"standoff\":15},\"zerolinecolor\":\"white\",\"automargin\":true,\"zerolinewidth\":2},\"yaxis\":{\"gridcolor\":\"white\",\"linecolor\":\"white\",\"ticks\":\"\",\"title\":{\"standoff\":15},\"zerolinecolor\":\"white\",\"automargin\":true,\"zerolinewidth\":2},\"scene\":{\"xaxis\":{\"backgroundcolor\":\"#E5ECF6\",\"gridcolor\":\"white\",\"linecolor\":\"white\",\"showbackground\":true,\"ticks\":\"\",\"zerolinecolor\":\"white\",\"gridwidth\":2},\"yaxis\":{\"backgroundcolor\":\"#E5ECF6\",\"gridcolor\":\"white\",\"linecolor\":\"white\",\"showbackground\":true,\"ticks\":\"\",\"zerolinecolor\":\"white\",\"gridwidth\":2},\"zaxis\":{\"backgroundcolor\":\"#E5ECF6\",\"gridcolor\":\"white\",\"linecolor\":\"white\",\"showbackground\":true,\"ticks\":\"\",\"zerolinecolor\":\"white\",\"gridwidth\":2}},\"shapedefaults\":{\"line\":{\"color\":\"#2a3f5f\"}},\"annotationdefaults\":{\"arrowcolor\":\"#2a3f5f\",\"arrowhead\":0,\"arrowwidth\":1},\"geo\":{\"bgcolor\":\"white\",\"landcolor\":\"#E5ECF6\",\"subunitcolor\":\"white\",\"showland\":true,\"showlakes\":true,\"lakecolor\":\"white\"},\"title\":{\"x\":0.05},\"mapbox\":{\"style\":\"light\"}}},\"xaxis\":{\"anchor\":\"y\",\"domain\":[0.0,0.94],\"tickfont\":{\"size\":16},\"title\":{\"text\":\"Number of Clusters\",\"font\":{\"size\":25}},\"linecolor\":\"black\"},\"yaxis\":{\"anchor\":\"x\",\"domain\":[0.0,1.0],\"tickfont\":{\"size\":12},\"title\":{\"font\":{\"size\":25},\"text\":\"Distortion\"},\"linecolor\":\"black\",\"nticks\":10,\"showgrid\":false},\"yaxis2\":{\"anchor\":\"x\",\"overlaying\":\"y\",\"side\":\"right\",\"title\":{\"font\":{\"size\":20},\"text\":\"Silhouette Score\"},\"nticks\":12,\"showgrid\":false},\"title\":{\"text\":\"Inertia and Silhouette Scores K-Means Fit <br> on Transformed PCA Data\",\"x\":0.5,\"font\":{\"size\":25}},\"legend\":{\"font\":{\"color\":\"black\"},\"yanchor\":\"top\",\"y\":0.98,\"xanchor\":\"right\",\"x\":0.9,\"bgcolor\":\"#DFBA8F\",\"bordercolor\":\"black\",\"borderwidth\":2},\"colorway\":[\"#00704A\",\"#45062E\",\"black\"],\"plot_bgcolor\":\"#B8A085\",\"bargap\":0.2},                        {\"responsive\": true}                    ).then(function(){\n",
       "                            \n",
       "var gd = document.getElementById('f17af393-da0f-48fa-8417-de0864c35177');\n",
       "var x = new MutationObserver(function (mutations, observer) {{\n",
       "        var display = window.getComputedStyle(gd).display;\n",
       "        if (!display || display === 'none') {{\n",
       "            console.log([gd, 'removed!']);\n",
       "            Plotly.purge(gd);\n",
       "            observer.disconnect();\n",
       "        }}\n",
       "}});\n",
       "\n",
       "// Listen for the removal of the full notebook cells\n",
       "var notebookContainer = gd.closest('#notebook-container');\n",
       "if (notebookContainer) {{\n",
       "    x.observe(notebookContainer, {childList: true});\n",
       "}}\n",
       "\n",
       "// Listen for the clearing of the current output cell\n",
       "var outputEl = gd.closest('.output');\n",
       "if (outputEl) {{\n",
       "    x.observe(outputEl, {childList: true});\n",
       "}}\n",
       "\n",
       "                        })                };                });            </script>        </div>"
      ]
     },
     "metadata": {},
     "output_type": "display_data"
    }
   ],
   "source": [
    "fig = make_subplots(specs=[[{\"secondary_y\": True}]])\n",
    "fig.add_trace(\n",
    "    go.Scatter(x = list(range(1,15)), y = distortions, name = 'Distortion'), secondary_y = False\n",
    ")\n",
    "fig.add_trace(\n",
    "    go.Scatter(x = list(range(2,15)), y = silhos, name = 'Silhouette Score'), secondary_y = True\n",
    ")\n",
    "fig.add_trace(\n",
    "    go.Scatter(x = [4,4],y = [0,338000], name = 'Clusters = 4',line = dict(dash = 'dash')), secondary_y = False\n",
    ")\n",
    "fig.update_layout(\n",
    "    colorway = [color1, color3, 'black'],\n",
    "    title = 'Inertia and Silhouette Scores K-Means Fit <br> on Transformed PCA Data',\n",
    "#    xaxis_title = 'Principal Components',\n",
    "#    yaxis_title = 'Explained Variance',\n",
    "    title_x=0.5,\n",
    "    plot_bgcolor = backgroundColor,\n",
    "    title_font = dict(size = 25),\n",
    "    bargap = 0.2,\n",
    "    yaxis = dict(\n",
    "        tickfont = dict(size=12),\n",
    "        titlefont = dict(size = 25),\n",
    "        linecolor = 'black',\n",
    "        nticks = 10,\n",
    "        showgrid = False\n",
    "    ),\n",
    "    xaxis = dict(\n",
    "        tickfont = dict(size=16),\n",
    "        title = 'Number of Clusters',\n",
    "        titlefont = dict(size =25),\n",
    "        linecolor = 'black'\n",
    "        \n",
    "          \n",
    "    ),\n",
    "    legend=dict(\n",
    "        yanchor='top',\n",
    "        y = .98,\n",
    "        xanchor='right',\n",
    "        x = 0.9,\n",
    "        bgcolor = '#DFBA8F',\n",
    "        bordercolor = 'black',\n",
    "        borderwidth = 2,\n",
    "        font = dict(\n",
    "            color = 'black'\n",
    "        )\n",
    "        \n",
    "    )   \n",
    ")\n",
    "fig.update_yaxes(title_text = 'Distortion', secondary_y=False)\n",
    "fig.update_yaxes(title_text = 'Silhouette Score', secondary_y=True, title_font = {'size':20}, nticks=12, showgrid=False)\n",
    "fig.update_traces(\n",
    "    marker_line_width=1,\n",
    "    marker_line_color=\"black\"\n",
    ")\n",
    "#newnames = {'Percent Anonymous Completed':'Anonymous', 'Percent of Known Completed':'Known'}\n",
    "#fig.for_each_trace(lambda t: t.update(name = newnames[t.name],\n",
    "#                                         legendgroup = newnames[t.name],\n",
    "#                                        hovertemplate = t.hovertemplate.replace(t.name, newnames[t.name])\n",
    "#                                        )\n",
    "#                  )"
   ]
  },
  {
   "cell_type": "code",
   "execution_count": 107,
   "id": "6fab3f2a",
   "metadata": {},
   "outputs": [
    {
     "data": {
      "text/plain": [
       "KMeans(n_clusters=4)"
      ]
     },
     "execution_count": 107,
     "metadata": {},
     "output_type": "execute_result"
    }
   ],
   "source": [
    "kmeans = KMeans()\n",
    "kmeans.set_params(n_clusters = 4)\n",
    "kmeans.fit(pcaDF)"
   ]
  },
  {
   "cell_type": "code",
   "execution_count": 108,
   "id": "d311b769",
   "metadata": {},
   "outputs": [
    {
     "data": {
      "text/plain": [
       "array([3, 3, 2, ..., 1, 3, 0])"
      ]
     },
     "execution_count": 108,
     "metadata": {},
     "output_type": "execute_result"
    }
   ],
   "source": [
    "kmeans.labels_"
   ]
  },
  {
   "cell_type": "code",
   "execution_count": 112,
   "id": "c0ae50c8",
   "metadata": {},
   "outputs": [
    {
     "data": {
      "text/html": [
       "<div>\n",
       "<style scoped>\n",
       "    .dataframe tbody tr th:only-of-type {\n",
       "        vertical-align: middle;\n",
       "    }\n",
       "\n",
       "    .dataframe tbody tr th {\n",
       "        vertical-align: top;\n",
       "    }\n",
       "\n",
       "    .dataframe thead th {\n",
       "        text-align: right;\n",
       "    }\n",
       "</style>\n",
       "<table border=\"1\" class=\"dataframe\">\n",
       "  <thead>\n",
       "    <tr style=\"text-align: right;\">\n",
       "      <th></th>\n",
       "      <th>person</th>\n",
       "      <th>gender</th>\n",
       "      <th>age</th>\n",
       "      <th>income</th>\n",
       "      <th>year_became_member</th>\n",
       "      <th>BOGO_Number</th>\n",
       "      <th>Discount_Number</th>\n",
       "      <th>Informational_Number</th>\n",
       "      <th>reward_avg</th>\n",
       "      <th>difficulty_avg</th>\n",
       "      <th>...</th>\n",
       "      <th>ratio_completed</th>\n",
       "      <th>ratio_viewed</th>\n",
       "      <th>most_recent</th>\n",
       "      <th>total_spent</th>\n",
       "      <th>transactions_number</th>\n",
       "      <th>M_score</th>\n",
       "      <th>R_score</th>\n",
       "      <th>F_score</th>\n",
       "      <th>gender_encode</th>\n",
       "      <th>cluster</th>\n",
       "    </tr>\n",
       "  </thead>\n",
       "  <tbody>\n",
       "    <tr>\n",
       "      <th>0</th>\n",
       "      <td>0009655768c64bdeb2e877511632db8f</td>\n",
       "      <td>M</td>\n",
       "      <td>33</td>\n",
       "      <td>72000.0</td>\n",
       "      <td>2017</td>\n",
       "      <td>3.0</td>\n",
       "      <td>5.0</td>\n",
       "      <td>4.0</td>\n",
       "      <td>2.083333</td>\n",
       "      <td>5.416667</td>\n",
       "      <td>...</td>\n",
       "      <td>0.60</td>\n",
       "      <td>0.80</td>\n",
       "      <td>696.0</td>\n",
       "      <td>127.60</td>\n",
       "      <td>8.0</td>\n",
       "      <td>4</td>\n",
       "      <td>4</td>\n",
       "      <td>3</td>\n",
       "      <td>0</td>\n",
       "      <td>3</td>\n",
       "    </tr>\n",
       "    <tr>\n",
       "      <th>1</th>\n",
       "      <td>0011e0d4e6b944f998e987f904e8c1e5</td>\n",
       "      <td>O</td>\n",
       "      <td>40</td>\n",
       "      <td>57000.0</td>\n",
       "      <td>2018</td>\n",
       "      <td>3.0</td>\n",
       "      <td>6.0</td>\n",
       "      <td>4.0</td>\n",
       "      <td>3.000000</td>\n",
       "      <td>7.384615</td>\n",
       "      <td>...</td>\n",
       "      <td>0.60</td>\n",
       "      <td>1.00</td>\n",
       "      <td>654.0</td>\n",
       "      <td>79.46</td>\n",
       "      <td>5.0</td>\n",
       "      <td>3</td>\n",
       "      <td>3</td>\n",
       "      <td>2</td>\n",
       "      <td>2</td>\n",
       "      <td>3</td>\n",
       "    </tr>\n",
       "    <tr>\n",
       "      <th>2</th>\n",
       "      <td>0020c2b971eb4e9188eac86d93036a77</td>\n",
       "      <td>F</td>\n",
       "      <td>59</td>\n",
       "      <td>90000.0</td>\n",
       "      <td>2016</td>\n",
       "      <td>4.0</td>\n",
       "      <td>5.0</td>\n",
       "      <td>2.0</td>\n",
       "      <td>4.545455</td>\n",
       "      <td>8.181818</td>\n",
       "      <td>...</td>\n",
       "      <td>0.60</td>\n",
       "      <td>0.60</td>\n",
       "      <td>708.0</td>\n",
       "      <td>196.86</td>\n",
       "      <td>8.0</td>\n",
       "      <td>5</td>\n",
       "      <td>5</td>\n",
       "      <td>3</td>\n",
       "      <td>1</td>\n",
       "      <td>2</td>\n",
       "    </tr>\n",
       "    <tr>\n",
       "      <th>3</th>\n",
       "      <td>0020ccbbb6d84e358d3414a3ff76cffd</td>\n",
       "      <td>F</td>\n",
       "      <td>24</td>\n",
       "      <td>60000.0</td>\n",
       "      <td>2016</td>\n",
       "      <td>6.0</td>\n",
       "      <td>3.0</td>\n",
       "      <td>2.0</td>\n",
       "      <td>3.545455</td>\n",
       "      <td>4.636364</td>\n",
       "      <td>...</td>\n",
       "      <td>0.75</td>\n",
       "      <td>1.00</td>\n",
       "      <td>672.0</td>\n",
       "      <td>154.05</td>\n",
       "      <td>12.0</td>\n",
       "      <td>4</td>\n",
       "      <td>4</td>\n",
       "      <td>4</td>\n",
       "      <td>1</td>\n",
       "      <td>0</td>\n",
       "    </tr>\n",
       "    <tr>\n",
       "      <th>4</th>\n",
       "      <td>003d66b6608740288d6cc97a6903f4f0</td>\n",
       "      <td>F</td>\n",
       "      <td>26</td>\n",
       "      <td>73000.0</td>\n",
       "      <td>2017</td>\n",
       "      <td>0.0</td>\n",
       "      <td>8.0</td>\n",
       "      <td>4.0</td>\n",
       "      <td>1.833333</td>\n",
       "      <td>8.333333</td>\n",
       "      <td>...</td>\n",
       "      <td>0.60</td>\n",
       "      <td>0.80</td>\n",
       "      <td>696.0</td>\n",
       "      <td>48.34</td>\n",
       "      <td>18.0</td>\n",
       "      <td>2</td>\n",
       "      <td>4</td>\n",
       "      <td>5</td>\n",
       "      <td>1</td>\n",
       "      <td>2</td>\n",
       "    </tr>\n",
       "    <tr>\n",
       "      <th>...</th>\n",
       "      <td>...</td>\n",
       "      <td>...</td>\n",
       "      <td>...</td>\n",
       "      <td>...</td>\n",
       "      <td>...</td>\n",
       "      <td>...</td>\n",
       "      <td>...</td>\n",
       "      <td>...</td>\n",
       "      <td>...</td>\n",
       "      <td>...</td>\n",
       "      <td>...</td>\n",
       "      <td>...</td>\n",
       "      <td>...</td>\n",
       "      <td>...</td>\n",
       "      <td>...</td>\n",
       "      <td>...</td>\n",
       "      <td>...</td>\n",
       "      <td>...</td>\n",
       "      <td>...</td>\n",
       "      <td>...</td>\n",
       "      <td>...</td>\n",
       "    </tr>\n",
       "    <tr>\n",
       "      <th>14815</th>\n",
       "      <td>fff3ba4757bd42088c044ca26d73817a</td>\n",
       "      <td>F</td>\n",
       "      <td>69</td>\n",
       "      <td>83000.0</td>\n",
       "      <td>2015</td>\n",
       "      <td>3.0</td>\n",
       "      <td>6.0</td>\n",
       "      <td>3.0</td>\n",
       "      <td>2.250000</td>\n",
       "      <td>6.250000</td>\n",
       "      <td>...</td>\n",
       "      <td>0.50</td>\n",
       "      <td>0.50</td>\n",
       "      <td>552.0</td>\n",
       "      <td>580.98</td>\n",
       "      <td>11.0</td>\n",
       "      <td>5</td>\n",
       "      <td>1</td>\n",
       "      <td>4</td>\n",
       "      <td>1</td>\n",
       "      <td>0</td>\n",
       "    </tr>\n",
       "    <tr>\n",
       "      <th>14816</th>\n",
       "      <td>fff7576017104bcc8677a8d63322b5e1</td>\n",
       "      <td>M</td>\n",
       "      <td>71</td>\n",
       "      <td>73000.0</td>\n",
       "      <td>2017</td>\n",
       "      <td>6.0</td>\n",
       "      <td>6.0</td>\n",
       "      <td>0.0</td>\n",
       "      <td>5.166667</td>\n",
       "      <td>9.166667</td>\n",
       "      <td>...</td>\n",
       "      <td>0.60</td>\n",
       "      <td>0.80</td>\n",
       "      <td>696.0</td>\n",
       "      <td>29.94</td>\n",
       "      <td>6.0</td>\n",
       "      <td>2</td>\n",
       "      <td>4</td>\n",
       "      <td>2</td>\n",
       "      <td>0</td>\n",
       "      <td>0</td>\n",
       "    </tr>\n",
       "    <tr>\n",
       "      <th>14817</th>\n",
       "      <td>fff8957ea8b240a6b5e634b6ee8eafcf</td>\n",
       "      <td>M</td>\n",
       "      <td>71</td>\n",
       "      <td>56000.0</td>\n",
       "      <td>2018</td>\n",
       "      <td>2.0</td>\n",
       "      <td>2.0</td>\n",
       "      <td>1.0</td>\n",
       "      <td>4.800000</td>\n",
       "      <td>8.000000</td>\n",
       "      <td>...</td>\n",
       "      <td>0.00</td>\n",
       "      <td>0.67</td>\n",
       "      <td>576.0</td>\n",
       "      <td>12.15</td>\n",
       "      <td>5.0</td>\n",
       "      <td>1</td>\n",
       "      <td>2</td>\n",
       "      <td>2</td>\n",
       "      <td>0</td>\n",
       "      <td>1</td>\n",
       "    </tr>\n",
       "    <tr>\n",
       "      <th>14818</th>\n",
       "      <td>fffad4f4828548d1b5583907f2e9906b</td>\n",
       "      <td>M</td>\n",
       "      <td>34</td>\n",
       "      <td>34000.0</td>\n",
       "      <td>2017</td>\n",
       "      <td>9.0</td>\n",
       "      <td>0.0</td>\n",
       "      <td>2.0</td>\n",
       "      <td>4.090909</td>\n",
       "      <td>4.090909</td>\n",
       "      <td>...</td>\n",
       "      <td>0.75</td>\n",
       "      <td>1.00</td>\n",
       "      <td>678.0</td>\n",
       "      <td>88.83</td>\n",
       "      <td>12.0</td>\n",
       "      <td>3</td>\n",
       "      <td>4</td>\n",
       "      <td>4</td>\n",
       "      <td>0</td>\n",
       "      <td>3</td>\n",
       "    </tr>\n",
       "    <tr>\n",
       "      <th>14819</th>\n",
       "      <td>ffff82501cea40309d5fdd7edcca4a07</td>\n",
       "      <td>F</td>\n",
       "      <td>45</td>\n",
       "      <td>62000.0</td>\n",
       "      <td>2016</td>\n",
       "      <td>3.0</td>\n",
       "      <td>15.0</td>\n",
       "      <td>0.0</td>\n",
       "      <td>3.000000</td>\n",
       "      <td>10.833333</td>\n",
       "      <td>...</td>\n",
       "      <td>1.00</td>\n",
       "      <td>1.00</td>\n",
       "      <td>648.0</td>\n",
       "      <td>226.07</td>\n",
       "      <td>15.0</td>\n",
       "      <td>5</td>\n",
       "      <td>3</td>\n",
       "      <td>5</td>\n",
       "      <td>1</td>\n",
       "      <td>0</td>\n",
       "    </tr>\n",
       "  </tbody>\n",
       "</table>\n",
       "<p>14820 rows × 28 columns</p>\n",
       "</div>"
      ],
      "text/plain": [
       "                                 person gender  age   income  \\\n",
       "0      0009655768c64bdeb2e877511632db8f      M   33  72000.0   \n",
       "1      0011e0d4e6b944f998e987f904e8c1e5      O   40  57000.0   \n",
       "2      0020c2b971eb4e9188eac86d93036a77      F   59  90000.0   \n",
       "3      0020ccbbb6d84e358d3414a3ff76cffd      F   24  60000.0   \n",
       "4      003d66b6608740288d6cc97a6903f4f0      F   26  73000.0   \n",
       "...                                 ...    ...  ...      ...   \n",
       "14815  fff3ba4757bd42088c044ca26d73817a      F   69  83000.0   \n",
       "14816  fff7576017104bcc8677a8d63322b5e1      M   71  73000.0   \n",
       "14817  fff8957ea8b240a6b5e634b6ee8eafcf      M   71  56000.0   \n",
       "14818  fffad4f4828548d1b5583907f2e9906b      M   34  34000.0   \n",
       "14819  ffff82501cea40309d5fdd7edcca4a07      F   45  62000.0   \n",
       "\n",
       "       year_became_member  BOGO_Number  Discount_Number  Informational_Number  \\\n",
       "0                    2017          3.0              5.0                   4.0   \n",
       "1                    2018          3.0              6.0                   4.0   \n",
       "2                    2016          4.0              5.0                   2.0   \n",
       "3                    2016          6.0              3.0                   2.0   \n",
       "4                    2017          0.0              8.0                   4.0   \n",
       "...                   ...          ...              ...                   ...   \n",
       "14815                2015          3.0              6.0                   3.0   \n",
       "14816                2017          6.0              6.0                   0.0   \n",
       "14817                2018          2.0              2.0                   1.0   \n",
       "14818                2017          9.0              0.0                   2.0   \n",
       "14819                2016          3.0             15.0                   0.0   \n",
       "\n",
       "       reward_avg  difficulty_avg  ...  ratio_completed  ratio_viewed  \\\n",
       "0        2.083333        5.416667  ...             0.60          0.80   \n",
       "1        3.000000        7.384615  ...             0.60          1.00   \n",
       "2        4.545455        8.181818  ...             0.60          0.60   \n",
       "3        3.545455        4.636364  ...             0.75          1.00   \n",
       "4        1.833333        8.333333  ...             0.60          0.80   \n",
       "...           ...             ...  ...              ...           ...   \n",
       "14815    2.250000        6.250000  ...             0.50          0.50   \n",
       "14816    5.166667        9.166667  ...             0.60          0.80   \n",
       "14817    4.800000        8.000000  ...             0.00          0.67   \n",
       "14818    4.090909        4.090909  ...             0.75          1.00   \n",
       "14819    3.000000       10.833333  ...             1.00          1.00   \n",
       "\n",
       "       most_recent  total_spent  transactions_number  M_score  R_score  \\\n",
       "0            696.0       127.60                  8.0        4        4   \n",
       "1            654.0        79.46                  5.0        3        3   \n",
       "2            708.0       196.86                  8.0        5        5   \n",
       "3            672.0       154.05                 12.0        4        4   \n",
       "4            696.0        48.34                 18.0        2        4   \n",
       "...            ...          ...                  ...      ...      ...   \n",
       "14815        552.0       580.98                 11.0        5        1   \n",
       "14816        696.0        29.94                  6.0        2        4   \n",
       "14817        576.0        12.15                  5.0        1        2   \n",
       "14818        678.0        88.83                 12.0        3        4   \n",
       "14819        648.0       226.07                 15.0        5        3   \n",
       "\n",
       "       F_score  gender_encode  cluster  \n",
       "0            3              0        3  \n",
       "1            2              2        3  \n",
       "2            3              1        2  \n",
       "3            4              1        0  \n",
       "4            5              1        2  \n",
       "...        ...            ...      ...  \n",
       "14815        4              1        0  \n",
       "14816        2              0        0  \n",
       "14817        2              0        1  \n",
       "14818        4              0        3  \n",
       "14819        5              1        0  \n",
       "\n",
       "[14820 rows x 28 columns]"
      ]
     },
     "execution_count": 112,
     "metadata": {},
     "output_type": "execute_result"
    }
   ],
   "source": [
    "clusterDF = pd.concat([mergeDF, pd.Series(kmeans.labels_, name = 'cluster')], axis = 1)\n",
    "clusterDF"
   ]
  },
  {
   "cell_type": "code",
   "execution_count": 113,
   "id": "f6e2765d",
   "metadata": {},
   "outputs": [],
   "source": [
    "cluster0DF = clusterDF.loc[clusterDF['cluster'] == 0]\n",
    "cluster1DF = clusterDF.loc[clusterDF['cluster'] == 1]\n",
    "cluster2DF = clusterDF.loc[clusterDF['cluster'] == 2]\n",
    "cluster3DF = clusterDF.loc[clusterDF['cluster'] == 3]"
   ]
  },
  {
   "cell_type": "markdown",
   "id": "cff3539a",
   "metadata": {},
   "source": [
    "# Cluster Analysis"
   ]
  },
  {
   "cell_type": "code",
   "execution_count": null,
   "id": "3e8fba0f",
   "metadata": {},
   "outputs": [],
   "source": [
    "cluster0DF.iloc[:,]"
   ]
  }
 ],
 "metadata": {
  "kernelspec": {
   "display_name": "Python 3 (ipykernel)",
   "language": "python",
   "name": "python3"
  },
  "language_info": {
   "codemirror_mode": {
    "name": "ipython",
    "version": 3
   },
   "file_extension": ".py",
   "mimetype": "text/x-python",
   "name": "python",
   "nbconvert_exporter": "python",
   "pygments_lexer": "ipython3",
   "version": "3.8.12"
  }
 },
 "nbformat": 4,
 "nbformat_minor": 5
}
